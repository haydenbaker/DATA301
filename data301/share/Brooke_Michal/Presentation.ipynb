{
 "cells": [
  {
   "cell_type": "markdown",
   "metadata": {},
   "source": [
    "# DATA 301 Final Project: Women in Government\n",
    "**Brooke Hanna and Michal Golovanevsky**"
   ]
  },
  {
   "cell_type": "code",
   "execution_count": null,
   "metadata": {},
   "outputs": [],
   "source": [
    "from IPython.display import Image\n",
    "Image(\"CongressWomen.jpg\")"
   ]
  },
  {
   "cell_type": "markdown",
   "metadata": {},
   "source": [
    "## Research Questions:\n",
    "- Does more women in government correlate to more women in leadership roles of companies?\n",
    "- What other factors would contribute to women in government of countries? "
   ]
  },
  {
   "cell_type": "markdown",
   "metadata": {},
   "source": [
    "## Cleaning Data Struggles and Successes:\n",
    "\n",
    "We found 6 different data sets of interest: \n",
    "- Proportion of Women in Parliment for each country, with years 1990 -2018 (csv)\n",
    "- Proportion of Women in Senior and Middle Managment for each country, with years 2000 -2016 (csv)\n",
    "- Current Income Group of each country (csv)\n",
    "- Religion of each country (csv)\n",
    "- Government Type of each country (scrapped from Wikipidea)\n",
    "- Demographics of each country: Literacy, GDP, infant mortality, population density, etc. (csv)"
   ]
  },
  {
   "cell_type": "markdown",
   "metadata": {},
   "source": [
    "Every data set had different names for countries. For example: \"Bahamas\", \"The Bahamas\", \"Bahamas, The\".\n",
    "In order to combine the data sets, we needed to create a mapping that identified and matched country names.\n",
    "This was done using a function and with manual corrections:"
   ]
  },
  {
   "cell_type": "code",
   "execution_count": null,
   "metadata": {},
   "outputs": [],
   "source": [
    "from difflib import SequenceMatcher\n",
    "\n",
    "def similar(a, b):\n",
    "    return SequenceMatcher(None, a, b).ratio()\n",
    "def get_diff_dict(list1, list2):\n",
    "    diff = {}\n",
    "    for i in range(0, len(list1)):\n",
    "        for j in range(0, len(list2)):\n",
    "            ratio = similar(list1[i],list2[j])\n",
    "            if (ratio > 0.7) & (ratio != 1):\n",
    "                diff[list1[i]] = list2[j]\n",
    "    return diff"
   ]
  },
  {
   "cell_type": "code",
   "execution_count": null,
   "metadata": {},
   "outputs": [],
   "source": [
    "Image(\"diff example.png\")"
   ]
  },
  {
   "cell_type": "code",
   "execution_count": null,
   "metadata": {},
   "outputs": [],
   "source": [
    "Image(\"dict example.png\")"
   ]
  },
  {
   "cell_type": "markdown",
   "metadata": {},
   "source": [
    "- This process had to be repeated for every merging of two data frames"
   ]
  },
  {
   "cell_type": "markdown",
   "metadata": {},
   "source": [
    "We also discovered that even with the mappings, not every data set had information about every country.\n",
    "\n",
    "However, our final data frame had 180 countries and 53 variables!"
   ]
  },
  {
   "cell_type": "code",
   "execution_count": null,
   "metadata": {},
   "outputs": [],
   "source": [
    "import pandas as pd\n",
    "final = pd.read_csv(\"~/data301/share/Brooke_Michal/final_data.csv\")\n",
    "final.head()"
   ]
  },
  {
   "cell_type": "markdown",
   "metadata": {},
   "source": [
    "## Data Exploration:\n",
    "What we found while exploring the data and what questions we were able to answer:"
   ]
  },
  {
   "cell_type": "markdown",
   "metadata": {},
   "source": [
    "**Map of the world with color grid representing percentage of women in each country's government or percentage of women in management positions.**"
   ]
  },
  {
   "cell_type": "code",
   "execution_count": null,
   "metadata": {},
   "outputs": [],
   "source": [
    "Image(\"GovMap.png\")"
   ]
  },
  {
   "cell_type": "markdown",
   "metadata": {},
   "source": [
    "**What is the relationship between the proportion women in managment and parliament, by religion of country?**"
   ]
  },
  {
   "cell_type": "code",
   "execution_count": null,
   "metadata": {},
   "outputs": [],
   "source": [
    "Image(\"Religion.png\")"
   ]
  },
  {
   "cell_type": "markdown",
   "metadata": {},
   "source": [
    "**What is the relationship between the proportion women in managment and parliament, by government type of country?**"
   ]
  },
  {
   "cell_type": "code",
   "execution_count": null,
   "metadata": {},
   "outputs": [],
   "source": [
    "Image(\"Government.png\")"
   ]
  },
  {
   "cell_type": "markdown",
   "metadata": {},
   "source": [
    "**We wanted to investigate the countries with the highest and lowest proportion of women in parliament to try to understand which factors contribute to this statistic.**"
   ]
  },
  {
   "cell_type": "code",
   "execution_count": null,
   "metadata": {},
   "outputs": [],
   "source": [
    "Image(\"GDP.png\")"
   ]
  },
  {
   "cell_type": "markdown",
   "metadata": {},
   "source": [
    "## Machine Learning:\n",
    "\n",
    "**Predicting Proportion of Women in Parliament for each country:**\n",
    "\n",
    "1. What is the best machine learning algorithm and what are the best features associated with each algorithm?\n",
    "\n",
    "    We created a power set of these features: Government Type, Religion, Infant mortality (per 1000 births), Literacy (%), Birthrate, and Deathrate\n",
    "        \n",
    "    We tested 6 algorithms with the power set:\n",
    "    - K Nearest Neighbors Regressor\n",
    "    - Linear Regression\n",
    "    - Bagging Regressor\n",
    "    - XGBoost Regressor\n",
    "    - LightGBM Regressor\n",
    "    - Ensemble of K Nearest Neighbors Regressor and LightGBM Regressor (best ones) \n",
    "    In the end, K Nearest Neighbors alone returned the lowest RMSE overall (11.1).\n",
    "\n",
    "    Found that religion, infant mortality, literacy, and the birthrate of a country are the best predictors of the proportion of women will be in national parliament. \n",
    "\n",
    "    Discovered that religion was one of the optimal features in every model we tested. "
   ]
  },
  {
   "cell_type": "markdown",
   "metadata": {},
   "source": [
    "2. What is the best distance metric scaler combination for our model? \n",
    "    \n",
    "    We tested the following distance metrics:   \n",
    "    - \"euclidean\",\n",
    "    - \"manhattan\"\n",
    "    - \"chebyshev\"\n",
    "    - \"minkowski\"\n",
    "    \n",
    "   In combination with these scalers:\n",
    "    - StandardScaler()\n",
    "    - Normalizer()\n",
    "    - MinMaxScaler()\n",
    "    - RobustScaler()\n",
    "    - QuantileTransformer()\n",
    "    \n",
    "   Our final result showed the lowest rmse using StandardScaler and Euclidean. "
   ]
  },
  {
   "cell_type": "markdown",
   "metadata": {},
   "source": [
    "3. Picking the best K: We found that K = 8 was best (lowest RMSE)"
   ]
  },
  {
   "cell_type": "markdown",
   "metadata": {},
   "source": [
    "4. Putting it all together to predict a country with missing data for women in parliment:\n",
    "    We were less than 2% off using our model"
   ]
  },
  {
   "cell_type": "markdown",
   "metadata": {},
   "source": [
    "**Interesting Discoveries Using Machine Learning:**\n",
    "\n",
    "- We were able to predict a country's Government type using proportion of women in parliment over the past 10 years as the features.\n",
    "- We were able to predict a country's literacy rate using proportion of women in parliment, with an RMSE of only 5.29\n",
    "- Downfall: we had a diffcult time accurately predicting the proportion of women in senior and middle managment positions since we had over 100 countries that had missing information in that variable. "
   ]
  },
  {
   "cell_type": "markdown",
   "metadata": {},
   "source": [
    "## Conclusion:"
   ]
  },
  {
   "cell_type": "markdown",
   "metadata": {},
   "source": [
    "- Data Set Merging\n",
    "- Limited Mnagemnt Data\n",
    "- Country to Country Variation\n",
    "- Final Model:\n",
    "    - K Nearest Neihbors Model: Religion, Infant Mortality, Literacy, and Birthrate"
   ]
  },
  {
   "cell_type": "markdown",
   "metadata": {},
   "source": [
    "## Questions/Comments?"
   ]
  }
 ],
 "metadata": {
  "kernelspec": {
   "display_name": "Python 3",
   "language": "python",
   "name": "python3"
  },
  "language_info": {
   "codemirror_mode": {
    "name": "ipython",
    "version": 3
   },
   "file_extension": ".py",
   "mimetype": "text/x-python",
   "name": "python",
   "nbconvert_exporter": "python",
   "pygments_lexer": "ipython3",
   "version": "3.6.8"
  }
 },
 "nbformat": 4,
 "nbformat_minor": 2
}
