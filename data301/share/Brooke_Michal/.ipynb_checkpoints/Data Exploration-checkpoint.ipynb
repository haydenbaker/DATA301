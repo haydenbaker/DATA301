{
 "cells": [
  {
   "cell_type": "markdown",
   "metadata": {},
   "source": [
    "# Data Exploration\n"
   ]
  },
  {
   "cell_type": "markdown",
   "metadata": {},
   "source": [
    "First we imported the data from our data collection notebook."
   ]
  },
  {
   "cell_type": "code",
   "execution_count": null,
   "metadata": {},
   "outputs": [],
   "source": [
    "import numpy as np\n",
    "import pandas as pd\n",
    "import matplotlib.pyplot as plt\n",
    "import matplotlib.patches as mpatches\n",
    "from altair import *\n",
    "%matplotlib inline\n",
    "import warnings; warnings.simplefilter('ignore')\n",
    "\n",
    "final = pd.read_csv(\"~/data301/share/Brooke_Michal/final_data.csv\")\n",
    "final.head()"
   ]
  },
  {
   "cell_type": "markdown",
   "metadata": {},
   "source": [
    "We created a row in the data frame to represent the numeric data for all countries(using NaN for categorical variables) and then appended this row to the final data frame. We filled in this row with the mean of each column because all columns were either a percentage or a proportion, so the mean was the most appropriate statistic to represent each column for all countries"
   ]
  },
  {
   "cell_type": "code",
   "execution_count": null,
   "metadata": {},
   "outputs": [],
   "source": [
    "final[\"Pop. Density (per sq. mi.)\"] = final[\"Pop. Density (per sq. mi.)\"].astype(float)\n",
    "final.loc[:,\"1990_P\":\"2018_P\"]\n",
    "total = pd.Series(final.mean())\n",
    "df = pd.DataFrame(total).transpose()\n",
    "df[\"Country\"] = \"Total\"\n",
    "df[\"Government Type\"] = \"Nan\"\n",
    "df[\"Religion\"] = \"Nan\"\n",
    "df[\"Country Code\"] = \"Nan\"\n",
    "df[\"Region\"] = \"Nan\"\n",
    "df[\"IncomeGroup\"] = \"Nan\"\n",
    "final_df = pd.concat([final, df])\n",
    "final_df = final_df.set_index(\"Country\")\n",
    "final_df.tail()"
   ]
  },
  {
   "cell_type": "markdown",
   "metadata": {},
   "source": [
    "**How are managment and parliament related?**"
   ]
  },
  {
   "cell_type": "code",
   "execution_count": null,
   "metadata": {},
   "outputs": [],
   "source": [
    "Chart(final_df).mark_circle(clip=True).encode(\n",
    "    x=X(\"2016_P\", scale=Scale(domain=(0, 60))),\n",
    "    y=Y(\"2016_M\",scale=Scale(domain=(0, 50)))\n",
    ")\n"
   ]
  },
  {
   "cell_type": "markdown",
   "metadata": {},
   "source": [
    "The graph above represents the relationship between women in management and women in government, where each dot represents a country(only countries that had values for each varible appear on the plot). The scatter plot releaves that there is not a strong association between these varibels. This was suprising to us, so we wanted to also look at how these variables are related in total, using our new observation in the data set that represents the world. "
   ]
  },
  {
   "cell_type": "code",
   "execution_count": null,
   "metadata": {},
   "outputs": [],
   "source": [
    "dfnew = df.loc[:,\"2000_P\":\"2016_P\"].stack()\n",
    "pdf = pd.DataFrame(dfnew)\n",
    "dfnew2 = df.loc[:,\"2000_M\":\"2016_M\"].stack()\n",
    "mdf = pd.DataFrame(dfnew2)\n",
    "\n",
    "plt.plot(mdf, pdf)\n",
    "fig = plt.gcf()\n",
    "ax = plt.gca()\n",
    "fig.set_size_inches(12,6)\n",
    "ax.set_ylabel(\"Women in Upper and Middle\\n\"\n",
    "              \"Level Management Positions\", size = 15)\n",
    "ax.set_xlabel(\"Women in Parliament\", size = 15)\n",
    "plt.title(\"Women Involved in Government vs\\n \"\n",
    "          \"Women Involved in the Private Sector:\\n\"\n",
    "          \"An Aggregate of All Countries\", size= 20)\n",
    "for txt in fig.texts:\n",
    "    txt.set_visible(False)"
   ]
  },
  {
   "cell_type": "markdown",
   "metadata": {},
   "source": [
    "This graph shows that on average, there is a positive, linear assosiation between women in management and women in government. There is, however, lots of spikes in the graph, which could explain the weakness in the scatterplot. We hypothessize these spikes come from the changing climates of various countries, which affects the world as a whole at any given time. "
   ]
  },
  {
   "cell_type": "markdown",
   "metadata": {},
   "source": [
    "**What is the relationship between all of our variables?**"
   ]
  },
  {
   "cell_type": "code",
   "execution_count": null,
   "metadata": {},
   "outputs": [],
   "source": [
    "final_df[['Government Type','Religion', 'Infant mortality (per 1000 births)', \n",
    " 'Literacy (%)','Birthrate', 'Deathrate', \"2016_P\", \"2016_M\"]].corr()"
   ]
  },
  {
   "cell_type": "code",
   "execution_count": null,
   "metadata": {},
   "outputs": [],
   "source": [
    "final_df[\"2016_P\"].corr(final_df[\"2016_M\"])"
   ]
  },
  {
   "cell_type": "markdown",
   "metadata": {},
   "source": [
    "We wanted to highlight the correlation between women in managemnt and parliament since we investigated this relationship in the above graphs. The correlation is very weak, which corresponds to what we saw in the grpahs above. This was actually the weakest relationship between any two variables. Now we are interested to see how these other variables affect women in maganement and government."
   ]
  },
  {
   "cell_type": "markdown",
   "metadata": {},
   "source": [
    "**What is the relationship between the proportion women in managment and parliament, by religion of country?**"
   ]
  },
  {
   "cell_type": "code",
   "execution_count": null,
   "metadata": {},
   "outputs": [],
   "source": [
    "Chart(final_df[final_df[\"Religion\"] != \"Nan\"]).mark_circle(clip=True).encode(\n",
    "    x=X(\"2016_P\", scale=Scale(domain=(0, 60))),\n",
    "    y=Y(\"2016_M\",scale=Scale(domain=(0, 50))),\n",
    "    color=\"Religion\"\n",
    ")"
   ]
  },
  {
   "cell_type": "markdown",
   "metadata": {},
   "source": [
    "This scatter plot shows how religion affects the relationship between women in management and women in parliament. We can see that the countries with the highest proportion of women in parliament are Christian countries and the countries with the lowest proportion of women in government are Muslim and Buddhist countries. This gives us preliminary evidence that relgion may be a useful feature in our model."
   ]
  },
  {
   "cell_type": "markdown",
   "metadata": {},
   "source": [
    "**What is the relationship between the proportion women in managment and parliament, by government type of country?**"
   ]
  },
  {
   "cell_type": "code",
   "execution_count": null,
   "metadata": {},
   "outputs": [],
   "source": [
    "gov_df = final_df[(\n",
    "    final_df[\"Government Type\"] == 'Constitutional Monarchy') | \n",
    "    (final_df[\"Government Type\"] == \"Absolute Monarchy\") |\n",
    "    (final_df[\"Government Type\"] == \"Republic\")]\n",
    "parliament = Chart(gov_df).mark_bar(size=10).encode(\n",
    "    y=\"Government Type\",\n",
    "    x=\"2016_P\"\n",
    ")\n",
    "management = Chart(gov_df).mark_bar(size=10).encode(\n",
    "    y=\"Government Type\",\n",
    "    x=\"2016_M\",\n",
    ")\n",
    "vconcat(parliament, management).configure_view(stroke='transparent')"
   ]
  },
  {
   "cell_type": "markdown",
   "metadata": {},
   "source": [
    "This grpahs shows us how government type of a country effects women's roles in the country. Republics have the most women in both management and government, then constiutuional monarchies. Absolute monarchies have the least women in parliament and had no data for how many women are in management. It is a posibility that this information on women in management posiitons is missing because absolute monarchies tend to have strict government policies and may have chosen not to relase this information. Therefore, we want to investigate the completeness the managment data further. "
   ]
  },
  {
   "cell_type": "code",
   "execution_count": null,
   "metadata": {},
   "outputs": [],
   "source": [
    "(len(final),\n",
    " len(final[final[\"2016_M\"].isna()]), \n",
    " len(final[final[\"latest_value_M\"].isna()]),\n",
    " len(final[final[\"2018_P\"].isna()]))"
   ]
  },
  {
   "cell_type": "markdown",
   "metadata": {},
   "source": [
    "Looking at these numbers, we can see that out of 180 countries 127 of them have no information about women in managment in 2016 (the last year available in this data set). We see that using the latest value of managment is slightly better than just using the year 2016, but still has an overwhelming majority of countries missing informaiton (104 missing instead of 127). Furthermore, the numbers reveal that we have no zeros in the managemnt data set. The parliament data set; however, only has one country with a missing value in 2018, which makes us want to focus our exploration on parliament instead of managment. "
   ]
  },
  {
   "cell_type": "markdown",
   "metadata": {},
   "source": [
    "**We wanted to investigate the countries with the highest and lowest proportion of women in parliament to try to understand which factors contribute to this statistic.**"
   ]
  },
  {
   "cell_type": "code",
   "execution_count": null,
   "metadata": {},
   "outputs": [],
   "source": [
    "top_5 = list(final_df[\"2018_P\"].sort_values(ascending = False).head(5).index)\n",
    "top_5_df = final_df.loc[top_5]\n",
    "top_5_df[\"2018_P\"]"
   ]
  },
  {
   "cell_type": "code",
   "execution_count": null,
   "metadata": {},
   "outputs": [],
   "source": [
    "top_5_df"
   ]
  },
  {
   "cell_type": "code",
   "execution_count": null,
   "metadata": {},
   "outputs": [],
   "source": [
    "get_bottom = final_df[~final_df[\"2018_P\"].isna()]\n",
    "bottom_5 = list(get_bottom[\"2018_P\"].sort_values().head(5).index)\n",
    "bottom_5_df = final_df.loc[bottom_5]\n",
    "bottom_5_df[\"2018_P\"]"
   ]
  },
  {
   "cell_type": "code",
   "execution_count": null,
   "metadata": {},
   "outputs": [],
   "source": [
    "bottom_5_df"
   ]
  },
  {
   "cell_type": "code",
   "execution_count": null,
   "metadata": {},
   "outputs": [],
   "source": [
    "title = 'of Countries with Most and Least Women in National Parliament'\n",
    "label_least='Countries with Least Women in Parliament'\n",
    "label_most='Countries with Most Women in Parliament'"
   ]
  },
  {
   "cell_type": "code",
   "execution_count": null,
   "metadata": {},
   "outputs": [],
   "source": [
    "plt.bar(bottom_5_df.index, bottom_5_df[\"GDP ($ per capita)\"])\n",
    "plt.bar(top_5_df.index, top_5_df[\"GDP ($ per capita)\"])\n",
    "\n",
    "fig = plt.gcf()\n",
    "ax = plt.gca()\n",
    "fig.set_size_inches(16,6)\n",
    "ax.set_ylabel(\"GDP\", size = 15)\n",
    "ax.set_xlabel(\"Country\", size = 15)\n",
    "plt.title(\"GDP \" + title, size= 20)\n",
    "blue_patch = mpatches.Patch(color='blue', label=label_least)\n",
    "o_patch = mpatches.Patch(color='orange', label=label_most)\n",
    "plt.legend(handles=[blue_patch, o_patch], fontsize=14)\n",
    "\n",
    "plt.show()"
   ]
  },
  {
   "cell_type": "markdown",
   "metadata": {},
   "source": [
    "This graph is interesting because intitally we thought that the counties with the least women in parliament would have low GDP. However, this graph reveals that indivual climates of countries is very important. For example, Oman and Kuwait are both middle eastern countries and have very high GDP because of their oil weath but are also muslim countries which explains why they have less women in government. "
   ]
  },
  {
   "cell_type": "code",
   "execution_count": null,
   "metadata": {},
   "outputs": [],
   "source": [
    "plt.bar(bottom_5_df.index, bottom_5_df[\"Literacy (%)\"])\n",
    "plt.bar(top_5_df.index, top_5_df[\"Literacy (%)\"])\n",
    "\n",
    "fig = plt.gcf()\n",
    "ax = plt.gca()\n",
    "fig.set_size_inches(16,6)\n",
    "ax.set_ylabel(\"Literary Rate\", size = 15)\n",
    "ax.set_xlabel(\"Country\", size = 15)\n",
    "plt.title(\"Literary Rates \" + title, size= 20)\n",
    "blue_patch = mpatches.Patch(color='blue', label=label_least)\n",
    "o_patch = mpatches.Patch(color='orange', label=label_most)\n",
    "plt.legend(handles=[blue_patch, o_patch], fontsize=12)\n",
    "\n",
    "plt.show()"
   ]
  },
  {
   "cell_type": "markdown",
   "metadata": {},
   "source": [
    "While there is a fair amount of vairation in the plot above, it does show that on average, the countries with higher literacy rates have a higher proportion of women in government. "
   ]
  },
  {
   "cell_type": "code",
   "execution_count": null,
   "metadata": {},
   "outputs": [],
   "source": [
    "plt.bar(bottom_5_df.index, bottom_5_df[\"Infant mortality (per 1000 births)\"])\n",
    "plt.bar(top_5_df.index, top_5_df[\"Infant mortality (per 1000 births)\"])\n",
    "\n",
    "fig = plt.gcf()\n",
    "ax = plt.gca()\n",
    "fig.set_size_inches(16,6)\n",
    "ax.set_ylabel(\"Infant Mortality (per 1000 births)\", size = 15)\n",
    "ax.set_xlabel(\"Country\", size = 15)\n",
    "plt.title(\"Infant Mortality \" + title, size= 20)\n",
    "blue_patch = mpatches.Patch(color='blue', label=label_least)\n",
    "o_patch = mpatches.Patch(color='orange', label=label_most)\n",
    "plt.legend(handles=[blue_patch, o_patch], fontsize=14)\n",
    "\n",
    "plt.show()"
   ]
  },
  {
   "cell_type": "markdown",
   "metadata": {},
   "source": [
    "Overall, the above three bar plots have a lot of variation and did not give us as much insight into which factors contribute to countries having the largest and smallest proportion of women in government. What these graphs did show is that the individual climate of a country is very influential in its demogrpahics and the proportion of women in government. For example, in the graph above we see that Rwanda has a very high infant morality rate as well as being a leading country for women in parliament. This tells us that Rwanda is a more progressive country, in terms of gender equality, but is still struggling to combat health epidemics which led to a very high infant mortality. "
   ]
  },
  {
   "cell_type": "markdown",
   "metadata": {},
   "source": [
    "**How does the U.S compare to the leading 5 countries for proportion of women in parliament?**"
   ]
  },
  {
   "cell_type": "code",
   "execution_count": null,
   "metadata": {},
   "outputs": [],
   "source": [
    "final_df = final_df.reset_index()"
   ]
  },
  {
   "cell_type": "code",
   "execution_count": null,
   "metadata": {},
   "outputs": [],
   "source": [
    "us = final_df[final_df[\"Country\"] == \"United States\"].set_index(\"Country\")"
   ]
  },
  {
   "cell_type": "code",
   "execution_count": null,
   "metadata": {},
   "outputs": [],
   "source": [
    "top_and_us = pd.concat([top_5_df, us])\n",
    "fig = top_and_us[[\"2018_P\", \"2017_P\", \"2016_P\", \"2015_P\", \"2014_P\"]].plot.bar(\n",
    "    figsize = (12, 6))\n",
    "plt.title(\"Proportion of Women in Parliament of Top 5 Countries and U.S Over the Last 5 Years\", size=16)\n",
    "fig.set_xlabel(\"Country\", size=12)\n",
    "fig.set_ylabel(\"Proportion of Women in Parliament\", size=12)\n",
    "for txt in fig.texts:\n",
    "    txt.set_visible(False)"
   ]
  },
  {
   "cell_type": "markdown",
   "metadata": {},
   "source": [
    "The graph above gives us insight into the trend countries have followed in the last 5 years for women involvment in government. Specifically, the U.S. has had its first slight increase in 2018, but overall has barely changed. However; Cuba, Mexico, and Grenada have made significant increases over the last 5 years. The other two countries already had equal representation in government, with at least half of their government being women."
   ]
  },
  {
   "cell_type": "markdown",
   "metadata": {},
   "source": [
    "**Map of the world with color grid representing percentage of women in each country's government.**"
   ]
  },
  {
   "cell_type": "code",
   "execution_count": null,
   "metadata": {},
   "outputs": [],
   "source": [
    "import cartopy.io.shapereader as shpreader\n",
    "import cartopy.crs as ccrs\n",
    "\n",
    "shpfilename = shpreader.natural_earth(resolution='110m',\n",
    "                                      category='cultural',\n",
    "                                      name='admin_0_countries')\n",
    "shp = shpreader.Reader(shpfilename)\n",
    "world_df = pd.DataFrame(\n",
    "    [record.attributes for record in shp.records()]\n",
    ")\n",
    "world_df = world_df.rename(columns = {\"ADM0_A3\":\"Country Code\"})"
   ]
  },
  {
   "cell_type": "code",
   "execution_count": null,
   "metadata": {},
   "outputs": [],
   "source": [
    "all_data = final.merge(world_df, \n",
    "                        how=\"inner\", \n",
    "                        on=\"Country Code\")\n",
    "all_data.head()"
   ]
  },
  {
   "cell_type": "code",
   "execution_count": null,
   "metadata": {},
   "outputs": [],
   "source": [
    "fig, ax = plt.subplots(figsize  = (18, 6))\n",
    "\n",
    "ax = plt.axes(\n",
    "    projection=ccrs.Robinson()\n",
    ")\n",
    "\n",
    "import matplotlib as mpl\n",
    "norm = mpl.colors.Normalize(vmin=all_data[\"2018_P\"].min(), \n",
    "                            vmax=all_data[\"2018_P\"].max())\n",
    "cmap = plt.cm.YlGn\n",
    "\n",
    "for geometry, (_, row) in zip(shp.geometries(), all_data.iterrows()):\n",
    "    if ~pd.isnull(row[\"2018_P\"]):\n",
    "        ax.add_geometries([geometry],\n",
    "                          ccrs.PlateCarree(),\n",
    "                          facecolor=cmap(norm(row[\"2018_P\"])))\n",
    "ax.natural_earth_shp(name=\"lakes\",\n",
    "                     resolution=\"110m\",\n",
    "                     category=\"physical\", \n",
    "                     facecolor=\"skyblue\")\n",
    "ax.natural_earth_shp(name=\"ocean\",\n",
    "                     resolution=\"110m\",\n",
    "                     category=\"physical\", \n",
    "                     facecolor=\"skyblue\")\n",
    "ax.natural_earth_shp(name=\"admin_0_countries\",\n",
    "                     resolution=\"110m\",\n",
    "                     category=\"cultural\", \n",
    "                     facecolor=\"None\", edgecolor=\"black\")\n",
    "\n",
    "plt.title(\"Proportion of Women in Each Country's National Parliament (2018), By Country\", size = 25)\n",
    "dark = mpatches.Patch(color='darkgreen', label='Higher Proportion')\n",
    "light = mpatches.Patch(color='palegoldenrod', label='Lower Proportion')\n",
    "plt.legend(handles=[dark, light], fontsize=12)\n",
    "\n",
    "plt.show()"
   ]
  },
  {
   "cell_type": "code",
   "execution_count": null,
   "metadata": {},
   "outputs": [],
   "source": [
    "fig, ax = plt.subplots(figsize  = (18, 6))\n",
    "\n",
    "ax = plt.axes(\n",
    "    projection=ccrs.Robinson()\n",
    ")\n",
    "\n",
    "import matplotlib as mpl\n",
    "norm = mpl.colors.Normalize(vmin=all_data[\"latest_value_M\"].min(), \n",
    "                            vmax=all_data[\"latest_value_M\"].max())\n",
    "cmap = plt.cm.RdPu\n",
    "\n",
    "for geometry, (_, row) in zip(shp.geometries(), all_data.iterrows()):\n",
    "    if ~pd.isnull(row[\"latest_value_M\"]):\n",
    "        ax.add_geometries([geometry],\n",
    "                          ccrs.PlateCarree(),\n",
    "                          facecolor=cmap(norm(row[\"latest_value_M\"])))\n",
    "ax.natural_earth_shp(name=\"lakes\",\n",
    "                     resolution=\"110m\",\n",
    "                     category=\"physical\", \n",
    "                     facecolor=\"skyblue\")\n",
    "ax.natural_earth_shp(name=\"ocean\",\n",
    "                     resolution=\"110m\",\n",
    "                     category=\"physical\", \n",
    "                     facecolor=\"skyblue\")\n",
    "ax.natural_earth_shp(name=\"admin_0_countries\",\n",
    "                     resolution=\"110m\",\n",
    "                     category=\"cultural\", \n",
    "                     facecolor=\"None\", edgecolor=\"black\")\n",
    "\n",
    "plt.title(\"Proportion of Women in Management Positions, By Country\", size=25)\n",
    "\n",
    "dark = mpatches.Patch(color='mediumvioletred', label='Higher Proportion')\n",
    "light = mpatches.Patch(color='lightpink', label='Lower Proportion')\n",
    "plt.legend(handles=[dark, light], fontsize=12)\n",
    "\n",
    "plt.show()"
   ]
  },
  {
   "cell_type": "code",
   "execution_count": null,
   "metadata": {},
   "outputs": [],
   "source": [
    "all_data_bottom_5 = all_data.merge(bottom_5_df)\n",
    "\n",
    "lat = pd.DataFrame([18.9712, 29.3759, 23.5859, 9.4438, 17.7333,])\n",
    "\n",
    "long = pd.DataFrame([72.2852,47.9774, 58.4059, 147.1803, 168.3273])\n",
    "\n",
    "all_data_bottom_5[\"latitude\"] = lat\n",
    "all_data_bottom_5[\"longitude\"] = long\n",
    "all_data_bottom_5[[\"longitude\", \"latitude\"]]"
   ]
  },
  {
   "cell_type": "code",
   "execution_count": null,
   "metadata": {},
   "outputs": [],
   "source": [
    "#since one of the original top 5 countries was missing in the world_df, we had to take it out of top 6\n",
    "top_6 = list(final_df[\"2018_P\"].sort_values(ascending = False).head(6).index)\n",
    "top_6_df = final_df.loc[top_6]"
   ]
  },
  {
   "cell_type": "code",
   "execution_count": null,
   "metadata": {},
   "outputs": [],
   "source": [
    "all_data_top_5 = all_data.merge(top_6_df)\n",
    "lat = pd.DataFrame([19.0196, 23.1136, 19.4326, 22.5609, 1.9706])\n",
    "\n",
    "long = pd.DataFrame([65.2620,82.3666, 99.1332,17.0658, 30.1044])\n",
    "\n",
    "all_data_top_5[\"latitude\"] = lat\n",
    "all_data_top_5[\"longitude\"] = long\n",
    "all_data_top_5[[\"longitude\", \"latitude\"]]"
   ]
  },
  {
   "cell_type": "code",
   "execution_count": null,
   "metadata": {},
   "outputs": [],
   "source": [
    "fig, ax = plt.subplots(figsize  = (18, 6))\n",
    "ax = plt.axes(projection=ccrs.Robinson())\n",
    "ax.stock_img()\n",
    "\n",
    "all_data_top_5.plot.scatter(ax=ax,\n",
    "                    x=\"longitude\", y=\"latitude\",\n",
    "                    c=\"orange\", s= 60,\n",
    "                    transform=ccrs.Geodetic())\n",
    "all_data_bottom_5.plot.scatter(ax=ax,\n",
    "                    x=\"longitude\", y=\"latitude\",\n",
    "                    c=\"fuchsia\", s = 60,\n",
    "                    transform=ccrs.Geodetic())\n",
    "\n",
    "ax.natural_earth_shp(name=\"admin_0_countries\",\n",
    "                     resolution=\"110m\",\n",
    "                     category=\"cultural\", \n",
    "                     facecolor=\"None\", edgecolor=\"black\")\n",
    "\n",
    "plt.title(\"Countries with Most and Least Women in National Parliament\", size=25)\n",
    "\n",
    "dark = mpatches.Patch(color='orange', label='Higher Proportion')\n",
    "light = mpatches.Patch(color='fuchsia', label='Lower Proportion')\n",
    "plt.legend(handles=[dark, light], fontsize=12)\n",
    "\n",
    "plt.show()"
   ]
  },
  {
   "cell_type": "code",
   "execution_count": null,
   "metadata": {},
   "outputs": [],
   "source": []
  },
  {
   "cell_type": "code",
   "execution_count": null,
   "metadata": {},
   "outputs": [],
   "source": []
  }
 ],
 "metadata": {
  "kernelspec": {
   "display_name": "Python 3",
   "language": "python",
   "name": "python3"
  },
  "language_info": {
   "codemirror_mode": {
    "name": "ipython",
    "version": 3
   },
   "file_extension": ".py",
   "mimetype": "text/x-python",
   "name": "python",
   "nbconvert_exporter": "python",
   "pygments_lexer": "ipython3",
   "version": "3.6.8"
  }
 },
 "nbformat": 4,
 "nbformat_minor": 2
}
