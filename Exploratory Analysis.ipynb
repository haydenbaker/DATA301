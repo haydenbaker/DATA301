{
 "cells": [
  {
   "cell_type": "code",
   "execution_count": null,
   "metadata": {},
   "outputs": [],
   "source": [
    "import pandas as pd, altair as alt, numpy as np\n",
    "%matplotlib inline\n",
    "cc_df = pd.read_csv(\"combined_results.csv\", index_col=0)"
   ]
  },
  {
   "cell_type": "code",
   "execution_count": null,
   "metadata": {},
   "outputs": [],
   "source": [
    "cc_df.head()"
   ]
  },
  {
   "cell_type": "markdown",
   "metadata": {},
   "source": [
    "# Exploratory Analysis"
   ]
  },
  {
   "cell_type": "code",
   "execution_count": null,
   "metadata": {},
   "outputs": [],
   "source": [
    "alt.Chart(cc_df).mark_point().encode(\n",
    "    x='Place_Section:Q',\n",
    "    y='Place_State:Q',\n",
    "    column='Year:N',\n",
    "    color='Year:N'\n",
    ").properties(\n",
    "    width=180,\n",
    "    height=180\n",
    ")"
   ]
  },
  {
   "cell_type": "code",
   "execution_count": null,
   "metadata": {},
   "outputs": [],
   "source": [
    "discrep = pd.DataFrame({\"Place_Diff\": cc_df.Place_State - cc_df.Place_Section})\n",
    "discrep[\"Place_Section\"] = cc_df[\"Place_Section\"]\n",
    "discrep[\"Year\"] = cc_df[\"Year\"]\n",
    "discrep[\"Place_State\"] = cc_df[\"Place_State\"]"
   ]
  },
  {
   "cell_type": "code",
   "execution_count": null,
   "metadata": {},
   "outputs": [],
   "source": [
    "alt.Chart(discrep).mark_point().encode(\n",
    "    x='Place_Section:Q',\n",
    "    y='Place_Diff:Q',\n",
    "    column='Year:N',\n",
    "    color='Year:N'\n",
    ").properties(\n",
    "    width=180,\n",
    "    height=180\n",
    ")"
   ]
  },
  {
   "cell_type": "markdown",
   "metadata": {},
   "source": [
    "Viewing these distributions as a single distribution may be more useful."
   ]
  },
  {
   "cell_type": "code",
   "execution_count": null,
   "metadata": {},
   "outputs": [],
   "source": [
    "interval = alt.selection_interval()\n",
    "\n",
    "base = alt.Chart(discrep).mark_point().encode(\n",
    "    x='Place_Section:Q',\n",
    "    color=alt.condition(interval, 'Year:N', alt.value('lightgray')),\n",
    "    #tooltip='Name'\n",
    ").properties(\n",
    "    selection=interval\n",
    ")\n",
    "\n",
    "hist = alt.Chart(discrep).mark_bar().encode(\n",
    "    x='count()',\n",
    "    y='Year:N',\n",
    "    color='Year:N'\n",
    ").properties(\n",
    "    width=800,\n",
    "    height=80\n",
    ").transform_filter(\n",
    "    interval\n",
    ")\n",
    "\n",
    "scatter = base.encode(y='Place_State:Q') | base.encode(y='Place_Diff:Q')\n",
    "\n",
    "scatter & hist"
   ]
  },
  {
   "cell_type": "markdown",
   "metadata": {},
   "source": [
    "With this plot, we can see the distribution of placements in its entirety. Selecting an area of either side of the graph allows you to observe the translation of the same area to the other side. With any given area, you are also able to see the breakdown by year of the counts of the points. While this is helpful to see a general trend in the data, we may still want to see the yearly breakdown of the data as it relates to the entire distribution. We can accomplish this through use of an interactive legend, by which you may select any given year (or multiple)."
   ]
  },
  {
   "cell_type": "code",
   "execution_count": null,
   "metadata": {},
   "outputs": [],
   "source": [
    "selector = alt.selection_multi(fields=[\"Year\"])\n",
    "color = alt.condition(selector,\n",
    "                      alt.Color('Year:N', legend=None),\n",
    "                      alt.value('lightgray'))\n",
    "\n",
    "base = alt.Chart(discrep).mark_point().encode(\n",
    "    x='Place_Section:Q',\n",
    "    color = color\n",
    ").properties(\n",
    "    selection=selector\n",
    ")\n",
    "\n",
    "legend = alt.Chart(discrep).mark_point(\n",
    "    filled=True, size=200).encode(\n",
    "    y=alt.Y('Year:N', axis=alt.Axis(orient='right')),\n",
    "    color=color).properties(selection=selector)\n",
    "\n",
    "scatter = base.encode(y='Place_State:Q') | base.encode(y='Place_Diff:Q')\n",
    "\n",
    "scatter | legend"
   ]
  },
  {
   "cell_type": "markdown",
   "metadata": {},
   "source": [
    "As evident by the graphs, we see that the distribution of the difference between placement in the section meet and placement in the statement is cone-like. More simply, the further the observation is from the origin, the more variable the difference seems to be. Another interesting note is that the yearly breakdowns are very similar in distribution. 2018 and 2017 do appear to be a little less variable than earlier years, but we are still able to say that year does not play a significant role in the data."
   ]
  },
  {
   "cell_type": "code",
   "execution_count": null,
   "metadata": {},
   "outputs": [],
   "source": [
    "alt.Chart(cc_df).mark_point().encode(\n",
    "    x='float_Time_Section:Q',\n",
    "    y='float_Time_State:Q',\n",
    "    column='Year:N',\n",
    "    color='Year:N'\n",
    ").properties(\n",
    "    width=180,\n",
    "    height=180\n",
    ")"
   ]
  },
  {
   "cell_type": "markdown",
   "metadata": {},
   "source": [
    "As expected, the relationship between times at the section meet and times at the state meet are highly correlated, if not nearly 1-to-1. This is perfectly reasonable to state, as a runner will likely have around the same time, regardless of the competition level (section vs state)."
   ]
  }
 ],
 "metadata": {
  "kernelspec": {
   "display_name": "Python 3",
   "language": "python",
   "name": "python3"
  },
  "language_info": {
   "codemirror_mode": {
    "name": "ipython",
    "version": 3
   },
   "file_extension": ".py",
   "mimetype": "text/x-python",
   "name": "python",
   "nbconvert_exporter": "python",
   "pygments_lexer": "ipython3",
   "version": "3.6.8"
  }
 },
 "nbformat": 4,
 "nbformat_minor": 2
}
