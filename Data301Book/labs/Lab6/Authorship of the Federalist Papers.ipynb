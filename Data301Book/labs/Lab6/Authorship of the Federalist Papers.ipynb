{
 "cells": [
  {
   "cell_type": "markdown",
   "metadata": {},
   "source": [
    "# Authorship of the Federalist Papers\n",
    "\n",
    "The _Federalist Papers_ were a set of 85 essays published between 1787 and 1788 to promote the ratification of the United States Constitution. They were originally published under the pseudonym \"Publius\". Although the identity of the authors was a closely guarded secret at the time, most of the papers have since been conclusively attributed to one of Hamilton, Jay, or Madison. The known authorships can be found in `/data301/data/federalist/authorship.csv`.\n",
    "\n",
    "For 15 of the papers, however, the authorships remain disputed. (These papers can be identified from the `authorship.csv` file because the \"Author\" field is blank.) In this analysis, you will train a classifier on the papers with known authorships and use your classifier to predict the authorships of the disputed papers. The text of each paper can be found in the `/data301/data/federalist/` directory. The name of the file indicates the number of the paper."
   ]
  },
  {
   "cell_type": "code",
   "execution_count": 1,
   "metadata": {},
   "outputs": [],
   "source": [
    "import pandas as pd\n",
    "import numpy as np\n",
    "%matplotlib inline"
   ]
  },
  {
   "cell_type": "markdown",
   "metadata": {},
   "source": [
    "## Question 1\n",
    "\n",
    "When analyzing an author's style, common words like \"the\" and \"on\" are actually more useful than rare words like \"hostilities\". That is because rare words typically signify context. Context is useful if you are trying to find documents about similar topics, but not so useful if you are trying to identify an author's style because different authors can write about the same topic. For example, both Dr. Seuss and Charles Dickens used rare words like \"chimney\" and \"stockings\" in _How the Grinch Stole Christmas_ and _A Christmas Carol_, respectively. But they used common words very differently: Dickens used the word \"upon\" over 100 times, while Dr. Seuss did not use \"upon\" at all.\n",
    "\n",
    "Read in the Federalist Papers. Convert each one into a vector of term frequencies. In order to restrict to common words, include only the top 50 words. Then, train a $k$-nearest neighbors model on the documents with known authorship. Determine an optimal value of $k$ (it's up to you to decide what's \"optimal\"). \n",
    "\n",
    "Report an estimate of the test accuracy, precision, and recall of your model."
   ]
  },
  {
   "cell_type": "code",
   "execution_count": 2,
   "metadata": {},
   "outputs": [
    {
     "data": {
      "text/html": [
       "<div>\n",
       "<style scoped>\n",
       "    .dataframe tbody tr th:only-of-type {\n",
       "        vertical-align: middle;\n",
       "    }\n",
       "\n",
       "    .dataframe tbody tr th {\n",
       "        vertical-align: top;\n",
       "    }\n",
       "\n",
       "    .dataframe thead th {\n",
       "        text-align: right;\n",
       "    }\n",
       "</style>\n",
       "<table border=\"1\" class=\"dataframe\">\n",
       "  <thead>\n",
       "    <tr style=\"text-align: right;\">\n",
       "      <th></th>\n",
       "      <th>Corpus</th>\n",
       "      <th>Author</th>\n",
       "    </tr>\n",
       "  </thead>\n",
       "  <tbody>\n",
       "    <tr>\n",
       "      <th>0</th>\n",
       "      <td>To the People of the State of New York:  AFTER...</td>\n",
       "      <td>Hamilton</td>\n",
       "    </tr>\n",
       "    <tr>\n",
       "      <th>1</th>\n",
       "      <td>To the People of the State of New York:  WHEN ...</td>\n",
       "      <td>Jay</td>\n",
       "    </tr>\n",
       "    <tr>\n",
       "      <th>2</th>\n",
       "      <td>To the People of the State of New York:  IT IS...</td>\n",
       "      <td>Jay</td>\n",
       "    </tr>\n",
       "    <tr>\n",
       "      <th>3</th>\n",
       "      <td>To the People of the State of New York:  MY LA...</td>\n",
       "      <td>Jay</td>\n",
       "    </tr>\n",
       "    <tr>\n",
       "      <th>4</th>\n",
       "      <td>To the People of the State of New York:  QUEEN...</td>\n",
       "      <td>Jay</td>\n",
       "    </tr>\n",
       "  </tbody>\n",
       "</table>\n",
       "</div>"
      ],
      "text/plain": [
       "                                              Corpus    Author\n",
       "0  To the People of the State of New York:  AFTER...  Hamilton\n",
       "1  To the People of the State of New York:  WHEN ...       Jay\n",
       "2  To the People of the State of New York:  IT IS...       Jay\n",
       "3  To the People of the State of New York:  MY LA...       Jay\n",
       "4  To the People of the State of New York:  QUEEN...       Jay"
      ]
     },
     "execution_count": 2,
     "metadata": {},
     "output_type": "execute_result"
    }
   ],
   "source": [
    "from glob import glob\n",
    "\n",
    "filenames = sorted(glob(\"/data301/data/federalist/*.txt\"), \n",
    "                   key=lambda f: int(''.join(filter(str.isdigit, f))))\n",
    "essay_df = pd.DataFrame()\n",
    "for file in filenames:\n",
    "    text = open(file).read().replace(\"\\n\", \" \")\n",
    "    essay_df = essay_df.append({\"Corpus\": text}, ignore_index=True)\n",
    "authors_df = pd.read_csv(\"/data301/data/federalist/authorship.csv\")\n",
    "essay_df[\"Author\"] = authors_df.Author\n",
    "essay_df.head()"
   ]
  },
  {
   "cell_type": "code",
   "execution_count": 3,
   "metadata": {},
   "outputs": [],
   "source": [
    "from sklearn.feature_extraction.text import CountVectorizer, TfidfVectorizer \n",
    "from sklearn.preprocessing import RobustScaler\n",
    "from sklearn.neighbors import KNeighborsClassifier\n",
    "from sklearn.pipeline import Pipeline\n",
    "import warnings\n",
    "warnings.filterwarnings(\"ignore\")\n",
    "vec = CountVectorizer(max_features=50)\n",
    "model = KNeighborsClassifier()\n",
    "\n",
    "pipeline = Pipeline([\n",
    "    (\"vec\", vec),\n",
    "    (\"model\", model)\n",
    "])\n",
    "\n",
    "X, y = essay_df.dropna().Corpus, essay_df.dropna().Author\n",
    "X_test = essay_df[essay_df.Author.isnull()].Corpus"
   ]
  },
  {
   "cell_type": "code",
   "execution_count": 4,
   "metadata": {},
   "outputs": [
    {
     "data": {
      "text/plain": [
       "GridSearchCV(cv=5, error_score='raise-deprecating',\n",
       "       estimator=Pipeline(memory=None,\n",
       "     steps=[('vec', CountVectorizer(analyzer='word', binary=False, decode_error='strict',\n",
       "        dtype=<class 'numpy.int64'>, encoding='utf-8', input='content',\n",
       "        lowercase=True, max_df=1.0, max_features=50, min_df=1,\n",
       "        ngram_range=(1, 1), preprocessor=None, stop_words=None,\n",
       "        strip_ac...ki',\n",
       "           metric_params=None, n_jobs=None, n_neighbors=5, p=2,\n",
       "           weights='uniform'))]),\n",
       "       fit_params=None, iid='warn', n_jobs=None,\n",
       "       param_grid={'model__n_neighbors': range(1, 10)},\n",
       "       pre_dispatch='2*n_jobs', refit='f1', return_train_score='warn',\n",
       "       scoring={'f1': 'f1_macro', 'acc': 'accuracy', 'rec': 'recall_macro', 'prec': 'precision_macro'},\n",
       "       verbose=0)"
      ]
     },
     "execution_count": 4,
     "metadata": {},
     "output_type": "execute_result"
    }
   ],
   "source": [
    "from sklearn.model_selection import GridSearchCV\n",
    "\n",
    "k = range(1, 10, 1)\n",
    "pg = {\n",
    "    \"model__n_neighbors\": k\n",
    "}\n",
    "\n",
    "classifier_model = GridSearchCV(\n",
    "    pipeline, pg, cv=5, scoring={\n",
    "    \"f1\": \"f1_macro\",\n",
    "    \"acc\": \"accuracy\",\n",
    "    \"rec\": \"recall_macro\",\n",
    "    \"prec\": \"precision_macro\"},\n",
    "    refit=\"f1\")\n",
    "\n",
    "classifier_model.fit(X, y)"
   ]
  },
  {
   "cell_type": "code",
   "execution_count": 5,
   "metadata": {},
   "outputs": [
    {
     "name": "stdout",
     "output_type": "stream",
     "text": [
      "{'model__n_neighbors': 5} 0.721781972341\n"
     ]
    },
    {
     "data": {
      "image/png": "[encoded data removed]",
      "text/plain": [
       "<Figure size 432x288 with 1 Axes>"
      ]
     },
     "metadata": {
      "needs_background": "light"
     },
     "output_type": "display_data"
    }
   ],
   "source": [
    "pd.DataFrame({\"f1\": classifier_model.cv_results_[\"mean_test_f1\"],\n",
    "              \"acc\": classifier_model.cv_results_[\"mean_test_acc\"],\n",
    "              \"rec\": classifier_model.cv_results_[\"mean_test_rec\"],\n",
    "              \"prec\": classifier_model.cv_results_[\"mean_test_prec\"]\n",
    "             }, \n",
    "             index=k).plot()\n",
    "print(classifier_model.best_params_,\n",
    "      classifier_model.best_score_)"
   ]
  },
  {
   "cell_type": "markdown",
   "metadata": {},
   "source": [
    "We can see from our plot and gridsearch that KNN is best with 5 neighbors with our data. This makes sense as our dataset is small, and we are only using 50 features as well."
   ]
  },
  {
   "cell_type": "markdown",
   "metadata": {},
   "source": [
    "## Question 2\n",
    "\n",
    "What if we used TF-IDF on the top 50 words instead of the term frequencies? Repeat Question 1, using TF-IDF instead of TF. Which approach is better: TF-IDF or TF?"
   ]
  },
  {
   "cell_type": "code",
   "execution_count": 6,
   "metadata": {},
   "outputs": [
    {
     "data": {
      "text/plain": [
       "GridSearchCV(cv=5, error_score='raise-deprecating',\n",
       "       estimator=Pipeline(memory=None,\n",
       "     steps=[('vec', TfidfVectorizer(analyzer='word', binary=False, decode_error='strict',\n",
       "        dtype=<class 'numpy.float64'>, encoding='utf-8', input='content',\n",
       "        lowercase=True, max_df=1.0, max_features=50, min_df=1,\n",
       "        ngram_range=(1, 1), norm='l2', preprocessor=None, smooth_idf=True,\n",
       "   ...ki',\n",
       "           metric_params=None, n_jobs=None, n_neighbors=5, p=2,\n",
       "           weights='uniform'))]),\n",
       "       fit_params=None, iid='warn', n_jobs=None,\n",
       "       param_grid={'model__n_neighbors': range(1, 10)},\n",
       "       pre_dispatch='2*n_jobs', refit='f1', return_train_score='warn',\n",
       "       scoring={'f1': 'f1_macro', 'acc': 'accuracy', 'rec': 'recall_macro', 'prec': 'precision_macro'},\n",
       "       verbose=0)"
      ]
     },
     "execution_count": 6,
     "metadata": {},
     "output_type": "execute_result"
    }
   ],
   "source": [
    "vec = TfidfVectorizer(max_features=50)\n",
    "model = KNeighborsClassifier()\n",
    "\n",
    "pipeline = Pipeline([\n",
    "    (\"vec\", vec),\n",
    "    (\"model\", model)\n",
    "])\n",
    "\n",
    "pg = {\n",
    "    \"model__n_neighbors\": k\n",
    "}\n",
    "\n",
    "classifier_model = GridSearchCV(\n",
    "    pipeline, pg, cv=5, scoring={\n",
    "    \"f1\": \"f1_macro\",\n",
    "    \"acc\": \"accuracy\",\n",
    "    \"rec\": \"recall_macro\",\n",
    "    \"prec\": \"precision_macro\"},\n",
    "    refit=\"f1\")\n",
    "\n",
    "classifier_model.fit(X, y)"
   ]
  },
  {
   "cell_type": "code",
   "execution_count": 7,
   "metadata": {},
   "outputs": [
    {
     "name": "stdout",
     "output_type": "stream",
     "text": [
      "{'model__n_neighbors': 5} 0.909206349206\n"
     ]
    },
    {
     "data": {
      "image/png": "[encoded data removed]",
      "text/plain": [
       "<Figure size 432x288 with 1 Axes>"
      ]
     },
     "metadata": {
      "needs_background": "light"
     },
     "output_type": "display_data"
    }
   ],
   "source": [
    "pd.DataFrame({\"f1\": classifier_model.cv_results_[\"mean_test_f1\"],\n",
    "              \"acc\": classifier_model.cv_results_[\"mean_test_acc\"],\n",
    "              \"rec\": classifier_model.cv_results_[\"mean_test_rec\"],\n",
    "              \"prec\": classifier_model.cv_results_[\"mean_test_prec\"]\n",
    "             }, \n",
    "             index=k).plot()\n",
    "print(classifier_model.best_params_,\n",
    "      classifier_model.best_score_)"
   ]
  },
  {
   "cell_type": "markdown",
   "metadata": {},
   "source": [
    "The TFIDF approach is better here, since an author will most likely have similar term frequencies in other documents that they write."
   ]
  },
  {
   "cell_type": "markdown",
   "metadata": {},
   "source": [
    "## Question 3\n",
    "\n",
    "Using the model that you determined to be best in Questions 1 and 2, fit a $k$-nearest neighbors model to all 70 documents with known authorship. Create a [confusion matrix](https://en.wikipedia.org/wiki/Confusion_matrix) for your model that shows how often you predicted Hamilton, Jay, or Madison, and how often it actually was Hamilton, Jay, or Madison (on the training data, of course). \n",
    "\n",
    "From your confusion matrix, you should be able to calculate the (training) precision and recall of your model for predicting Hamilton. What is it?"
   ]
  },
  {
   "cell_type": "code",
   "execution_count": 8,
   "metadata": {},
   "outputs": [
    {
     "data": {
      "text/html": [
       "<div>\n",
       "<style scoped>\n",
       "    .dataframe tbody tr th:only-of-type {\n",
       "        vertical-align: middle;\n",
       "    }\n",
       "\n",
       "    .dataframe tbody tr th {\n",
       "        vertical-align: top;\n",
       "    }\n",
       "\n",
       "    .dataframe thead th {\n",
       "        text-align: right;\n",
       "    }\n",
       "</style>\n",
       "<table border=\"1\" class=\"dataframe\">\n",
       "  <thead>\n",
       "    <tr style=\"text-align: right;\">\n",
       "      <th></th>\n",
       "      <th>Hamilton (True)</th>\n",
       "      <th>Madison (True)</th>\n",
       "      <th>Jay (True)</th>\n",
       "    </tr>\n",
       "  </thead>\n",
       "  <tbody>\n",
       "    <tr>\n",
       "      <th>Hamilton (Pred)</th>\n",
       "      <td>51</td>\n",
       "      <td>0</td>\n",
       "      <td>0</td>\n",
       "    </tr>\n",
       "    <tr>\n",
       "      <th>Madison (Pred)</th>\n",
       "      <td>1</td>\n",
       "      <td>13</td>\n",
       "      <td>0</td>\n",
       "    </tr>\n",
       "    <tr>\n",
       "      <th>Jay (Pred)</th>\n",
       "      <td>0</td>\n",
       "      <td>1</td>\n",
       "      <td>4</td>\n",
       "    </tr>\n",
       "  </tbody>\n",
       "</table>\n",
       "</div>"
      ],
      "text/plain": [
       "                 Hamilton (True)  Madison (True)  Jay (True)\n",
       "Hamilton (Pred)               51               0           0\n",
       "Madison (Pred)                 1              13           0\n",
       "Jay (Pred)                     0               1           4"
      ]
     },
     "execution_count": 8,
     "metadata": {},
     "output_type": "execute_result"
    }
   ],
   "source": [
    "from sklearn.metrics import confusion_matrix\n",
    "\n",
    "y_pred = classifier_model.predict(X)\n",
    "conf_df = pd.DataFrame(confusion_matrix(\n",
    "    y, y_pred, labels=[\"Hamilton\", \"Madison\", \"Jay\"]))\n",
    "conf_df.columns = [\"Hamilton (True)\", \n",
    "                   \"Madison (True)\", \n",
    "                   \"Jay (True)\"]\n",
    "conf_df.index = [\"Hamilton (Pred)\", \n",
    "                 \"Madison (Pred)\", \n",
    "                 \"Jay (Pred)\"]\n",
    "conf_df"
   ]
  },
  {
   "cell_type": "markdown",
   "metadata": {},
   "source": [
    "We see that we were able to predict the correct authors a majority of the time. We only mispredicted a few times: once where we predicted Madison instead of Hamilton, and Hamilton instead of Madison. This is probably because their writings appears to be very similar in prose."
   ]
  },
  {
   "cell_type": "markdown",
   "metadata": {},
   "source": [
    "## Question 4\n",
    "\n",
    "Finally, use the model you trained in Question 3 to predict the authorships of the 15 documents with unknown authors. Summarize what you find."
   ]
  },
  {
   "cell_type": "code",
   "execution_count": 10,
   "metadata": {
    "collapsed": true
   },
   "outputs": [
    {
     "data": {
      "text/plain": [
       "<matplotlib.axes._subplots.AxesSubplot at 0x7f11689d6080>"
      ]
     },
     "execution_count": 10,
     "metadata": {},
     "output_type": "execute_result"
    },
    {
     "data": {
      "image/png": "[encoded data removed]",
      "text/plain": [
       "<Figure size 432x288 with 1 Axes>"
      ]
     },
     "metadata": {
      "needs_background": "light"
     },
     "output_type": "display_data"
    }
   ],
   "source": [
    "(pd.Series(classifier_model.predict(X_test))\n",
    " .value_counts().append(pd.Series({\"Jay\": 0}))\n",
    " .plot.bar())"
   ]
  },
  {
   "cell_type": "markdown",
   "metadata": {},
   "source": [
    "We see that our predictions include a majority of Madison, some Hamilton, and zero Jay."
   ]
  },
  {
   "cell_type": "markdown",
   "metadata": {},
   "source": [
    "# Submission Instructions\n",
    "\n",
    "Once you are finished, follow these steps:\n",
    "\n",
    "1. Restart the kernel and re-run this notebook from beginning to end by going to `Kernel > Restart Kernel and Run All Cells`.\n",
    "2. If this process stops halfway through, that means there was an error. Correct the error and repeat Step 1 until the notebook runs from beginning to end.\n",
    "3. Double check that there is a number next to each code cell and that these numbers are in order.\n",
    "\n",
    "Then, submit your lab as follows:\n",
    "\n",
    "1. Go to `File > Export Notebook As > PDF`.\n",
    "2. Double check that the entire notebook, from beginning to end, is in this PDF file. (If the notebook is cut off, try first exporting the notebook to HTML and printing to PDF.)\n",
    "3. Upload the PDF [to PolyLearn](https://polylearn.calpoly.edu/AY_2018-2019/mod/assign/view.php?id=336786)."
   ]
  }
 ],
 "metadata": {
  "kernelspec": {
   "display_name": "Python 3",
   "language": "python",
   "name": "python3"
  },
  "language_info": {
   "codemirror_mode": {
    "name": "ipython",
    "version": 3
   },
   "file_extension": ".py",
   "mimetype": "text/x-python",
   "name": "python",
   "nbconvert_exporter": "python",
   "pygments_lexer": "ipython3",
   "version": "3.6.8"
  }
 },
 "nbformat": 4,
 "nbformat_minor": 2
}
