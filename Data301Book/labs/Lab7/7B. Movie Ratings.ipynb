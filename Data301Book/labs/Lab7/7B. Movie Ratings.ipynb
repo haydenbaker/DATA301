{
 "cells": [
  {
   "cell_type": "markdown",
   "metadata": {},
   "source": [
    "# 7B. Movie Ratings\n",
    "\n",
    "The MovieLens data set (`/data301/data/ml-1m/`) is a collection of 1 million movie ratings submitted by users that you worked with in Chapter 11. The information about the movies, ratings, and users are stored in three separate files: `movies.dat`, `ratings.dat`, and `users.dat`. To save time, we will work with only a random sample of only 10000 ratings stored in `ratings_small.dat`.\n",
    "\n",
    "The code below reads in the three data sets into `DataFrame`s. Refer to the data documentation (`/data301/data/ml-1m/README`) for information about what the columns mean."
   ]
  },
  {
   "cell_type": "code",
   "execution_count": null,
   "metadata": {},
   "outputs": [],
   "source": [
    "import pandas as pd\n",
    "pd.options.display.max_rows = 15\n",
    "\n",
    "ratings = pd.read_csv(\"/data301/data/ml-1m/ratings_small.dat\",\n",
    "                      sep=\"::\",\n",
    "                      engine=\"python\",\n",
    "                      header=None,\n",
    "                      names=[\"UserID\", \"MovieID\", \"Rating\", \"Timestamp\"])\n",
    "users = pd.read_csv(\"/data301/data/ml-1m/users.dat\",\n",
    "                    sep=\"::\",\n",
    "                    engine=\"python\",\n",
    "                    header=None,\n",
    "                    names=[\"UserID\", \"Gender\", \"Age\", \"Occupation\", \"Zip-code\"])\n",
    "movies = pd.read_csv(\"/data301/data/ml-1m/movies.dat\",\n",
    "                     engine=\"python\",\n",
    "                     sep=\"::\",\n",
    "                     header=None,\n",
    "                     names=[\"MovieID\", \"Title\", \"Genres\"])\n",
    "\n",
    "movies"
   ]
  },
  {
   "cell_type": "markdown",
   "metadata": {},
   "source": [
    "You will train a model to predict the rating that a user gives a movie, given information about the movie (genres) and the user (gender, age, and occupation).\n",
    "\n",
    "The code below converts the \"Genres\" column of `movies` into a `DataFrame` of dummy variables, with one column per genre. Feel free to use this code, free of charge."
   ]
  },
  {
   "cell_type": "code",
   "execution_count": null,
   "metadata": {},
   "outputs": [],
   "source": [
    "from sklearn.preprocessing import MultiLabelBinarizer\n",
    "\n",
    "binarizer = MultiLabelBinarizer()\n",
    "genres = pd.DataFrame(\n",
    "    binarizer.fit_transform(movies[\"Genres\"].str.split(\"|\")),\n",
    "    columns=binarizer.classes_\n",
    ")\n",
    "\n",
    "genres"
   ]
  },
  {
   "cell_type": "markdown",
   "metadata": {},
   "source": [
    "Now, train a $k$-nearest neighbors model to predict the rating using the user's gender, age, and occupation, as well as the movie's genres. Find the optimal value of $k$, and report an estimate of the test error of this model.\n",
    "\n",
    "_Hint:_ This will require merging the ratings data with the users data and the movie genres information from above. The instructor or TAs can help you merge the data, for a 3 point penalty."
   ]
  },
  {
   "cell_type": "code",
   "execution_count": null,
   "metadata": {},
   "outputs": [],
   "source": [
    "# ENTER YOUR CODE HERE."
   ]
  },
  {
   "cell_type": "markdown",
   "metadata": {},
   "source": [
    "**SUMMARIZE YOUR FINDINGS HERE.**"
   ]
  },
  {
   "cell_type": "markdown",
   "metadata": {},
   "source": [
    "# Submission Instructions\n",
    "\n",
    "You do not need to submit this lab. However, I encourage you to check that your code runs correctly from start to finish.\n",
    "\n",
    "1. Restart the kernel and re-run this notebook from beginning to end by going to `Kernel > Restart Kernel and Run All Cells`.\n",
    "2. If this process stops halfway through, that means there was an error. Correct the error and repeat Step 1 until the notebook runs from beginning to end.\n",
    "3. Double check that there is a number next to each code cell and that these numbers are in order."
   ]
  }
 ],
 "metadata": {
  "kernelspec": {
   "display_name": "Python 3",
   "language": "python",
   "name": "python3"
  },
  "language_info": {
   "codemirror_mode": {
    "name": "ipython",
    "version": 3
   },
   "file_extension": ".py",
   "mimetype": "text/x-python",
   "name": "python",
   "nbconvert_exporter": "python",
   "pygments_lexer": "ipython3",
   "version": "3.6.8"
  }
 },
 "nbformat": 4,
 "nbformat_minor": 2
}
