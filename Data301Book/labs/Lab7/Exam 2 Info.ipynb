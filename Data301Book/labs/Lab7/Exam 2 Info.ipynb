{
 "cells": [
  {
   "cell_type": "markdown",
   "metadata": {},
   "source": [
    "# Exam 2 Info\n",
    "\n",
    "Exam 2 will be in class on Tuesday, March 5. You will have the entire class period (170 minutes) to complete the exam. It is open-book, open-Internet. The only rule is that you cannot communicate with another person during the exam.\n",
    "\n",
    "Your Exam 2 will require you to \n",
    "\n",
    "- query data from the [Zomato API](https://developers.zomato.com/api) (You will need an API key. Make sure you register one before the exam.)\n",
    "- train machine learning models on this data\n",
    "- work with some of the text features in this data.\n",
    "\n",
    "I encourage you to practice querying data from this API and fitting machine learning models to the data, in order to prepare for this exam.\n",
    "\n",
    "Good luck!"
   ]
  },
  {
   "cell_type": "code",
   "execution_count": 3,
   "metadata": {},
   "outputs": [],
   "source": [
    "import pandas as pd\n",
    "import numpy as np\n",
    "import sklearn\n",
    "\n",
    "\n",
    "apikey = \"75158d6d9d7be13574279f873edd973e\""
   ]
  },
  {
   "cell_type": "code",
   "execution_count": 25,
   "metadata": {},
   "outputs": [],
   "source": [
    "import requests\n",
    "\n",
    "header = {\"user-key\": apikey}\n",
    "resp = requests.get(\"https://developers.zomato.com/api/v2.1/cities?q=Fresno\", headers=header)\n",
    "city_id = resp.json()[\"location_suggestions\"][0][\"id\"]"
   ]
  },
  {
   "cell_type": "code",
   "execution_count": 2,
   "metadata": {},
   "outputs": [
    {
     "ename": "NameError",
     "evalue": "name 'requests' is not defined",
     "output_type": "error",
     "traceback": [
      "\u001b[0;31m---------------------------------------------------------------------------\u001b[0m",
      "\u001b[0;31mNameError\u001b[0m                                 Traceback (most recent call last)",
      "\u001b[0;32m<ipython-input-2-5afeea877526>\u001b[0m in \u001b[0;36m<module>\u001b[0;34m\u001b[0m\n\u001b[0;32m----> 1\u001b[0;31m \u001b[0mrequests\u001b[0m\u001b[0;34m.\u001b[0m\u001b[0mget\u001b[0m\u001b[0;34m(\u001b[0m\u001b[0;34m\"https://developers.zomato.com/api/v2.1/cuisine?q=%s\"\u001b[0m \u001b[0;34m%\u001b[0m \u001b[0mcity_id\u001b[0m\u001b[0;34m,\u001b[0m \u001b[0mheaders\u001b[0m\u001b[0;34m=\u001b[0m\u001b[0mheader\u001b[0m\u001b[0;34m)\u001b[0m\u001b[0;34m\u001b[0m\u001b[0;34m\u001b[0m\u001b[0m\n\u001b[0m",
      "\u001b[0;31mNameError\u001b[0m: name 'requests' is not defined"
     ]
    }
   ],
   "source": [
    "requests.get(\"https://developers.zomato.com/api/v2.1/cuisine?q=%s\" % city_id, headers=header)"
   ]
  },
  {
   "cell_type": "code",
   "execution_count": null,
   "metadata": {},
   "outputs": [],
   "source": []
  }
 ],
 "metadata": {
  "kernelspec": {
   "display_name": "Python 3",
   "language": "python",
   "name": "python3"
  },
  "language_info": {
   "codemirror_mode": {
    "name": "ipython",
    "version": 3
   },
   "file_extension": ".py",
   "mimetype": "text/x-python",
   "name": "python",
   "nbconvert_exporter": "python",
   "pygments_lexer": "ipython3",
   "version": "3.6.8"
  }
 },
 "nbformat": 4,
 "nbformat_minor": 2
}
