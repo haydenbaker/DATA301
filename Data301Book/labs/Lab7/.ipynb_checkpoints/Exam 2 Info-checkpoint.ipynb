{
 "cells": [
  {
   "cell_type": "markdown",
   "metadata": {},
   "source": [
    "# Exam 2 Info\n",
    "\n",
    "Exam 2 will be in class on Tuesday, March 5. You will have the entire class period (170 minutes) to complete the exam. It is open-book, open-Internet. The only rule is that you cannot communicate with another person during the exam.\n",
    "\n",
    "Your Exam 2 will require you to \n",
    "\n",
    "- query data from the [Zomato API](https://developers.zomato.com/api) (You will need an API key. Make sure you register one before the exam.)\n",
    "- train machine learning models on this data\n",
    "- work with some of the text features in this data.\n",
    "\n",
    "I encourage you to practice querying data from this API and fitting machine learning models to the data, in order to prepare for this exam.\n",
    "\n",
    "Good luck!"
   ]
  }
 ],
 "metadata": {
  "kernelspec": {
   "display_name": "Python 3",
   "language": "python",
   "name": "python3"
  },
  "language_info": {
   "codemirror_mode": {
    "name": "ipython",
    "version": 3
   },
   "file_extension": ".py",
   "mimetype": "text/x-python",
   "name": "python",
   "nbconvert_exporter": "python",
   "pygments_lexer": "ipython3",
   "version": "3.6.8"
  }
 },
 "nbformat": 4,
 "nbformat_minor": 2
}
