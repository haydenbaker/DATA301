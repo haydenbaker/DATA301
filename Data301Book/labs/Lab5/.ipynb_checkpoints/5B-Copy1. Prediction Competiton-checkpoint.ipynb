{
 "cells": [
  {
   "cell_type": "markdown",
   "metadata": {},
   "source": [
    "# Prediction Competition\n",
    "\n",
    "The goal of machine learning is to build models with high predictive accuracy. Thus, it is not surprising that there exist machine learning competitions, where participants compete to build the model with the lowest possible prediction error.\n",
    "\n",
    "[Kaggle](http://www.kaggle.com/) is a website that hosts machine learning competitions. In this lab, you will participate in a Kaggle competition with other students in this class! The top 5 people will earn up to 5 bonus points on this lab. To join the competition, visit [this link](https://www.kaggle.com/c/beer2019). You will need to create an account on Kaggle first."
   ]
  },
  {
   "cell_type": "markdown",
   "metadata": {},
   "source": [
    "# Question\n",
    "\n",
    "Train many different models to predict IBU. Try different subsets of variables. Try different machine learning algorithms (you are not restricted to just $k$-nearest neighbors). At least one of your models must contain variables derived from the `description` of each beer. Use cross-validation to systematically select good models and submit your predictions to Kaggle. You are allowed 2 submissions per day, so submit early and often!\n",
    "\n",
    "Note that to submit your predictions to Kaggle, you will need to export your predictions to a CSV file (using `.to_csv()`) in the format expected by Kaggle (see `beer_test_sample_submission.csv` for an example)."
   ]
  },
  {
   "cell_type": "markdown",
   "metadata": {},
   "source": [
    "# Discovery"
   ]
  },
  {
   "cell_type": "code",
   "execution_count": 119,
   "metadata": {},
   "outputs": [],
   "source": [
    "import pandas as pd, numpy as np\n",
    "%matplotlib inline\n",
    "\n",
    "beer_df = pd.read_csv(\"/data301/data/beer/beer_train.csv\")\n",
    "beer_df = beer_df.drop([\"id\"], axis=1)"
   ]
  },
  {
   "cell_type": "code",
   "execution_count": 120,
   "metadata": {},
   "outputs": [
    {
     "data": {
      "text/html": [
       "<div>\n",
       "<style scoped>\n",
       "    .dataframe tbody tr th:only-of-type {\n",
       "        vertical-align: middle;\n",
       "    }\n",
       "\n",
       "    .dataframe tbody tr th {\n",
       "        vertical-align: top;\n",
       "    }\n",
       "\n",
       "    .dataframe thead th {\n",
       "        text-align: right;\n",
       "    }\n",
       "</style>\n",
       "<table border=\"1\" class=\"dataframe\">\n",
       "  <thead>\n",
       "    <tr style=\"text-align: right;\">\n",
       "      <th></th>\n",
       "      <th>abv</th>\n",
       "      <th>available</th>\n",
       "      <th>description</th>\n",
       "      <th>glass</th>\n",
       "      <th>ibu</th>\n",
       "      <th>isOrganic</th>\n",
       "      <th>name</th>\n",
       "      <th>originalGravity</th>\n",
       "      <th>srm</th>\n",
       "    </tr>\n",
       "  </thead>\n",
       "  <tbody>\n",
       "    <tr>\n",
       "      <th>0</th>\n",
       "      <td>8.2</td>\n",
       "      <td>Available at the same time of year, every year.</td>\n",
       "      <td>a belgian-abbey-style tripel that is big in al...</td>\n",
       "      <td>NaN</td>\n",
       "      <td>31.0</td>\n",
       "      <td>N</td>\n",
       "      <td>loonytoontripel</td>\n",
       "      <td>1.070</td>\n",
       "      <td>8.0</td>\n",
       "    </tr>\n",
       "    <tr>\n",
       "      <th>1</th>\n",
       "      <td>5.7</td>\n",
       "      <td>Available at the same time of year, every year.</td>\n",
       "      <td>covert hops is a crafty ale. its stealthy dark...</td>\n",
       "      <td>Pint</td>\n",
       "      <td>45.0</td>\n",
       "      <td>N</td>\n",
       "      <td>covert hops</td>\n",
       "      <td>1.056</td>\n",
       "      <td>35.0</td>\n",
       "    </tr>\n",
       "    <tr>\n",
       "      <th>2</th>\n",
       "      <td>5.8</td>\n",
       "      <td>Available at the same time of year, every year.</td>\n",
       "      <td>this is a traditional german-style marzen char...</td>\n",
       "      <td>Mug</td>\n",
       "      <td>25.0</td>\n",
       "      <td>N</td>\n",
       "      <td>oktoberfest</td>\n",
       "      <td>1.048</td>\n",
       "      <td>10.0</td>\n",
       "    </tr>\n",
       "    <tr>\n",
       "      <th>3</th>\n",
       "      <td>5.5</td>\n",
       "      <td>Available year round as a staple beer.</td>\n",
       "      <td>a west coast-style pale ale balancing plenty o...</td>\n",
       "      <td>Pint</td>\n",
       "      <td>55.0</td>\n",
       "      <td>N</td>\n",
       "      <td>pale ale</td>\n",
       "      <td>1.044</td>\n",
       "      <td>5.0</td>\n",
       "    </tr>\n",
       "    <tr>\n",
       "      <th>4</th>\n",
       "      <td>4.8</td>\n",
       "      <td>Available year round as a staple beer.</td>\n",
       "      <td>this bombshell has a tantalizing crisp and cle...</td>\n",
       "      <td>Pint</td>\n",
       "      <td>11.4</td>\n",
       "      <td>N</td>\n",
       "      <td>head turner blonde ale</td>\n",
       "      <td>1.045</td>\n",
       "      <td>3.0</td>\n",
       "    </tr>\n",
       "  </tbody>\n",
       "</table>\n",
       "</div>"
      ],
      "text/plain": [
       "   abv                                        available  \\\n",
       "0  8.2  Available at the same time of year, every year.   \n",
       "1  5.7  Available at the same time of year, every year.   \n",
       "2  5.8  Available at the same time of year, every year.   \n",
       "3  5.5           Available year round as a staple beer.   \n",
       "4  4.8           Available year round as a staple beer.   \n",
       "\n",
       "                                         description glass   ibu isOrganic  \\\n",
       "0  a belgian-abbey-style tripel that is big in al...   NaN  31.0         N   \n",
       "1  covert hops is a crafty ale. its stealthy dark...  Pint  45.0         N   \n",
       "2  this is a traditional german-style marzen char...   Mug  25.0         N   \n",
       "3  a west coast-style pale ale balancing plenty o...  Pint  55.0         N   \n",
       "4  this bombshell has a tantalizing crisp and cle...  Pint  11.4         N   \n",
       "\n",
       "                     name  originalGravity   srm  \n",
       "0         loonytoontripel            1.070   8.0  \n",
       "1             covert hops            1.056  35.0  \n",
       "2             oktoberfest            1.048  10.0  \n",
       "3                pale ale            1.044   5.0  \n",
       "4  head turner blonde ale            1.045   3.0  "
      ]
     },
     "execution_count": 120,
     "metadata": {},
     "output_type": "execute_result"
    }
   ],
   "source": [
    "beer_df.description = beer_df.description.fillna(\"\").str.lower()\n",
    "beer_df.name = beer_df.name.fillna(\"\").str.lower()\n",
    "beer_df.srm = beer_df.srm.replace(\"Over 40\", 41).astype(float)\n",
    "beer_df.available = beer_df.available.astype('category')\n",
    "beer_df.glass = beer_df.glass.astype('category')\n",
    "beer_df.isOrganic = beer_df.isOrganic.astype('category')\n",
    "beer_df.head()"
   ]
  },
  {
   "cell_type": "code",
   "execution_count": 121,
   "metadata": {},
   "outputs": [
    {
     "data": {
      "text/plain": [
       "abv                 float64\n",
       "available          category\n",
       "description          object\n",
       "glass              category\n",
       "ibu                 float64\n",
       "isOrganic          category\n",
       "name                 object\n",
       "originalGravity     float64\n",
       "srm                 float64\n",
       "dtype: object"
      ]
     },
     "execution_count": 121,
     "metadata": {},
     "output_type": "execute_result"
    }
   ],
   "source": [
    "beer_df.dtypes"
   ]
  },
  {
   "cell_type": "code",
   "execution_count": 122,
   "metadata": {},
   "outputs": [
    {
     "data": {
      "text/plain": [
       "<matplotlib.axes._subplots.AxesSubplot at 0x7f834a74eba8>"
      ]
     },
     "execution_count": 122,
     "metadata": {},
     "output_type": "execute_result"
    },
    {
     "data": {
      "image/png": "[encoded data removed]",
      "text/plain": [
       "<Figure size 432x288 with 1 Axes>"
      ]
     },
     "metadata": {},
     "output_type": "display_data"
    }
   ],
   "source": [
    "beer_df = beer_df[beer_df.ibu <= beer_df.ibu.quantile(.997)]\n",
    "beer_df.ibu.plot.box()"
   ]
  },
  {
   "cell_type": "code",
   "execution_count": 123,
   "metadata": {},
   "outputs": [
    {
     "data": {
      "text/plain": [
       "array([[<matplotlib.axes._subplots.AxesSubplot object at 0x7f834a78b630>,\n",
       "        <matplotlib.axes._subplots.AxesSubplot object at 0x7f834a712a20>],\n",
       "       [<matplotlib.axes._subplots.AxesSubplot object at 0x7f834b60a0f0>,\n",
       "        <matplotlib.axes._subplots.AxesSubplot object at 0x7f834a7e66a0>]], dtype=object)"
      ]
     },
     "execution_count": 123,
     "metadata": {},
     "output_type": "execute_result"
    },
    {
     "data": {
      "image/png": "[encoded data removed]",
      "text/plain": [
       "<Figure size 432x288 with 4 Axes>"
      ]
     },
     "metadata": {},
     "output_type": "display_data"
    }
   ],
   "source": [
    "#beer_df = beer_df[beer_df.ibu <= beer_df.ibu.mean() + beer_df.ibu.std() * 3]\n",
    "beer_df.hist(bins=20)"
   ]
  },
  {
   "cell_type": "code",
   "execution_count": 124,
   "metadata": {},
   "outputs": [],
   "source": [
    "from sklearn.preprocessing import PolynomialFeatures\n",
    "\n"
   ]
  },
  {
   "cell_type": "code",
   "execution_count": 125,
   "metadata": {},
   "outputs": [],
   "source": [
    "from sklearn.feature_extraction import DictVectorizer\n",
    "from sklearn.preprocessing import RobustScaler\n",
    "from sklearn.neighbors import KNeighborsRegressor\n",
    "from sklearn.pipeline import Pipeline\n",
    "\n",
    "X_dict = beer_df[[\"abv\", \"available\", \"originalGravity\", \"srm\"]].to_dict(orient=\"records\")\n",
    "y = beer_df[\"ibu\"]\n",
    "\n",
    "# specify the pipeline\n",
    "vec = DictVectorizer(sparse=False)\n",
    "scaler = RobustScaler()\n",
    "model = KNeighborsRegressor(n_neighbors=20)\n",
    "pipeline = Pipeline([(\"vectorizer\", vec), (\"scaler\", scaler), (\"fit\", model)])"
   ]
  },
  {
   "cell_type": "code",
   "execution_count": 139,
   "metadata": {},
   "outputs": [
    {
     "data": {
      "text/plain": [
       "array([-329.01476675, -287.86646598, -306.37803475, -312.65152299,\n",
       "       -314.74703767])"
      ]
     },
     "execution_count": 139,
     "metadata": {},
     "output_type": "execute_result"
    }
   ],
   "source": [
    "from sklearn.model_selection import cross_val_score\n",
    "\n",
    "scores = cross_val_score(pipeline, X_dict, y, \n",
    "                         cv=5, scoring=\"neg_mean_squared_error\")\n",
    "scores"
   ]
  },
  {
   "cell_type": "code",
   "execution_count": 140,
   "metadata": {},
   "outputs": [
    {
     "data": {
      "text/plain": [
       "17.606423240549624"
      ]
     },
     "execution_count": 140,
     "metadata": {},
     "output_type": "execute_result"
    }
   ],
   "source": [
    "np.mean(np.sqrt(-scores))"
   ]
  },
  {
   "cell_type": "markdown",
   "metadata": {},
   "source": [
    "### Textual Features"
   ]
  },
  {
   "cell_type": "code",
   "execution_count": 151,
   "metadata": {},
   "outputs": [],
   "source": [
    "from sklearn.model_selection import train_test_split, GridSearchCV\n",
    "\n",
    "X = beer_df.drop(\"ibu\", axis=1)\n",
    "y = beer_df[\"ibu\"]\n",
    "X_train, X_test, y_train, y_test = train_test_split(X, y, test_size=.1)"
   ]
  },
  {
   "cell_type": "code",
   "execution_count": 152,
   "metadata": {},
   "outputs": [],
   "source": [
    "from sklearn.base import TransformerMixin\n",
    "from sklearn.base import BaseEstimator\n",
    "from sklearn.base import RegressorMixin, clone\n",
    "\n",
    "class ColSelector(BaseEstimator, TransformerMixin):\n",
    "    def __init__(self, cols):\n",
    "        self.cols = cols\n",
    "\n",
    "    def fit(self, X, y=None):\n",
    "        return self\n",
    "\n",
    "    def transform(self, X):\n",
    "        return X[self.cols]\n",
    "\n",
    "class Converter(BaseEstimator, TransformerMixin):\n",
    "    def fit(self, x, y=None):\n",
    "        return self\n",
    "\n",
    "    def transform(self, data_frame):\n",
    "        return data_frame.values.ravel()\n",
    "    \n",
    "class StringIndexer(BaseEstimator, TransformerMixin):\n",
    "    def fit(self, X, y=None):\n",
    "        return self\n",
    "    def transform(self, X):\n",
    "        assert isinstance(X, pd.DataFrame)\n",
    "        return X.apply(lambda s: s.cat.codes.replace(\n",
    "            {-1: len(s.cat.categories)}\n",
    "))\n",
    "    \n",
    "\n",
    "class AveragingModels(BaseEstimator, RegressorMixin, TransformerMixin):\n",
    "    def __init__(self, models):\n",
    "        self.models = models\n",
    "        \n",
    "    # we define clones of the original models to fit the data in\n",
    "    def fit(self, X, y):\n",
    "        self.models_ = [clone(x) for x in self.models]\n",
    "        \n",
    "        # Train cloned base models\n",
    "        for model in self.models_:\n",
    "            model.fit(X, y)\n",
    "\n",
    "        return self\n",
    "    \n",
    "    #Now we do the predictions for cloned models and average them\n",
    "    def predict(self, X):\n",
    "        predictions = np.column_stack([\n",
    "            model.predict(X) for model in self.models_\n",
    "        ])\n",
    "        return np.mean(predictions, axis=1)"
   ]
  },
  {
   "cell_type": "code",
   "execution_count": 153,
   "metadata": {},
   "outputs": [],
   "source": [
    "from sklearn.ensemble import RandomForestRegressor, GradientBoostingRegressor\n",
    "\n",
    "GBoost = GradientBoostingRegressor(n_estimators=500,\n",
    "                                   min_samples_leaf=15, \n",
    "                                   loss='huber', random_state=5)\n",
    "RForest1 = RandomForestRegressor(n_estimators=20, min_samples_leaf=5, random_state=10)\n",
    "RForest2 = RandomForestRegressor(n_estimators=10, min_samples_leaf=1, random_state=5)"
   ]
  },
  {
   "cell_type": "code",
   "execution_count": 154,
   "metadata": {},
   "outputs": [],
   "source": [
    "from sklearn.pipeline import Pipeline, FeatureUnion\n",
    "from sklearn.feature_extraction.text import TfidfVectorizer\n",
    "from sklearn.preprocessing import RobustScaler, OneHotEncoder\n",
    "from sklearn.preprocessing import PolynomialFeatures\n",
    "\n",
    "full_pipe = Pipeline([\n",
    "    (\"selector\", ColSelector(cols=X.columns.values)),\n",
    "    (\"features\", FeatureUnion(transformer_list=[\n",
    "        (\"categorical_pipe\", Pipeline([\n",
    "            (\"selector\", ColSelector(cols=[\"available\", \"glass\", \"isOrganic\"])),\n",
    "            (\"indexer\", StringIndexer()),\n",
    "            (\"encoder\", OneHotEncoder(handle_unknown='ignore'))\n",
    "        ])),\n",
    "        (\"numeric_pipe\", Pipeline([\n",
    "            (\"selector\", ColSelector(cols=[\"abv\", \"originalGravity\", \"srm\"])),\n",
    "            (\"scaler\", RobustScaler()),\n",
    "        ])),\n",
    "        (\"name_pipe\", Pipeline([\n",
    "            (\"selector\", ColSelector(cols=[\"name\"])),\n",
    "            (\"converter\", Converter()),\n",
    "            (\"vectorizer\", TfidfVectorizer(stop_words='english', norm=\"l2\"))\n",
    "        ])),\n",
    "        (\"description_pipe\", Pipeline([\n",
    "            (\"selector\", ColSelector(cols=[\"description\"])),\n",
    "            (\"converter\", Converter()),\n",
    "            (\"vectorizer\", TfidfVectorizer(stop_words='english', norm=\"l2\", sublinear_tf=True))\n",
    "        ]))\n",
    "    ])),\n",
    "    (\"regressor\", RandomForestRegressor(n_estimators=20, min_samples_leaf=5, random_state=5))\n",
    "])"
   ]
  },
  {
   "cell_type": "code",
   "execution_count": 155,
   "metadata": {},
   "outputs": [
    {
     "name": "stdout",
     "output_type": "stream",
     "text": [
      "Fitting 5 folds for each of 1 candidates, totalling 5 fits\n",
      "[CV] features__description_pipe__vectorizer__ngram_range=(1, 1), features__description_pipe__vectorizer__norm=l2, features__name_pipe__vectorizer__ngram_range=(1, 2), features__name_pipe__vectorizer__norm=l2 \n",
      "[CV]  features__description_pipe__vectorizer__ngram_range=(1, 1), features__description_pipe__vectorizer__norm=l2, features__name_pipe__vectorizer__ngram_range=(1, 2), features__name_pipe__vectorizer__norm=l2, score=0.6197947558511616, total=  21.2s\n",
      "[CV] features__description_pipe__vectorizer__ngram_range=(1, 1), features__description_pipe__vectorizer__norm=l2, features__name_pipe__vectorizer__ngram_range=(1, 2), features__name_pipe__vectorizer__norm=l2 \n"
     ]
    },
    {
     "name": "stderr",
     "output_type": "stream",
     "text": [
      "[Parallel(n_jobs=1)]: Done   1 out of   1 | elapsed:   21.8s remaining:    0.0s\n"
     ]
    },
    {
     "name": "stdout",
     "output_type": "stream",
     "text": [
      "[CV]  features__description_pipe__vectorizer__ngram_range=(1, 1), features__description_pipe__vectorizer__norm=l2, features__name_pipe__vectorizer__ngram_range=(1, 2), features__name_pipe__vectorizer__norm=l2, score=0.6427864832514618, total=  21.3s\n",
      "[CV] features__description_pipe__vectorizer__ngram_range=(1, 1), features__description_pipe__vectorizer__norm=l2, features__name_pipe__vectorizer__ngram_range=(1, 2), features__name_pipe__vectorizer__norm=l2 \n"
     ]
    },
    {
     "name": "stderr",
     "output_type": "stream",
     "text": [
      "[Parallel(n_jobs=1)]: Done   2 out of   2 | elapsed:   43.7s remaining:    0.0s\n"
     ]
    },
    {
     "name": "stdout",
     "output_type": "stream",
     "text": [
      "[CV]  features__description_pipe__vectorizer__ngram_range=(1, 1), features__description_pipe__vectorizer__norm=l2, features__name_pipe__vectorizer__ngram_range=(1, 2), features__name_pipe__vectorizer__norm=l2, score=0.62613109897216, total=  21.3s\n",
      "[CV] features__description_pipe__vectorizer__ngram_range=(1, 1), features__description_pipe__vectorizer__norm=l2, features__name_pipe__vectorizer__ngram_range=(1, 2), features__name_pipe__vectorizer__norm=l2 \n"
     ]
    },
    {
     "name": "stderr",
     "output_type": "stream",
     "text": [
      "[Parallel(n_jobs=1)]: Done   3 out of   3 | elapsed:  1.1min remaining:    0.0s\n"
     ]
    },
    {
     "name": "stdout",
     "output_type": "stream",
     "text": [
      "[CV]  features__description_pipe__vectorizer__ngram_range=(1, 1), features__description_pipe__vectorizer__norm=l2, features__name_pipe__vectorizer__ngram_range=(1, 2), features__name_pipe__vectorizer__norm=l2, score=0.5963603121863268, total=  21.1s\n",
      "[CV] features__description_pipe__vectorizer__ngram_range=(1, 1), features__description_pipe__vectorizer__norm=l2, features__name_pipe__vectorizer__ngram_range=(1, 2), features__name_pipe__vectorizer__norm=l2 \n"
     ]
    },
    {
     "name": "stderr",
     "output_type": "stream",
     "text": [
      "[Parallel(n_jobs=1)]: Done   4 out of   4 | elapsed:  1.5min remaining:    0.0s\n"
     ]
    },
    {
     "name": "stdout",
     "output_type": "stream",
     "text": [
      "[CV]  features__description_pipe__vectorizer__ngram_range=(1, 1), features__description_pipe__vectorizer__norm=l2, features__name_pipe__vectorizer__ngram_range=(1, 2), features__name_pipe__vectorizer__norm=l2, score=0.6647690374616648, total=  21.1s\n"
     ]
    },
    {
     "name": "stderr",
     "output_type": "stream",
     "text": [
      "[Parallel(n_jobs=1)]: Done   5 out of   5 | elapsed:  1.8min remaining:    0.0s\n",
      "[Parallel(n_jobs=1)]: Done   5 out of   5 | elapsed:  1.8min finished\n"
     ]
    },
    {
     "data": {
      "text/plain": [
       "GridSearchCV(cv=5, error_score='raise',\n",
       "       estimator=Pipeline(memory=None,\n",
       "     steps=[('selector', ColSelector(cols=array(['abv', 'available', 'description', 'glass', 'isOrganic', 'name',\n",
       "       'originalGravity', 'srm'], dtype=object))), ('features', FeatureUnion(n_jobs=1,\n",
       "       transformer_list=[('categorical_pipe', Pipeline(memory=None,\n",
       "     steps=[('selector', ColSelector..._estimators=20, n_jobs=1,\n",
       "           oob_score=False, random_state=5, verbose=0, warm_start=False))]),\n",
       "       fit_params=None, iid=True, n_jobs=1,\n",
       "       param_grid={'features__name_pipe__vectorizer__norm': ['l2'], 'features__name_pipe__vectorizer__ngram_range': [(1, 2)], 'features__description_pipe__vectorizer__norm': ['l2'], 'features__description_pipe__vectorizer__ngram_range': [(1, 1)]},\n",
       "       pre_dispatch='2*n_jobs', refit=True, return_train_score='warn',\n",
       "       scoring='r2', verbose=10)"
      ]
     },
     "execution_count": 155,
     "metadata": {},
     "output_type": "execute_result"
    }
   ],
   "source": [
    "pg = {\n",
    "    \"features__name_pipe__vectorizer__norm\": [\"l2\"],\n",
    "    \"features__name_pipe__vectorizer__ngram_range\": [(1, 2)],\n",
    "    \"features__description_pipe__vectorizer__norm\": [\"l2\"],\n",
    "    \"features__description_pipe__vectorizer__ngram_range\": [(1, 1)],\n",
    "#     \"regressor__n_estimators\": [200],\n",
    "#     \"regressor__min_samples_leaf\": [15],\n",
    "#     \"regressor__loss\": [\"huber\"],\n",
    "}\n",
    "\n",
    "classifier_model = GridSearchCV(full_pipe, pg, cv=5, verbose=10, scoring=\"r2\")\n",
    "classifier_model.fit(X_train, y_train)"
   ]
  },
  {
   "cell_type": "code",
   "execution_count": 156,
   "metadata": {},
   "outputs": [
    {
     "name": "stdout",
     "output_type": "stream",
     "text": [
      "0.629966434518\n",
      "0.839635289481\n",
      "0.627200385641\n"
     ]
    }
   ],
   "source": [
    "print(classifier_model.cv_results_[\"mean_test_score\"][0])\n",
    "print(classifier_model.score(X_train, y_train))\n",
    "print(classifier_model.score(X_test, y_test))"
   ]
  },
  {
   "cell_type": "code",
   "execution_count": 157,
   "metadata": {},
   "outputs": [
    {
     "data": {
      "text/plain": [
       "0.69893403654670216"
      ]
     },
     "execution_count": 157,
     "metadata": {},
     "output_type": "execute_result"
    }
   ],
   "source": [
    "(classifier_model.cv_results_[\"mean_test_score\"][0] +\n",
    "              classifier_model.score(X_train, y_train) +\n",
    "              classifier_model.score(X_test, y_test)) / 3"
   ]
  },
  {
   "cell_type": "code",
   "execution_count": 158,
   "metadata": {},
   "outputs": [],
   "source": [
    "from sklearn.metrics import r2_score\n",
    "y_pred = classifier_model.predict(X_test)"
   ]
  },
  {
   "cell_type": "code",
   "execution_count": 159,
   "metadata": {},
   "outputs": [
    {
     "data": {
      "text/plain": [
       "Text(100,15,'$R^2$ = 0.63')"
      ]
     },
     "execution_count": 159,
     "metadata": {},
     "output_type": "execute_result"
    },
    {
     "data": {
      "image/png": "[encoded data removed]",
      "text/plain": [
       "<Figure size 432x288 with 1 Axes>"
      ]
     },
     "metadata": {},
     "output_type": "display_data"
    }
   ],
   "source": [
    "import matplotlib.pyplot as plt\n",
    "pd.DataFrame({\"Actual\": y_test, \"Predicted\": y_pred}).plot.scatter(x=\"Actual\", y=\"Predicted\")\n",
    "plt.text(x=100, y=15, s=\"$R^2$ = {:3.2f}\".format(classifier_model.cv_results_[\"mean_test_score\"][0]))"
   ]
  },
  {
   "cell_type": "code",
   "execution_count": 92,
   "metadata": {},
   "outputs": [
    {
     "data": {
      "text/plain": [
       "{'features__description_pipe__vectorizer__ngram_range': (1, 1),\n",
       " 'features__description_pipe__vectorizer__norm': 'l2',\n",
       " 'features__name_pipe__vectorizer__ngram_range': (1, 2),\n",
       " 'features__name_pipe__vectorizer__norm': 'l2'}"
      ]
     },
     "execution_count": 92,
     "metadata": {},
     "output_type": "execute_result"
    }
   ],
   "source": [
    "classifier_model.best_params_"
   ]
  },
  {
   "cell_type": "code",
   "execution_count": 28,
   "metadata": {},
   "outputs": [],
   "source": [
    "#np.sqrt(-(inv_boxcox1p(y_test, 0.25) - inv_boxcox1p(y_pred, 0.25) ** 2).mean())"
   ]
  },
  {
   "cell_type": "markdown",
   "metadata": {},
   "source": [
    "# Prediction"
   ]
  },
  {
   "cell_type": "code",
   "execution_count": null,
   "metadata": {},
   "outputs": [],
   "source": [
    "test_df = pd.read_csv(\"/data301/data/beer/beer_test.csv\")\n",
    "test_ids = test_df[\"id\"]\n",
    "test_df = test_df.drop([\"id\"], axis=1)"
   ]
  },
  {
   "cell_type": "code",
   "execution_count": null,
   "metadata": {},
   "outputs": [],
   "source": [
    "test_df.description = test_df.description.fillna(\"\").str.lower()\n",
    "test_df.name = test_df.name.fillna(\"\").str.lower()\n",
    "#test_df = test_df.drop([\"available\"], axis=1)\n",
    "test_df.srm = test_df.srm.replace(\"Over 40\", 41).astype(float)\n",
    "test_df.head()"
   ]
  },
  {
   "cell_type": "code",
   "execution_count": null,
   "metadata": {},
   "outputs": [],
   "source": [
    "test_df.available = test_df.available.astype('category')\n",
    "test_df.glass = test_df.glass.astype('category')\n",
    "test_df.isOrganic = test_df.isOrganic.astype('category')\n",
    "test_df.dtypes"
   ]
  },
  {
   "cell_type": "code",
   "execution_count": null,
   "metadata": {},
   "outputs": [],
   "source": [
    "X_test = test_df.drop(\"ibu\", axis=1)\n",
    "y_pred = classifier_model.predict(X_test)"
   ]
  },
  {
   "cell_type": "code",
   "execution_count": null,
   "metadata": {},
   "outputs": [],
   "source": [
    "pred_df = pd.DataFrame({'id': test_ids, 'ibu': y_pred})\n",
    "pred_df = pred_df.set_index(\"id\")\n",
    "pred_df.to_csv(\"full_pred.csv\")"
   ]
  },
  {
   "cell_type": "markdown",
   "metadata": {},
   "source": [
    "# Submission Instructions\n",
    "\n",
    "Once you are finished, follow these steps:\n",
    "\n",
    "1. Restart the kernel and re-run this notebook from beginning to end by going to `Kernel > Restart Kernel and Run All Cells`.\n",
    "2. If this process stops halfway through, that means there was an error. Correct the error and repeat Step 1 until the notebook runs from beginning to end.\n",
    "3. Double check that there is a number next to each code cell and that these numbers are in order.\n",
    "\n",
    "Then, submit your lab as follows:\n",
    "\n",
    "1. Go to `File > Export Notebook As > PDF`.\n",
    "2. Double check that the entire notebook, from beginning to end, is in this PDF file. (If the notebook is cut off, try first exporting the notebook to HTML and printing to PDF.)\n",
    "3. Upload the PDF [to PolyLearn](https://polylearn.calpoly.edu/AY_2018-2019/mod/assign/view.php?id=325688)."
   ]
  },
  {
   "cell_type": "code",
   "execution_count": null,
   "metadata": {},
   "outputs": [],
   "source": []
  }
 ],
 "metadata": {
  "kernelspec": {
   "display_name": "Python 3",
   "language": "python",
   "name": "python3"
  },
  "language_info": {
   "codemirror_mode": {
    "name": "ipython",
    "version": 3
   },
   "file_extension": ".py",
   "mimetype": "text/x-python",
   "name": "python",
   "nbconvert_exporter": "python",
   "pygments_lexer": "ipython3",
   "version": "3.6.5"
  }
 },
 "nbformat": 4,
 "nbformat_minor": 2
}
