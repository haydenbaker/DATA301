{
 "cells": [
  {
   "cell_type": "markdown",
   "metadata": {},
   "source": [
    "# K-Neighbors Regressor\n",
    "\n",
    "Your goal is to train a model to predict the bitterness of a beer (in International Bittering Units, or IBU), given features about the beer. You can acquire the data in any one of three places:\n",
    "\n",
    "- on [Kaggle](https://www.kaggle.com/c/beer2019/data) \n",
    "- on [Github](https://github.com/dlsun/data-science-book/tree/master/data/beer)\n",
    "- in the `/data301/data/beer/` directory\n",
    "\n",
    "A description of the variables is available [here](https://www.kaggle.com/c/beer2019/data)."
   ]
  },
  {
   "cell_type": "code",
   "execution_count": 36,
   "metadata": {},
   "outputs": [
    {
     "data": {
      "text/html": [
       "<div>\n",
       "<style scoped>\n",
       "    .dataframe tbody tr th:only-of-type {\n",
       "        vertical-align: middle;\n",
       "    }\n",
       "\n",
       "    .dataframe tbody tr th {\n",
       "        vertical-align: top;\n",
       "    }\n",
       "\n",
       "    .dataframe thead th {\n",
       "        text-align: right;\n",
       "    }\n",
       "</style>\n",
       "<table border=\"1\" class=\"dataframe\">\n",
       "  <thead>\n",
       "    <tr style=\"text-align: right;\">\n",
       "      <th></th>\n",
       "      <th>abv</th>\n",
       "      <th>available</th>\n",
       "      <th>description</th>\n",
       "      <th>glass</th>\n",
       "      <th>ibu</th>\n",
       "      <th>isOrganic</th>\n",
       "      <th>name</th>\n",
       "      <th>originalGravity</th>\n",
       "      <th>srm</th>\n",
       "    </tr>\n",
       "  </thead>\n",
       "  <tbody>\n",
       "    <tr>\n",
       "      <th>0</th>\n",
       "      <td>8.2</td>\n",
       "      <td>Available at the same time of year, every year.</td>\n",
       "      <td>A Belgian-Abbey-Style Tripel that is big in al...</td>\n",
       "      <td>NaN</td>\n",
       "      <td>31.0</td>\n",
       "      <td>N</td>\n",
       "      <td>LoonyToonTripel</td>\n",
       "      <td>1.070</td>\n",
       "      <td>8</td>\n",
       "    </tr>\n",
       "    <tr>\n",
       "      <th>1</th>\n",
       "      <td>5.7</td>\n",
       "      <td>Available at the same time of year, every year.</td>\n",
       "      <td>Covert Hops is a crafty ale. Its stealthy dark...</td>\n",
       "      <td>Pint</td>\n",
       "      <td>45.0</td>\n",
       "      <td>N</td>\n",
       "      <td>Covert Hops</td>\n",
       "      <td>1.056</td>\n",
       "      <td>35</td>\n",
       "    </tr>\n",
       "    <tr>\n",
       "      <th>2</th>\n",
       "      <td>5.8</td>\n",
       "      <td>Available at the same time of year, every year.</td>\n",
       "      <td>This is a traditional German-style Marzen char...</td>\n",
       "      <td>Mug</td>\n",
       "      <td>25.0</td>\n",
       "      <td>N</td>\n",
       "      <td>Oktoberfest</td>\n",
       "      <td>1.048</td>\n",
       "      <td>10</td>\n",
       "    </tr>\n",
       "    <tr>\n",
       "      <th>3</th>\n",
       "      <td>5.5</td>\n",
       "      <td>Available year round as a staple beer.</td>\n",
       "      <td>A West Coast-Style Pale Ale balancing plenty o...</td>\n",
       "      <td>Pint</td>\n",
       "      <td>55.0</td>\n",
       "      <td>N</td>\n",
       "      <td>Pale Ale</td>\n",
       "      <td>1.044</td>\n",
       "      <td>5</td>\n",
       "    </tr>\n",
       "    <tr>\n",
       "      <th>4</th>\n",
       "      <td>4.8</td>\n",
       "      <td>Available year round as a staple beer.</td>\n",
       "      <td>This Bombshell has a tantalizing crisp and cle...</td>\n",
       "      <td>Pint</td>\n",
       "      <td>11.4</td>\n",
       "      <td>N</td>\n",
       "      <td>Head Turner Blonde Ale</td>\n",
       "      <td>1.045</td>\n",
       "      <td>3</td>\n",
       "    </tr>\n",
       "  </tbody>\n",
       "</table>\n",
       "</div>"
      ],
      "text/plain": [
       "   abv                                        available  \\\n",
       "0  8.2  Available at the same time of year, every year.   \n",
       "1  5.7  Available at the same time of year, every year.   \n",
       "2  5.8  Available at the same time of year, every year.   \n",
       "3  5.5           Available year round as a staple beer.   \n",
       "4  4.8           Available year round as a staple beer.   \n",
       "\n",
       "                                         description glass   ibu isOrganic  \\\n",
       "0  A Belgian-Abbey-Style Tripel that is big in al...   NaN  31.0         N   \n",
       "1  Covert Hops is a crafty ale. Its stealthy dark...  Pint  45.0         N   \n",
       "2  This is a traditional German-style Marzen char...   Mug  25.0         N   \n",
       "3  A West Coast-Style Pale Ale balancing plenty o...  Pint  55.0         N   \n",
       "4  This Bombshell has a tantalizing crisp and cle...  Pint  11.4         N   \n",
       "\n",
       "                     name  originalGravity srm  \n",
       "0         LoonyToonTripel            1.070   8  \n",
       "1             Covert Hops            1.056  35  \n",
       "2             Oktoberfest            1.048  10  \n",
       "3                Pale Ale            1.044   5  \n",
       "4  Head Turner Blonde Ale            1.045   3  "
      ]
     },
     "execution_count": 36,
     "metadata": {},
     "output_type": "execute_result"
    }
   ],
   "source": [
    "import pandas as pd, numpy as np\n",
    "%matplotlib inline\n",
    "\n",
    "beer_df = pd.read_csv(\"/data301/data/beer/beer_train.csv\")\n",
    "beer_df = beer_df.drop('id', axis=1)\n",
    "beer_df.head()"
   ]
  },
  {
   "cell_type": "code",
   "execution_count": 37,
   "metadata": {},
   "outputs": [
    {
     "data": {
      "text/plain": [
       "<matplotlib.axes._subplots.AxesSubplot at 0x7f53e2042358>"
      ]
     },
     "execution_count": 37,
     "metadata": {},
     "output_type": "execute_result"
    },
    {
     "data": {
      "image/png": "[encoded data removed]",
      "text/plain": [
       "<Figure size 432x288 with 1 Axes>"
      ]
     },
     "metadata": {},
     "output_type": "display_data"
    }
   ],
   "source": [
    "beer_df.groupby(\"available\").ibu.mean().plot.bar()"
   ]
  },
  {
   "cell_type": "markdown",
   "metadata": {},
   "source": [
    "The availability of the beer will matter (most of the time), since it is known that spring beers are typically more hoppy/bitter than winter beers, which are typically cripser/sweeter. Many of the beers that have limited availability are (from my experience) one-off or specialty brews that tend towards IPA's, DIPA's, NEIPA's, and more \"hoppy\" beers, as that is what is \"popular\" amongst the craft brew scene."
   ]
  },
  {
   "cell_type": "code",
   "execution_count": 38,
   "metadata": {},
   "outputs": [
    {
     "data": {
      "text/plain": [
       "count    6000.000000\n",
       "mean       41.196877\n",
       "std        28.846228\n",
       "min         1.000000\n",
       "25%        22.000000\n",
       "50%        33.000000\n",
       "75%        55.000000\n",
       "max      1000.000000\n",
       "Name: ibu, dtype: float64"
      ]
     },
     "execution_count": 38,
     "metadata": {},
     "output_type": "execute_result"
    }
   ],
   "source": [
    "beer_df.ibu.describe()"
   ]
  },
  {
   "cell_type": "code",
   "execution_count": 39,
   "metadata": {},
   "outputs": [],
   "source": [
    "beer_df.description = beer_df.description.fillna(\"\")\n",
    "beer_bitter = beer_df[beer_df.ibu >= 33]\n",
    "beer_not_bitter = beer_df[beer_df.ibu < 33]"
   ]
  },
  {
   "cell_type": "markdown",
   "metadata": {},
   "source": [
    "Looking at the description of beers (and names), we can try and evaulate whether or not there seems to be a correlation between the appearance of certain words in a description (and name) and the IBU of the beer."
   ]
  },
  {
   "cell_type": "code",
   "execution_count": 40,
   "metadata": {},
   "outputs": [],
   "source": [
    "# CREDIT: https://medium.com/@cristhianboujon/how-to-list-the-most-common-words-from-text-corpus-using-scikit-learn-dad4d0cab41d\n",
    "def get_top_n_words(corpus, n=None):\n",
    "    vec = CountVectorizer(stop_words='english').fit(corpus)\n",
    "    bag_of_words = vec.transform(corpus)\n",
    "    sum_words = bag_of_words.sum(axis=0) \n",
    "    words_freq = ([(word, sum_words[0, idx]) \n",
    "                   for word, idx in vec.vocabulary_.items()])\n",
    "    words_freq = sorted(words_freq, \n",
    "                        key = lambda x: x[1], reverse=True)\n",
    "    words = [w_f[0] for w_f in words_freq]\n",
    "    return words[:n]"
   ]
  },
  {
   "cell_type": "markdown",
   "metadata": {},
   "source": [
    "This function uses scikit-learn to get the frequencies of words, I modified it a little bit to fit my purposes a little better"
   ]
  },
  {
   "cell_type": "code",
   "execution_count": 41,
   "metadata": {},
   "outputs": [
    {
     "name": "stdout",
     "output_type": "stream",
     "text": [
      "['ipa', 'pale', 'american', 'dry', 'citrus', 'flavors', 'bitterness', 'chocolate']\n",
      "['beer', 'ale', 'malt', 'hops', 'style', 'brewed', 'flavor', 'light', 'wheat', 'finish', 'malts', 'aroma', 'lager', 'hop', 'yeast', 'german', 'belgian', 'dark', 'sweet', 'refreshing']\n"
     ]
    }
   ],
   "source": [
    "from sklearn.feature_extraction.text import CountVectorizer\n",
    "\n",
    "bitter_words = get_top_n_words(\n",
    "    beer_bitter.description.str.lower(), n=20)\n",
    "not_bitter_words = get_top_n_words(\n",
    "    beer_not_bitter.description.str.lower(), n=20)\n",
    "list(set(bitter_words) & set(not_bitter_words))\n",
    "bitter_words = ([word for word in bitter_words \n",
    "                 if word not in not_bitter_words])\n",
    "not_bitter_words = ([word for word in not_bitter_words \n",
    "                     if word not in bitter_words])\n",
    "print(bitter_words)\n",
    "print(not_bitter_words)"
   ]
  },
  {
   "cell_type": "code",
   "execution_count": 42,
   "metadata": {},
   "outputs": [],
   "source": [
    "get_same_words = lambda row, words : (\n",
    "    len({word for word in words if word in row}))\n",
    "beer_df[\"bitter_description_words\"] = (\n",
    "    beer_df.description.str.lower()\n",
    "    .apply(get_same_words, words=bitter_words))\n",
    "beer_df[\"not_bitter_description_words\"] = (\n",
    "    beer_df.description.str.lower()\n",
    "    .apply(get_same_words, words=not_bitter_words))"
   ]
  },
  {
   "cell_type": "markdown",
   "metadata": {},
   "source": [
    "... and repeat for name"
   ]
  },
  {
   "cell_type": "code",
   "execution_count": 43,
   "metadata": {},
   "outputs": [
    {
     "name": "stdout",
     "output_type": "stream",
     "text": [
      "['ipa', 'pale', 'imperial', 'black', 'hop', 'double']\n",
      "['ale', 'wheat', 'lager', 'porter', 'stout', 'brown', 'blonde', 'red', 'saison', 'amber']\n"
     ]
    }
   ],
   "source": [
    "bitter_words = (\n",
    "    get_top_n_words(beer_bitter\n",
    "                    .name.str.lower(), n=10))\n",
    "not_bitter_words = (\n",
    "    get_top_n_words(\n",
    "        beer_not_bitter.name.str.lower(), n=10))\n",
    "list(set(bitter_words) & set(not_bitter_words))\n",
    "bitter_words = ([word for word in bitter_words \n",
    "                 if word not in not_bitter_words])\n",
    "not_bitter_words = ([word for word in not_bitter_words \n",
    "                     if word not in bitter_words])\n",
    "print(bitter_words)\n",
    "print(not_bitter_words)"
   ]
  },
  {
   "cell_type": "code",
   "execution_count": 44,
   "metadata": {},
   "outputs": [],
   "source": [
    "beer_df[\"bitter_name_words\"] = (\n",
    "    beer_df.name.str.lower()\n",
    "    .apply(get_same_words, words=bitter_words))\n",
    "beer_df[\"not_bitter_name_words\"] = (\n",
    "    beer_df.name.str.lower()\n",
    "    .apply(get_same_words, words=not_bitter_words))"
   ]
  },
  {
   "cell_type": "code",
   "execution_count": 45,
   "metadata": {},
   "outputs": [
    {
     "data": {
      "text/plain": [
       "<matplotlib.axes._subplots.AxesSubplot at 0x7f53e202de80>"
      ]
     },
     "execution_count": 45,
     "metadata": {},
     "output_type": "execute_result"
    },
    {
     "data": {
      "image/png": "[encoded data removed]",
      "text/plain": [
       "<Figure size 432x288 with 1 Axes>"
      ]
     },
     "metadata": {},
     "output_type": "display_data"
    }
   ],
   "source": [
    "(beer_df.groupby(\"bitter_description_words\")\n",
    " .ibu.mean().plot(label=\"bitter\", legend=True))\n",
    "(beer_df.groupby(\"not_bitter_description_words\")\n",
    " .ibu.mean().plot(label=\"non-bitter\", legend=True))"
   ]
  },
  {
   "cell_type": "code",
   "execution_count": 46,
   "metadata": {},
   "outputs": [
    {
     "data": {
      "text/plain": [
       "<matplotlib.axes._subplots.AxesSubplot at 0x7f53e1ff2cc0>"
      ]
     },
     "execution_count": 46,
     "metadata": {},
     "output_type": "execute_result"
    },
    {
     "data": {
      "image/png": "[encoded data removed]",
      "text/plain": [
       "<Figure size 432x288 with 1 Axes>"
      ]
     },
     "metadata": {},
     "output_type": "display_data"
    }
   ],
   "source": [
    "(beer_df.groupby(\"bitter_name_words\")\n",
    " .ibu.mean().plot(label=\"bitter\", legend=True))\n",
    "(beer_df.groupby(\"not_bitter_name_words\")\n",
    " .ibu.mean().plot(label=\"non-bitter\", legend=True))"
   ]
  },
  {
   "cell_type": "markdown",
   "metadata": {},
   "source": [
    "There does in fact appear to be some sort of relationship between the appearance of certain words in a beer description (and name) and its IBU. This may be a rough relationship, but it may be useful in the approximation of beers with similar descriptions (and names)."
   ]
  },
  {
   "cell_type": "markdown",
   "metadata": {},
   "source": [
    "Below are miscellaneous steps to clean the data in preparation for how I will use it."
   ]
  },
  {
   "cell_type": "code",
   "execution_count": 47,
   "metadata": {},
   "outputs": [
    {
     "data": {
      "text/html": [
       "<div>\n",
       "<style scoped>\n",
       "    .dataframe tbody tr th:only-of-type {\n",
       "        vertical-align: middle;\n",
       "    }\n",
       "\n",
       "    .dataframe tbody tr th {\n",
       "        vertical-align: top;\n",
       "    }\n",
       "\n",
       "    .dataframe thead th {\n",
       "        text-align: right;\n",
       "    }\n",
       "</style>\n",
       "<table border=\"1\" class=\"dataframe\">\n",
       "  <thead>\n",
       "    <tr style=\"text-align: right;\">\n",
       "      <th></th>\n",
       "      <th>abv</th>\n",
       "      <th>available</th>\n",
       "      <th>glass</th>\n",
       "      <th>ibu</th>\n",
       "      <th>isOrganic</th>\n",
       "      <th>originalGravity</th>\n",
       "      <th>srm</th>\n",
       "      <th>bitter_description_words</th>\n",
       "      <th>not_bitter_description_words</th>\n",
       "      <th>bitter_name_words</th>\n",
       "      <th>not_bitter_name_words</th>\n",
       "    </tr>\n",
       "  </thead>\n",
       "  <tbody>\n",
       "    <tr>\n",
       "      <th>0</th>\n",
       "      <td>8.2</td>\n",
       "      <td>Available at the same time of year, every year.</td>\n",
       "      <td>Unknown</td>\n",
       "      <td>31.0</td>\n",
       "      <td>N</td>\n",
       "      <td>1.070</td>\n",
       "      <td>8</td>\n",
       "      <td>2</td>\n",
       "      <td>5</td>\n",
       "      <td>0</td>\n",
       "      <td>0</td>\n",
       "    </tr>\n",
       "    <tr>\n",
       "      <th>1</th>\n",
       "      <td>5.7</td>\n",
       "      <td>Available at the same time of year, every year.</td>\n",
       "      <td>Pint</td>\n",
       "      <td>45.0</td>\n",
       "      <td>N</td>\n",
       "      <td>1.056</td>\n",
       "      <td>35</td>\n",
       "      <td>0</td>\n",
       "      <td>7</td>\n",
       "      <td>1</td>\n",
       "      <td>0</td>\n",
       "    </tr>\n",
       "    <tr>\n",
       "      <th>2</th>\n",
       "      <td>5.8</td>\n",
       "      <td>Available at the same time of year, every year.</td>\n",
       "      <td>Mug</td>\n",
       "      <td>25.0</td>\n",
       "      <td>N</td>\n",
       "      <td>1.048</td>\n",
       "      <td>10</td>\n",
       "      <td>1</td>\n",
       "      <td>8</td>\n",
       "      <td>0</td>\n",
       "      <td>0</td>\n",
       "    </tr>\n",
       "    <tr>\n",
       "      <th>3</th>\n",
       "      <td>5.5</td>\n",
       "      <td>Available year round as a staple beer.</td>\n",
       "      <td>Pint</td>\n",
       "      <td>55.0</td>\n",
       "      <td>N</td>\n",
       "      <td>1.044</td>\n",
       "      <td>5</td>\n",
       "      <td>1</td>\n",
       "      <td>5</td>\n",
       "      <td>1</td>\n",
       "      <td>1</td>\n",
       "    </tr>\n",
       "    <tr>\n",
       "      <th>4</th>\n",
       "      <td>4.8</td>\n",
       "      <td>Available year round as a staple beer.</td>\n",
       "      <td>Pint</td>\n",
       "      <td>11.4</td>\n",
       "      <td>N</td>\n",
       "      <td>1.045</td>\n",
       "      <td>3</td>\n",
       "      <td>0</td>\n",
       "      <td>4</td>\n",
       "      <td>0</td>\n",
       "      <td>2</td>\n",
       "    </tr>\n",
       "  </tbody>\n",
       "</table>\n",
       "</div>"
      ],
      "text/plain": [
       "   abv                                        available    glass   ibu  \\\n",
       "0  8.2  Available at the same time of year, every year.  Unknown  31.0   \n",
       "1  5.7  Available at the same time of year, every year.     Pint  45.0   \n",
       "2  5.8  Available at the same time of year, every year.      Mug  25.0   \n",
       "3  5.5           Available year round as a staple beer.     Pint  55.0   \n",
       "4  4.8           Available year round as a staple beer.     Pint  11.4   \n",
       "\n",
       "  isOrganic  originalGravity srm  bitter_description_words  \\\n",
       "0         N            1.070   8                         2   \n",
       "1         N            1.056  35                         0   \n",
       "2         N            1.048  10                         1   \n",
       "3         N            1.044   5                         1   \n",
       "4         N            1.045   3                         0   \n",
       "\n",
       "   not_bitter_description_words  bitter_name_words  not_bitter_name_words  \n",
       "0                             5                  0                      0  \n",
       "1                             7                  1                      0  \n",
       "2                             8                  0                      0  \n",
       "3                             5                  1                      1  \n",
       "4                             4                  0                      2  "
      ]
     },
     "execution_count": 47,
     "metadata": {},
     "output_type": "execute_result"
    }
   ],
   "source": [
    "#beer_df.srm = beer_df.srm.replace(\n",
    "#    {\"Over 40\": \"40\"}).astype(int)\n",
    "beer_df.glass = beer_df.glass.fillna(\"Unknown\")\n",
    "beer_df = beer_df.drop(\n",
    "    [\"description\", \"name\"], axis=1)\n",
    "beer_df.head()"
   ]
  },
  {
   "cell_type": "markdown",
   "metadata": {},
   "source": [
    "# Question 1\n",
    "\n",
    "Choose at least 5 different _sets_ of features that you think might be important. For example, three different sets of features might be:\n",
    "\n",
    "- `abv`\n",
    "- `abv`, `available`, `originalGravity`\n",
    "- `originalGravity`, `srm`\n",
    "\n",
    "(You do not have to use these sets of features. They are provided just as an example.)\n",
    "\n",
    "For each set of features, train a $30$-nearest neighbor model to predict IBU (`ibu`). Determine which of these models is best at predicting IBU. Is it the model that contained the most features?"
   ]
  },
  {
   "cell_type": "code",
   "execution_count": 48,
   "metadata": {},
   "outputs": [
    {
     "data": {
      "text/plain": [
       "[[1], [1, 2], [1, 2, 3], [2], [2, 3], [3]]"
      ]
     },
     "execution_count": 48,
     "metadata": {},
     "output_type": "execute_result"
    }
   ],
   "source": [
    "def combinations(lst):\n",
    "    len_lst = len(lst)\n",
    "    c = []\n",
    "    for i in range(len_lst):\n",
    "        tmp = []\n",
    "        for j in range(i, len_lst):\n",
    "            tmp.append(lst[j])\n",
    "            c.append(tmp.copy())\n",
    "    return c\n",
    "combinations([1, 2, 3])"
   ]
  },
  {
   "cell_type": "code",
   "execution_count": 49,
   "metadata": {},
   "outputs": [
    {
     "data": {
      "text/plain": [
       "<matplotlib.axes._subplots.AxesSubplot at 0x7f53e2a180b8>"
      ]
     },
     "execution_count": 49,
     "metadata": {},
     "output_type": "execute_result"
    },
    {
     "data": {
      "image/png": "[encoded data removed]",
      "text/plain": [
       "<Figure size 432x288 with 1 Axes>"
      ]
     },
     "metadata": {},
     "output_type": "display_data"
    }
   ],
   "source": [
    "from sklearn.feature_extraction import DictVectorizer\n",
    "from sklearn.preprocessing import StandardScaler\n",
    "from sklearn.neighbors import KNeighborsRegressor\n",
    "from sklearn.pipeline import Pipeline\n",
    "from sklearn.model_selection import cross_val_score\n",
    "\n",
    "vec = DictVectorizer(sparse=False)\n",
    "scaler = StandardScaler()\n",
    "model = KNeighborsRegressor(n_neighbors=30)\n",
    "\n",
    "def feature_set_cv_error(feature_set):\n",
    "    X_dict = (beer_df.drop(\"ibu\", axis=1)[feature_set]\n",
    "              .to_dict(orient=\"records\"))\n",
    "    y = beer_df[\"ibu\"]\n",
    "    \n",
    "    pipeline = Pipeline(\n",
    "        [(\"vectorizer\", vec), \n",
    "         (\"scaler\", scaler), \n",
    "         (\"fit\", model)])\n",
    "    scores = np.mean(np.sqrt(\n",
    "        -cross_val_score(pipeline, X_dict, y, \n",
    "            cv=5, scoring=\"neg_mean_squared_error\")))\n",
    "    return scores\n",
    "    \n",
    "feature_sets = pd.Series(combinations(\n",
    "    beer_df.drop(\"ibu\", axis=1).columns.values))\n",
    "fs_rmses = feature_sets.apply(feature_set_cv_error)\n",
    "fs_rmses.plot.line()"
   ]
  },
  {
   "cell_type": "code",
   "execution_count": 50,
   "metadata": {},
   "outputs": [
    {
     "data": {
      "text/plain": [
       "['originalGravity']"
      ]
     },
     "execution_count": 50,
     "metadata": {},
     "output_type": "execute_result"
    }
   ],
   "source": [
    "feature_sets[fs_rmses.sort_values().index[0]]"
   ]
  },
  {
   "cell_type": "markdown",
   "metadata": {},
   "source": [
    "From our test of every single combination of feature, it appears that the feature sets that did NOT include all the features, but did include the textual-based features performed the best. However, it did not perform significantly better than the feature set that contained only the \"originalGravity\", \"srm\" columns. This leads me to believe that the method in which we evaluated the text-based data was not bery effective."
   ]
  },
  {
   "cell_type": "markdown",
   "metadata": {},
   "source": [
    "# Question 2\n",
    "\n",
    "Let's see how the distance metric and the scaling method influence prediction accuracy. Use the set of features from Question 1 that you determined to be the best. Continue to use $k=30$ nearest neighbors, but try fitting models with different distance metrics and scaling methods. Which distance metric and/or scaling method gives the best prediction accuracy?"
   ]
  },
  {
   "cell_type": "code",
   "execution_count": 51,
   "metadata": {},
   "outputs": [
    {
     "name": "stdout",
     "output_type": "stream",
     "text": [
      "(RobustScaler         - minkowski): 22.235935175750264\n",
      "(StandardScaler       - minkowski): 23.159867568984744\n",
      "(QuantileTransformer  - minkowski): 23.23491967393571\n",
      "(MinMaxScaler         - minkowski): 24.024572513850135\n",
      "(Normalizer           - minkowski): 24.269580231897187\n",
      "(Binarizer            - minkowski): 24.64284254044577\n",
      "(RobustScaler         - euclidean): 22.235935175750264\n",
      "(StandardScaler       - euclidean): 23.159867568984744\n",
      "(QuantileTransformer  - euclidean): 23.23491967393571\n",
      "(MinMaxScaler         - euclidean): 24.024572513850135\n",
      "(Normalizer           - euclidean): 24.269580231897187\n",
      "(Binarizer            - euclidean): 24.64284254044577\n",
      "(RobustScaler         - manhattan): 22.065659459984595\n",
      "(StandardScaler       - manhattan): 23.071255091454884\n",
      "(QuantileTransformer  - manhattan): 23.026486000014756\n",
      "(MinMaxScaler         - manhattan): 23.900083641999725\n",
      "(Normalizer           - manhattan): 24.044541188728896\n",
      "(Binarizer            - manhattan): 24.64284254044577\n",
      "(RobustScaler         - chebyshev): 23.090877773698086\n",
      "(StandardScaler       - chebyshev): 23.719518400517224\n",
      "(QuantileTransformer  - chebyshev): 23.762751426927675\n",
      "(MinMaxScaler         - chebyshev): 24.197855666582093\n",
      "(Normalizer           - chebyshev): 24.274045530962734\n",
      "(Binarizer            - chebyshev): 25.137731634859698\n"
     ]
    }
   ],
   "source": [
    "from sklearn.preprocessing import RobustScaler\n",
    "from sklearn.preprocessing import Normalizer\n",
    "from sklearn.preprocessing import QuantileTransformer\n",
    "from sklearn.preprocessing import Binarizer\n",
    "from sklearn.preprocessing import MinMaxScaler\n",
    "\n",
    "X_dict = (beer_df.drop(\"ibu\", axis=1)[feature_sets[39]]\n",
    "          .to_dict(orient=\"records\"))\n",
    "y = beer_df[\"ibu\"]\n",
    "\n",
    "rmse = lambda : np.mean(np.sqrt(-cross_val_score(\n",
    "    pipeline, X_dict, y, \n",
    "        cv=5, scoring=\"neg_mean_squared_error\")))\n",
    "mse = lambda : np.mean(-cross_val_score(\n",
    "    pipeline, X_dict, y, \n",
    "        cv=5, scoring=\"neg_mean_squared_error\"))\n",
    "mae = lambda : np.mean(-cross_val_score(\n",
    "    pipeline, X_dict, y, \n",
    "        cv=5, scoring=\"neg_mean_absolute_error\"))\n",
    "\n",
    "for dist_metric in [\"minkowski\",\n",
    "                    \"euclidean\",\n",
    "                    \"manhattan\",\n",
    "                    \"chebyshev\"]:\n",
    "    for f in [RobustScaler,\n",
    "              StandardScaler,\n",
    "              QuantileTransformer,\n",
    "              MinMaxScaler,\n",
    "              Normalizer,\n",
    "              Binarizer]:\n",
    "        scaler = f()\n",
    "        model = KNeighborsRegressor(\n",
    "            n_neighbors=30, metric=dist_metric)\n",
    "        \n",
    "        pipeline = Pipeline(\n",
    "            [(\"vectorizer\", vec),\n",
    "             (\"scaler\", scaler),\n",
    "             (\"fit\", model)])\n",
    "        scores = np.mean(np.sqrt(-cross_val_score(\n",
    "            pipeline, X_dict, y, \n",
    "                cv=5, scoring=\"neg_mean_squared_error\")))   \n",
    "        print(\"({0: <20} - {1: <5}): {2}\"\n",
    "              .format(f.__name__, dist_metric, scores))"
   ]
  },
  {
   "cell_type": "markdown",
   "metadata": {},
   "source": [
    "RobustScaler appears to consistently achieve the lowest distances relative to others in the same metric. With regards to distance, it appears that euclidean and minkowski are the same, and manhattan is slightly better than both. Upon deeper inspection (the docs), the KN regressor default is minkowski, which is in fact the same as euclidean ONLY when the p-value is set to 2 (which is the default, and we did not set it to otherwise). "
   ]
  }
 ],
 "metadata": {
  "kernelspec": {
   "display_name": "Python 3",
   "language": "python",
   "name": "python3"
  },
  "language_info": {
   "codemirror_mode": {
    "name": "ipython",
    "version": 3
   },
   "file_extension": ".py",
   "mimetype": "text/x-python",
   "name": "python",
   "nbconvert_exporter": "python",
   "pygments_lexer": "ipython3",
   "version": "3.6.8"
  }
 },
 "nbformat": 4,
 "nbformat_minor": 2
}
