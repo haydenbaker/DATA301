{
 "cells": [
  {
   "cell_type": "markdown",
   "metadata": {},
   "source": [
    "# Prediction Competition\n",
    "\n",
    "The goal of machine learning is to build models with high predictive accuracy. Thus, it is not surprising that there exist machine learning competitions, where participants compete to build the model with the lowest possible prediction error.\n",
    "\n",
    "[Kaggle](http://www.kaggle.com/) is a website that hosts machine learning competitions. In this lab, you will participate in a Kaggle competition with other students in this class! The top 5 people will earn up to 5 bonus points on this lab. To join the competition, visit [this link](https://www.kaggle.com/c/beer2019). You will need to create an account on Kaggle first."
   ]
  },
  {
   "cell_type": "markdown",
   "metadata": {},
   "source": [
    "# Question\n",
    "\n",
    "Train many different models to predict IBU. Try different subsets of variables. Try different machine learning algorithms (you are not restricted to just $k$-nearest neighbors). At least one of your models must contain variables derived from the `description` of each beer. Use cross-validation to systematically select good models and submit your predictions to Kaggle. You are allowed 2 submissions per day, so submit early and often!\n",
    "\n",
    "Note that to submit your predictions to Kaggle, you will need to export your predictions to a CSV file (using `.to_csv()`) in the format expected by Kaggle (see `beer_test_sample_submission.csv` for an example)."
   ]
  },
  {
   "cell_type": "markdown",
   "metadata": {},
   "source": [
    "# Discovery"
   ]
  },
  {
   "cell_type": "code",
   "execution_count": 87,
   "metadata": {},
   "outputs": [],
   "source": [
    "import pandas as pd, numpy as np\n",
    "%matplotlib inline\n",
    "\n",
    "beer_df = pd.read_csv(\"/data301/data/beer/beer_train.csv\")\n",
    "beer_df = beer_df.drop([\"id\"], axis=1)"
   ]
  },
  {
   "cell_type": "code",
   "execution_count": 88,
   "metadata": {},
   "outputs": [
    {
     "data": {
      "text/html": [
       "<div>\n",
       "<style scoped>\n",
       "    .dataframe tbody tr th:only-of-type {\n",
       "        vertical-align: middle;\n",
       "    }\n",
       "\n",
       "    .dataframe tbody tr th {\n",
       "        vertical-align: top;\n",
       "    }\n",
       "\n",
       "    .dataframe thead th {\n",
       "        text-align: right;\n",
       "    }\n",
       "</style>\n",
       "<table border=\"1\" class=\"dataframe\">\n",
       "  <thead>\n",
       "    <tr style=\"text-align: right;\">\n",
       "      <th></th>\n",
       "      <th>abv</th>\n",
       "      <th>available</th>\n",
       "      <th>description</th>\n",
       "      <th>glass</th>\n",
       "      <th>ibu</th>\n",
       "      <th>isOrganic</th>\n",
       "      <th>name</th>\n",
       "      <th>originalGravity</th>\n",
       "      <th>srm</th>\n",
       "    </tr>\n",
       "  </thead>\n",
       "  <tbody>\n",
       "    <tr>\n",
       "      <th>0</th>\n",
       "      <td>8.2</td>\n",
       "      <td>Available at the same time of year, every year.</td>\n",
       "      <td>a belgian-abbey-style tripel that is big in al...</td>\n",
       "      <td>NaN</td>\n",
       "      <td>31.0</td>\n",
       "      <td>N</td>\n",
       "      <td>loonytoontripel</td>\n",
       "      <td>1.070</td>\n",
       "      <td>8</td>\n",
       "    </tr>\n",
       "    <tr>\n",
       "      <th>1</th>\n",
       "      <td>5.7</td>\n",
       "      <td>Available at the same time of year, every year.</td>\n",
       "      <td>covert hops is a crafty ale. its stealthy dark...</td>\n",
       "      <td>Pint</td>\n",
       "      <td>45.0</td>\n",
       "      <td>N</td>\n",
       "      <td>covert hops</td>\n",
       "      <td>1.056</td>\n",
       "      <td>35</td>\n",
       "    </tr>\n",
       "    <tr>\n",
       "      <th>2</th>\n",
       "      <td>5.8</td>\n",
       "      <td>Available at the same time of year, every year.</td>\n",
       "      <td>this is a traditional german-style marzen char...</td>\n",
       "      <td>Mug</td>\n",
       "      <td>25.0</td>\n",
       "      <td>N</td>\n",
       "      <td>oktoberfest</td>\n",
       "      <td>1.048</td>\n",
       "      <td>10</td>\n",
       "    </tr>\n",
       "    <tr>\n",
       "      <th>3</th>\n",
       "      <td>5.5</td>\n",
       "      <td>Available year round as a staple beer.</td>\n",
       "      <td>a west coast-style pale ale balancing plenty o...</td>\n",
       "      <td>Pint</td>\n",
       "      <td>55.0</td>\n",
       "      <td>N</td>\n",
       "      <td>pale ale</td>\n",
       "      <td>1.044</td>\n",
       "      <td>5</td>\n",
       "    </tr>\n",
       "    <tr>\n",
       "      <th>4</th>\n",
       "      <td>4.8</td>\n",
       "      <td>Available year round as a staple beer.</td>\n",
       "      <td>this bombshell has a tantalizing crisp and cle...</td>\n",
       "      <td>Pint</td>\n",
       "      <td>11.4</td>\n",
       "      <td>N</td>\n",
       "      <td>head turner blonde ale</td>\n",
       "      <td>1.045</td>\n",
       "      <td>3</td>\n",
       "    </tr>\n",
       "  </tbody>\n",
       "</table>\n",
       "</div>"
      ],
      "text/plain": [
       "   abv                                        available  \\\n",
       "0  8.2  Available at the same time of year, every year.   \n",
       "1  5.7  Available at the same time of year, every year.   \n",
       "2  5.8  Available at the same time of year, every year.   \n",
       "3  5.5           Available year round as a staple beer.   \n",
       "4  4.8           Available year round as a staple beer.   \n",
       "\n",
       "                                         description glass   ibu isOrganic  \\\n",
       "0  a belgian-abbey-style tripel that is big in al...   NaN  31.0         N   \n",
       "1  covert hops is a crafty ale. its stealthy dark...  Pint  45.0         N   \n",
       "2  this is a traditional german-style marzen char...   Mug  25.0         N   \n",
       "3  a west coast-style pale ale balancing plenty o...  Pint  55.0         N   \n",
       "4  this bombshell has a tantalizing crisp and cle...  Pint  11.4         N   \n",
       "\n",
       "                     name  originalGravity  srm  \n",
       "0         loonytoontripel            1.070    8  \n",
       "1             covert hops            1.056   35  \n",
       "2             oktoberfest            1.048   10  \n",
       "3                pale ale            1.044    5  \n",
       "4  head turner blonde ale            1.045    3  "
      ]
     },
     "execution_count": 88,
     "metadata": {},
     "output_type": "execute_result"
    }
   ],
   "source": [
    "beer_df.description = beer_df.description.fillna(\"\").str.lower()\n",
    "beer_df.name = beer_df.name.fillna(\"\").str.lower()\n",
    "beer_df.srm = beer_df.srm.replace(\"Over 40\", 41).astype(int)\n",
    "beer_df.available = beer_df.available.astype('category')\n",
    "beer_df.glass = beer_df.glass.astype('category')\n",
    "beer_df.isOrganic = beer_df.isOrganic.astype('category')\n",
    "beer_df.head()"
   ]
  },
  {
   "cell_type": "markdown",
   "metadata": {},
   "source": [
    "My first step is my process was to clean all the features. For SRM, the number of \"Over 40\" observations was much greater than the number of observations with a value actually over 40, so I decided that I would simply replace them with a value of \"41\" since I couldn't really impute the values based on similar beers easily."
   ]
  },
  {
   "cell_type": "code",
   "execution_count": 89,
   "metadata": {},
   "outputs": [
    {
     "data": {
      "text/plain": [
       "abv                 float64\n",
       "available          category\n",
       "description          object\n",
       "glass              category\n",
       "ibu                 float64\n",
       "isOrganic          category\n",
       "name                 object\n",
       "originalGravity     float64\n",
       "srm                   int64\n",
       "dtype: object"
      ]
     },
     "execution_count": 89,
     "metadata": {},
     "output_type": "execute_result"
    }
   ],
   "source": [
    "beer_df.dtypes"
   ]
  },
  {
   "cell_type": "markdown",
   "metadata": {},
   "source": [
    "Here we can see that all our type conversion were correct, and our data is mostly ready for training."
   ]
  },
  {
   "cell_type": "code",
   "execution_count": 90,
   "metadata": {},
   "outputs": [
    {
     "data": {
      "text/plain": [
       "<matplotlib.axes._subplots.AxesSubplot at 0x7f106ad99208>"
      ]
     },
     "execution_count": 90,
     "metadata": {},
     "output_type": "execute_result"
    },
    {
     "data": {
      "image/png": "[encoded data removed]",
      "text/plain": [
       "<Figure size 432x288 with 1 Axes>"
      ]
     },
     "metadata": {
      "needs_background": "light"
     },
     "output_type": "display_data"
    }
   ],
   "source": [
    "beer_df = beer_df[beer_df.ibu <= \n",
    "                  beer_df.ibu.quantile(.997)]\n",
    "beer_df.ibu.plot.box()"
   ]
  },
  {
   "cell_type": "markdown",
   "metadata": {},
   "source": [
    "I wanted to take a look at the distribution of beer ibu's to see if it was close enough to normal or not. I discovered there were 1 or 2 problematic outliers, therefore I kept all the data within the 99.7th percentile"
   ]
  },
  {
   "cell_type": "code",
   "execution_count": 91,
   "metadata": {},
   "outputs": [
    {
     "data": {
      "text/plain": [
       "array([[<matplotlib.axes._subplots.AxesSubplot object at 0x7f106ade8b70>,\n",
       "        <matplotlib.axes._subplots.AxesSubplot object at 0x7f106aa5df28>],\n",
       "       [<matplotlib.axes._subplots.AxesSubplot object at 0x7f106aa095f8>,\n",
       "        <matplotlib.axes._subplots.AxesSubplot object at 0x7f106aa2bc88>]], dtype=object)"
      ]
     },
     "execution_count": 91,
     "metadata": {},
     "output_type": "execute_result"
    },
    {
     "data": {
      "image/png": "[encoded data removed]",
      "text/plain": [
       "<Figure size 432x288 with 4 Axes>"
      ]
     },
     "metadata": {
      "needs_background": "light"
     },
     "output_type": "display_data"
    }
   ],
   "source": [
    "beer_df.hist(bins=20)"
   ]
  },
  {
   "cell_type": "markdown",
   "metadata": {},
   "source": [
    "Here's histograms of our numerical data, and it appears that our features are some right skewed. We will transform them."
   ]
  },
  {
   "cell_type": "code",
   "execution_count": 92,
   "metadata": {},
   "outputs": [
    {
     "data": {
      "text/plain": [
       "array([[<matplotlib.axes._subplots.AxesSubplot object at 0x7f106b07cef0>,\n",
       "        <matplotlib.axes._subplots.AxesSubplot object at 0x7f106bc72b70>],\n",
       "       [<matplotlib.axes._subplots.AxesSubplot object at 0x7f106a8ad240>,\n",
       "        <matplotlib.axes._subplots.AxesSubplot object at 0x7f106a8508d0>]], dtype=object)"
      ]
     },
     "execution_count": 92,
     "metadata": {},
     "output_type": "execute_result"
    },
    {
     "data": {
      "image/png": "[encoded data removed]",
      "text/plain": [
       "<Figure size 432x288 with 4 Axes>"
      ]
     },
     "metadata": {
      "needs_background": "light"
     },
     "output_type": "display_data"
    }
   ],
   "source": [
    "beer_df.abv = np.log10(beer_df.abv)\n",
    "beer_df.srm = np.log10(beer_df.srm)\n",
    "beer_df.originalGravity = np.log10(\n",
    "beer_df.originalGravity)\n",
    "beer_df.hist(bins=20)"
   ]
  },
  {
   "cell_type": "markdown",
   "metadata": {},
   "source": [
    "I observed that log transforming our data helped make it more normally distributed, and that should help slightly when training our model."
   ]
  },
  {
   "cell_type": "code",
   "execution_count": 93,
   "metadata": {},
   "outputs": [],
   "source": [
    "from sklearn.feature_extraction import DictVectorizer\n",
    "from sklearn.preprocessing import RobustScaler\n",
    "from sklearn.neighbors import KNeighborsRegressor\n",
    "from sklearn.pipeline import Pipeline\n",
    "\n",
    "X_dict = (beer_df[[\"abv\", \"available\", \n",
    "                  \"originalGravity\", \"srm\"]]\n",
    "          .to_dict(orient=\"records\"))\n",
    "y = beer_df[\"ibu\"]\n",
    "vec = DictVectorizer(sparse=False)\n",
    "scaler = RobustScaler()\n",
    "model = KNeighborsRegressor(n_neighbors=20)\n",
    "pipeline = Pipeline([(\"vectorizer\", vec), \n",
    "                     (\"scaler\", scaler), \n",
    "                     (\"fit\", model)])"
   ]
  },
  {
   "cell_type": "code",
   "execution_count": 94,
   "metadata": {},
   "outputs": [
    {
     "data": {
      "text/plain": [
       "17.914969314662962"
      ]
     },
     "execution_count": 94,
     "metadata": {},
     "output_type": "execute_result"
    }
   ],
   "source": [
    "from sklearn.model_selection import cross_val_score \n",
    "from sklearn.model_selection import train_test_split, KFold\n",
    "from sklearn.metrics import mean_squared_error\n",
    "from sklearn.metrics.scorer import make_scorer\n",
    "\n",
    "def true_rmse(y_true, y_pred):\n",
    "    return np.sqrt(mean_squared_error(y_true, y_pred))\n",
    "my_rmse = make_scorer(true_rmse, greater_is_better=True)\n",
    "\n",
    "kf = KFold(5, shuffle=True, random_state=5).get_n_splits(X_dict)\n",
    "scores = cross_val_score(pipeline, X_dict, y, \n",
    "                         cv=kf, scoring=my_rmse)\n",
    "scores.mean()"
   ]
  },
  {
   "cell_type": "markdown",
   "metadata": {},
   "source": [
    "I went with a basic approach with KNearest on only a few features at first in order to get a baseline, later we will use more complex modelling."
   ]
  },
  {
   "cell_type": "markdown",
   "metadata": {},
   "source": [
    "### Extracting Features and More"
   ]
  },
  {
   "cell_type": "markdown",
   "metadata": {},
   "source": [
    "I needed to extract key information from the textual data given to us, and so I decided to use the TFIDF method, while also removing stop words present in the corpus of beer text"
   ]
  },
  {
   "cell_type": "code",
   "execution_count": 95,
   "metadata": {},
   "outputs": [],
   "source": [
    "from sklearn.model_selection import train_test_split, GridSearchCV\n",
    "\n",
    "X = beer_df.drop(\"ibu\", axis=1)\n",
    "y = beer_df[\"ibu\"]\n",
    "X_train, X_test, y_train, y_test = (\n",
    "    train_test_split(X, y, test_size=.05))"
   ]
  },
  {
   "cell_type": "code",
   "execution_count": 96,
   "metadata": {},
   "outputs": [],
   "source": [
    "from sklearn.base import TransformerMixin\n",
    "from sklearn.base import BaseEstimator\n",
    "from sklearn.base import RegressorMixin, clone\n",
    "\n",
    "class ColSelector(BaseEstimator, TransformerMixin):\n",
    "    def __init__(self, cols):\n",
    "        self.cols = cols\n",
    "\n",
    "    def fit(self, X, y=None):\n",
    "        return self\n",
    "\n",
    "    def transform(self, X):\n",
    "        return X[self.cols]\n",
    "\n",
    "class Converter(BaseEstimator, TransformerMixin):\n",
    "    def fit(self, x, y=None):\n",
    "        return self\n",
    "\n",
    "    def transform(self, data_frame):\n",
    "        return data_frame.values.ravel()\n",
    "    \n",
    "class StringIndexer(BaseEstimator, TransformerMixin):\n",
    "    def fit(self, X, y=None):\n",
    "        return self\n",
    "    def transform(self, X):\n",
    "        return X.apply(lambda s: s.cat.codes.replace(\n",
    "            {-1: len(s.cat.categories)}\n",
    "))"
   ]
  },
  {
   "cell_type": "markdown",
   "metadata": {},
   "source": [
    "I also needed a way to use complex scikit-learn pipelines with pandas, and it proved to be somewhat difficult at first (without ColumnTransformer, which my version of sklearn did not have). I eventually was able to get it to handle all my data, with a few methods: ColSelector, Converter, and StringIndexer."
   ]
  },
  {
   "cell_type": "code",
   "execution_count": 107,
   "metadata": {},
   "outputs": [],
   "source": [
    "from sklearn.pipeline import Pipeline, FeatureUnion\n",
    "from sklearn.feature_extraction.text import TfidfVectorizer\n",
    "from sklearn.preprocessing import RobustScaler, OneHotEncoder\n",
    "from sklearn.ensemble import GradientBoostingRegressor\n",
    "\n",
    "full_pipe = Pipeline([\n",
    "    (\"selector\", ColSelector(cols=X.columns.values)),\n",
    "    (\"features\", FeatureUnion(transformer_list=[\n",
    "        (\"categorical_pipe\", Pipeline([\n",
    "            (\"selector\", ColSelector(cols=[\n",
    "                \"available\",\n",
    "                \"glass\",\n",
    "                \"isOrganic\"])),\n",
    "            (\"indexer\", StringIndexer()),\n",
    "            (\"encoder\", OneHotEncoder(\n",
    "                handle_unknown='ignore'))\n",
    "        ])),\n",
    "        (\"numeric_pipe\", Pipeline([\n",
    "            (\"selector\", ColSelector(cols=[\n",
    "                \"abv\",\n",
    "                \"originalGravity\",\n",
    "                \"srm\"])),\n",
    "            (\"scaler\", RobustScaler()),\n",
    "        ])),\n",
    "        (\"name_pipe\", Pipeline([\n",
    "            (\"selector\", ColSelector(cols=[\n",
    "                \"name\"])),\n",
    "            (\"converter\", Converter()),\n",
    "            (\"vectorizer\", TfidfVectorizer(\n",
    "                stop_words='english'))\n",
    "        ])),\n",
    "        (\"description_pipe\", Pipeline([\n",
    "            (\"selector\", ColSelector(cols=[\n",
    "                \"description\"])),\n",
    "            (\"converter\", Converter()),\n",
    "            (\"vectorizer\", TfidfVectorizer(\n",
    "                stop_words='english',\n",
    "                sublinear_tf=True))\n",
    "        ]))\n",
    "    ])),\n",
    "    (\"regressor\", GradientBoostingRegressor(\n",
    "        random_state=5))\n",
    "])"
   ]
  },
  {
   "cell_type": "markdown",
   "metadata": {},
   "source": [
    "From my testing, I decided to go with an already implemented ensemble method, GradientBoostingRegressor. I tried implementing my own stacked model with many linear and non-linear models, but this turned out to be only slightly better but took ages to train. I also tried keras with a deep(ish) neural network, and it proved better than most linear sklearn models, but not as good as sklearn ensemble methods (RandomForest, GradientBoost, etc)."
   ]
  },
  {
   "cell_type": "code",
   "execution_count": 98,
   "metadata": {},
   "outputs": [
    {
     "data": {
      "text/plain": [
       "{'features__description_pipe__vectorizer__ngram_range': (1, 1),\n",
       " 'features__description_pipe__vectorizer__norm': 'l2',\n",
       " 'features__name_pipe__vectorizer__ngram_range': (1, 1),\n",
       " 'features__name_pipe__vectorizer__norm': 'l2',\n",
       " 'features__name_pipe__vectorizer__sublinear_tf': True,\n",
       " 'regressor__loss': 'huber',\n",
       " 'regressor__min_samples_leaf': 5,\n",
       " 'regressor__n_estimators': 500}"
      ]
     },
     "execution_count": 98,
     "metadata": {},
     "output_type": "execute_result"
    }
   ],
   "source": [
    "pg = {\n",
    "    \"features__name_pipe__vectorizer__norm\": [\"l2\"],\n",
    "    \"features__name_pipe__vectorizer__ngram_range\": [(1, 1)],\n",
    "    \"features__name_pipe__vectorizer__sublinear_tf\": [True],\n",
    "    \"features__description_pipe__vectorizer__norm\": [\"l2\"],\n",
    "    \"features__description_pipe__vectorizer__ngram_range\": [(1, 1)],\n",
    "    \"regressor__n_estimators\": [500],\n",
    "    \"regressor__min_samples_leaf\": [5],\n",
    "    \"regressor__loss\": [\"huber\"]\n",
    "}\n",
    "\n",
    "regression_model = GridSearchCV(full_pipe, pg, cv=5, scoring=my_rmse)\n",
    "regression_model.fit(X_train, y_train)\n",
    "regression_model.best_params_"
   ]
  },
  {
   "cell_type": "markdown",
   "metadata": {},
   "source": [
    "From gridsearching, I was able to compare many different parameters to see which gave me the best performance and score."
   ]
  },
  {
   "cell_type": "code",
   "execution_count": 99,
   "metadata": {},
   "outputs": [
    {
     "name": "stdout",
     "output_type": "stream",
     "text": [
      "Mean CV Score: 14.3413110374\n",
      "Test Score: 13.6237123243\n"
     ]
    }
   ],
   "source": [
    "print(\"Mean CV Score:\", regression_model.cv_results_[\"mean_test_score\"][0]) # 14.2\n",
    "print(\"Test Score:\", regression_model.score(X_test, y_test))# 13.2"
   ]
  },
  {
   "cell_type": "markdown",
   "metadata": {},
   "source": [
    "An improvement of around 2-3 points from KNearest is what we were looking for, and that is what we got!"
   ]
  },
  {
   "cell_type": "code",
   "execution_count": 109,
   "metadata": {},
   "outputs": [
    {
     "ename": "ValueError",
     "evalue": "array length 4753 does not match index length 300",
     "output_type": "error",
     "traceback": [
      "\u001b[0;31m---------------------------------------------------------------------------\u001b[0m",
      "\u001b[0;31mValueError\u001b[0m                                Traceback (most recent call last)",
      "\u001b[0;32m<ipython-input-109-9556c0dacad4>\u001b[0m in \u001b[0;36m<module>\u001b[0;34m\u001b[0m\n\u001b[1;32m      3\u001b[0m \u001b[0;34m\u001b[0m\u001b[0m\n\u001b[1;32m      4\u001b[0m \u001b[0my_pred\u001b[0m \u001b[0;34m=\u001b[0m \u001b[0mregression_model\u001b[0m\u001b[0;34m.\u001b[0m\u001b[0mpredict\u001b[0m\u001b[0;34m(\u001b[0m\u001b[0mX_test\u001b[0m\u001b[0;34m)\u001b[0m\u001b[0;34m\u001b[0m\u001b[0;34m\u001b[0m\u001b[0m\n\u001b[0;32m----> 5\u001b[0;31m (pd.DataFrame({\"Actual\": y_test, \"Predicted\": y_pred})\n\u001b[0m\u001b[1;32m      6\u001b[0m     .plot.scatter(x=\"Actual\", y=\"Predicted\"))\n\u001b[1;32m      7\u001b[0m \u001b[0mplt\u001b[0m\u001b[0;34m.\u001b[0m\u001b[0mtext\u001b[0m\u001b[0;34m(\u001b[0m\u001b[0mx\u001b[0m\u001b[0;34m=\u001b[0m\u001b[0;36m100\u001b[0m\u001b[0;34m,\u001b[0m \u001b[0my\u001b[0m\u001b[0;34m=\u001b[0m\u001b[0;36m15\u001b[0m\u001b[0;34m,\u001b[0m \u001b[0ms\u001b[0m\u001b[0;34m=\u001b[0m\u001b[0;34m\"$R^2$ = {:3.2f}\"\u001b[0m\u001b[0;34m.\u001b[0m\u001b[0mformat\u001b[0m\u001b[0;34m(\u001b[0m\u001b[0mr2_score\u001b[0m\u001b[0;34m(\u001b[0m\u001b[0my_test\u001b[0m\u001b[0;34m,\u001b[0m \u001b[0my_pred\u001b[0m\u001b[0;34m)\u001b[0m\u001b[0;34m)\u001b[0m\u001b[0;34m)\u001b[0m\u001b[0;34m\u001b[0m\u001b[0;34m\u001b[0m\u001b[0m\n",
      "\u001b[0;32m/opt/conda/lib/python3.6/site-packages/pandas/core/frame.py\u001b[0m in \u001b[0;36m__init__\u001b[0;34m(self, data, index, columns, dtype, copy)\u001b[0m\n\u001b[1;32m    346\u001b[0m                                  dtype=dtype, copy=copy)\n\u001b[1;32m    347\u001b[0m         \u001b[0;32melif\u001b[0m \u001b[0misinstance\u001b[0m\u001b[0;34m(\u001b[0m\u001b[0mdata\u001b[0m\u001b[0;34m,\u001b[0m \u001b[0mdict\u001b[0m\u001b[0;34m)\u001b[0m\u001b[0;34m:\u001b[0m\u001b[0;34m\u001b[0m\u001b[0;34m\u001b[0m\u001b[0m\n\u001b[0;32m--> 348\u001b[0;31m             \u001b[0mmgr\u001b[0m \u001b[0;34m=\u001b[0m \u001b[0mself\u001b[0m\u001b[0;34m.\u001b[0m\u001b[0m_init_dict\u001b[0m\u001b[0;34m(\u001b[0m\u001b[0mdata\u001b[0m\u001b[0;34m,\u001b[0m \u001b[0mindex\u001b[0m\u001b[0;34m,\u001b[0m \u001b[0mcolumns\u001b[0m\u001b[0;34m,\u001b[0m \u001b[0mdtype\u001b[0m\u001b[0;34m=\u001b[0m\u001b[0mdtype\u001b[0m\u001b[0;34m)\u001b[0m\u001b[0;34m\u001b[0m\u001b[0;34m\u001b[0m\u001b[0m\n\u001b[0m\u001b[1;32m    349\u001b[0m         \u001b[0;32melif\u001b[0m \u001b[0misinstance\u001b[0m\u001b[0;34m(\u001b[0m\u001b[0mdata\u001b[0m\u001b[0;34m,\u001b[0m \u001b[0mma\u001b[0m\u001b[0;34m.\u001b[0m\u001b[0mMaskedArray\u001b[0m\u001b[0;34m)\u001b[0m\u001b[0;34m:\u001b[0m\u001b[0;34m\u001b[0m\u001b[0;34m\u001b[0m\u001b[0m\n\u001b[1;32m    350\u001b[0m             \u001b[0;32mimport\u001b[0m \u001b[0mnumpy\u001b[0m\u001b[0;34m.\u001b[0m\u001b[0mma\u001b[0m\u001b[0;34m.\u001b[0m\u001b[0mmrecords\u001b[0m \u001b[0;32mas\u001b[0m \u001b[0mmrecords\u001b[0m\u001b[0;34m\u001b[0m\u001b[0;34m\u001b[0m\u001b[0m\n",
      "\u001b[0;32m/opt/conda/lib/python3.6/site-packages/pandas/core/frame.py\u001b[0m in \u001b[0;36m_init_dict\u001b[0;34m(self, data, index, columns, dtype)\u001b[0m\n\u001b[1;32m    457\u001b[0m             \u001b[0marrays\u001b[0m \u001b[0;34m=\u001b[0m \u001b[0;34m[\u001b[0m\u001b[0mdata\u001b[0m\u001b[0;34m[\u001b[0m\u001b[0mk\u001b[0m\u001b[0;34m]\u001b[0m \u001b[0;32mfor\u001b[0m \u001b[0mk\u001b[0m \u001b[0;32min\u001b[0m \u001b[0mkeys\u001b[0m\u001b[0;34m]\u001b[0m\u001b[0;34m\u001b[0m\u001b[0;34m\u001b[0m\u001b[0m\n\u001b[1;32m    458\u001b[0m \u001b[0;34m\u001b[0m\u001b[0m\n\u001b[0;32m--> 459\u001b[0;31m         \u001b[0;32mreturn\u001b[0m \u001b[0m_arrays_to_mgr\u001b[0m\u001b[0;34m(\u001b[0m\u001b[0marrays\u001b[0m\u001b[0;34m,\u001b[0m \u001b[0mdata_names\u001b[0m\u001b[0;34m,\u001b[0m \u001b[0mindex\u001b[0m\u001b[0;34m,\u001b[0m \u001b[0mcolumns\u001b[0m\u001b[0;34m,\u001b[0m \u001b[0mdtype\u001b[0m\u001b[0;34m=\u001b[0m\u001b[0mdtype\u001b[0m\u001b[0;34m)\u001b[0m\u001b[0;34m\u001b[0m\u001b[0;34m\u001b[0m\u001b[0m\n\u001b[0m\u001b[1;32m    460\u001b[0m \u001b[0;34m\u001b[0m\u001b[0m\n\u001b[1;32m    461\u001b[0m     \u001b[0;32mdef\u001b[0m \u001b[0m_init_ndarray\u001b[0m\u001b[0;34m(\u001b[0m\u001b[0mself\u001b[0m\u001b[0;34m,\u001b[0m \u001b[0mvalues\u001b[0m\u001b[0;34m,\u001b[0m \u001b[0mindex\u001b[0m\u001b[0;34m,\u001b[0m \u001b[0mcolumns\u001b[0m\u001b[0;34m,\u001b[0m \u001b[0mdtype\u001b[0m\u001b[0;34m=\u001b[0m\u001b[0;32mNone\u001b[0m\u001b[0;34m,\u001b[0m \u001b[0mcopy\u001b[0m\u001b[0;34m=\u001b[0m\u001b[0;32mFalse\u001b[0m\u001b[0;34m)\u001b[0m\u001b[0;34m:\u001b[0m\u001b[0;34m\u001b[0m\u001b[0;34m\u001b[0m\u001b[0m\n",
      "\u001b[0;32m/opt/conda/lib/python3.6/site-packages/pandas/core/frame.py\u001b[0m in \u001b[0;36m_arrays_to_mgr\u001b[0;34m(arrays, arr_names, index, columns, dtype)\u001b[0m\n\u001b[1;32m   7354\u001b[0m     \u001b[0;31m# figure out the index, if necessary\u001b[0m\u001b[0;34m\u001b[0m\u001b[0;34m\u001b[0m\u001b[0;34m\u001b[0m\u001b[0m\n\u001b[1;32m   7355\u001b[0m     \u001b[0;32mif\u001b[0m \u001b[0mindex\u001b[0m \u001b[0;32mis\u001b[0m \u001b[0;32mNone\u001b[0m\u001b[0;34m:\u001b[0m\u001b[0;34m\u001b[0m\u001b[0;34m\u001b[0m\u001b[0m\n\u001b[0;32m-> 7356\u001b[0;31m         \u001b[0mindex\u001b[0m \u001b[0;34m=\u001b[0m \u001b[0mextract_index\u001b[0m\u001b[0;34m(\u001b[0m\u001b[0marrays\u001b[0m\u001b[0;34m)\u001b[0m\u001b[0;34m\u001b[0m\u001b[0;34m\u001b[0m\u001b[0m\n\u001b[0m\u001b[1;32m   7357\u001b[0m \u001b[0;34m\u001b[0m\u001b[0m\n\u001b[1;32m   7358\u001b[0m     \u001b[0;31m# don't force copy because getting jammed in an ndarray anyway\u001b[0m\u001b[0;34m\u001b[0m\u001b[0;34m\u001b[0m\u001b[0;34m\u001b[0m\u001b[0m\n",
      "\u001b[0;32m/opt/conda/lib/python3.6/site-packages/pandas/core/frame.py\u001b[0m in \u001b[0;36mextract_index\u001b[0;34m(data)\u001b[0m\n\u001b[1;32m   7410\u001b[0m                     msg = ('array length %d does not match index length %d' %\n\u001b[1;32m   7411\u001b[0m                            (lengths[0], len(index)))\n\u001b[0;32m-> 7412\u001b[0;31m                     \u001b[0;32mraise\u001b[0m \u001b[0mValueError\u001b[0m\u001b[0;34m(\u001b[0m\u001b[0mmsg\u001b[0m\u001b[0;34m)\u001b[0m\u001b[0;34m\u001b[0m\u001b[0;34m\u001b[0m\u001b[0m\n\u001b[0m\u001b[1;32m   7413\u001b[0m             \u001b[0;32melse\u001b[0m\u001b[0;34m:\u001b[0m\u001b[0;34m\u001b[0m\u001b[0;34m\u001b[0m\u001b[0m\n\u001b[1;32m   7414\u001b[0m                 \u001b[0mindex\u001b[0m \u001b[0;34m=\u001b[0m \u001b[0mcom\u001b[0m\u001b[0;34m.\u001b[0m\u001b[0m_default_index\u001b[0m\u001b[0;34m(\u001b[0m\u001b[0mlengths\u001b[0m\u001b[0;34m[\u001b[0m\u001b[0;36m0\u001b[0m\u001b[0;34m]\u001b[0m\u001b[0;34m)\u001b[0m\u001b[0;34m\u001b[0m\u001b[0;34m\u001b[0m\u001b[0m\n",
      "\u001b[0;31mValueError\u001b[0m: array length 4753 does not match index length 300"
     ]
    }
   ],
   "source": [
    "from sklearn.metrics import r2_score\n",
    "import matplotlib.pyplot as plt\n",
    "\n",
    "y_pred = regression_model.predict(X_test)\n",
    "(pd.DataFrame({\"Actual\": y_test, \"Predicted\": y_pred})\n",
    "    .plot.scatter(x=\"Actual\", y=\"Predicted\"))\n",
    "plt.text(x=100, y=15, s=\"$R^2$ = {:3.2f}\".format(r2_score(y_test, y_pred)))"
   ]
  },
  {
   "cell_type": "markdown",
   "metadata": {},
   "source": [
    "A scatterplot of our predictions versus their true values will give us view of how well our predictions were correlated with their true values. We would ideally want a strong relationship (high r2), but it is difficult to achieve that for our problem. We see that our model does pretty well for beers on the lower ibu spectrum, but then doesn't do so well on predicting beers with ibus greater than around 60."
   ]
  },
  {
   "cell_type": "markdown",
   "metadata": {},
   "source": [
    "# Prediction"
   ]
  },
  {
   "cell_type": "markdown",
   "metadata": {},
   "source": [
    "For prediction on our test data, we will do everything we did for our training data the same, except we **can't** train on it, only predict. We will also apply the same transformations on the numerical features on the test data as we did on the training data."
   ]
  },
  {
   "cell_type": "code",
   "execution_count": 101,
   "metadata": {},
   "outputs": [],
   "source": [
    "test_df = pd.read_csv(\"/data301/data/beer/beer_test.csv\")\n",
    "test_ids = test_df[\"id\"]\n",
    "test_df = test_df.drop([\"id\"], axis=1)"
   ]
  },
  {
   "cell_type": "code",
   "execution_count": 102,
   "metadata": {},
   "outputs": [
    {
     "data": {
      "text/html": [
       "<div>\n",
       "<style scoped>\n",
       "    .dataframe tbody tr th:only-of-type {\n",
       "        vertical-align: middle;\n",
       "    }\n",
       "\n",
       "    .dataframe tbody tr th {\n",
       "        vertical-align: top;\n",
       "    }\n",
       "\n",
       "    .dataframe thead th {\n",
       "        text-align: right;\n",
       "    }\n",
       "</style>\n",
       "<table border=\"1\" class=\"dataframe\">\n",
       "  <thead>\n",
       "    <tr style=\"text-align: right;\">\n",
       "      <th></th>\n",
       "      <th>abv</th>\n",
       "      <th>available</th>\n",
       "      <th>description</th>\n",
       "      <th>glass</th>\n",
       "      <th>ibu</th>\n",
       "      <th>isOrganic</th>\n",
       "      <th>name</th>\n",
       "      <th>originalGravity</th>\n",
       "      <th>srm</th>\n",
       "    </tr>\n",
       "  </thead>\n",
       "  <tbody>\n",
       "    <tr>\n",
       "      <th>0</th>\n",
       "      <td>10.0</td>\n",
       "      <td>Limited availability.</td>\n",
       "      <td>a classic belgian trappist style strong ale wi...</td>\n",
       "      <td>Tulip</td>\n",
       "      <td>NaN</td>\n",
       "      <td>N</td>\n",
       "      <td>she will!</td>\n",
       "      <td>1.084</td>\n",
       "      <td>17.0</td>\n",
       "    </tr>\n",
       "    <tr>\n",
       "      <th>1</th>\n",
       "      <td>5.2</td>\n",
       "      <td>Available year round as a staple beer.</td>\n",
       "      <td>an american-style of pale ale brewed with a ba...</td>\n",
       "      <td>Pint</td>\n",
       "      <td>NaN</td>\n",
       "      <td>N</td>\n",
       "      <td>defender american pale ale</td>\n",
       "      <td>1.044</td>\n",
       "      <td>22.0</td>\n",
       "    </tr>\n",
       "    <tr>\n",
       "      <th>2</th>\n",
       "      <td>4.0</td>\n",
       "      <td>Available during the winter months.</td>\n",
       "      <td>this amber wheat ale has a balanced malt body,...</td>\n",
       "      <td>Tulip</td>\n",
       "      <td>NaN</td>\n",
       "      <td>Y</td>\n",
       "      <td>hazel</td>\n",
       "      <td>1.036</td>\n",
       "      <td>19.0</td>\n",
       "    </tr>\n",
       "    <tr>\n",
       "      <th>3</th>\n",
       "      <td>10.2</td>\n",
       "      <td>Available year round as a staple beer.</td>\n",
       "      <td>a uniquely large beer developed by taking our ...</td>\n",
       "      <td>Pint</td>\n",
       "      <td>NaN</td>\n",
       "      <td>N</td>\n",
       "      <td>cinderella’s twin double ipa</td>\n",
       "      <td>1.087</td>\n",
       "      <td>11.0</td>\n",
       "    </tr>\n",
       "    <tr>\n",
       "      <th>4</th>\n",
       "      <td>6.0</td>\n",
       "      <td>Limited availability.</td>\n",
       "      <td>an american red ale with crisp hop flavor.</td>\n",
       "      <td>NaN</td>\n",
       "      <td>NaN</td>\n",
       "      <td>N</td>\n",
       "      <td>independence ale</td>\n",
       "      <td>1.048</td>\n",
       "      <td>14.0</td>\n",
       "    </tr>\n",
       "  </tbody>\n",
       "</table>\n",
       "</div>"
      ],
      "text/plain": [
       "    abv                               available  \\\n",
       "0  10.0                   Limited availability.   \n",
       "1   5.2  Available year round as a staple beer.   \n",
       "2   4.0     Available during the winter months.   \n",
       "3  10.2  Available year round as a staple beer.   \n",
       "4   6.0                   Limited availability.   \n",
       "\n",
       "                                         description  glass  ibu isOrganic  \\\n",
       "0  a classic belgian trappist style strong ale wi...  Tulip  NaN         N   \n",
       "1  an american-style of pale ale brewed with a ba...   Pint  NaN         N   \n",
       "2  this amber wheat ale has a balanced malt body,...  Tulip  NaN         Y   \n",
       "3  a uniquely large beer developed by taking our ...   Pint  NaN         N   \n",
       "4         an american red ale with crisp hop flavor.    NaN  NaN         N   \n",
       "\n",
       "                           name  originalGravity   srm  \n",
       "0                     she will!            1.084  17.0  \n",
       "1    defender american pale ale            1.044  22.0  \n",
       "2                         hazel            1.036  19.0  \n",
       "3  cinderella’s twin double ipa            1.087  11.0  \n",
       "4              independence ale            1.048  14.0  "
      ]
     },
     "execution_count": 102,
     "metadata": {},
     "output_type": "execute_result"
    }
   ],
   "source": [
    "test_df.description = test_df.description.fillna(\"\").str.lower()\n",
    "test_df.name = test_df.name.fillna(\"\").str.lower()\n",
    "test_df.srm = test_df.srm.replace(\"Over 40\", 41).astype(float)\n",
    "test_df.available = test_df.available.astype('category')\n",
    "test_df.glass = test_df.glass.astype('category')\n",
    "test_df.isOrganic = test_df.isOrganic.astype('category')\n",
    "test_df.head()"
   ]
  },
  {
   "cell_type": "code",
   "execution_count": 103,
   "metadata": {},
   "outputs": [
    {
     "data": {
      "text/plain": [
       "abv                 float64\n",
       "available          category\n",
       "description          object\n",
       "glass              category\n",
       "ibu                 float64\n",
       "isOrganic          category\n",
       "name                 object\n",
       "originalGravity     float64\n",
       "srm                 float64\n",
       "dtype: object"
      ]
     },
     "execution_count": 103,
     "metadata": {},
     "output_type": "execute_result"
    }
   ],
   "source": [
    "test_df.dtypes"
   ]
  },
  {
   "cell_type": "code",
   "execution_count": 105,
   "metadata": {},
   "outputs": [],
   "source": [
    "X_test = test_df.drop(\"ibu\", axis=1)\n",
    "y_pred = regression_model.predict(X_test)"
   ]
  },
  {
   "cell_type": "code",
   "execution_count": 106,
   "metadata": {},
   "outputs": [],
   "source": [
    "pred_df = pd.DataFrame({'id': test_ids, 'ibu': y_pred})\n",
    "pred_df = pred_df.set_index(\"id\")\n",
    "pred_df.to_csv(\"full_pred.csv\")"
   ]
  },
  {
   "cell_type": "markdown",
   "metadata": {},
   "source": [
    "# Submission Instructions\n",
    "\n",
    "Once you are finished, follow these steps:\n",
    "\n",
    "1. Restart the kernel and re-run this notebook from beginning to end by going to `Kernel > Restart Kernel and Run All Cells`.\n",
    "2. If this process stops halfway through, that means there was an error. Correct the error and repeat Step 1 until the notebook runs from beginning to end.\n",
    "3. Double check that there is a number next to each code cell and that these numbers are in order.\n",
    "\n",
    "Then, submit your lab as follows:\n",
    "\n",
    "1. Go to `File > Export Notebook As > PDF`.\n",
    "2. Double check that the entire notebook, from beginning to end, is in this PDF file. (If the notebook is cut off, try first exporting the notebook to HTML and printing to PDF.)\n",
    "3. Upload the PDF [to PolyLearn](https://polylearn.calpoly.edu/AY_2018-2019/mod/assign/view.php?id=325688)."
   ]
  }
 ],
 "metadata": {
  "kernelspec": {
   "display_name": "Python 3",
   "language": "python",
   "name": "python3"
  },
  "language_info": {
   "codemirror_mode": {
    "name": "ipython",
    "version": 3
   },
   "file_extension": ".py",
   "mimetype": "text/x-python",
   "name": "python",
   "nbconvert_exporter": "python",
   "pygments_lexer": "ipython3",
   "version": "3.6.8"
  }
 },
 "nbformat": 4,
 "nbformat_minor": 2
}
