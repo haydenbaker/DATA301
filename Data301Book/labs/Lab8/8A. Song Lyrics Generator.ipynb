{
 "cells": [
  {
   "cell_type": "markdown",
   "metadata": {},
   "source": [
    "# 8A. Song Lyrics Generator\n",
    "\n",
    "In this lab, you will scrape a website to get lyrics of songs by your favorite artist. Then, you will train a model called a Markov chain on these lyrics so that you can generate a song in the style of your favorite artist.\n",
    "\n",
    "# Question 1. Scraping Song Lyrics\n",
    "\n",
    "Find a web site that has lyrics for several songs by your favorite artist. Scrape the lyrics into a Python list called `lyrics`, where each element of the list represents the lyrics of one song.\n",
    "\n",
    "**Tips:**\n",
    "- Find a web page that has links to all of the songs, like [this one](http://www.azlyrics.com/n/nirvana.html). [_Note:_ It appears that `azlyrics.com` blocks web scraping, so you'll have to find a different lyrics web site.] Then, you can scrape this page, extract the hyperlinks, and issue new HTTP requests to each hyperlink to get each song. \n",
    "- Use `time.sleep()` to stagger your HTTP requests so that you do not get banned by the website for making too many requests."
   ]
  },
  {
   "cell_type": "code",
   "execution_count": 1,
   "metadata": {},
   "outputs": [],
   "source": [
    "import requests, re, time, pandas as pd\n",
    "from bs4 import BeautifulSoup\n",
    "\n",
    "def depaginate(url):\n",
    "    #https://genius.com/api/artists/330928/songs?sort=title&page=1\n",
    "    resps = []\n",
    "    next_page = \"\"\n",
    "    resp = requests.get(url + \"&page=\" + \"1\").json()\n",
    "    while next_page is not None:\n",
    "        resps.append(resp)\n",
    "        next_page = resp[\"response\"][\"next_page\"]\n",
    "        resp = requests.get(url + \"&page=\" + str(next_page)).json()\n",
    "        time.sleep(0.25)\n",
    "    return resps\n",
    "\n",
    "def parseLyric(string):\n",
    "    lyric = re.sub(\"\\[([A-Za-z0-9_ -\\?]+)\\]\", \"\", string)\n",
    "    lyric = lyric.strip()\n",
    "    return re.sub(\"[\\\\()\\\"]\", \"\", lyric.replace(\"\\n\", \" <N> \"))\n",
    "\n",
    "def getLyrics(songs):\n",
    "    lyrics = []\n",
    "    for song in songs:\n",
    "        html = requests.get(\"https://genius.com\" + song[\"path\"])\n",
    "        soup = BeautifulSoup(html.content, \"html.parser\")\n",
    "        lyrics.append(parseLyric(soup.find(\"div\", class_=\"lyrics\").p.text))\n",
    "    return lyrics"
   ]
  },
  {
   "cell_type": "code",
   "execution_count": 2,
   "metadata": {},
   "outputs": [],
   "source": [
    "lyrics = []\n",
    "for page in depaginate(\n",
    "    \"https://genius.com/api/artists/330928/songs?sort=title\"):\n",
    "    lyrics += getLyrics(page[\"response\"][\"songs\"])"
   ]
  },
  {
   "cell_type": "code",
   "execution_count": 3,
   "metadata": {},
   "outputs": [
    {
     "name": "stdout",
     "output_type": "stream",
     "text": [
      "Just forget it <N> I can make it mind over matter <N> I can make you feel something better <N> I don't wanna be apart <N> And I said it <N> Everything in life has an ending <N> Think of all the days we were spending <N> Hoping for a way to start <N>  <N>  <N> I came to leave it right <N> I hope to stay the night <N> You back away but it's already love <N>  <N>  <N> I know you think that I'm crazy <N> Cause I can't stop calling you baby <N> And I know that you'll never break me <N> Cause it's already love <N> Cause it's already love <N>  <N>  <N> I'm a soldier <N> Fight it, but I know that I need it <N> Try to look away but I see ya <N> Yeah, your body feels like home <N> Is it over? <N> We don't have to wait on forever <N> We can go a long way together <N> I just wanna let you know <N>  <N>  <N> I came to leave it right <N> I hope to stay the night <N> You back away but it's already love <N>  <N>  <N> I know you think that I'm crazy <N> Cause I can't stop calling you baby <N> And I know that you'll never break me <N> Cause it's already love <N> Cause it's already love <N> You know that look that you gave me <N> Yeah it knocked me out, but it saved me <N> And I don't quite know what I'm saying <N> Cause it's already love <N> Cause it's already love <N>  <N>  <N> I feel it coming back <N> Hoping for a little <N> Waiting for somebody to come <N> I'll show you what to knock for <N> Nothing can mistake my power <N> Everything you want is everything I wanted <N> Now I wanna tell you, now I wanna tell you <N>  <N>  <N> I know you think that I'm crazy <N> Cause I can't stop calling you baby <N> And I know that you'll never break me <N> Cause it's already love <N> Cause it's already love <N> You know that look that you gave me <N> Yeah it knocked me out, but it saved me <N> And I don't quite know what I'm saying <N> Cause it's already love <N> Cause it's already love\n"
     ]
    }
   ],
   "source": [
    "# Print out the lyrics to the first song.\n",
    "print(lyrics[0])"
   ]
  },
  {
   "cell_type": "code",
   "execution_count": 4,
   "metadata": {},
   "outputs": [
    {
     "data": {
      "text/plain": [
       "['Just', 'forget', 'it', '<N>', 'I', 'can', 'make', 'it']"
      ]
     },
     "execution_count": 4,
     "metadata": {},
     "output_type": "execute_result"
    }
   ],
   "source": [
    "lyrics[0].split()[0:8]"
   ]
  },
  {
   "cell_type": "markdown",
   "metadata": {},
   "source": [
    "`pickle` is a Python library that serializes Python objects to disk so that you can load them in later."
   ]
  },
  {
   "cell_type": "code",
   "execution_count": 5,
   "metadata": {},
   "outputs": [],
   "source": [
    "import pickle\n",
    "pickle.dump(lyrics, open(\"lyrics.pkl\", \"wb\"))"
   ]
  },
  {
   "cell_type": "markdown",
   "metadata": {},
   "source": [
    "# Question 2. Unigram Markov Chain Model\n",
    "\n",
    "You will build a Markov chain for the artist whose lyrics you scraped in Lab A. Your model will process the lyrics and store the word transitions for that artist. The transitions will be stored in a dict called `chain`, which maps each word to a list of \"next\" words.\n",
    "\n",
    "For example, if your song was [\"The Joker\" by the Steve Miller Band](https://www.youtube.com/watch?v=FgDU17xqNXo), `chain` might look as follows:\n",
    "\n",
    "```\n",
    "chain = {\n",
    "    \"some\": [\"people\", \"call\", \"people\"],\n",
    "    \"call\": [\"me\", \"me\", \"me\"],\n",
    "    \"the\": [\"space\", \"gangster\", \"pompitous\", ...],\n",
    "    \"me\": [\"the\", \"the\", \"Maurice\"],\n",
    "    ...\n",
    "}\n",
    "```\n",
    "\n",
    "Besides words, you should include a few additional states in your Markov chain. You should have `\"<START>\"` and `\"<END>\"` states so that we can keep track of how songs are likely to begin and end. You should also include a state called `\"<N>\"` to denote line breaks so that you can keep track of where lines begin and end. It is up to you whether you want to include normalize case and strip punctuation.\n",
    "\n",
    "So for example, for [\"The Joker\"](https://www.azlyrics.com/lyrics/stevemillerband/thejoker.html), you would add the following to your chain:\n",
    "\n",
    "```\n",
    "chain = {\n",
    "    \"<START>\": [\"Some\", ...],\n",
    "    \"Some\": [\"people\", ...],\n",
    "    \"people\": [\"call\", ...],\n",
    "    \"call\": [\"me\", ...],\n",
    "    \"me\": [\"the\", ...],\n",
    "    \"the\": [\"space\", ...],\n",
    "    \"space\": [\"cowboy,\", ...],\n",
    "    \"cowboy,\": [\"yeah\", ...],\n",
    "    \"yeah\": [\"<N>\", ...],\n",
    "    \"<N>\": [\"Some\", ..., \"Come\"],\n",
    "    ...,\n",
    "    \"Come\": [\"on\", ...],\n",
    "    \"on\": [\"baby\", ...],\n",
    "    \"baby\": [\"and\", ...],\n",
    "    \"and\": [\"I'll\", ...],\n",
    "    \"I'll\": [\"show\", ...],\n",
    "    \"show\": [\"you\", ...],\n",
    "    \"you\": [\"a\", ...],\n",
    "    \"a\": [\"good\", ...],\n",
    "    \"good\": [\"time\", ...],\n",
    "    \"time\": [\"<END>\", ...],\n",
    "}\n",
    "```\n",
    "\n",
    "Your chain will be trained on not just one song, but by all songs by your artist."
   ]
  },
  {
   "cell_type": "code",
   "execution_count": 15,
   "metadata": {},
   "outputs": [],
   "source": [
    "def train_markov_chain(lyrics):\n",
    "    \"\"\"\n",
    "    Args:\n",
    "      - lyrics: a list of strings, where each string represents\n",
    "                the lyrics of one song by an artist.\n",
    "    \n",
    "    Returns:\n",
    "      A dict that maps a single word (\"unigram\") to a list of\n",
    "      words that follow that word, representing the Markov\n",
    "      chain trained on the lyrics.\n",
    "    \"\"\"\n",
    "    chain = {\"<START>\": []}\n",
    "    for lyric in lyrics:\n",
    "        key = \"<START>\"\n",
    "        for word in lyric.split():\n",
    "            chain[key].append(word)\n",
    "            key = word\n",
    "            if key not in chain:\n",
    "                chain[key] = []\n",
    "        chain[key].append(\"<END>\")\n",
    "    return chain"
   ]
  },
  {
   "cell_type": "code",
   "execution_count": 16,
   "metadata": {},
   "outputs": [
    {
     "name": "stdout",
     "output_type": "stream",
     "text": [
      "['Just', 'Waiting', 'I', 'I', 'Every', 'Baby', 'I', 'Do', 'Are', 'Yeah,', 'You', 'No', 'Easy', 'Who', 'I', \"I've\", \"I've\", \"I've\", \"I've\", 'Walking', 'You', 'You', 'Treat', 'Any', 'Thought', \"It's\", 'I', 'I', 'You', 'You', 'Jump', 'I', 'I', 'Meant', \"It's\", \"I've\", 'Ooh', 'Ooh']\n",
      "['I', 'I', 'I', 'And', 'Everything', 'Think', 'Hoping', '<N>', '<N>', 'I', 'I', 'You', '<N>', '<N>', 'I', 'Cause', 'And', 'Cause', 'Cause', '<N>']\n"
     ]
    }
   ],
   "source": [
    "# Load the pickled lyrics object that you created in Lab A.\n",
    "import pickle\n",
    "lyrics = pickle.load(open(\"lyrics.pkl\", \"rb\"))\n",
    "\n",
    "# Call the function you wrote above.\n",
    "chain = train_markov_chain(lyrics)\n",
    "\n",
    "# What words tend to start a song (i.e., what words follow the <START> tag?)\n",
    "print(chain[\"<START>\"])\n",
    "\n",
    "# What words tend to begin a line (i.e., what words follow the line break tag?)\n",
    "print(chain[\"<N>\"][:20])"
   ]
  },
  {
   "cell_type": "markdown",
   "metadata": {},
   "source": [
    "Now, let's generate new lyrics using the Markov chain you constructed above. To do this, we'll begin at the `\"<START>\"` state and randomly sample a word from the list of words that follow `\"<START>\"`. Then, at each step, we'll randomly sample the next word from the list of words that followed each current word. We will continue this process until we sample the `\"<END>\"` state. This will give us the complete lyrics of a randomly generated song!\n",
    "\n",
    "You may find the `random.choice()` function helpful for this question."
   ]
  },
  {
   "cell_type": "code",
   "execution_count": 17,
   "metadata": {},
   "outputs": [],
   "source": [
    "import random\n",
    "\n",
    "def generate_new_lyrics(chain):\n",
    "    \"\"\"\n",
    "    Args:\n",
    "      - chain: a dict representing the Markov chain,\n",
    "               such as one generated by generate_new_lyrics()\n",
    "    \n",
    "    Returns:\n",
    "      A string representing the randomly generated song.\n",
    "    \"\"\"\n",
    "    \n",
    "    # a list for storing the generated words\n",
    "    words = []\n",
    "    key = \"<START>\"\n",
    "    while key != \"<END>\":\n",
    "        link = random.choice(chain[key])\n",
    "        words.append(link)\n",
    "        key = link\n",
    "    \n",
    "    # join the words together into a string with line breaks\n",
    "    lyrics = \" \".join(words[:-1])\n",
    "    return \"\\n\".join(lyrics.split(\"<N>\"))"
   ]
  },
  {
   "cell_type": "code",
   "execution_count": 20,
   "metadata": {},
   "outputs": [
    {
     "name": "stdout",
     "output_type": "stream",
     "text": [
      "Walking down \n",
      " Say it \n",
      " I'm gonna rush \n",
      " My side I haven't ruined all battling fear the blinding light \n",
      " I've gotta get to be? \n",
      " \n",
      " If I stare at the ways that castle's got a way \n",
      " You will work it all on my heart alone \n",
      " And I'm looking at the thing through hell and you how little I tried so hard to make you make a sound? \n",
      " Take all of something great \n",
      " \n",
      " Yeah I feel like you're brave enough \n",
      " I'm looking out for sure \n",
      " \n",
      " \n",
      " \n",
      " So don't let someone find you \n",
      " Ya and far past you're sorry \n",
      " You're the table \n",
      " \n",
      " \n",
      " \n",
      " No denying \n",
      " Are you know \n",
      " I'm looking down \n",
      " You're the night my heart alone \n",
      " I'm gonna love it right now I wanna feel like trying \n",
      " I'll show me where the thing you got room for me that \n",
      " But you \n",
      " \n",
      " I'm gonna love \n",
      " I'm running my body said, no other sides? \n",
      " See me high \n",
      " I'm never say \n",
      " And I won't make those things I either way \n",
      " What do \n",
      " We'll find that I'm my mind \n",
      " And don't change \n",
      " \n",
      " \n",
      " You can really hold on \n",
      " \n",
      " I'm playing the love \n",
      " Memories are \n",
      " She's an easy lover \n",
      " I need \n",
      " \n",
      " Something to get out for me \n",
      " Ya I'm crazy \n",
      " Now I'm driving \n",
      " I've given you got me \n",
      " \n",
      " I've been trying \n",
      " Why would stay the things you when it's already love it makes me \n",
      " You are you? I don't let someone find you might be \n",
      " I've been running my phone and I know the times that I'm not up to think something to show you take with nothing to giving up alone\n"
     ]
    }
   ],
   "source": [
    "print(generate_new_lyrics(chain))"
   ]
  },
  {
   "cell_type": "markdown",
   "metadata": {},
   "source": [
    "# Question 3. Bigram Markov Chain Model\n",
    "\n",
    "Now you'll build a more complex Markov chain that uses the last _two_ words (or bigram) to predict the next word. Now your dict `chain` should map a _tuple_ of words to a list of words that appear after it.\n",
    "\n",
    "As before, you should also include tags that indicate the beginning and end of a song, as well as line breaks. That is, a tuple might contain tags like `\"<START>\"`, `\"<END>\"`, and `\"<N>\"`, in addition to regular words. So for example, for [\"The Joker\"](https://www.azlyrics.com/lyrics/stevemillerband/thejoker.html), you would add the following to your chain:\n",
    "\n",
    "```\n",
    "chain = {\n",
    "    (None, \"<START>\"): [\"Some\", ...],\n",
    "    (\"<START>\", \"Some\"): [\"people\", ...],\n",
    "    (\"Some\", \"people\"): [\"call\", ...],\n",
    "    (\"people\", \"call\"): [\"me\", ...],\n",
    "    (\"call\", \"me\"): [\"the\", ...],\n",
    "    (\"me\", \"the\"): [\"space\", ...],\n",
    "    (\"the\", \"space\"): [\"cowboy,\", ...],\n",
    "    (\"space\", \"cowboy,\"): [\"yeah\", ...],\n",
    "    (\"cowboy,\", \"yeah\"): [\"<N>\", ...],\n",
    "    (\"yeah\", \"<N>\"): [\"Some\", ...],\n",
    "    (\"time\", \"<N>\"): [\"Come\"],\n",
    "    ...,\n",
    "    (\"<N>\", \"Come\"): [\"on\", ...],\n",
    "    (\"Come\", \"on\"): [\"baby\", ...],\n",
    "    (\"on\", \"baby\"): [\"and\", ...],\n",
    "    (\"baby\", \"and\"): [\"I'll\", ...],\n",
    "    (\"and\", \"I'll\"): [\"show\", ...],\n",
    "    (\"I'll\", \"show\"): [\"you\", ...],\n",
    "    (\"show\", \"you\"): [\"a\", ...],\n",
    "    (\"you\", \"a\"): [\"good\", ...],\n",
    "    (\"a\", \"good\"): [\"time\", ...],\n",
    "    (\"good\", \"time\"): [\"<END>\", ...],\n",
    "}\n",
    "```"
   ]
  },
  {
   "cell_type": "code",
   "execution_count": 10,
   "metadata": {},
   "outputs": [],
   "source": [
    "def train_markov_chain(lyrics):\n",
    "    \"\"\"\n",
    "    Args:\n",
    "      - lyrics: a list of strings, where each string represents\n",
    "                the lyrics of one song by an artist.\n",
    "    \n",
    "    Returns:\n",
    "      A dict that maps a tuple of 2 words (\"bigram\") to a list of\n",
    "      words that follow that bigram, representing the Markov\n",
    "      chain trained on the lyrics.\n",
    "    \"\"\"\n",
    "    chain = {(None, \"<START>\"): []}\n",
    "    for lyric in lyrics:\n",
    "        key = (None, \"<START>\")\n",
    "        for word in lyric.split():\n",
    "            chain[key].append(word)\n",
    "            key = (key[1], word)\n",
    "            if key not in chain:\n",
    "                chain[key] = []\n",
    "        chain[key].append(\"<END>\")\n",
    "    return chain"
   ]
  },
  {
   "cell_type": "code",
   "execution_count": 11,
   "metadata": {},
   "outputs": [
    {
     "name": "stdout",
     "output_type": "stream",
     "text": [
      "['Just', 'Waiting', 'I', 'I', 'Every', 'Baby', 'I', 'Do', 'Are', 'Yeah,', 'You', 'No', 'Easy', 'Who', 'I', \"I've\", \"I've\", \"I've\", \"I've\", 'Walking', 'You', 'You', 'Treat', 'Any', 'Thought', \"It's\", 'I', 'I', 'You', 'You', 'Jump', 'I', 'I', 'Meant', \"It's\", \"I've\", 'Ooh', 'Ooh']\n",
      "['forget']\n"
     ]
    }
   ],
   "source": [
    "# Load the pickled lyrics object that you created in Lab A.\n",
    "import pickle\n",
    "lyrics = pickle.load(open(\"lyrics.pkl\", \"rb\"))\n",
    "\n",
    "# Call the function you wrote above.\n",
    "chain = train_markov_chain(lyrics)\n",
    "\n",
    "# What words tend to start a song (i.e., what words follow the <START> tag?)\n",
    "print(chain[(None, \"<START>\")])\n",
    "\n",
    "print(chain[(\"<START>\", \"Just\")])"
   ]
  },
  {
   "cell_type": "markdown",
   "metadata": {},
   "source": [
    "Now, let's generate new lyrics using the Markov chain you constructed above. To do this, we'll begin at the `(None, \"<START>\")` state and randomly sample a word from the list of words that follow this bigram. Then, at each step, we'll randomly sample the next word from the list of words that followed the current bigram (i.e., the last two words). We will continue this process until we sample the `\"<END>\"` state. This will give us the complete lyrics of a randomly generated song!"
   ]
  },
  {
   "cell_type": "code",
   "execution_count": 12,
   "metadata": {},
   "outputs": [],
   "source": [
    "import random\n",
    "\n",
    "def generate_new_lyrics(chain):\n",
    "    \"\"\"\n",
    "    Args:\n",
    "      - chain: a dict representing the Markov chain,\n",
    "               such as one generated by generate_new_lyrics()\n",
    "    \n",
    "    Returns:\n",
    "      A string representing the randomly generated song.\n",
    "    \"\"\"\n",
    "    \n",
    "    # a list for storing the generated words\n",
    "    words = []\n",
    "    \n",
    "    # YOUR CODE HERE\n",
    "    key = (None, \"<START>\")\n",
    "    while key[1] != \"<END>\":\n",
    "        link = random.choice(chain[key])\n",
    "        words.append(link)\n",
    "        key = (key[1], link)\n",
    "    \n",
    "    # join the words together into a string with line breaks\n",
    "    lyrics = \" \".join(words[:-1])\n",
    "    return \"\\n\".join(lyrics.split(\"<N>\"))"
   ]
  },
  {
   "cell_type": "code",
   "execution_count": 14,
   "metadata": {},
   "outputs": [
    {
     "name": "stdout",
     "output_type": "stream",
     "text": [
      "Jump out of the heights \n",
      " With sting with bite \n",
      " I'm gonna tell you how I feel like, feel like, feel like I'll never change \n",
      " I feel like, feel like trying \n",
      " \n",
      " I saw you I am dying \n",
      " To say that it's me? \n",
      " Forget about the past you're holding \n",
      " Move on to \n",
      " Lie on the line \n",
      " If you're brave enough to love it if we try \n",
      " But you got your things to hold her \n",
      " You'd better forget it \n",
      " Will you come here to see it's not my time \n",
      " Love you \n",
      " How will I let you go? \n",
      " You were there for me, and I was doing \n",
      " Turn salt to pearl \n",
      " True no duke no earl \n",
      " But from the other way \n",
      " I know that I'm crazy \n",
      " Cause it's already love \n",
      " \n",
      " I won't bruise you either way \n",
      " I've been running my whole life \n",
      " Say it all \n",
      " Say it all \n",
      " I've come to get you I'm all I find \n",
      " Every time I ever fought it \n",
      " Oh ooh oh oh ooh \n",
      " It's almost too much to handle\n"
     ]
    }
   ],
   "source": [
    "print(generate_new_lyrics(chain))"
   ]
  },
  {
   "cell_type": "markdown",
   "metadata": {},
   "source": [
    "# Analysis\n",
    "\n",
    "Compare the quality of the lyrics generated by the unigram model (in Lab B) and the bigram model (in Lab C). Which model seems to generate more reasonable lyrics? Can you explain why? What do you see as the advantages and disadvantages of each model?"
   ]
  },
  {
   "cell_type": "markdown",
   "metadata": {},
   "source": [
    "It appears that the bi-gram markov chain generates more cohesive (both gramatically and lyrically) song lyrics. This is because (at least for the grammar part) it is sampling a bi-gram from naturally occuring two word sequences. Therefore the words \"I've been running my\" (\"I've been\", \"been running\", \"running my\") appear naturally frequently together in the song lyrics versus \"I've given you got\" (\"I've\", \"given\", \"you\", \"got\"). To be clearer, the bigrams are more probabilistically prone to be more grammatically correct than the unigrams"
   ]
  },
  {
   "cell_type": "markdown",
   "metadata": {},
   "source": [
    "# Submission Instructions\n",
    "\n",
    "Once you are finished, follow these steps:\n",
    "\n",
    "1. Restart the kernel and re-run this notebook from beginning to end by going to `Kernel > Restart Kernel and Run All Cells`.\n",
    "2. If this process stops halfway through, that means there was an error. Correct the error and repeat Step 1 until the notebook runs from beginning to end.\n",
    "3. Double check that there is a number next to each code cell and that these numbers are in order.\n",
    "\n",
    "Then, submit your lab as follows:\n",
    "\n",
    "1. Go to `File > Export Notebook As > PDF`.\n",
    "2. Double check that the entire notebook, from beginning to end, is in this PDF file. (If the notebook is cut off, try first exporting the notebook to HTML and printing to PDF.)\n",
    "3. Upload the PDF [to PolyLearn](https://polylearn.calpoly.edu/AY_2018-2019/mod/assign/view.php?id=349486)."
   ]
  },
  {
   "cell_type": "code",
   "execution_count": null,
   "metadata": {},
   "outputs": [],
   "source": []
  }
 ],
 "metadata": {
  "kernelspec": {
   "display_name": "Python 3",
   "language": "python",
   "name": "python3"
  },
  "language_info": {
   "codemirror_mode": {
    "name": "ipython",
    "version": 3
   },
   "file_extension": ".py",
   "mimetype": "text/x-python",
   "name": "python",
   "nbconvert_exporter": "python",
   "pygments_lexer": "ipython3",
   "version": "3.6.8"
  }
 },
 "nbformat": 4,
 "nbformat_minor": 2
}
