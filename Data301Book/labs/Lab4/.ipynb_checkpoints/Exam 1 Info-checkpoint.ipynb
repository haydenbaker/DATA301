{
 "cells": [
  {
   "cell_type": "markdown",
   "metadata": {},
   "source": [
    "# Exam 1 Info\n",
    "\n",
    "Exam 1 will be in class on Tuesday, February 5. You will have the entire class period (170 minutes) to complete the exam. It is open-book, open-Internet. The only rule is that you cannot communicate with another person during the exam.\n",
    "\n",
    "Your Exam 1 will consist of eight questions about a data set of used cars, available here: `https://raw.githubusercontent.com/dlsun/data-science-book/master/data/usedcars.csv`. I encourage you to explore this data set, come up with interesting questions, and answer those questions to prepare for the exam.\n",
    "\n",
    "Good luck!"
   ]
  }
 ],
 "metadata": {
  "kernelspec": {
   "display_name": "Python 3",
   "language": "python",
   "name": "python3"
  },
  "language_info": {
   "codemirror_mode": {
    "name": "ipython",
    "version": 3
   },
   "file_extension": ".py",
   "mimetype": "text/x-python",
   "name": "python",
   "nbconvert_exporter": "python",
   "pygments_lexer": "ipython3",
   "version": "3.6.8"
  }
 },
 "nbformat": 4,
 "nbformat_minor": 2
}
