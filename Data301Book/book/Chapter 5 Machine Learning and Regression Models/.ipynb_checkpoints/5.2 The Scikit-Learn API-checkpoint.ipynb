{
 "cells": [
  {
   "cell_type": "markdown",
   "metadata": {},
   "source": [
    "# 5.2 The Scikit-Learn API\n",
    "\n",
    "In the previous section, we implemented $k$-nearest neighbors from scratch. Now we will see how to implement it using [Scikit-Learn](http://scikit-learn.org/), a Python library that makes it easy to train and use machine learning models. All models are trained and used in the exact same way:\n",
    "\n",
    "1. Declare the model.\n",
    "2. Fit the model to training data, consisting of both features $X$ and labels $y$.\n",
    "3. Use the model to predict the labels for new values of the features.\n",
    "\n",
    "Let's take a look at how we would use this API to train a model on the Ames housing data set to predict the 2011 price of the Old Town house from the previous section. Scikit-Learn assumes that the data has already been completely converted to  quantitative variables and that the variables have already been standardized (if desired). The code below reads in the data and does the necessary preprocessing. \n",
    "\n",
    "(All of this code is copied from the previous section. Read the code, and if you are not sure what a particular line does, refer back to the previous section.)"
   ]
  },
  {
   "cell_type": "code",
   "execution_count": null,
   "metadata": {},
   "outputs": [],
   "source": [
    "%matplotlib inline\n",
    "import numpy as np\n",
    "import pandas as pd\n",
    "pd.options.display.max_rows = 5\n",
    "\n",
    "housing = pd.read_csv(\"https://raw.githubusercontent.com/dlsun/data-science-book/master/data/AmesHousing.txt\",\n",
    "                      sep=\"\\t\")\n",
    "\n",
    "housing[\"Date Sold\"] = housing[\"Yr Sold\"] + housing[\"Mo Sold\"] / 12\n",
    "features = [\"Lot Area\", \"Gr Liv Area\",\n",
    "            \"Full Bath\", \"Half Bath\",\n",
    "            \"Bedroom AbvGr\", \n",
    "            \"Year Built\", \"Date Sold\",\n",
    "            \"Neighborhood\"]\n",
    "X_train = pd.get_dummies(housing[features])\n",
    "y_train = housing[\"SalePrice\"]\n",
    "\n",
    "x_new = pd.Series(index=X_train.columns)\n",
    "x_new[\"Lot Area\"] = 9000\n",
    "x_new[\"Gr Liv Area\"] = 1400\n",
    "x_new[\"Full Bath\"] = 2\n",
    "x_new[\"Half Bath\"] = 1\n",
    "x_new[\"Bedroom AbvGr\"] = 3\n",
    "x_new[\"Year Built\"] = 1980\n",
    "x_new[\"Date Sold\"] = 2011\n",
    "x_new[\"Neighborhood_OldTown\"] = 1\n",
    "x_new.fillna(0, inplace=True)\n",
    "\n",
    "X_train_mean = X_train.mean()\n",
    "X_train_std = X_train.std()\n",
    "X_train_sc = (X_train - X_train_mean) / X_train_std\n",
    "x_new_sc = (x_new - X_train_mean) / X_train_std\n",
    "\n",
    "X_train_sc"
   ]
  },
  {
   "cell_type": "markdown",
   "metadata": {},
   "source": [
    "`X_train_sc` is a matrix of all numbers, which is the form that Scikit-Learn expects. Now let's see how to use Scikit-Learn to fit a $k$-nearest neighbors model to this data."
   ]
  },
  {
   "cell_type": "code",
   "execution_count": null,
   "metadata": {},
   "outputs": [],
   "source": [
    "from sklearn.neighbors import KNeighborsRegressor\n",
    "\n",
    "# Step 1: Declare the model.\n",
    "model = KNeighborsRegressor(n_neighbors=30)\n",
    "\n",
    "# Step 2: Fit the model to training data.\n",
    "model.fit(X_train_sc, y_train)\n",
    "\n",
    "# Step 3: Use the model to predict for new observations.\n",
    "# Scikit-Learn expects 2-dimensional arrays, so we need to \n",
    "# turn the Series into a DataFrame with 1 row.\n",
    "X_new_sc = x_new_sc.to_frame().T\n",
    "model.predict(X_new_sc)"
   ]
  },
  {
   "cell_type": "markdown",
   "metadata": {},
   "source": [
    "This is the exact same prediction that we got by implementing $k$-nearest neighbors manually. \n",
    "\n",
    "In the case of training a machine learning model to predict for a single observation, Scikit-Learn may seem like overkill. In fact, the above Scikit-Learn code was 5 lines, whereas our implementation of $k$-nearest neighbors in the previous section was only 4 lines. However, learning Scikit-Learn will pay off as the problems become more complex."
   ]
  },
  {
   "cell_type": "markdown",
   "metadata": {},
   "source": [
    "## Preprocessing in Scikit-Learn\n",
    "\n",
    "We constructed `X_train_sc` and `x_new_sc` above using just basic `pandas` operations. But it is also possible to have Scikit-Learn do this preprocessing for us. The preprocessing objects in Scikit-Learn all follow the same basic pattern:\n",
    "\n",
    "1. First, the preprocessing object has to be \"fit\" to a data set.\n",
    "2. The `.transform()` method actually processes the data. This method can be called repeatedly on multiple data sets and is guaranteed to process each data set in exactly the same way.\n",
    "\n",
    "It might not be obvious why it is necessary to first \"fit\" the preprocessing object to a data set before using it to process data. Hopefully, the following examples will make this clear.\n",
    "\n",
    "### Example 1: Dummy Encoding\n",
    "\n",
    "Instead of using `pd.get_dummies()`, we can do dummy encoding in Scikit-Learn using the `DictVectorizer` tool. There is one catch: `DictVectorizer` expects the data as a list of dictionaries, not as a `DataFrame`. But each row of a `DataFrame` can be represented as a dictionary, where the keys are the column names and the values are the data. `Pandas` provides a convenience function, `.to_dict()`, that converts a `DataFrame` into a list of dictionaries."
   ]
  },
  {
   "cell_type": "code",
   "execution_count": null,
   "metadata": {},
   "outputs": [],
   "source": [
    "X_train_dict = housing[features].to_dict(orient=\"records\")\n",
    "X_train_dict[:2]"
   ]
  },
  {
   "cell_type": "markdown",
   "metadata": {},
   "source": [
    "Now we pass this list to `DictVectorizer`, which will expand each categorical variable (e.g., \"Neighborhood\") into dummy variables. When the vectorizer is fit to the training data, it will learn all of the possible categories for each categorical variable so that when `.transform()` is called on different data sets, the same dummy variables will be returned (and in the same order). This is important for us because we need to apply the encoding to two data sets, the training data and the new observation, and we want to be sure that the same dummy variables appear in both."
   ]
  },
  {
   "cell_type": "code",
   "execution_count": null,
   "metadata": {},
   "outputs": [],
   "source": [
    "from sklearn.feature_extraction import DictVectorizer\n",
    "\n",
    "vec = DictVectorizer(sparse=False)\n",
    "vec.fit(X_train_dict)\n",
    "\n",
    "X_train = vec.transform(X_train_dict)\n",
    "x_new_dict = {\n",
    "    \"Lot Area\": 9000,\n",
    "    \"Gr Liv Area\": 1400,\n",
    "    \"Full Bath\": 2,\n",
    "    \"Half Bath\": 1,\n",
    "    \"Bedroom AbvGr\": 3,\n",
    "    \"Year Built\": 1980,\n",
    "    \"Date Sold\": 2011,\n",
    "    \"Neighborhood\": \"OldTown\"\n",
    "}\n",
    "X_new = vec.transform([x_new_dict])\n",
    "\n",
    "X_train"
   ]
  },
  {
   "cell_type": "markdown",
   "metadata": {},
   "source": [
    "### Example 2: Scaling\n",
    "\n",
    "We can also use Scikit-Learn to scale our data. The `StandardScaler` function standardizes data, but there are other functions, such as `Normalizer` and `MinMaxScaler`, that normalize and apply min-max scaling to the data, respectively. \n",
    "\n",
    "In the previous section, we standardized both the training data and the new observation with respect to the _training data_. To specify that the standardization should be with respect to the training data, we fit the scaler to the training data. Then, we use the scaler to transform both the training data and the new observation."
   ]
  },
  {
   "cell_type": "code",
   "execution_count": null,
   "metadata": {},
   "outputs": [],
   "source": [
    "from sklearn.preprocessing import StandardScaler\n",
    "\n",
    "scaler = StandardScaler()\n",
    "scaler.fit(X_train)\n",
    "\n",
    "X_train_sc = scaler.transform(X_train)\n",
    "X_new_sc = scaler.transform(X_new)\n",
    "\n",
    "X_train_sc"
   ]
  },
  {
   "cell_type": "markdown",
   "metadata": {},
   "source": [
    "## Putting It All Together\n",
    "\n",
    "The following example shows a complete pipeline: from reading in the raw data and processing it, to fitting a machine learning model and using it for prediction."
   ]
  },
  {
   "cell_type": "code",
   "execution_count": null,
   "metadata": {},
   "outputs": [],
   "source": [
    "# Read in the data.\n",
    "housing = pd.read_csv(\"https://raw.githubusercontent.com/dlsun/data-science-book/master/data/AmesHousing.txt\", \n",
    "                      sep=\"\\t\")\n",
    "\n",
    "# Define the features.\n",
    "housing[\"Date Sold\"] = housing[\"Yr Sold\"] + housing[\"Mo Sold\"] / 12\n",
    "features = [\"Lot Area\", \"Gr Liv Area\",\n",
    "            \"Full Bath\", \"Half Bath\",\n",
    "            \"Bedroom AbvGr\", \n",
    "            \"Year Built\", \"Date Sold\",\n",
    "            \"Neighborhood\"]\n",
    "\n",
    "# Define the training data.\n",
    "# Represent the features as a list of dicts.\n",
    "X_train_dict = housing[features].to_dict(orient=\"records\")\n",
    "X_new_dict = [{\n",
    "    \"Lot Area\": 9000,\n",
    "    \"Gr Liv Area\": 1400,\n",
    "    \"Full Bath\": 2,\n",
    "    \"Half Bath\": 1,\n",
    "    \"Bedroom AbvGr\": 3,\n",
    "    \"Year Built\": 1980,\n",
    "    \"Date Sold\": 2011,\n",
    "    \"Neighborhood\": \"OldTown\"\n",
    "}]\n",
    "y_train = housing[\"SalePrice\"]\n",
    "\n",
    "# Dummy encoding\n",
    "vec = DictVectorizer(sparse=False)\n",
    "vec.fit(X_train_dict)\n",
    "X_train = vec.transform(X_train_dict)\n",
    "X_new = vec.transform(X_new_dict)\n",
    "\n",
    "# Standardization\n",
    "scaler = StandardScaler()\n",
    "scaler.fit(X_train)\n",
    "X_train_sc = scaler.transform(X_train)\n",
    "X_new_sc = scaler.transform(X_new)\n",
    "\n",
    "# K-Nearest Neighbors Model\n",
    "model = KNeighborsRegressor(n_neighbors=30)\n",
    "model.fit(X_train_sc, y_train)\n",
    "model.predict(X_new_sc)"
   ]
  },
  {
   "cell_type": "markdown",
   "metadata": {},
   "source": [
    "# Exercises"
   ]
  },
  {
   "cell_type": "markdown",
   "metadata": {},
   "source": [
    "**Exercise 1.** (This exercise is identical to Exercise 2 from the previous section, except it asks you to use Scikit-Learn.) You would like to predict how much a male diner will tip on a bill of \\\\$40.00 on a Sunday. Use Scikit-Learn to build a $k$-nearest neighbors model to answer this question, using the Tips dataset (`https://raw.githubusercontent.com/dlsun/data-science-book/master/data/tips.csv`) as your training data."
   ]
  },
  {
   "cell_type": "code",
   "execution_count": null,
   "metadata": {},
   "outputs": [],
   "source": [
    "# TYPE YOUR CODE HERE"
   ]
  }
 ],
 "metadata": {
  "kernelspec": {
   "display_name": "Python 3",
   "language": "python",
   "name": "python3"
  },
  "language_info": {
   "codemirror_mode": {
    "name": "ipython",
    "version": 3
   },
   "file_extension": ".py",
   "mimetype": "text/x-python",
   "name": "python",
   "nbconvert_exporter": "python",
   "pygments_lexer": "ipython3",
   "version": "3.6.8"
  }
 },
 "nbformat": 4,
 "nbformat_minor": 2
}
