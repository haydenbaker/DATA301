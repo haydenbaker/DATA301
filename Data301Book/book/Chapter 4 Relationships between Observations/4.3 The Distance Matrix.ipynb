{
 "cells": [
  {
   "cell_type": "markdown",
   "metadata": {},
   "source": [
    "# 4.3 The Distance Matrix\n",
    "\n",
    "In many applications, we need the distance between every pair of observations ${\\bf x}_i$ and ${\\bf x}_j$ in a data set. How do we represent this information? The most common way is to use an $n \\times n$ matrix, where the $(i, j)$th entry is the distance between ${\\bf x}_i$ and ${\\bf x}_j$. That is,\n",
    "\n",
    "$$ D = \\begin{pmatrix} \n",
    "d({\\bf x}_1, {\\bf x}_1) & d({\\bf x}_1, {\\bf x}_2) & \\cdots & d({\\bf x}_1, {\\bf x}_n) \\\\ \n",
    "d({\\bf x}_2, {\\bf x}_1) & d({\\bf x}_2, {\\bf x}_2) & \\cdots & d({\\bf x}_2, {\\bf x}_n) \\\\ \n",
    "\\vdots & \\vdots & \\ddots & \\vdots \\\\\n",
    "d({\\bf x}_n, {\\bf x}_1) & d({\\bf x}_n, {\\bf x}_2) & \\cdots & d({\\bf x}_n, {\\bf x}_n)\n",
    "\\end{pmatrix}. $$\n",
    "\n",
    "There are a few things we can say about the $n\\times n$ distance matrix $D$.\n",
    "\n",
    "1. All of the entries of $D$ are non-negative.\n",
    "2. Because the distance between any observation and itself, $d({\\bf x}_i, {\\bf x}_i)$, is always zero, the _diagonal_ elements of this matrix, $D_{ii}$ are all equal to 0.\n",
    "3. For many distance metrics, including Euclidean and Manhattan distance, $d$ is symmetric, meaning that $d({\\bf x}_i, {\\bf x}_j) = d({\\bf x}_i, {\\bf x}_j)$. Therefore, the matrix $D$ will also be symmetric; that is, the values in the upper triangle will match their reflection in the lower triangle.\n",
    "\n",
    "How do we calculate the distance matrix for a `DataFrame` consisting of all quantitative variables? For example, suppose we want to calculate the matrix of distances between each of the houses in the Ames housing data set, based on the number of bedrooms, number of bathrooms, and the living area (in square feet)."
   ]
  },
  {
   "cell_type": "code",
   "execution_count": 5,
   "metadata": {},
   "outputs": [
    {
     "data": {
      "text/html": [
       "<div>\n",
       "<style scoped>\n",
       "    .dataframe tbody tr th:only-of-type {\n",
       "        vertical-align: middle;\n",
       "    }\n",
       "\n",
       "    .dataframe tbody tr th {\n",
       "        vertical-align: top;\n",
       "    }\n",
       "\n",
       "    .dataframe thead th {\n",
       "        text-align: right;\n",
       "    }\n",
       "</style>\n",
       "<table border=\"1\" class=\"dataframe\">\n",
       "  <thead>\n",
       "    <tr style=\"text-align: right;\">\n",
       "      <th></th>\n",
       "      <th>Bedroom AbvGr</th>\n",
       "      <th>Gr Liv Area</th>\n",
       "      <th>Bathrooms</th>\n",
       "    </tr>\n",
       "  </thead>\n",
       "  <tbody>\n",
       "    <tr>\n",
       "      <th>0</th>\n",
       "      <td>3</td>\n",
       "      <td>1656</td>\n",
       "      <td>1.0</td>\n",
       "    </tr>\n",
       "    <tr>\n",
       "      <th>1</th>\n",
       "      <td>2</td>\n",
       "      <td>896</td>\n",
       "      <td>1.0</td>\n",
       "    </tr>\n",
       "    <tr>\n",
       "      <th>2</th>\n",
       "      <td>3</td>\n",
       "      <td>1329</td>\n",
       "      <td>1.5</td>\n",
       "    </tr>\n",
       "    <tr>\n",
       "      <th>...</th>\n",
       "      <td>...</td>\n",
       "      <td>...</td>\n",
       "      <td>...</td>\n",
       "    </tr>\n",
       "    <tr>\n",
       "      <th>2927</th>\n",
       "      <td>3</td>\n",
       "      <td>970</td>\n",
       "      <td>1.0</td>\n",
       "    </tr>\n",
       "    <tr>\n",
       "      <th>2928</th>\n",
       "      <td>2</td>\n",
       "      <td>1389</td>\n",
       "      <td>1.0</td>\n",
       "    </tr>\n",
       "    <tr>\n",
       "      <th>2929</th>\n",
       "      <td>3</td>\n",
       "      <td>2000</td>\n",
       "      <td>2.5</td>\n",
       "    </tr>\n",
       "  </tbody>\n",
       "</table>\n",
       "<p>2930 rows × 3 columns</p>\n",
       "</div>"
      ],
      "text/plain": [
       "      Bedroom AbvGr  Gr Liv Area  Bathrooms\n",
       "0                 3         1656        1.0\n",
       "1                 2          896        1.0\n",
       "2                 3         1329        1.5\n",
       "...             ...          ...        ...\n",
       "2927              3          970        1.0\n",
       "2928              2         1389        1.0\n",
       "2929              3         2000        2.5\n",
       "\n",
       "[2930 rows x 3 columns]"
      ]
     },
     "execution_count": 5,
     "metadata": {},
     "output_type": "execute_result"
    }
   ],
   "source": [
    "%matplotlib inline\n",
    "import numpy as np\n",
    "import pandas as pd\n",
    "pd.options.display.max_rows = 6\n",
    "pd.options.display.max_columns = 6\n",
    "\n",
    "housing_df = pd.read_csv(\"https://raw.githubusercontent.com/dlsun/data-science-book/master/data/AmesHousing.txt\",\n",
    "                         sep=\"\\t\")\n",
    "\n",
    "# extract 3 quantitative variables\n",
    "housing_df_quant = housing_df[[\"Bedroom AbvGr\", \"Gr Liv Area\"]].copy()\n",
    "housing_df_quant[\"Bathrooms\"] = (\n",
    "    housing_df[\"Full Bath\"] + \n",
    "    0.5 * housing_df[\"Half Bath\"]\n",
    ")\n",
    "housing_df_quant"
   ]
  },
  {
   "cell_type": "markdown",
   "metadata": {},
   "source": [
    "_The Long Way:_ It is possible to create the distance matrix entirely in `pandas`. The idea is to first define a function that calculates the distances between a given observation and all of the other observations:"
   ]
  },
  {
   "cell_type": "code",
   "execution_count": 6,
   "metadata": {},
   "outputs": [
    {
     "data": {
      "text/plain": [
       "0         0.000000\n",
       "1       760.000658\n",
       "2       327.000382\n",
       "           ...    \n",
       "2927    686.000000\n",
       "2928    267.001873\n",
       "2929    344.003270\n",
       "Length: 2930, dtype: float64"
      ]
     },
     "execution_count": 6,
     "metadata": {},
     "output_type": "execute_result"
    }
   ],
   "source": [
    "def get_euclidean_dists_from_obs(obs):\n",
    "    return np.sqrt(\n",
    "        ((housing_df_quant - obs) ** 2).sum(axis=1)\n",
    "    )\n",
    "\n",
    "get_euclidean_dists_from_obs(housing_df_quant.loc[0])"
   ]
  },
  {
   "cell_type": "markdown",
   "metadata": {},
   "source": [
    "The code for this function is very similar to the code that we wrote for Exercise 5 at the end of Section 4.1.\n",
    "\n",
    "Now, to get a matrix of distances $D$, we simply need to apply this function to every row of the `DataFrame`. To achieve this, we use the `.apply()` method with `axis=1`:"
   ]
  },
  {
   "cell_type": "code",
   "execution_count": 7,
   "metadata": {},
   "outputs": [
    {
     "data": {
      "text/html": [
       "<div>\n",
       "<style scoped>\n",
       "    .dataframe tbody tr th:only-of-type {\n",
       "        vertical-align: middle;\n",
       "    }\n",
       "\n",
       "    .dataframe tbody tr th {\n",
       "        vertical-align: top;\n",
       "    }\n",
       "\n",
       "    .dataframe thead th {\n",
       "        text-align: right;\n",
       "    }\n",
       "</style>\n",
       "<table border=\"1\" class=\"dataframe\">\n",
       "  <thead>\n",
       "    <tr style=\"text-align: right;\">\n",
       "      <th></th>\n",
       "      <th>0</th>\n",
       "      <th>1</th>\n",
       "      <th>2</th>\n",
       "      <th>...</th>\n",
       "      <th>2927</th>\n",
       "      <th>2928</th>\n",
       "      <th>2929</th>\n",
       "    </tr>\n",
       "  </thead>\n",
       "  <tbody>\n",
       "    <tr>\n",
       "      <th>0</th>\n",
       "      <td>0.000000</td>\n",
       "      <td>760.000658</td>\n",
       "      <td>327.000382</td>\n",
       "      <td>...</td>\n",
       "      <td>686.000000</td>\n",
       "      <td>267.001873</td>\n",
       "      <td>344.003270</td>\n",
       "    </tr>\n",
       "    <tr>\n",
       "      <th>1</th>\n",
       "      <td>760.000658</td>\n",
       "      <td>0.000000</td>\n",
       "      <td>433.001443</td>\n",
       "      <td>...</td>\n",
       "      <td>74.006756</td>\n",
       "      <td>493.000000</td>\n",
       "      <td>1104.001472</td>\n",
       "    </tr>\n",
       "    <tr>\n",
       "      <th>2</th>\n",
       "      <td>327.000382</td>\n",
       "      <td>433.001443</td>\n",
       "      <td>0.000000</td>\n",
       "      <td>...</td>\n",
       "      <td>359.000348</td>\n",
       "      <td>60.010416</td>\n",
       "      <td>671.000745</td>\n",
       "    </tr>\n",
       "    <tr>\n",
       "      <th>...</th>\n",
       "      <td>...</td>\n",
       "      <td>...</td>\n",
       "      <td>...</td>\n",
       "      <td>...</td>\n",
       "      <td>...</td>\n",
       "      <td>...</td>\n",
       "      <td>...</td>\n",
       "    </tr>\n",
       "    <tr>\n",
       "      <th>2927</th>\n",
       "      <td>686.000000</td>\n",
       "      <td>74.006756</td>\n",
       "      <td>359.000348</td>\n",
       "      <td>...</td>\n",
       "      <td>0.000000</td>\n",
       "      <td>419.001193</td>\n",
       "      <td>1030.001092</td>\n",
       "    </tr>\n",
       "    <tr>\n",
       "      <th>2928</th>\n",
       "      <td>267.001873</td>\n",
       "      <td>493.000000</td>\n",
       "      <td>60.010416</td>\n",
       "      <td>...</td>\n",
       "      <td>419.001193</td>\n",
       "      <td>0.000000</td>\n",
       "      <td>611.002660</td>\n",
       "    </tr>\n",
       "    <tr>\n",
       "      <th>2929</th>\n",
       "      <td>344.003270</td>\n",
       "      <td>1104.001472</td>\n",
       "      <td>671.000745</td>\n",
       "      <td>...</td>\n",
       "      <td>1030.001092</td>\n",
       "      <td>611.002660</td>\n",
       "      <td>0.000000</td>\n",
       "    </tr>\n",
       "  </tbody>\n",
       "</table>\n",
       "<p>2930 rows × 2930 columns</p>\n",
       "</div>"
      ],
      "text/plain": [
       "            0            1           2        ...              2927  \\\n",
       "0       0.000000   760.000658  327.000382     ...        686.000000   \n",
       "1     760.000658     0.000000  433.001443     ...         74.006756   \n",
       "2     327.000382   433.001443    0.000000     ...        359.000348   \n",
       "...          ...          ...         ...     ...               ...   \n",
       "2927  686.000000    74.006756  359.000348     ...          0.000000   \n",
       "2928  267.001873   493.000000   60.010416     ...        419.001193   \n",
       "2929  344.003270  1104.001472  671.000745     ...       1030.001092   \n",
       "\n",
       "            2928         2929  \n",
       "0     267.001873   344.003270  \n",
       "1     493.000000  1104.001472  \n",
       "2      60.010416   671.000745  \n",
       "...          ...          ...  \n",
       "2927  419.001193  1030.001092  \n",
       "2928    0.000000   611.002660  \n",
       "2929  611.002660     0.000000  \n",
       "\n",
       "[2930 rows x 2930 columns]"
      ]
     },
     "execution_count": 7,
     "metadata": {},
     "output_type": "execute_result"
    }
   ],
   "source": [
    "D = housing_df_quant.apply(\n",
    "    get_euclidean_dists_from_obs,\n",
    "    axis=1\n",
    ")\n",
    "D"
   ]
  },
  {
   "cell_type": "markdown",
   "metadata": {},
   "source": [
    "Notice that this is a $2930 \\times 2930$ symmetric matrix of non-negative numbers, with zeroes along the diagonal, just as we predicted."
   ]
  },
  {
   "cell_type": "markdown",
   "metadata": {},
   "source": [
    "_The Short Way_: There are many packages in Python that calculate distance matrices. One such package is scikit-learn, a machine learning package in Python. Machine learning will be discussed in depth in Chapters 5-8, and we will explore the features of scikit-learn extensively in those chapters. Because distance matrices are important in machine learning, scikit-learn provides functions for calculating distance matrices.\n",
    "\n",
    "For example, the following code calculates the (Euclidean) distance matrix between all of the houses in the Ames housing data set:"
   ]
  },
  {
   "cell_type": "code",
   "execution_count": 8,
   "metadata": {},
   "outputs": [
    {
     "data": {
      "text/plain": [
       "array([[    0.        ,   760.00065789,   327.00038226, ...,\n",
       "          686.        ,   267.00187265,   344.00327033],\n",
       "       [  760.00065789,     0.        ,   433.00144342, ...,\n",
       "           74.00675645,   493.        ,  1104.00147192],\n",
       "       [  327.00038226,   433.00144342,     0.        , ...,\n",
       "          359.00034819,    60.01041576,   671.00074516],\n",
       "       ..., \n",
       "       [  686.        ,    74.00675645,   359.00034819, ...,\n",
       "            0.        ,   419.00119332,  1030.00109223],\n",
       "       [  267.00187265,   493.        ,    60.01041576, ...,\n",
       "          419.00119332,     0.        ,   611.00265957],\n",
       "       [  344.00327033,  1104.00147192,   671.00074516, ...,\n",
       "         1030.00109223,   611.00265957,     0.        ]])"
      ]
     },
     "execution_count": 8,
     "metadata": {},
     "output_type": "execute_result"
    }
   ],
   "source": [
    "from sklearn.metrics import pairwise_distances\n",
    "\n",
    "D_ = pairwise_distances(housing_df_quant, metric=\"euclidean\")\n",
    "D_"
   ]
  },
  {
   "cell_type": "markdown",
   "metadata": {},
   "source": [
    "Notice that the return type is a `numpy` array, instead of a `pandas` `DataFrame`. That is because scikit-learn was designed to work with `numpy` arrays. Although it will accept `pandas` `DataFrame`s as arguments, scikit-learn will convert them `numpy` arrays underneath the hood and return `numpy` arrays.\n",
    "\n",
    "Fortunately, many of the usual `pandas` operations work on `numpy` arrays as well. For example, to get the maximum value in each row, we can use the `.max()` method with `axis=1`."
   ]
  },
  {
   "cell_type": "code",
   "execution_count": 9,
   "metadata": {},
   "outputs": [
    {
     "data": {
      "text/plain": [
       "array([ 3986.00028224,  4746.00034239,  4313.00011593, ...,  4672.0002408 ,\n",
       "        4253.00038208,  3642.        ])"
      ]
     },
     "execution_count": 9,
     "metadata": {},
     "output_type": "execute_result"
    }
   ],
   "source": [
    "D_.max(axis=1)"
   ]
  },
  {
   "cell_type": "markdown",
   "metadata": {},
   "source": [
    "# Exercises\n",
    "\n",
    "Exercises 1-3 ask you to work with a data set that describes the chemical composition of 1599 red wines (`https://raw.githubusercontent.com/dlsun/data-science-book/master/data/wines/reds.csv`). All 12 variables in this data set are quantitative."
   ]
  },
  {
   "cell_type": "markdown",
   "metadata": {},
   "source": [
    "**Exercise 1.** Calculate the distance between every pair of wines in this data set."
   ]
  },
  {
   "cell_type": "code",
   "execution_count": 142,
   "metadata": {},
   "outputs": [
    {
     "data": {
      "text/plain": [
       "array([[  6.74349576e-07,   3.58601922e+01,   2.04097050e+01, ...,\n",
       "          1.91056851e+01,   2.33225970e+01,   1.10366429e+01],\n",
       "       [  3.58601922e+01,   0.00000000e+00,   1.64045889e+01, ...,\n",
       "          2.73859012e+01,   2.41316795e+01,   2.61010203e+01],\n",
       "       [  2.04097050e+01,   1.64045889e+01,   0.00000000e+00, ...,\n",
       "          1.99197504e+01,   1.98237135e+01,   1.26797093e+01],\n",
       "       ..., \n",
       "       [  1.91056851e+01,   2.73859012e+01,   1.99197504e+01, ...,\n",
       "          0.00000000e+00,   5.18964605e+00,   1.12669730e+01],\n",
       "       [  2.33225970e+01,   2.41316795e+01,   1.98237135e+01, ...,\n",
       "          5.18964605e+00,   0.00000000e+00,   1.42996395e+01],\n",
       "       [  1.10366429e+01,   2.61010203e+01,   1.26797093e+01, ...,\n",
       "          1.12669730e+01,   1.42996395e+01,   0.00000000e+00]])"
      ]
     },
     "execution_count": 142,
     "metadata": {},
     "output_type": "execute_result"
    }
   ],
   "source": [
    "wine_df = pd.read_csv(\"https://raw.githubusercontent.com/dlsun/data-science-book/master/data/wines/reds.csv\", sep=\";\")\n",
    "\n",
    "wine_df_dists = pairwise_distances(wine_df, metric=\"euclidean\")\n",
    "wine_df_dists"
   ]
  },
  {
   "cell_type": "markdown",
   "metadata": {},
   "source": [
    "**Exercise 2.** Using the distance matrix that you calculated in Exercise 1, calculate the distance of the wine that is most similar to each wine."
   ]
  },
  {
   "cell_type": "code",
   "execution_count": 144,
   "metadata": {},
   "outputs": [
    {
     "data": {
      "text/plain": [
       "0       6.743496e-07\n",
       "1       1.543859e+00\n",
       "2       1.250569e+00\n",
       "            ...     \n",
       "1596    0.000000e+00\n",
       "1597    4.638430e-01\n",
       "1598    1.893854e+00\n",
       "Length: 1599, dtype: float64"
      ]
     },
     "execution_count": 144,
     "metadata": {},
     "output_type": "execute_result"
    }
   ],
   "source": [
    "np.fill_diagonal(wine_df_dists, np.nan)\n",
    "wine_min_dists = pd.DataFrame(wine_df_dists).min()\n",
    "wine_min_dists"
   ]
  },
  {
   "cell_type": "markdown",
   "metadata": {},
   "source": [
    "**Exercise 3.** Using the distance matrix that you calculated in Exercise 1, determine the identity of the wine that is most similar to each wine."
   ]
  },
  {
   "cell_type": "code",
   "execution_count": 146,
   "metadata": {},
   "outputs": [
    {
     "data": {
      "text/plain": [
       "0          4\n",
       "1        752\n",
       "2        196\n",
       "        ... \n",
       "1596    1592\n",
       "1597    1594\n",
       "1598     569\n",
       "Length: 1599, dtype: int64"
      ]
     },
     "execution_count": 146,
     "metadata": {},
     "output_type": "execute_result"
    }
   ],
   "source": [
    "pd.DataFrame(wine_df_dists).idxmin()"
   ]
  },
  {
   "cell_type": "code",
   "execution_count": null,
   "metadata": {},
   "outputs": [],
   "source": []
  }
 ],
 "metadata": {
  "kernelspec": {
   "display_name": "Python 3",
   "language": "python",
   "name": "python3"
  },
  "language_info": {
   "codemirror_mode": {
    "name": "ipython",
    "version": 3
   },
   "file_extension": ".py",
   "mimetype": "text/x-python",
   "name": "python",
   "nbconvert_exporter": "python",
   "pygments_lexer": "ipython3",
   "version": "3.6.5"
  }
 },
 "nbformat": 4,
 "nbformat_minor": 2
}
