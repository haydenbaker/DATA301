{
 "cells": [
  {
   "cell_type": "markdown",
   "metadata": {},
   "source": [
    "# Chapter 4. Relationships between Observations\n",
    "\n",
    "The previous chapter discussed ways to measure relationships between variables, or the _columns_ of a `DataFrame`. This chapter is about how to measure relationships between observations, or the _rows_ of a `DataFrame`.\n",
    "\n",
    "# Chapter 4.1 Distance Metrics\n",
    "\n",
    "How do we quantify how \"similar\" two observations are? We will use the Ames housing data set, but to keep things simple, we will work with just three quantitative variables from that data set: the number of bedrooms, the number of bathrooms, and the living area (in square feet)."
   ]
  },
  {
   "cell_type": "code",
   "execution_count": 1,
   "metadata": {},
   "outputs": [
    {
     "data": {
      "text/html": [
       "<div>\n",
       "<style scoped>\n",
       "    .dataframe tbody tr th:only-of-type {\n",
       "        vertical-align: middle;\n",
       "    }\n",
       "\n",
       "    .dataframe tbody tr th {\n",
       "        vertical-align: top;\n",
       "    }\n",
       "\n",
       "    .dataframe thead th {\n",
       "        text-align: right;\n",
       "    }\n",
       "</style>\n",
       "<table border=\"1\" class=\"dataframe\">\n",
       "  <thead>\n",
       "    <tr style=\"text-align: right;\">\n",
       "      <th></th>\n",
       "      <th>Bedroom AbvGr</th>\n",
       "      <th>Gr Liv Area</th>\n",
       "      <th>Bathrooms</th>\n",
       "    </tr>\n",
       "  </thead>\n",
       "  <tbody>\n",
       "    <tr>\n",
       "      <th>0</th>\n",
       "      <td>3</td>\n",
       "      <td>1656</td>\n",
       "      <td>1.0</td>\n",
       "    </tr>\n",
       "    <tr>\n",
       "      <th>1</th>\n",
       "      <td>2</td>\n",
       "      <td>896</td>\n",
       "      <td>1.0</td>\n",
       "    </tr>\n",
       "    <tr>\n",
       "      <th>...</th>\n",
       "      <td>...</td>\n",
       "      <td>...</td>\n",
       "      <td>...</td>\n",
       "    </tr>\n",
       "    <tr>\n",
       "      <th>2928</th>\n",
       "      <td>2</td>\n",
       "      <td>1389</td>\n",
       "      <td>1.0</td>\n",
       "    </tr>\n",
       "    <tr>\n",
       "      <th>2929</th>\n",
       "      <td>3</td>\n",
       "      <td>2000</td>\n",
       "      <td>2.5</td>\n",
       "    </tr>\n",
       "  </tbody>\n",
       "</table>\n",
       "<p>2930 rows × 3 columns</p>\n",
       "</div>"
      ],
      "text/plain": [
       "      Bedroom AbvGr  Gr Liv Area  Bathrooms\n",
       "0                 3         1656        1.0\n",
       "1                 2          896        1.0\n",
       "...             ...          ...        ...\n",
       "2928              2         1389        1.0\n",
       "2929              3         2000        2.5\n",
       "\n",
       "[2930 rows x 3 columns]"
      ]
     },
     "execution_count": 1,
     "metadata": {},
     "output_type": "execute_result"
    }
   ],
   "source": [
    "%matplotlib inline\n",
    "import numpy as np\n",
    "import pandas as pd\n",
    "pd.options.display.max_rows = 5\n",
    "\n",
    "housing_df = pd.read_csv(\"https://raw.githubusercontent.com/dlsun/data-science-book/master/data/AmesHousing.txt\",\n",
    "                         sep=\"\\t\")\n",
    "\n",
    "# extract 3 quantitative variables\n",
    "housing_df_quant = housing_df[[\"Bedroom AbvGr\", \"Gr Liv Area\"]].copy()\n",
    "housing_df_quant[\"Bathrooms\"] = (\n",
    "    housing_df[\"Full Bath\"] + \n",
    "    0.5 * housing_df[\"Half Bath\"]\n",
    ")\n",
    "housing_df_quant"
   ]
  },
  {
   "cell_type": "markdown",
   "metadata": {},
   "source": [
    "Shown below is a (three-dimensional) scatterplot of these variables. Consider the two observations connected by a red line. (The label next to each point is its index in the `DataFrame`.) To measure how similar they are, we can calculate the distance between the two points.\n",
    "\n",
    "<img src=\"distance.png\">\n",
    "\n",
    "Calculating the distance between two points is not as straightforward as it might seem because there is more than one way to define distance. The one most familiar to you is probably **Euclidan distance**, which is the straight-line distance (\"as the crow flies\") between the two points. The formula for calculating this distance is a generalization of the Pythagorean theorem:\n",
    "\n",
    "$$ d({\\bf x}, {\\bf x'}) = \\sqrt{\\sum_{j=1}^D (x_j - x'_j)^2} $$"
   ]
  },
  {
   "cell_type": "code",
   "execution_count": 2,
   "metadata": {},
   "outputs": [
    {
     "data": {
      "text/plain": [
       "Bedroom AbvGr      1.0\n",
       "Gr Liv Area     -419.0\n",
       "Bathrooms          0.0\n",
       "dtype: float64"
      ]
     },
     "execution_count": 2,
     "metadata": {},
     "output_type": "execute_result"
    }
   ],
   "source": [
    "x = housing_df_quant.loc[2927]\n",
    "x1 = housing_df_quant.loc[2928]\n",
    "\n",
    "x - x1"
   ]
  },
  {
   "cell_type": "code",
   "execution_count": 3,
   "metadata": {},
   "outputs": [
    {
     "data": {
      "text/plain": [
       "Bedroom AbvGr         1.0\n",
       "Gr Liv Area      175561.0\n",
       "Bathrooms             0.0\n",
       "dtype: float64"
      ]
     },
     "execution_count": 3,
     "metadata": {},
     "output_type": "execute_result"
    }
   ],
   "source": [
    "(x - x1) ** 2"
   ]
  },
  {
   "cell_type": "code",
   "execution_count": 4,
   "metadata": {},
   "outputs": [
    {
     "data": {
      "text/plain": [
       "419.00119331572313"
      ]
     },
     "execution_count": 4,
     "metadata": {},
     "output_type": "execute_result"
    }
   ],
   "source": [
    "np.sqrt(((x - x1) ** 2).sum())"
   ]
  },
  {
   "cell_type": "markdown",
   "metadata": {},
   "source": [
    "The beauty of this definition is that it generalizes to more than three dimensions. Even though it is difficult to visualize points in 100-dimensional space, we can calculate distances between them in exactly the same way.\n",
    "\n",
    "However, Euclidean distance is not the only way to measure how far apart two points are. There is also [**Manhattan distance**](https://en.wikipedia.org/wiki/Taxicab_geometry) (also called _taxicab distance_), which measures the distance a taxicab in Manhattan would have to drive to travel from A to B. Taxicabs are not able to travel in a straight line (i.e., the green path below) because they have to follow the street grid. But there are multiple paths along the street grid that all have exactly the same length (i.e., the red, yellow, and blue paths below); the Manhattan distance is the length of any one of these shortest paths.\n",
    "\n",
    "![](https://upload.wikimedia.org/wikipedia/commons/thumb/0/08/Manhattan_distance.svg/283px-Manhattan_distance.svg.png)\n",
    "\n",
    "The formula for Manhattan distance is actually quite similar to the formula for Euclidean distance. Instead of squaring the differences and taking the square root at the end (as in Euclidean distance), we simply take absolute values:\n",
    "$$ d({\\bf x}, {\\bf x'}) = \\sum_{j=1}^D |x_j - x'_j|. $$\n",
    "\n",
    "The following code calculates Manhattan distance:"
   ]
  },
  {
   "cell_type": "code",
   "execution_count": 5,
   "metadata": {},
   "outputs": [
    {
     "data": {
      "text/plain": [
       "420.0"
      ]
     },
     "execution_count": 5,
     "metadata": {},
     "output_type": "execute_result"
    }
   ],
   "source": [
    "((x - x1).abs()).sum()"
   ]
  },
  {
   "cell_type": "markdown",
   "metadata": {},
   "source": [
    "### Comparison of Euclidean and Manhattan distance\n",
    "\n",
    "The Euclidean distance was essentially just the largest difference. This is because Euclidean distance first _squares_ the differences. The squaring operation has a \"rich get richer\" effect; larger values get magnified by more than smaller values. As a result, the largest differences tend to dominate the Euclidean distance.\n",
    "\n",
    "On the other hand, Manhattan distance treats all differences equally. So Manhattan distance is preferred if you are concerned that an outlier in one variable might dominate the distance metric."
   ]
  },
  {
   "cell_type": "markdown",
   "metadata": {},
   "source": [
    "## The Importance of Scaling\n",
    "\n",
    "Here's a quiz. There are two pairs of observations in the figure below, one connected by a red line, the other connected by an orange line. Which pair of observations is more similar (assuming we use Euclidean distance)?\n",
    "\n",
    "![](closer.png)\n",
    "\n",
    "Let's actually calculate these two distances."
   ]
  },
  {
   "cell_type": "code",
   "execution_count": null,
   "metadata": {},
   "outputs": [],
   "source": [
    "# Distance between two points connected by red line\n",
    "x = housing_df_quant.loc[2927]\n",
    "x1 = housing_df_quant.loc[2928]\n",
    "\n",
    "np.sqrt(((x - x1) ** 2).sum())"
   ]
  },
  {
   "cell_type": "code",
   "execution_count": null,
   "metadata": {},
   "outputs": [],
   "source": [
    "# Distance between two points connected by orange line\n",
    "x = housing_df_quant.loc[2498]\n",
    "x1 = housing_df_quant.loc[290]\n",
    "\n",
    "np.sqrt(((x - x1) ** 2).sum())"
   ]
  },
  {
   "cell_type": "markdown",
   "metadata": {},
   "source": [
    "Surprised by the answer? The scatterplot is deceiving because it automatically scales the variables to make the points fit on the same plot. In reality, the variables are on very different scales. The number of bedrooms and bathrooms range from 0 to 6, while living area is in the thousands. When variables are on such different scales, the variable with the largest variability will dominate the distance metric.\n",
    "\n",
    "The plot below shows the same data, but drawn to scale. You can see that differences in the number of bedrooms and the number of bathrooms hardly matter at all; only the variability in the living area matters.\n",
    "\n",
    "![](closer_rescaled.png)"
   ]
  },
  {
   "cell_type": "markdown",
   "metadata": {},
   "source": [
    "To obtain distances that agree more with our intuition---and that do not give too much weight to any one variable---we transform the variables to be on the same scale. There are a few ways to **scale** a variable:\n",
    "\n",
    "- **standardizing**: subtract each variable by its mean, then divide by its standard deviation, \n",
    "$$ x_i \\leftarrow \\frac{x_i - \\text{mean}[X]}{\\text{SD}[X]} $$\n",
    "- **normalizing**: scale each variable to have length (or \"norm\") 1, \n",
    "$$ x_i \\leftarrow \\frac{x_i}{\\sqrt{\\sum_{i=1}^n x_i^2}} $$\n",
    "- **min/max scaling**: scale each variable so that all values are between 0 and 1, \n",
    "$$x_i \\leftarrow \\frac{x_i - \\min[X]}{\\max[X] - \\min[X]}.$$\n",
    "\n",
    "The figure below illustrates what each of these scaling methods do to a synthetic data set with two variables. All three methods scale the variables in similar (but slightly different) ways, resulting in figure-eights with different aspect ratios.  Standardizing also moves the data to be centered around the origin, while min-max scaling moves the data to be in a box whose corners are $(0, 0)$ and $(1, 1)$.\n",
    "\n",
    "![](scaling.png)\n",
    "\n",
    "Let's standardize the Ames housing data, and see how it affects the distance metric."
   ]
  },
  {
   "cell_type": "code",
   "execution_count": 6,
   "metadata": {},
   "outputs": [
    {
     "data": {
      "text/html": [
       "<div>\n",
       "<style scoped>\n",
       "    .dataframe tbody tr th:only-of-type {\n",
       "        vertical-align: middle;\n",
       "    }\n",
       "\n",
       "    .dataframe tbody tr th {\n",
       "        vertical-align: top;\n",
       "    }\n",
       "\n",
       "    .dataframe thead th {\n",
       "        text-align: right;\n",
       "    }\n",
       "</style>\n",
       "<table border=\"1\" class=\"dataframe\">\n",
       "  <thead>\n",
       "    <tr style=\"text-align: right;\">\n",
       "      <th></th>\n",
       "      <th>Bedroom AbvGr</th>\n",
       "      <th>Gr Liv Area</th>\n",
       "      <th>Bathrooms</th>\n",
       "    </tr>\n",
       "  </thead>\n",
       "  <tbody>\n",
       "    <tr>\n",
       "      <th>0</th>\n",
       "      <td>0.176064</td>\n",
       "      <td>0.309212</td>\n",
       "      <td>-1.176462</td>\n",
       "    </tr>\n",
       "    <tr>\n",
       "      <th>1</th>\n",
       "      <td>-1.032058</td>\n",
       "      <td>-1.194223</td>\n",
       "      <td>-1.176462</td>\n",
       "    </tr>\n",
       "    <tr>\n",
       "      <th>...</th>\n",
       "      <td>...</td>\n",
       "      <td>...</td>\n",
       "      <td>...</td>\n",
       "    </tr>\n",
       "    <tr>\n",
       "      <th>2928</th>\n",
       "      <td>-1.032058</td>\n",
       "      <td>-0.218968</td>\n",
       "      <td>-1.176462</td>\n",
       "    </tr>\n",
       "    <tr>\n",
       "      <th>2929</th>\n",
       "      <td>0.176064</td>\n",
       "      <td>0.989715</td>\n",
       "      <td>1.156819</td>\n",
       "    </tr>\n",
       "  </tbody>\n",
       "</table>\n",
       "<p>2930 rows × 3 columns</p>\n",
       "</div>"
      ],
      "text/plain": [
       "      Bedroom AbvGr  Gr Liv Area  Bathrooms\n",
       "0          0.176064     0.309212  -1.176462\n",
       "1         -1.032058    -1.194223  -1.176462\n",
       "...             ...          ...        ...\n",
       "2928      -1.032058    -0.218968  -1.176462\n",
       "2929       0.176064     0.989715   1.156819\n",
       "\n",
       "[2930 rows x 3 columns]"
      ]
     },
     "execution_count": 6,
     "metadata": {},
     "output_type": "execute_result"
    }
   ],
   "source": [
    "housing_df_std = (\n",
    "    (housing_df_quant - housing_df_quant.mean()) / \n",
    "    housing_df_quant.std()\n",
    ")\n",
    "housing_df_std"
   ]
  },
  {
   "cell_type": "markdown",
   "metadata": {},
   "source": [
    "Notice that the resulting `DataFrame` contains negative values. This makes sense because standardizing makes the mean of every variable equal to 0. If the mean is 0, then some values must be negative.\n",
    "\n",
    "The above command is deceptively simple. We actually subtracted a `DataFrame` by a `Series`, then divided the resulting `DataFrame` by another `Series`. We relied on `pandas` to broadcast each `Series` over the right dimension of the `DataFrame`. To be more explicit about the broadcasting, we could have also used the `.sub()` and `.divide()` methods (instead of `-` and `/`) and been explicit about the axis:"
   ]
  },
  {
   "cell_type": "code",
   "execution_count": 7,
   "metadata": {},
   "outputs": [
    {
     "data": {
      "text/html": [
       "<div>\n",
       "<style scoped>\n",
       "    .dataframe tbody tr th:only-of-type {\n",
       "        vertical-align: middle;\n",
       "    }\n",
       "\n",
       "    .dataframe tbody tr th {\n",
       "        vertical-align: top;\n",
       "    }\n",
       "\n",
       "    .dataframe thead th {\n",
       "        text-align: right;\n",
       "    }\n",
       "</style>\n",
       "<table border=\"1\" class=\"dataframe\">\n",
       "  <thead>\n",
       "    <tr style=\"text-align: right;\">\n",
       "      <th></th>\n",
       "      <th>Bedroom AbvGr</th>\n",
       "      <th>Gr Liv Area</th>\n",
       "      <th>Bathrooms</th>\n",
       "    </tr>\n",
       "  </thead>\n",
       "  <tbody>\n",
       "    <tr>\n",
       "      <th>0</th>\n",
       "      <td>0.176064</td>\n",
       "      <td>0.309212</td>\n",
       "      <td>-1.176462</td>\n",
       "    </tr>\n",
       "    <tr>\n",
       "      <th>1</th>\n",
       "      <td>-1.032058</td>\n",
       "      <td>-1.194223</td>\n",
       "      <td>-1.176462</td>\n",
       "    </tr>\n",
       "    <tr>\n",
       "      <th>...</th>\n",
       "      <td>...</td>\n",
       "      <td>...</td>\n",
       "      <td>...</td>\n",
       "    </tr>\n",
       "    <tr>\n",
       "      <th>2928</th>\n",
       "      <td>-1.032058</td>\n",
       "      <td>-0.218968</td>\n",
       "      <td>-1.176462</td>\n",
       "    </tr>\n",
       "    <tr>\n",
       "      <th>2929</th>\n",
       "      <td>0.176064</td>\n",
       "      <td>0.989715</td>\n",
       "      <td>1.156819</td>\n",
       "    </tr>\n",
       "  </tbody>\n",
       "</table>\n",
       "<p>2930 rows × 3 columns</p>\n",
       "</div>"
      ],
      "text/plain": [
       "      Bedroom AbvGr  Gr Liv Area  Bathrooms\n",
       "0          0.176064     0.309212  -1.176462\n",
       "1         -1.032058    -1.194223  -1.176462\n",
       "...             ...          ...        ...\n",
       "2928      -1.032058    -0.218968  -1.176462\n",
       "2929       0.176064     0.989715   1.156819\n",
       "\n",
       "[2930 rows x 3 columns]"
      ]
     },
     "execution_count": 7,
     "metadata": {},
     "output_type": "execute_result"
    }
   ],
   "source": [
    "housing_df_std = (housing_df_quant.\n",
    "                  sub(housing_df_quant.mean(), axis=1).\n",
    "                  divide(housing_df_quant.std(), axis=1))\n",
    "housing_df_std"
   ]
  },
  {
   "cell_type": "markdown",
   "metadata": {},
   "source": [
    "Now let's recalculate the distances using this standardized data and see if our conclusions change."
   ]
  },
  {
   "cell_type": "code",
   "execution_count": 16,
   "metadata": {},
   "outputs": [
    {
     "data": {
      "text/plain": [
       "1.4651211129695825"
      ]
     },
     "execution_count": 16,
     "metadata": {},
     "output_type": "execute_result"
    }
   ],
   "source": [
    "# Distance between two points connected by red line\n",
    "x = housing_df_std.loc[2927]\n",
    "x1 = housing_df_std.loc[2928]\n",
    "\n",
    "np.sqrt(((x - x1) ** 2).sum())"
   ]
  },
  {
   "cell_type": "code",
   "execution_count": 17,
   "metadata": {},
   "outputs": [
    {
     "data": {
      "text/plain": [
       "3.9440754446060033"
      ]
     },
     "execution_count": 17,
     "metadata": {},
     "output_type": "execute_result"
    }
   ],
   "source": [
    "# Distance between two points connected by orange line\n",
    "x = housing_df_std.loc[2498]\n",
    "x1 = housing_df_std.loc[290]\n",
    "\n",
    "np.sqrt(((x - x1) ** 2).sum())"
   ]
  },
  {
   "cell_type": "markdown",
   "metadata": {},
   "source": [
    "So, if we first standardize the data, then the pair of observations connected by the red line are more similar than the pair connected by the orange line, which matches our intuition. It is (almost) always a good idea to scale your variables before calculating distances.\n",
    "\n",
    "Now that you've seen how to implement one scaling method (standardization), you will implement two more (normalization and min-max scaling) in Exercises 1 and 2 below."
   ]
  },
  {
   "cell_type": "markdown",
   "metadata": {},
   "source": [
    "# Exercises"
   ]
  },
  {
   "cell_type": "markdown",
   "metadata": {},
   "source": [
    "**Exercise 1.** Instead of standardizing the three variables from the Ames housing data set, normalize them. Then, recompute the distances between the two pairs of points above. Does your conclusion change?"
   ]
  },
  {
   "cell_type": "code",
   "execution_count": 137,
   "metadata": {},
   "outputs": [
    {
     "data": {
      "text/html": [
       "<div>\n",
       "<style scoped>\n",
       "    .dataframe tbody tr th:only-of-type {\n",
       "        vertical-align: middle;\n",
       "    }\n",
       "\n",
       "    .dataframe tbody tr th {\n",
       "        vertical-align: top;\n",
       "    }\n",
       "\n",
       "    .dataframe thead th {\n",
       "        text-align: right;\n",
       "    }\n",
       "</style>\n",
       "<table border=\"1\" class=\"dataframe\">\n",
       "  <thead>\n",
       "    <tr style=\"text-align: right;\">\n",
       "      <th></th>\n",
       "      <th>Bedroom AbvGr</th>\n",
       "      <th>Gr Liv Area</th>\n",
       "      <th>Bathrooms</th>\n",
       "    </tr>\n",
       "  </thead>\n",
       "  <tbody>\n",
       "    <tr>\n",
       "      <th>0</th>\n",
       "      <td>0.018649</td>\n",
       "      <td>0.019331</td>\n",
       "      <td>0.009878</td>\n",
       "    </tr>\n",
       "    <tr>\n",
       "      <th>1</th>\n",
       "      <td>0.012433</td>\n",
       "      <td>0.010460</td>\n",
       "      <td>0.009878</td>\n",
       "    </tr>\n",
       "    <tr>\n",
       "      <th>...</th>\n",
       "      <td>...</td>\n",
       "      <td>...</td>\n",
       "      <td>...</td>\n",
       "    </tr>\n",
       "    <tr>\n",
       "      <th>2928</th>\n",
       "      <td>0.012433</td>\n",
       "      <td>0.016215</td>\n",
       "      <td>0.009878</td>\n",
       "    </tr>\n",
       "    <tr>\n",
       "      <th>2929</th>\n",
       "      <td>0.018649</td>\n",
       "      <td>0.023347</td>\n",
       "      <td>0.024695</td>\n",
       "    </tr>\n",
       "  </tbody>\n",
       "</table>\n",
       "<p>2930 rows × 3 columns</p>\n",
       "</div>"
      ],
      "text/plain": [
       "      Bedroom AbvGr  Gr Liv Area  Bathrooms\n",
       "0          0.018649     0.019331   0.009878\n",
       "1          0.012433     0.010460   0.009878\n",
       "...             ...          ...        ...\n",
       "2928       0.012433     0.016215   0.009878\n",
       "2929       0.018649     0.023347   0.024695\n",
       "\n",
       "[2930 rows x 3 columns]"
      ]
     },
     "execution_count": 137,
     "metadata": {},
     "output_type": "execute_result"
    }
   ],
   "source": [
    "housing_df_norm = (housing_df_quant.divide(\n",
    "    (np.sqrt((housing_df_quant ** 2).sum())), axis=1))\n",
    "housing_df_norm"
   ]
  },
  {
   "cell_type": "code",
   "execution_count": 138,
   "metadata": {},
   "outputs": [
    {
     "data": {
      "text/plain": [
       "0.0079100215088419978"
      ]
     },
     "execution_count": 138,
     "metadata": {},
     "output_type": "execute_result"
    }
   ],
   "source": [
    "x = housing_df_norm.loc[2927]\n",
    "x1 = housing_df_norm.loc[2928]\n",
    "\n",
    "np.sqrt(((x - x1) ** 2).sum())"
   ]
  },
  {
   "cell_type": "code",
   "execution_count": 139,
   "metadata": {},
   "outputs": [
    {
     "data": {
      "text/plain": [
       "0.021103948426701397"
      ]
     },
     "execution_count": 139,
     "metadata": {},
     "output_type": "execute_result"
    }
   ],
   "source": [
    "x = housing_df_norm.loc[2498]\n",
    "x1 = housing_df_norm.loc[290]\n",
    "\n",
    "np.sqrt(((x - x1) ** 2).sum())"
   ]
  },
  {
   "cell_type": "markdown",
   "metadata": {},
   "source": [
    "**Exercise 2.** Instead of standardizing the three variables from the Ames housing data set, apply a min-max scaling to them. Then, recompute the distances between the two pairs of points above. Does your conclusion change?"
   ]
  },
  {
   "cell_type": "code",
   "execution_count": 124,
   "metadata": {},
   "outputs": [
    {
     "data": {
      "text/html": [
       "<div>\n",
       "<style scoped>\n",
       "    .dataframe tbody tr th:only-of-type {\n",
       "        vertical-align: middle;\n",
       "    }\n",
       "\n",
       "    .dataframe tbody tr th {\n",
       "        vertical-align: top;\n",
       "    }\n",
       "\n",
       "    .dataframe thead th {\n",
       "        text-align: right;\n",
       "    }\n",
       "</style>\n",
       "<table border=\"1\" class=\"dataframe\">\n",
       "  <thead>\n",
       "    <tr style=\"text-align: right;\">\n",
       "      <th></th>\n",
       "      <th>Bedroom AbvGr</th>\n",
       "      <th>Gr Liv Area</th>\n",
       "      <th>Bathrooms</th>\n",
       "    </tr>\n",
       "  </thead>\n",
       "  <tbody>\n",
       "    <tr>\n",
       "      <th>0</th>\n",
       "      <td>0.375</td>\n",
       "      <td>0.249058</td>\n",
       "      <td>0.2</td>\n",
       "    </tr>\n",
       "    <tr>\n",
       "      <th>1</th>\n",
       "      <td>0.250</td>\n",
       "      <td>0.105878</td>\n",
       "      <td>0.2</td>\n",
       "    </tr>\n",
       "    <tr>\n",
       "      <th>...</th>\n",
       "      <td>...</td>\n",
       "      <td>...</td>\n",
       "      <td>...</td>\n",
       "    </tr>\n",
       "    <tr>\n",
       "      <th>2928</th>\n",
       "      <td>0.250</td>\n",
       "      <td>0.198757</td>\n",
       "      <td>0.2</td>\n",
       "    </tr>\n",
       "    <tr>\n",
       "      <th>2929</th>\n",
       "      <td>0.375</td>\n",
       "      <td>0.313866</td>\n",
       "      <td>0.5</td>\n",
       "    </tr>\n",
       "  </tbody>\n",
       "</table>\n",
       "<p>2930 rows × 3 columns</p>\n",
       "</div>"
      ],
      "text/plain": [
       "      Bedroom AbvGr  Gr Liv Area  Bathrooms\n",
       "0             0.375     0.249058        0.2\n",
       "1             0.250     0.105878        0.2\n",
       "...             ...          ...        ...\n",
       "2928          0.250     0.198757        0.2\n",
       "2929          0.375     0.313866        0.5\n",
       "\n",
       "[2930 rows x 3 columns]"
      ]
     },
     "execution_count": 124,
     "metadata": {},
     "output_type": "execute_result"
    }
   ],
   "source": [
    "housing_df_mm = (housing_df_quant.\n",
    "                  sub(housing_df_quant.min(), axis=1).\n",
    "                  divide(housing_df_quant.max() - housing_df_quant.min(), axis=1))\n",
    "housing_df_mm"
   ]
  },
  {
   "cell_type": "code",
   "execution_count": 125,
   "metadata": {},
   "outputs": [
    {
     "data": {
      "text/plain": [
       "0.14783815972387498"
      ]
     },
     "execution_count": 125,
     "metadata": {},
     "output_type": "execute_result"
    }
   ],
   "source": [
    "x = housing_df_mm.loc[2927]\n",
    "x1 = housing_df_mm.loc[2928]\n",
    "\n",
    "np.sqrt(((x - x1) ** 2).sum())"
   ]
  },
  {
   "cell_type": "code",
   "execution_count": 126,
   "metadata": {},
   "outputs": [
    {
     "data": {
      "text/plain": [
       "0.42500066809602399"
      ]
     },
     "execution_count": 126,
     "metadata": {},
     "output_type": "execute_result"
    }
   ],
   "source": [
    "x = housing_df_mm.loc[2498]\n",
    "x1 = housing_df_mm.loc[290]\n",
    "\n",
    "np.sqrt(((x - x1) ** 2).sum())"
   ]
  },
  {
   "cell_type": "markdown",
   "metadata": {},
   "source": [
    "Exercises 3-5 ask you to work with a data set that describes the chemical composition of 1599 red wines (`https://raw.githubusercontent.com/dlsun/data-science-book/master/data/wines/reds.csv`). There are 12 variables in this data set, all of which are quantitative (so each observation is a point in 12-dimensional space)."
   ]
  },
  {
   "cell_type": "markdown",
   "metadata": {},
   "source": [
    "**Exercise 3.** Which red wine is more similar to wine 0 in the `DataFrame`: wine 6 or wine 36? (Do not scale the variables.) Does your answer depend on which distance metric you use to measure \"similarity\"?"
   ]
  },
  {
   "cell_type": "code",
   "execution_count": 131,
   "metadata": {},
   "outputs": [
    {
     "name": "stdout",
     "output_type": "stream",
     "text": [
      "25.3260291195\n",
      "20.6980530507\n"
     ]
    }
   ],
   "source": [
    "wine_df = pd.read_csv(\"https://raw.githubusercontent.com/dlsun/data-science-book/master/data/wines/reds.csv\", sep=';')\n",
    "\n",
    "x = wine_df.loc[0]\n",
    "x1 = wine_df.loc[6]\n",
    "x2 = wine_df.loc[36]\n",
    "\n",
    "print(np.sqrt(((x - x1) ** 2).sum()))\n",
    "print(np.sqrt(((x - x2) ** 2).sum()))\n"
   ]
  },
  {
   "cell_type": "markdown",
   "metadata": {},
   "source": [
    "**Exercise 4.** Now suppose we agree to measure similarity using Euclidean distance, and we wish to investigate the effect of scaling the variables. Which red wine is more similar to wine 0: wine 6 or wine 36? Does the answer depend on whether the variables are scaled or not? Does it depend on the choice of scaling?"
   ]
  },
  {
   "cell_type": "code",
   "execution_count": 132,
   "metadata": {},
   "outputs": [
    {
     "name": "stdout",
     "output_type": "stream",
     "text": [
      "2.00721866628\n",
      "2.37710757754\n"
     ]
    }
   ],
   "source": [
    "wine_df_std = (wine_df.\n",
    "                  sub(wine_df.mean(), axis=1).\n",
    "                  divide(wine_df.std(), axis=1))\n",
    "x = wine_df_std.loc[0]\n",
    "x1 = wine_df_std.loc[6]\n",
    "x2 = wine_df_std.loc[36]\n",
    "\n",
    "print(np.sqrt(((x - x1) ** 2).sum()))\n",
    "print(np.sqrt(((x - x2) ** 2).sum()))"
   ]
  },
  {
   "cell_type": "markdown",
   "metadata": {},
   "source": [
    "**Exercise 5.** Which wine is most similar to wine 267? Try different distance metrics and different scaling methods. How sensitive is your conclusion to the choice of distance metric and scaling method?\n",
    "\n",
    "_Hint:_ You can do this without a `for` loop. Take advantage of broadcasting!"
   ]
  },
  {
   "cell_type": "code",
   "execution_count": 133,
   "metadata": {},
   "outputs": [],
   "source": [
    "wine_df_norm = (wine_df / (np.sqrt((wine_df ** 2).sum())))"
   ]
  },
  {
   "cell_type": "code",
   "execution_count": 134,
   "metadata": {},
   "outputs": [],
   "source": [
    "wine_df_mm = (wine_df.\n",
    "                  sub(wine_df.min(), axis=1).\n",
    "                  divide(wine_df.max() - wine_df.min(), axis=1))"
   ]
  },
  {
   "cell_type": "code",
   "execution_count": 147,
   "metadata": {},
   "outputs": [
    {
     "name": "stdout",
     "output_type": "stream",
     "text": [
      "( Euclidean STD ): 606\n",
      "( Euclidean NORM ): 944\n",
      "( Euclidean MM ): 606\n",
      "( Manhattan STD ): 606\n",
      "( Manhattan NORM ): 896\n",
      "( Manhattan MM ): 606\n"
     ]
    }
   ],
   "source": [
    "eu_dist = lambda df, x: np.sqrt(((df - df.loc[x]) ** 2).sum(axis=1))\n",
    "manh_dist = lambda df, x: ((df - df.loc[x]).abs()).sum(axis=1) \n",
    "#manh_dist\n",
    "for dist_n, dist_f in {\"Euclidean\": eu_dist, \"Manhattan\": manh_dist}.items():\n",
    "    for name, df in {\"STD\": wine_df_std, \"NORM\": wine_df_norm, \"MM\": wine_df_mm}.items():\n",
    "        print(\"(\", dist_n, name, \"):\", dist_f(df, 267).drop(index=267).idxmin())"
   ]
  },
  {
   "cell_type": "code",
   "execution_count": null,
   "metadata": {},
   "outputs": [],
   "source": []
  }
 ],
 "metadata": {
  "kernelspec": {
   "display_name": "Python 3",
   "language": "python",
   "name": "python3"
  },
  "language_info": {
   "codemirror_mode": {
    "name": "ipython",
    "version": 3
   },
   "file_extension": ".py",
   "mimetype": "text/x-python",
   "name": "python",
   "nbconvert_exporter": "python",
   "pygments_lexer": "ipython3",
   "version": "3.6.5"
  }
 },
 "nbformat": 4,
 "nbformat_minor": 2
}
