{
 "cells": [
  {
   "cell_type": "markdown",
   "metadata": {},
   "source": [
    "# 4.3 The Distance Matrix\n",
    "\n",
    "In many applications, we need the distance between every pair of observations ${\\bf x}_i$ and ${\\bf x}_j$ in a data set. How do we represent this information? The most common way is to use an $n \\times n$ matrix, where the $(i, j)$th entry is the distance between ${\\bf x}_i$ and ${\\bf x}_j$. That is,\n",
    "\n",
    "$$ D = \\begin{pmatrix} \n",
    "d({\\bf x}_1, {\\bf x}_1) & d({\\bf x}_1, {\\bf x}_2) & \\cdots & d({\\bf x}_1, {\\bf x}_n) \\\\ \n",
    "d({\\bf x}_2, {\\bf x}_1) & d({\\bf x}_2, {\\bf x}_2) & \\cdots & d({\\bf x}_2, {\\bf x}_n) \\\\ \n",
    "\\vdots & \\vdots & \\ddots & \\vdots \\\\\n",
    "d({\\bf x}_n, {\\bf x}_1) & d({\\bf x}_n, {\\bf x}_2) & \\cdots & d({\\bf x}_n, {\\bf x}_n)\n",
    "\\end{pmatrix}. $$\n",
    "\n",
    "There are a few things we can say about the $n\\times n$ distance matrix $D$.\n",
    "\n",
    "1. All of the entries of $D$ are non-negative.\n",
    "2. Because the distance between any observation and itself, $d({\\bf x}_i, {\\bf x}_i)$, is always zero, the _diagonal_ elements of this matrix, $D_{ii}$ are all equal to 0.\n",
    "3. For many distance metrics, including Euclidean and Manhattan distance, $d$ is symmetric, meaning that $d({\\bf x}_i, {\\bf x}_j) = d({\\bf x}_i, {\\bf x}_j)$. Therefore, the matrix $D$ will also be symmetric; that is, the values in the upper triangle will match their reflection in the lower triangle.\n",
    "\n",
    "How do we calculate the distance matrix for a `DataFrame` consisting of all quantitative variables? For example, suppose we want to calculate the matrix of distances between each of the houses in the Ames housing data set, based on the number of bedrooms, number of bathrooms, and the living area (in square feet)."
   ]
  },
  {
   "cell_type": "code",
   "execution_count": null,
   "metadata": {},
   "outputs": [],
   "source": [
    "%matplotlib inline\n",
    "import numpy as np\n",
    "import pandas as pd\n",
    "pd.options.display.max_rows = 6\n",
    "pd.options.display.max_columns = 6\n",
    "\n",
    "housing_df = pd.read_csv(\"https://raw.githubusercontent.com/dlsun/data-science-book/master/data/AmesHousing.txt\",\n",
    "                         sep=\"\\t\")\n",
    "\n",
    "# extract 3 quantitative variables\n",
    "housing_df_quant = housing_df[[\"Bedroom AbvGr\", \"Gr Liv Area\"]].copy()\n",
    "housing_df_quant[\"Bathrooms\"] = (\n",
    "    housing_df[\"Full Bath\"] + \n",
    "    0.5 * housing_df[\"Half Bath\"]\n",
    ")\n",
    "housing_df_quant"
   ]
  },
  {
   "cell_type": "markdown",
   "metadata": {},
   "source": [
    "_The Long Way:_ It is possible to create the distance matrix entirely in `pandas`. The idea is to first define a function that calculates the distances between a given observation and all of the other observations:"
   ]
  },
  {
   "cell_type": "code",
   "execution_count": null,
   "metadata": {},
   "outputs": [],
   "source": [
    "def get_euclidean_dists_from_obs(obs):\n",
    "    return np.sqrt(\n",
    "        ((housing_df_quant - obs) ** 2).sum(axis=1)\n",
    "    )\n",
    "\n",
    "get_euclidean_dists_from_obs(housing_df_quant.loc[0])"
   ]
  },
  {
   "cell_type": "markdown",
   "metadata": {},
   "source": [
    "The code for this function is very similar to the code that we wrote for Exercise 5 at the end of Section 4.1.\n",
    "\n",
    "Now, to get a matrix of distances $D$, we simply need to apply this function to every row of the `DataFrame`. To achieve this, we use the `.apply()` method with `axis=1`:"
   ]
  },
  {
   "cell_type": "code",
   "execution_count": null,
   "metadata": {},
   "outputs": [],
   "source": [
    "D = housing_df_quant.apply(\n",
    "    get_euclidean_dists_from_obs,\n",
    "    axis=1\n",
    ")\n",
    "D"
   ]
  },
  {
   "cell_type": "markdown",
   "metadata": {},
   "source": [
    "Notice that this is a $2930 \\times 2930$ symmetric matrix of non-negative numbers, with zeroes along the diagonal, just as we predicted."
   ]
  },
  {
   "cell_type": "markdown",
   "metadata": {},
   "source": [
    "_The Short Way_: There are many packages in Python that calculate distance matrices. One such package is scikit-learn, a machine learning package in Python. Machine learning will be discussed in depth in Chapters 5-8, and we will explore the features of scikit-learn extensively in those chapters. Because distance matrices are important in machine learning, scikit-learn provides functions for calculating distance matrices.\n",
    "\n",
    "For example, the following code calculates the (Euclidean) distance matrix between all of the houses in the Ames housing data set:"
   ]
  },
  {
   "cell_type": "code",
   "execution_count": null,
   "metadata": {},
   "outputs": [],
   "source": [
    "from sklearn.metrics import pairwise_distances\n",
    "\n",
    "D_ = pairwise_distances(housing_df_quant, metric=\"euclidean\")\n",
    "D_"
   ]
  },
  {
   "cell_type": "markdown",
   "metadata": {},
   "source": [
    "Notice that the return type is a `numpy` array, instead of a `pandas` `DataFrame`. That is because scikit-learn was designed to work with `numpy` arrays. Although it will accept `pandas` `DataFrame`s as arguments, scikit-learn will convert them `numpy` arrays underneath the hood and return `numpy` arrays.\n",
    "\n",
    "Fortunately, many of the usual `pandas` operations work on `numpy` arrays as well. For example, to get the maximum value in each row, we can use the `.max()` method with `axis=1`."
   ]
  },
  {
   "cell_type": "code",
   "execution_count": null,
   "metadata": {},
   "outputs": [],
   "source": [
    "D_.max(axis=1)"
   ]
  },
  {
   "cell_type": "markdown",
   "metadata": {},
   "source": [
    "# Exercises\n",
    "\n",
    "Exercises 1-3 ask you to work with a data set that describes the chemical composition of 1599 red wines (`https://raw.githubusercontent.com/dlsun/data-science-book/master/data/wines/reds.csv`). All 12 variables in this data set are quantitative."
   ]
  },
  {
   "cell_type": "markdown",
   "metadata": {},
   "source": [
    "**Exercise 1.** Calculate the distance between every pair of wines in this data set."
   ]
  },
  {
   "cell_type": "code",
   "execution_count": null,
   "metadata": {},
   "outputs": [],
   "source": [
    "# YOUR CODE HERE"
   ]
  },
  {
   "cell_type": "markdown",
   "metadata": {},
   "source": [
    "**Exercise 2.** Using the distance matrix that you calculated in Exercise 1, calculate the distance of the wine that is most similar to each wine."
   ]
  },
  {
   "cell_type": "code",
   "execution_count": null,
   "metadata": {},
   "outputs": [],
   "source": [
    "# YOUR CODE HERE"
   ]
  },
  {
   "cell_type": "markdown",
   "metadata": {},
   "source": [
    "**Exercise 3.** Using the distance matrix that you calculated in Exercise 1, determine the identity of the wine that is most similar to each wine."
   ]
  },
  {
   "cell_type": "code",
   "execution_count": null,
   "metadata": {},
   "outputs": [],
   "source": [
    "# YOUR CODE HERE"
   ]
  }
 ],
 "metadata": {
  "kernelspec": {
   "display_name": "Python 3",
   "language": "python",
   "name": "python3"
  },
  "language_info": {
   "codemirror_mode": {
    "name": "ipython",
    "version": 3
   },
   "file_extension": ".py",
   "mimetype": "text/x-python",
   "name": "python",
   "nbconvert_exporter": "python",
   "pygments_lexer": "ipython3",
   "version": "3.6.8"
  }
 },
 "nbformat": 4,
 "nbformat_minor": 2
}
