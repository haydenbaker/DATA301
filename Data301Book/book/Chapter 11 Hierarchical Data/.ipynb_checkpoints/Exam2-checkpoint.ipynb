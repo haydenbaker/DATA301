{
 "cells": [
  {
   "cell_type": "markdown",
   "metadata": {},
   "source": [
    "# Exam 2\n",
    "\n",
    "In this exam, you will request data from the [Zomato API](https://developers.zomato.com/api) and then train machine learning models on the data that you gather. You should have already registered an API key with Zomato, which will entitle you to 1000 API requests per day. This exam can be completed with fewer than 200 API requests."
   ]
  },
  {
   "cell_type": "code",
   "execution_count": 1,
   "metadata": {},
   "outputs": [],
   "source": [
    "%matplotlib inline\n",
    "\n",
    "import numpy as np\n",
    "import pandas as pd\n",
    "import requests\n",
    "\n",
    "apikey = \"75158d6d9d7be13574279f873edd973e\""
   ]
  },
  {
   "cell_type": "markdown",
   "metadata": {},
   "source": [
    "# Question 1 (4 points)\n",
    "\n",
    "Determine the Zomato city ID for Chicago, IL. Then, use this city ID to create a `DataFrame` containing all of the cuisines in Chicago, along with their IDs. Display this `DataFrame`."
   ]
  },
  {
   "cell_type": "code",
   "execution_count": 2,
   "metadata": {},
   "outputs": [],
   "source": [
    "header = {\"user-key\": apikey}\n",
    "resp = requests.get(\"https://developers.zomato.com/api/v2.1/cities?q=Chicago\",\n",
    "                    headers=header)\n",
    "chicago_id = resp.json()['location_suggestions'][0]['id']"
   ]
  },
  {
   "cell_type": "code",
   "execution_count": 3,
   "metadata": {},
   "outputs": [
    {
     "data": {
      "text/plain": [
       "292"
      ]
     },
     "execution_count": 3,
     "metadata": {},
     "output_type": "execute_result"
    }
   ],
   "source": [
    "chicago_id"
   ]
  },
  {
   "cell_type": "code",
   "execution_count": 4,
   "metadata": {},
   "outputs": [],
   "source": [
    "q = \"https://developers.zomato.com/api/v2.1/cuisines?city_id=%d\" % chicago_id\n",
    "resp = requests.get(q, headers=header)"
   ]
  },
  {
   "cell_type": "code",
   "execution_count": 5,
   "metadata": {},
   "outputs": [
    {
     "data": {
      "text/html": [
       "<div>\n",
       "<style scoped>\n",
       "    .dataframe tbody tr th:only-of-type {\n",
       "        vertical-align: middle;\n",
       "    }\n",
       "\n",
       "    .dataframe tbody tr th {\n",
       "        vertical-align: top;\n",
       "    }\n",
       "\n",
       "    .dataframe thead th {\n",
       "        text-align: right;\n",
       "    }\n",
       "</style>\n",
       "<table border=\"1\" class=\"dataframe\">\n",
       "  <thead>\n",
       "    <tr style=\"text-align: right;\">\n",
       "      <th></th>\n",
       "      <th>Id</th>\n",
       "    </tr>\n",
       "    <tr>\n",
       "      <th>Cuisine</th>\n",
       "      <th></th>\n",
       "    </tr>\n",
       "  </thead>\n",
       "  <tbody>\n",
       "    <tr>\n",
       "      <th>Afghan</th>\n",
       "      <td>1035</td>\n",
       "    </tr>\n",
       "    <tr>\n",
       "      <th>African</th>\n",
       "      <td>152</td>\n",
       "    </tr>\n",
       "    <tr>\n",
       "      <th>American</th>\n",
       "      <td>1</td>\n",
       "    </tr>\n",
       "    <tr>\n",
       "      <th>Argentine</th>\n",
       "      <td>151</td>\n",
       "    </tr>\n",
       "    <tr>\n",
       "      <th>Armenian</th>\n",
       "      <td>175</td>\n",
       "    </tr>\n",
       "  </tbody>\n",
       "</table>\n",
       "</div>"
      ],
      "text/plain": [
       "             Id\n",
       "Cuisine        \n",
       "Afghan     1035\n",
       "African     152\n",
       "American      1\n",
       "Argentine   151\n",
       "Armenian    175"
      ]
     },
     "execution_count": 5,
     "metadata": {},
     "output_type": "execute_result"
    }
   ],
   "source": [
    "from pandas.io.json import json_normalize\n",
    "\n",
    "cuisines = resp.json()['cuisines']\n",
    "chicago_cuisines = json_normalize(cuisines).rename(\n",
    "    columns={\"cuisine.cuisine_name\": \"Cuisine\",\n",
    "             \"cuisine.cuisine_id\": \"Id\"}).set_index(\"Cuisine\")\n",
    "chicago_cuisines.head()"
   ]
  },
  {
   "cell_type": "markdown",
   "metadata": {},
   "source": [
    "# Question 2 (4 points)\n",
    "\n",
    "Get the top 40 restaurants (sorted in `desc` order by `rating`) in Chicago for the following cuisines:\n",
    "\n",
    "- Chinese\n",
    "- Italian\n",
    "- Mexican\n",
    "\n",
    "Store the 120 results in a single `DataFrame` with the following columns:\n",
    "\n",
    "- `res_id`: the ID for the Zomato restaurant\n",
    "- `name`\n",
    "- all of the `location` features (i.e., `address`, `locality`, `latitude`, `longitude`, `zipcode`, etc.)\n",
    "- all of the `user_rating` features (i.e., `aggregate_rating`, `votes`, etc.)\n",
    "\n",
    "Display this `DataFrame`."
   ]
  },
  {
   "cell_type": "code",
   "execution_count": 6,
   "metadata": {},
   "outputs": [
    {
     "data": {
      "text/plain": [
       "Cuisine\n",
       "Chinese    25\n",
       "Italian    55\n",
       "Mexican    73\n",
       "Name: Id, dtype: object"
      ]
     },
     "execution_count": 6,
     "metadata": {},
     "output_type": "execute_result"
    }
   ],
   "source": [
    "ids = chicago_cuisines.loc[['Chinese', 'Italian', 'Mexican']]['Id'].astype(str)\n",
    "ids"
   ]
  },
  {
   "cell_type": "code",
   "execution_count": 7,
   "metadata": {},
   "outputs": [],
   "source": [
    "def getTop40(cuisine_id):\n",
    "    q0 = \"https://developers.zomato.com/api/v2.1/search?entity_id=292&entity_type=city&cuisines=%s&sort=rating&order=desc\" % cuisine_id\n",
    "    q20 = \"https://developers.zomato.com/api/v2.1/search?entity_id=292&entity_type=city&cuisines=%s&sort=rating&order=desc&start=20\" % cuisine_id\n",
    "    r0 = requests.get(q0, headers=header).json()[\"restaurants\"]\n",
    "    r20 = requests.get(q20, headers=header).json()[\"restaurants\"]\n",
    "    return r0 + r20"
   ]
  },
  {
   "cell_type": "code",
   "execution_count": 8,
   "metadata": {},
   "outputs": [],
   "source": [
    "chinese_rest = getTop40(ids[0])\n",
    "italian_rest = getTop40(ids[1])\n",
    "mexican_rest = getTop40(ids[2])"
   ]
  },
  {
   "cell_type": "code",
   "execution_count": 9,
   "metadata": {},
   "outputs": [],
   "source": [
    "def buildTopDf(restaurants, cuisine):\n",
    "    df = pd.DataFrame()\n",
    "    for restaurant in restaurants:\n",
    "        df = df.append(json_normalize(restaurant[\"restaurant\"][\"R\"]).join([\n",
    "            pd.DataFrame({\"name\": [restaurant[\"restaurant\"][\"name\"]]}),\n",
    "            pd.DataFrame({\"cuisine\": [cuisine]}),\n",
    "            json_normalize(restaurant[\"restaurant\"][\"location\"]),\n",
    "            json_normalize(restaurant[\"restaurant\"][\"user_rating\"])]),\n",
    "                ignore_index=True)\n",
    "    return df"
   ]
  },
  {
   "cell_type": "code",
   "execution_count": 10,
   "metadata": {},
   "outputs": [],
   "source": [
    "restaurants_df = pd.DataFrame() \n",
    "for cuisine, restaurants in {\"Chinese\": chinese_rest,\n",
    "                            \"Italian\": italian_rest,\n",
    "                            \"Mexican\": mexican_rest}.items():\n",
    "    restaurants_df = restaurants_df.append(\n",
    "        buildTopDf(restaurants, cuisine),\n",
    "        ignore_index=True)"
   ]
  },
  {
   "cell_type": "code",
   "execution_count": 11,
   "metadata": {},
   "outputs": [
    {
     "data": {
      "text/html": [
       "<div>\n",
       "<style scoped>\n",
       "    .dataframe tbody tr th:only-of-type {\n",
       "        vertical-align: middle;\n",
       "    }\n",
       "\n",
       "    .dataframe tbody tr th {\n",
       "        vertical-align: top;\n",
       "    }\n",
       "\n",
       "    .dataframe thead th {\n",
       "        text-align: right;\n",
       "    }\n",
       "</style>\n",
       "<table border=\"1\" class=\"dataframe\">\n",
       "  <thead>\n",
       "    <tr style=\"text-align: right;\">\n",
       "      <th></th>\n",
       "      <th>res_id</th>\n",
       "      <th>name</th>\n",
       "      <th>cuisine</th>\n",
       "      <th>address</th>\n",
       "      <th>city</th>\n",
       "      <th>city_id</th>\n",
       "      <th>country_id</th>\n",
       "      <th>latitude</th>\n",
       "      <th>locality</th>\n",
       "      <th>locality_verbose</th>\n",
       "      <th>longitude</th>\n",
       "      <th>zipcode</th>\n",
       "      <th>aggregate_rating</th>\n",
       "      <th>has_fake_reviews</th>\n",
       "      <th>rating_color</th>\n",
       "      <th>rating_text</th>\n",
       "      <th>votes</th>\n",
       "    </tr>\n",
       "  </thead>\n",
       "  <tbody>\n",
       "    <tr>\n",
       "      <th>0</th>\n",
       "      <td>16735363</td>\n",
       "      <td>Joy Yee's Noodles</td>\n",
       "      <td>Chinese</td>\n",
       "      <td>521 Davis Street 60201</td>\n",
       "      <td>Chicago</td>\n",
       "      <td>292</td>\n",
       "      <td>216</td>\n",
       "      <td>42.0460805556</td>\n",
       "      <td>Evanston</td>\n",
       "      <td>Evanston, Chicago</td>\n",
       "      <td>-87.6790305556</td>\n",
       "      <td>60201</td>\n",
       "      <td>4.5</td>\n",
       "      <td>0</td>\n",
       "      <td>3F7E00</td>\n",
       "      <td>Excellent</td>\n",
       "      <td>161</td>\n",
       "    </tr>\n",
       "    <tr>\n",
       "      <th>1</th>\n",
       "      <td>16749821</td>\n",
       "      <td>Yu's Mandarin Restaurant</td>\n",
       "      <td>Chinese</td>\n",
       "      <td>200 E Golf Road 60173</td>\n",
       "      <td>Chicago</td>\n",
       "      <td>292</td>\n",
       "      <td>216</td>\n",
       "      <td>42.0507000000</td>\n",
       "      <td>Schaumburg</td>\n",
       "      <td>Schaumburg, Chicago</td>\n",
       "      <td>-88.0742638889</td>\n",
       "      <td>60173</td>\n",
       "      <td>4.5</td>\n",
       "      <td>0</td>\n",
       "      <td>3F7E00</td>\n",
       "      <td>Excellent</td>\n",
       "      <td>158</td>\n",
       "    </tr>\n",
       "    <tr>\n",
       "      <th>2</th>\n",
       "      <td>16743712</td>\n",
       "      <td>Chi Tung Restaurant</td>\n",
       "      <td>Chinese</td>\n",
       "      <td>9560 S. Kedzie Avenue, Evergreen Park 60805</td>\n",
       "      <td>Chicago</td>\n",
       "      <td>292</td>\n",
       "      <td>216</td>\n",
       "      <td>41.7197000000</td>\n",
       "      <td>Evergreen Park</td>\n",
       "      <td>Evergreen Park, Chicago</td>\n",
       "      <td>-87.7020000000</td>\n",
       "      <td>60805</td>\n",
       "      <td>4.5</td>\n",
       "      <td>0</td>\n",
       "      <td>3F7E00</td>\n",
       "      <td>Excellent</td>\n",
       "      <td>115</td>\n",
       "    </tr>\n",
       "    <tr>\n",
       "      <th>3</th>\n",
       "      <td>16747211</td>\n",
       "      <td>Chinese Kitchen</td>\n",
       "      <td>Chinese</td>\n",
       "      <td>1003 W. Ogden Avenue, Suite B, Naperville 60563</td>\n",
       "      <td>Chicago</td>\n",
       "      <td>292</td>\n",
       "      <td>216</td>\n",
       "      <td>41.7848777778</td>\n",
       "      <td>Naperville</td>\n",
       "      <td>Naperville, Chicago</td>\n",
       "      <td>-88.1680916667</td>\n",
       "      <td>60563</td>\n",
       "      <td>4.4</td>\n",
       "      <td>0</td>\n",
       "      <td>5BA829</td>\n",
       "      <td>Very Good</td>\n",
       "      <td>31</td>\n",
       "    </tr>\n",
       "    <tr>\n",
       "      <th>4</th>\n",
       "      <td>16751533</td>\n",
       "      <td>Tsing Tao Mandarin Chinese</td>\n",
       "      <td>Chinese</td>\n",
       "      <td>537 Green Bay Road, Wilmette 60091</td>\n",
       "      <td>Chicago</td>\n",
       "      <td>292</td>\n",
       "      <td>216</td>\n",
       "      <td>42.0748055556</td>\n",
       "      <td>Wilmette</td>\n",
       "      <td>Wilmette, Chicago</td>\n",
       "      <td>-87.7077638889</td>\n",
       "      <td>60091</td>\n",
       "      <td>4.4</td>\n",
       "      <td>0</td>\n",
       "      <td>5BA829</td>\n",
       "      <td>Very Good</td>\n",
       "      <td>22</td>\n",
       "    </tr>\n",
       "  </tbody>\n",
       "</table>\n",
       "</div>"
      ],
      "text/plain": [
       "     res_id                        name  cuisine  \\\n",
       "0  16735363           Joy Yee's Noodles  Chinese   \n",
       "1  16749821    Yu's Mandarin Restaurant  Chinese   \n",
       "2  16743712         Chi Tung Restaurant  Chinese   \n",
       "3  16747211             Chinese Kitchen  Chinese   \n",
       "4  16751533  Tsing Tao Mandarin Chinese  Chinese   \n",
       "\n",
       "                                           address     city  city_id  \\\n",
       "0                           521 Davis Street 60201  Chicago      292   \n",
       "1                            200 E Golf Road 60173  Chicago      292   \n",
       "2      9560 S. Kedzie Avenue, Evergreen Park 60805  Chicago      292   \n",
       "3  1003 W. Ogden Avenue, Suite B, Naperville 60563  Chicago      292   \n",
       "4               537 Green Bay Road, Wilmette 60091  Chicago      292   \n",
       "\n",
       "   country_id       latitude        locality         locality_verbose  \\\n",
       "0         216  42.0460805556        Evanston        Evanston, Chicago   \n",
       "1         216  42.0507000000      Schaumburg      Schaumburg, Chicago   \n",
       "2         216  41.7197000000  Evergreen Park  Evergreen Park, Chicago   \n",
       "3         216  41.7848777778      Naperville      Naperville, Chicago   \n",
       "4         216  42.0748055556        Wilmette        Wilmette, Chicago   \n",
       "\n",
       "        longitude zipcode aggregate_rating  has_fake_reviews rating_color  \\\n",
       "0  -87.6790305556   60201              4.5                 0       3F7E00   \n",
       "1  -88.0742638889   60173              4.5                 0       3F7E00   \n",
       "2  -87.7020000000   60805              4.5                 0       3F7E00   \n",
       "3  -88.1680916667   60563              4.4                 0       5BA829   \n",
       "4  -87.7077638889   60091              4.4                 0       5BA829   \n",
       "\n",
       "  rating_text votes  \n",
       "0   Excellent   161  \n",
       "1   Excellent   158  \n",
       "2   Excellent   115  \n",
       "3   Very Good    31  \n",
       "4   Very Good    22  "
      ]
     },
     "execution_count": 11,
     "metadata": {},
     "output_type": "execute_result"
    }
   ],
   "source": [
    "restaurants_df.head()"
   ]
  },
  {
   "cell_type": "markdown",
   "metadata": {},
   "source": [
    "# Question 3 (4 points)\n",
    "\n",
    "For each of the 120 restaurants that you identified in Question 2, get the 5 most recent reviews. Store all of the  reviews in a `DataFrame` with the following columns:\n",
    "\n",
    "- `rating`\n",
    "- `review_text`\n",
    "- all of the `user` features (such as `name`, `foodie_level`, `foodie_level_num`)\n",
    "\n",
    "Display this `DataFrame`."
   ]
  },
  {
   "cell_type": "code",
   "execution_count": 12,
   "metadata": {},
   "outputs": [],
   "source": [
    "restaurant_ids = restaurants_df[\"res_id\"]"
   ]
  },
  {
   "cell_type": "code",
   "execution_count": 13,
   "metadata": {},
   "outputs": [],
   "source": [
    "from time import sleep\n",
    "import warnings\n",
    "warnings.filterwarnings(\"ignore\")\n",
    "\n",
    "reviews = []\n",
    "for restaurant_id in restaurant_ids:\n",
    "    q = \"https://developers.zomato.com/api/v2.1/reviews?res_id=%s&count=5\" % restaurant_id\n",
    "    r = requests.get(q, headers=header).json()[\"user_reviews\"]\n",
    "    reviews += r\n",
    "    sleep(0.25)"
   ]
  },
  {
   "cell_type": "code",
   "execution_count": 14,
   "metadata": {},
   "outputs": [],
   "source": [
    "reviews_df = pd.DataFrame()\n",
    "for review in reviews:\n",
    "    reviews_df = reviews_df.append(\n",
    "        pd.DataFrame({\"rating\": [review[\"review\"][\"rating\"]]}).join([\n",
    "        pd.DataFrame({\"review_text\": [review[\"review\"][\"review_text\"]]}),\n",
    "        json_normalize(review[\"review\"][\"user\"])]),\n",
    "            ignore_index=True)"
   ]
  },
  {
   "cell_type": "code",
   "execution_count": 15,
   "metadata": {},
   "outputs": [
    {
     "data": {
      "text/html": [
       "<div>\n",
       "<style scoped>\n",
       "    .dataframe tbody tr th:only-of-type {\n",
       "        vertical-align: middle;\n",
       "    }\n",
       "\n",
       "    .dataframe tbody tr th {\n",
       "        vertical-align: top;\n",
       "    }\n",
       "\n",
       "    .dataframe thead th {\n",
       "        text-align: right;\n",
       "    }\n",
       "</style>\n",
       "<table border=\"1\" class=\"dataframe\">\n",
       "  <thead>\n",
       "    <tr style=\"text-align: right;\">\n",
       "      <th></th>\n",
       "      <th>foodie_color</th>\n",
       "      <th>foodie_level</th>\n",
       "      <th>foodie_level_num</th>\n",
       "      <th>name</th>\n",
       "      <th>profile_deeplink</th>\n",
       "      <th>profile_image</th>\n",
       "      <th>profile_url</th>\n",
       "      <th>rating</th>\n",
       "      <th>review_text</th>\n",
       "      <th>zomato_handle</th>\n",
       "    </tr>\n",
       "  </thead>\n",
       "  <tbody>\n",
       "    <tr>\n",
       "      <th>0</th>\n",
       "      <td>ffd35d</td>\n",
       "      <td>Foodie</td>\n",
       "      <td>3</td>\n",
       "      <td>Jason Jobe</td>\n",
       "      <td>zomato://u/30860504</td>\n",
       "      <td>https://b.zmtcdn.com/data/user_profile_picture...</td>\n",
       "      <td>https://www.zomato.com/users/jason-jobe-308605...</td>\n",
       "      <td>5.0</td>\n",
       "      <td>Lively ambiance, but its all about the food. T...</td>\n",
       "      <td>NaN</td>\n",
       "    </tr>\n",
       "    <tr>\n",
       "      <th>1</th>\n",
       "      <td>ffd35d</td>\n",
       "      <td>Foodie</td>\n",
       "      <td>2</td>\n",
       "      <td>Tarek Anthony</td>\n",
       "      <td>zomato://u/33462700</td>\n",
       "      <td>https://b.zmtcdn.com/data/user_profile_picture...</td>\n",
       "      <td>https://www.zomato.com/users/tarek-anthony-334...</td>\n",
       "      <td>5.0</td>\n",
       "      <td>It was very good food a customer service  Has ...</td>\n",
       "      <td>NaN</td>\n",
       "    </tr>\n",
       "    <tr>\n",
       "      <th>2</th>\n",
       "      <td>ffae4f</td>\n",
       "      <td>Big Foodie</td>\n",
       "      <td>6</td>\n",
       "      <td>Jalpa T</td>\n",
       "      <td>zomato://u/30483347</td>\n",
       "      <td>https://b.zmtcdn.com/data/user_profile_picture...</td>\n",
       "      <td>https://www.zomato.com/samosapop?utm_source=ap...</td>\n",
       "      <td>4.0</td>\n",
       "      <td>Yummy yummy yummy! This place is a gold mine. ...</td>\n",
       "      <td>samosapop</td>\n",
       "    </tr>\n",
       "    <tr>\n",
       "      <th>3</th>\n",
       "      <td>f58552</td>\n",
       "      <td>Super Foodie</td>\n",
       "      <td>8</td>\n",
       "      <td>Prapti</td>\n",
       "      <td>zomato://u/1510791</td>\n",
       "      <td>https://b.zmtcdn.com/data/user_profile_picture...</td>\n",
       "      <td>https://www.zomato.com/Praptisahni?utm_source=...</td>\n",
       "      <td>3.5</td>\n",
       "      <td>Huge portions. good food, and they actually ma...</td>\n",
       "      <td>Praptisahni</td>\n",
       "    </tr>\n",
       "    <tr>\n",
       "      <th>4</th>\n",
       "      <td>ffd35d</td>\n",
       "      <td>Foodie</td>\n",
       "      <td>1</td>\n",
       "      <td>Mtnsguy</td>\n",
       "      <td>zomato://u/23884812</td>\n",
       "      <td>https://b.zmtcdn.com/images/user_avatars/mug_2...</td>\n",
       "      <td>https://www.zomato.com/users/mtnsguy-23884812?...</td>\n",
       "      <td>0.0</td>\n",
       "      <td>Stay away from this rapidly declining restaura...</td>\n",
       "      <td>NaN</td>\n",
       "    </tr>\n",
       "  </tbody>\n",
       "</table>\n",
       "</div>"
      ],
      "text/plain": [
       "  foodie_color  foodie_level  foodie_level_num           name  \\\n",
       "0       ffd35d        Foodie                 3     Jason Jobe   \n",
       "1       ffd35d        Foodie                 2  Tarek Anthony   \n",
       "2       ffae4f    Big Foodie                 6        Jalpa T   \n",
       "3       f58552  Super Foodie                 8         Prapti   \n",
       "4       ffd35d        Foodie                 1        Mtnsguy   \n",
       "\n",
       "      profile_deeplink                                      profile_image  \\\n",
       "0  zomato://u/30860504  https://b.zmtcdn.com/data/user_profile_picture...   \n",
       "1  zomato://u/33462700  https://b.zmtcdn.com/data/user_profile_picture...   \n",
       "2  zomato://u/30483347  https://b.zmtcdn.com/data/user_profile_picture...   \n",
       "3   zomato://u/1510791  https://b.zmtcdn.com/data/user_profile_picture...   \n",
       "4  zomato://u/23884812  https://b.zmtcdn.com/images/user_avatars/mug_2...   \n",
       "\n",
       "                                         profile_url  rating  \\\n",
       "0  https://www.zomato.com/users/jason-jobe-308605...     5.0   \n",
       "1  https://www.zomato.com/users/tarek-anthony-334...     5.0   \n",
       "2  https://www.zomato.com/samosapop?utm_source=ap...     4.0   \n",
       "3  https://www.zomato.com/Praptisahni?utm_source=...     3.5   \n",
       "4  https://www.zomato.com/users/mtnsguy-23884812?...     0.0   \n",
       "\n",
       "                                         review_text zomato_handle  \n",
       "0  Lively ambiance, but its all about the food. T...           NaN  \n",
       "1  It was very good food a customer service  Has ...           NaN  \n",
       "2  Yummy yummy yummy! This place is a gold mine. ...     samosapop  \n",
       "3  Huge portions. good food, and they actually ma...   Praptisahni  \n",
       "4  Stay away from this rapidly declining restaura...           NaN  "
      ]
     },
     "execution_count": 15,
     "metadata": {},
     "output_type": "execute_result"
    }
   ],
   "source": [
    "reviews_df.head()"
   ]
  },
  {
   "cell_type": "markdown",
   "metadata": {},
   "source": [
    "# Question 4 (6 points)\n",
    "\n",
    "Let's use the restaurants data that you obtained in Question 2 to train a machine learning model to predict whether a restaurant serves Chinese, Italian, or Mexican cuisine, given just the `latitude` and the `longitude` of the restaurant. (For a 1 point penalty, you can download `restaurants.csv` [from PolyLearn](https://polylearn.calpoly.edu/AY_2018-2019/mod/assign/view.php?id=343940), upload it to the current directory, and read in the file.)\n",
    "\n",
    "Train a $k$-nearest neighbors model. Determine the optimal value of $k$. Calculate an estimate of the test precision and recall of your final model. Interpret these values in the context of this application."
   ]
  },
  {
   "cell_type": "code",
   "execution_count": 16,
   "metadata": {},
   "outputs": [],
   "source": [
    "from sklearn.preprocessing import RobustScaler\n",
    "from sklearn.neighbors import KNeighborsClassifier\n",
    "from sklearn.pipeline import Pipeline\n",
    "\n",
    "scaler = RobustScaler()\n",
    "model = KNeighborsClassifier()\n",
    "\n",
    "pipeline = Pipeline([\n",
    "    (\"scaler\", scaler),\n",
    "    (\"model\", model)\n",
    "])\n",
    "\n",
    "X, y = restaurants_df[['latitude', 'longitude']], restaurants_df['cuisine']"
   ]
  },
  {
   "cell_type": "code",
   "execution_count": 17,
   "metadata": {},
   "outputs": [
    {
     "name": "stdout",
     "output_type": "stream",
     "text": [
      "{'model__n_neighbors': 9} 0.438734006734\n"
     ]
    },
    {
     "data": {
      "image/png": "[encoded data removed]",
      "text/plain": [
       "<Figure size 432x288 with 1 Axes>"
      ]
     },
     "metadata": {
      "needs_background": "light"
     },
     "output_type": "display_data"
    }
   ],
   "source": [
    "from sklearn.model_selection import GridSearchCV\n",
    "\n",
    "k = range(1, 20, 1)\n",
    "pg = {\n",
    "    \"model__n_neighbors\": k\n",
    "}\n",
    "\n",
    "classifier_model = GridSearchCV(\n",
    "    pipeline, pg, cv=5, scoring={\n",
    "    \"f1\": \"f1_macro\",\n",
    "    \"acc\": \"accuracy\",\n",
    "    \"rec\": \"recall_macro\",\n",
    "    \"prec\": \"precision_macro\"},\n",
    "    refit=\"f1\")\n",
    "\n",
    "classifier_model.fit(X, y)\n",
    "\n",
    "pd.DataFrame({\"f1\": classifier_model.cv_results_[\"mean_test_f1\"],\n",
    "              \"acc\": classifier_model.cv_results_[\"mean_test_acc\"],\n",
    "              \"rec\": classifier_model.cv_results_[\"mean_test_rec\"],\n",
    "              \"prec\": classifier_model.cv_results_[\"mean_test_prec\"]\n",
    "             }, \n",
    "             index=k).plot()\n",
    "print(classifier_model.best_params_,\n",
    "      classifier_model.best_score_)"
   ]
  },
  {
   "cell_type": "markdown",
   "metadata": {},
   "source": [
    "From our plot, we can see that our features (latitude and longitude) are not good features for classifying our data. The model is only slightly better than randomly choosing a cuisine out of the three possible. We discovered that the best k-value for this model is 9. However, even with this best value, the model had low precision and recall. This implies that the model often mislabeled observations (False negatives, False positives)."
   ]
  },
  {
   "cell_type": "markdown",
   "metadata": {},
   "source": [
    "# Question 5 (6 points)\n",
    "\n",
    "Let's use the reviews data that you obtained in Question 3 to train a machine learning model to predict a rating, given just the `review_text`. (For a 1 point penalty, you can download `reviews.csv` [from PolyLearn](https://polylearn.calpoly.edu/AY_2018-2019/mod/assign/view.php?id=343940), upload it to the current directory, and read in the file.)\n",
    "\n",
    "You will have to first convert the text of the review into quantitative features. Instead of including every word that appears, it is usually better to restrict to words that appear at least $m$ times, where $m$ is a hyperparameter. Plot the training and the test RMSE of a $10$-nearest neighbors model as a function of this hyperparameter $m$. What value of $m$ is optimal? What is the test RMSE of this optimal model? Interpret the test RMSE in the context of this application.\n",
    "\n",
    "**Hint:** The hyperparameter $m$ corresponds to the `min_df=` argument of `CountVectorizer` and `TfidfVectorizer` in _scikit-learn_."
   ]
  },
  {
   "cell_type": "code",
   "execution_count": 18,
   "metadata": {},
   "outputs": [],
   "source": [
    "from sklearn.feature_extraction.text import TfidfVectorizer \n",
    "from sklearn.neighbors import KNeighborsRegressor\n",
    "\n",
    "vec = TfidfVectorizer()\n",
    "model = KNeighborsRegressor(n_neighbors=10)\n",
    "\n",
    "pipeline = Pipeline([\n",
    "    (\"vec\", vec),\n",
    "    (\"model\", model)\n",
    "])\n",
    "\n",
    "X, y = reviews_df['review_text'].fillna(\"\"), reviews_df['rating']"
   ]
  },
  {
   "cell_type": "code",
   "execution_count": 19,
   "metadata": {},
   "outputs": [
    {
     "name": "stdout",
     "output_type": "stream",
     "text": [
      "CV RMSE: 1.98628188935\n"
     ]
    },
    {
     "name": "stderr",
     "output_type": "stream",
     "text": [
      "/opt/conda/lib/python3.6/site-packages/sklearn/model_selection/_search.py:841: DeprecationWarning: The default of the `iid` parameter will change from True to False in version 0.22 and will be removed in 0.24. This will change numeric results when test-set sizes are unequal.\n",
      "  DeprecationWarning)\n"
     ]
    },
    {
     "data": {
      "image/png": "[encoded data removed]",
      "text/plain": [
       "<Figure size 432x288 with 1 Axes>"
      ]
     },
     "metadata": {
      "needs_background": "light"
     },
     "output_type": "display_data"
    }
   ],
   "source": [
    "m = range(0, 30, 1)\n",
    "pg = {\n",
    "    \"vec__min_df\": m\n",
    "}\n",
    "\n",
    "regressor_model = GridSearchCV(\n",
    "    pipeline, pg, cv=5, scoring=\"neg_mean_squared_error\")\n",
    "\n",
    "regressor_model.fit(X, y)\n",
    "\n",
    "pd.DataFrame({\"train\": np.sqrt(-regressor_model.cv_results_['mean_train_score']),\n",
    "              \"test\": np.sqrt(-regressor_model.cv_results_['mean_test_score'])}, \n",
    "             index=m).plot()\n",
    "print(\"CV RMSE:\", np.sqrt(-regressor_model.best_score_))"
   ]
  },
  {
   "cell_type": "markdown",
   "metadata": {},
   "source": [
    "From our plot, we can see that the best value for our hyperparamater m is around 0. The test set shows this pretty clearly, but the training set has a few dips around 14. However, we want to minimize our test error more than our training error, as the test error better captures our true error in predicting values our model has not seen. "
   ]
  },
  {
   "cell_type": "markdown",
   "metadata": {},
   "source": [
    "# Question 6 (6 points)\n",
    "\n",
    "Let's use the reviews data to train a machine learning model to predict the `rating`, given just the `foodie_level_num` of the user. Fit an $80$-nearest neighbors model to predict `rating` from the `foodie_level_num`. Make a scatterplot showing the two variables, and add a curve to this scatterplot that shows the predicted `rating` as a function of `foodie_level_num`. What is the test RMSE of this model?\n",
    "\n",
    "Then, combine this model with your (optimal) model from Question 5 into a ensemble model. How does the test RMSE of the ensemble model compare to the test RMSE of each individual model?\n",
    "\n",
    "**Hint:** Feel free to borrow the `RegressionEnsembler` [code that I wrote](https://github.com/dlsun/data-science-book/blob/master/Chapter%205%20Machine%20Learning%20and%20Regression%20Models/5.6%20Ensemble%20Methods.ipynb). However, it will not work out of the box because the two models you are trying to combine use different variables as input. So if you use my `RegressionEnsembler`, you will have to adapt it to make it work for this problem."
   ]
  },
  {
   "cell_type": "code",
   "execution_count": 71,
   "metadata": {},
   "outputs": [],
   "source": [
    "scaler = RobustScaler()\n",
    "model = KNeighborsRegressor(n_neighbors=80)\n",
    "\n",
    "pipeline = Pipeline([\n",
    "    (\"scaler\", scaler),\n",
    "    (\"model\", model)\n",
    "])\n",
    "\n",
    "X, y = reviews_df[['foodie_level_num']], reviews_df['rating']"
   ]
  },
  {
   "cell_type": "code",
   "execution_count": 108,
   "metadata": {},
   "outputs": [
    {
     "name": "stderr",
     "output_type": "stream",
     "text": [
      "/opt/conda/lib/python3.6/site-packages/sklearn/model_selection/_search.py:841: DeprecationWarning: The default of the `iid` parameter will change from True to False in version 0.22 and will be removed in 0.24. This will change numeric results when test-set sizes are unequal.\n",
      "  DeprecationWarning)\n"
     ]
    }
   ],
   "source": [
    "regressor_model = GridSearchCV(\n",
    "    pipeline, {}, cv=5, scoring=\"neg_mean_squared_error\")\n",
    "\n",
    "regressor_model.fit(X, y)\n",
    "\n",
    "pred = pd.DataFrame({\"x\": range(1, 14)}).set_index(\"x\")\n",
    "pred[\"y_pred\"] = regressor_model.predict(x_pred)"
   ]
  },
  {
   "cell_type": "code",
   "execution_count": 109,
   "metadata": {},
   "outputs": [
    {
     "data": {
      "text/html": [
       "<div>\n",
       "<style scoped>\n",
       "    .dataframe tbody tr th:only-of-type {\n",
       "        vertical-align: middle;\n",
       "    }\n",
       "\n",
       "    .dataframe tbody tr th {\n",
       "        vertical-align: top;\n",
       "    }\n",
       "\n",
       "    .dataframe thead th {\n",
       "        text-align: right;\n",
       "    }\n",
       "</style>\n",
       "<table border=\"1\" class=\"dataframe\">\n",
       "  <thead>\n",
       "    <tr style=\"text-align: right;\">\n",
       "      <th></th>\n",
       "      <th>y_pred</th>\n",
       "    </tr>\n",
       "    <tr>\n",
       "      <th>x</th>\n",
       "      <th></th>\n",
       "    </tr>\n",
       "  </thead>\n",
       "  <tbody>\n",
       "    <tr>\n",
       "      <th>1</th>\n",
       "      <td>0.00000</td>\n",
       "    </tr>\n",
       "    <tr>\n",
       "      <th>2</th>\n",
       "      <td>1.48125</td>\n",
       "    </tr>\n",
       "    <tr>\n",
       "      <th>3</th>\n",
       "      <td>2.32500</td>\n",
       "    </tr>\n",
       "    <tr>\n",
       "      <th>4</th>\n",
       "      <td>2.56875</td>\n",
       "    </tr>\n",
       "    <tr>\n",
       "      <th>5</th>\n",
       "      <td>2.90000</td>\n",
       "    </tr>\n",
       "    <tr>\n",
       "      <th>6</th>\n",
       "      <td>3.08750</td>\n",
       "    </tr>\n",
       "    <tr>\n",
       "      <th>7</th>\n",
       "      <td>3.24375</td>\n",
       "    </tr>\n",
       "    <tr>\n",
       "      <th>8</th>\n",
       "      <td>3.48125</td>\n",
       "    </tr>\n",
       "    <tr>\n",
       "      <th>9</th>\n",
       "      <td>4.09375</td>\n",
       "    </tr>\n",
       "    <tr>\n",
       "      <th>10</th>\n",
       "      <td>4.04375</td>\n",
       "    </tr>\n",
       "    <tr>\n",
       "      <th>11</th>\n",
       "      <td>4.00000</td>\n",
       "    </tr>\n",
       "    <tr>\n",
       "      <th>12</th>\n",
       "      <td>3.69375</td>\n",
       "    </tr>\n",
       "    <tr>\n",
       "      <th>13</th>\n",
       "      <td>3.69375</td>\n",
       "    </tr>\n",
       "  </tbody>\n",
       "</table>\n",
       "</div>"
      ],
      "text/plain": [
       "     y_pred\n",
       "x          \n",
       "1   0.00000\n",
       "2   1.48125\n",
       "3   2.32500\n",
       "4   2.56875\n",
       "5   2.90000\n",
       "6   3.08750\n",
       "7   3.24375\n",
       "8   3.48125\n",
       "9   4.09375\n",
       "10  4.04375\n",
       "11  4.00000\n",
       "12  3.69375\n",
       "13  3.69375"
      ]
     },
     "execution_count": 109,
     "metadata": {},
     "output_type": "execute_result"
    }
   ],
   "source": [
    "pred"
   ]
  },
  {
   "cell_type": "code",
   "execution_count": 114,
   "metadata": {},
   "outputs": [
    {
     "name": "stdout",
     "output_type": "stream",
     "text": [
      "CV RMSE: 1.4179280817\n"
     ]
    },
    {
     "data": {
      "image/png": "[encoded data removed]",
      "text/plain": [
       "<Figure size 432x288 with 1 Axes>"
      ]
     },
     "metadata": {
      "needs_background": "light"
     },
     "output_type": "display_data"
    }
   ],
   "source": [
    "(pd.DataFrame({\"foodie_level_num\": X['foodie_level_num'], \"rating\": y})\n",
    "    .plot.scatter(x=\"foodie_level_num\", y=\"rating\", xticks=range(1, 14)))\n",
    "plt.plot(pred)\n",
    "print(\"CV RMSE:\", np.sqrt(-regressor_model.best_score_))"
   ]
  },
  {
   "cell_type": "markdown",
   "metadata": {},
   "source": [
    "This model did considerably better than the previous model. We can infer then that the \"foodie_level_num\" is a better predictor of rating than the actual review itself. "
   ]
  },
  {
   "cell_type": "code",
   "execution_count": 23,
   "metadata": {},
   "outputs": [],
   "source": [
    "X, y = (reviews_df[[\"review_text\", \"foodie_level_num\"]], \n",
    "    reviews_df['rating'])\n",
    "X[\"review_text\"] = X[\"review_text\"].fillna(\"\")"
   ]
  },
  {
   "cell_type": "code",
   "execution_count": 24,
   "metadata": {},
   "outputs": [],
   "source": [
    "from sklearn.base import TransformerMixin\n",
    "from sklearn.base import BaseEstimator\n",
    "from sklearn.pipeline import FeatureUnion\n",
    "from sklearn.ensemble import GradientBoostingRegressor\n",
    "\n",
    "class ColSelector(BaseEstimator, TransformerMixin):\n",
    "    def __init__(self, cols):\n",
    "        self.cols = cols\n",
    "\n",
    "    def fit(self, X, y=None):\n",
    "        return self\n",
    "\n",
    "    def transform(self, X):\n",
    "        return X[self.cols]\n",
    "\n",
    "class Converter(BaseEstimator, TransformerMixin):\n",
    "    def fit(self, x, y=None):\n",
    "        return self\n",
    "\n",
    "    def transform(self, data_frame):\n",
    "        return data_frame.values.ravel()\n",
    "    \n",
    "full_pipe = Pipeline([\n",
    "    (\"selector\", ColSelector(cols=X.columns.values)),\n",
    "    (\"features\", FeatureUnion(transformer_list=[\n",
    "        (\"numeric_pipe\", Pipeline([\n",
    "            (\"selector\", ColSelector(cols=[\n",
    "                \"foodie_level_num\"])),\n",
    "            (\"scaler\", RobustScaler()),\n",
    "        ])),\n",
    "        (\"description_pipe\", Pipeline([\n",
    "            (\"selector\", ColSelector(cols=[\n",
    "                \"review_text\"])),\n",
    "            (\"converter\", Converter()),\n",
    "            (\"vectorizer\", TfidfVectorizer())\n",
    "        ]))\n",
    "    ])),\n",
    "    (\"regressor\", GradientBoostingRegressor(n_estimators=50))\n",
    "])"
   ]
  },
  {
   "cell_type": "code",
   "execution_count": 25,
   "metadata": {},
   "outputs": [
    {
     "name": "stderr",
     "output_type": "stream",
     "text": [
      "/opt/conda/lib/python3.6/site-packages/sklearn/model_selection/_search.py:841: DeprecationWarning: The default of the `iid` parameter will change from True to False in version 0.22 and will be removed in 0.24. This will change numeric results when test-set sizes are unequal.\n",
      "  DeprecationWarning)\n"
     ]
    },
    {
     "name": "stdout",
     "output_type": "stream",
     "text": [
      "CV RMSE: 1.46881474514\n"
     ]
    }
   ],
   "source": [
    "regressor_model = GridSearchCV(\n",
    "    full_pipe, {}, cv=5, scoring=\"neg_mean_squared_error\")\n",
    "\n",
    "regressor_model.fit(X, y)\n",
    "print(\"CV RMSE:\", np.sqrt(-regressor_model.best_score_))"
   ]
  },
  {
   "cell_type": "code",
   "execution_count": 26,
   "metadata": {},
   "outputs": [
    {
     "data": {
      "text/plain": [
       "Text(4,1,'$R^2$ = 0.76')"
      ]
     },
     "execution_count": 26,
     "metadata": {},
     "output_type": "execute_result"
    },
    {
     "data": {
      "image/png": "[encoded data removed]",
      "text/plain": [
       "<Figure size 432x288 with 1 Axes>"
      ]
     },
     "metadata": {
      "needs_background": "light"
     },
     "output_type": "display_data"
    }
   ],
   "source": [
    "from sklearn.metrics import r2_score\n",
    "import matplotlib.pyplot as plt\n",
    "\n",
    "y_pred = regressor_model.predict(X)\n",
    "(pd.DataFrame({\"Actual\": y, \"Predicted\": y_pred})\n",
    "    .plot.scatter(x=\"Actual\", y=\"Predicted\"))\n",
    "plt.text(x=4, y=1, s=\"$R^2$ = {:3.2f}\".format(r2_score(y, y_pred)))"
   ]
  },
  {
   "cell_type": "markdown",
   "metadata": {},
   "source": [
    "Using sklearn's built in ensemble method `GradientBoostingRegressor`, I was able to determine that an ensemble method does not help with the data. The ensemble method performs slightly worse than the straight `KNeighborsRegressor` on the foodie levels, and performs much better than regression over just the text dat by itself. We can also see from the scatterplot that our predictions have a moderate positive correlation with the true values. If the correlation was very high (closer to 1.0), we would know that our model is overfitting on our training data."
   ]
  },
  {
   "cell_type": "markdown",
   "metadata": {},
   "source": [
    "# Submission Instructions\n",
    "\n",
    "Once you are finished, follow these steps:\n",
    "\n",
    "1. Restart the kernel and re-run this notebook from beginning to end by going to `Kernel > Restart Kernel and Run All Cells`. (If you are close to your API quota limit, do not re-run the code for Questions 1-3.)\n",
    "2. If this process stops halfway through, that means there was an error. Correct the error and repeat Step 1 until the notebook runs from beginning to end.\n",
    "3. Double check that there is a number next to each code cell and that these numbers are in order.\n",
    "\n",
    "Then, submit your exam as follows:\n",
    "\n",
    "1. Go to `File > Export Notebook As > PDF`.\n",
    "2. Double check that the entire notebook, from beginning to end, is in this PDF file. (If the notebook is cut off, try first exporting the notebook to HTML and printing to PDF.)\n",
    "3. Upload the PDF [to PolyLearn](https://polylearn.calpoly.edu/AY_2018-2019/mod/assign/view.php?id=343940)."
   ]
  }
 ],
 "metadata": {
  "kernelspec": {
   "display_name": "Python 3",
   "language": "python",
   "name": "python3"
  },
  "language_info": {
   "codemirror_mode": {
    "name": "ipython",
    "version": 3
   },
   "file_extension": ".py",
   "mimetype": "text/x-python",
   "name": "python",
   "nbconvert_exporter": "python",
   "pygments_lexer": "ipython3",
   "version": "3.6.8"
  }
 },
 "nbformat": 4,
 "nbformat_minor": 2
}
