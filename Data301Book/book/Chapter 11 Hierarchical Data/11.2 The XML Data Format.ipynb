{
 "cells": [
  {
   "cell_type": "markdown",
   "metadata": {},
   "source": [
    "# 11.2 The XML Data Format\n",
    "\n",
    "**XML**, which stands for eXtensible Markup Language, is another way to represent hierarchical data. The basic building block of XML is the **tag**, denoted by angle brackets `<>`.\n",
    "\n",
    "For example, a data set of movies might be represented using XML as follows:\n",
    "\n",
    "```\n",
    "<movies>\n",
    "  <movie id=\"1\" title=\"The Godfather\">\n",
    "    <director id=\"50\" name=\"Coppola, Francis Ford\">\n",
    "    </director>\n",
    "    <releasedate>1972-03-24</releasedate>\n",
    "    <character id=\"100\" name=\"Vito Corleone\">\n",
    "      <actor id=\"200\" name=\"Brando, Marlon\">\n",
    "      </actor>\n",
    "    </character>\n",
    "    <character id=\"101\" name=\"Michael Corleone\">\n",
    "      <actor id=\"201\" name=\"Pacino, Al\">\n",
    "      </actor>\n",
    "    </character>\n",
    "    ...\n",
    "  </movie>\n",
    "  <movie id=\"2\" title=\"The Godfather: Part II\">\n",
    "    <director id=\"50\" name=\"Coppola, Francis Ford\">\n",
    "    </director>\n",
    "    <releasedate>1974-10-20</releasedate>\n",
    "    <character id=\"101\" name=\"Michael Corleone\">\n",
    "      <actor id=\"201\" name=\"Pacino, Al\">\n",
    "      </actor>\n",
    "    </character>\n",
    "    <character id=\"100\" name=\"Vito Corleone\">\n",
    "      <actor id=\"250\" name=\"De Niro, Robert\">\n",
    "      </actor>\n",
    "    </character>\n",
    "    ...\n",
    "  </movie>\n",
    "  ...\n",
    "</movies>\n",
    "```\n",
    "\n",
    "Note the following features of XML:\n",
    "\n",
    "- Every tag `<a>` has a corresponding closing tag `</a>`. You can always recognize a closing tag by the forward slash `/`.\n",
    "- Additional tags and/or strings can be nested between the opening and closing tags. In the example above, `<actor>` is nested between `<character>` and `</character>`, and `<character>` is nested between `<movie>` and `</movie>`. The nesting is used to represent hierarchy.\n",
    "- Indentation is used to make the code more readable (to make it easier to see the nesting structure). But it is optional.\n",
    "- Attributes can be associated with each tag, like `id=` and `name=` with the `<character>` tag and `id=` and `title=` with the `<movie>` tag.\n",
    "\n",
    "Each tag represents a variable in the data set. Unlike JSON, which uses lists to represent repeated fields, XML represents repeated fields by simply repeating tags where necessary. In the example above, there are multiple instances of `<movie>` within `<movies>` and multiple instances of `<character>` within `<movie>`, so `movie` and `character` are both repeated fields. (In fact, `director` is also a repeated field, but it is impossible to tell from the code above, since the movies shown above only have one director.)\n",
    "\n",
    "You will learn XML by working with the same New York Philharmonic data as in the previous section, except that the data is now stored in XML format. Let's look at this file on disk."
   ]
  },
  {
   "cell_type": "code",
   "execution_count": 2,
   "metadata": {},
   "outputs": [
    {
     "name": "stdout",
     "output_type": "stream",
     "text": [
      "total 78912\n",
      "-rw-r--r-- 1 root root 35284693 Feb 25 08:35 complete.json\n",
      "-rw-r--r-- 1 root root 45514892 Feb 25 08:36 complete.xml\n"
     ]
    }
   ],
   "source": [
    "!ls -l /data301/data/nyphil/"
   ]
  },
  {
   "cell_type": "markdown",
   "metadata": {},
   "source": [
    "Notice that this XML file is nearly twice as large as the JSON file. Although XML is more readable than JSON, it is a more expensive way to store hierarchical data, primarily because of the cost of storing both the opening and closing tags."
   ]
  },
  {
   "cell_type": "markdown",
   "metadata": {},
   "source": [
    "There are several libraries in Python for working with XML, including BeautifulSoup (which we will use in the next section to parse HTML), ElementTree, and `lxml`. We will use `lxml` to work with XML data because it is fastest for large data sets, provided that the data is well-formed. The `lxml` library provides a convenient API that replicates all of the functionality of ElementTree, plus implements a few additional features that are useful for data analysis."
   ]
  },
  {
   "cell_type": "code",
   "execution_count": 3,
   "metadata": {},
   "outputs": [],
   "source": [
    "from lxml import etree"
   ]
  },
  {
   "cell_type": "markdown",
   "metadata": {},
   "source": [
    "First, let's read in the data using `lxml`. The `.parse()` function of ElementTree reads in an XML document from a file or URL and returns a tree-like data structure called an ElementTree."
   ]
  },
  {
   "cell_type": "code",
   "execution_count": 4,
   "metadata": {},
   "outputs": [],
   "source": [
    "tree = etree.parse(\"/data301/data/nyphil/complete.xml\")"
   ]
  },
  {
   "cell_type": "markdown",
   "metadata": {},
   "source": [
    "Every XML document has a single \"root\" tag that encloses all of the other tags. For the New York Philharmonic data, this root tag is `<programs>`."
   ]
  },
  {
   "cell_type": "code",
   "execution_count": 5,
   "metadata": {},
   "outputs": [
    {
     "data": {
      "text/plain": [
       "<Element programs at 0x7f0ea45f34c8>"
      ]
     },
     "execution_count": 5,
     "metadata": {},
     "output_type": "execute_result"
    }
   ],
   "source": [
    "tree.getroot()"
   ]
  },
  {
   "cell_type": "markdown",
   "metadata": {},
   "source": [
    "If the XML data is already stored as a string in memory, then we instead use the `.fromstring()` method. Note that `.fromstring()` returns the root tag directly."
   ]
  },
  {
   "cell_type": "code",
   "execution_count": 6,
   "metadata": {},
   "outputs": [
    {
     "data": {
      "text/plain": [
       "<Element programs at 0x7f0e8d5204c8>"
      ]
     },
     "execution_count": 6,
     "metadata": {},
     "output_type": "execute_result"
    }
   ],
   "source": [
    "with open(\"/data301/data/nyphil/complete.xml\", \"rb\") as f:\n",
    "    string = f.read()\n",
    "    \n",
    "etree.fromstring(string)"
   ]
  },
  {
   "cell_type": "markdown",
   "metadata": {},
   "source": [
    "Each direct descendant, or **child**, of `<programs>` is a program. To find the direct descendants of a tag, we call the `.getchildren()` method."
   ]
  },
  {
   "cell_type": "code",
   "execution_count": 7,
   "metadata": {},
   "outputs": [
    {
     "name": "stdout",
     "output_type": "stream",
     "text": [
      "14009\n"
     ]
    },
    {
     "data": {
      "text/plain": [
       "[<Element program at 0x7f0e8d507208>,\n",
       " <Element program at 0x7f0e8d507188>,\n",
       " <Element program at 0x7f0e8d520e08>,\n",
       " <Element program at 0x7f0e8d520e48>,\n",
       " <Element program at 0x7f0e8d520dc8>,\n",
       " <Element program at 0x7f0e8d53f088>,\n",
       " <Element program at 0x7f0e8d53f0c8>,\n",
       " <Element program at 0x7f0e8d53f108>,\n",
       " <Element program at 0x7f0e8d53f148>,\n",
       " <Element program at 0x7f0e8d520d88>]"
      ]
     },
     "execution_count": 7,
     "metadata": {},
     "output_type": "execute_result"
    }
   ],
   "source": [
    "programs = tree.getroot()\n",
    "print(len(programs.getchildren()))\n",
    "programs.getchildren()[:10]"
   ]
  },
  {
   "cell_type": "markdown",
   "metadata": {},
   "source": [
    "Let's print out the first of these programs. There are two ways to get the first program."
   ]
  },
  {
   "cell_type": "code",
   "execution_count": 8,
   "metadata": {},
   "outputs": [
    {
     "data": {
      "text/plain": [
       "<Element program at 0x7f0e8d507208>"
      ]
     },
     "execution_count": 8,
     "metadata": {},
     "output_type": "execute_result"
    }
   ],
   "source": [
    "# METHOD 1: Get it from the list above.\n",
    "program = programs.getchildren()[0]\n",
    "\n",
    "# METHOD 2: Use .find() to find the first instance of a tag.\n",
    "program = tree.find(\"program\")\n",
    "program"
   ]
  },
  {
   "cell_type": "markdown",
   "metadata": {},
   "source": [
    "Now let's see how the data is represented by printing out the XML of this program. To do this, we use the `etree.tostring()` function."
   ]
  },
  {
   "cell_type": "code",
   "execution_count": 9,
   "metadata": {},
   "outputs": [
    {
     "name": "stdout",
     "output_type": "stream",
     "text": [
      "<program>\n",
      "        <id>00646b9f-fec7-4ffb-9fb1-faae410bd9dc-0.1</id>\n",
      "        <programID>3853</programID>\n",
      "        <orchestra>New York Philharmonic</orchestra>\n",
      "        <season>1842-43</season>\n",
      "        <concertInfo>\n",
      "            <eventType>Subscription Season</eventType>\n",
      "            <Location>Manhattan, NY</Location>\n",
      "            <Venue>Apollo Rooms</Venue>\n",
      "            <Date>1842-12-07T05:00:00Z</Date>\n",
      "            <Time>8:00PM</Time>\n",
      "        </concertInfo>\n",
      "        <worksInfo>\n",
      "            <work ID=\"52446*\">\n",
      "                <composerName>Beethoven,  Ludwig  van</composerName>\n",
      "                <workTitle>SYMPHONY NO. 5 IN C MINOR, OP.67</workTitle>\n",
      "                <conductorName>Hill, Ureli Corelli</conductorName>\n",
      "            </work>\n",
      "            <work ID=\"8834*4\">\n",
      "                <composerName>Weber,  Carl  Maria Von</composerName>\n",
      "                <workTitle>OBERON</workTitle>\n",
      "                <movement>\"Ozean, du Ungeheuer\" (Ocean, thou mighty monster), Reiza (Scene and Aria), Act II</movement>\n",
      "                <conductorName>Timm, Henry C.</conductorName>\n",
      "                <soloists>\n",
      "                    <soloist>\n",
      "                        <soloistName>Otto, Antoinette</soloistName>\n",
      "                        <soloistInstrument>Soprano</soloistInstrument>\n",
      "                        <soloistRoles>S</soloistRoles>\n",
      "                    </soloist>\n",
      "                </soloists>\n",
      "            </work>\n",
      "            <work ID=\"3642*\">\n",
      "                <composerName>Hummel,  Johann</composerName>\n",
      "                <workTitle>QUINTET, PIANO, D MINOR, OP. 74</workTitle>\n",
      "                <soloists>\n",
      "                    <soloist>\n",
      "                        <soloistName>Scharfenberg, William</soloistName>\n",
      "                        <soloistInstrument>Piano</soloistInstrument>\n",
      "                        <soloistRoles>A</soloistRoles>\n",
      "                    </soloist>\n",
      "                    <soloist>\n",
      "                        <soloistName>Hill, Ureli Corelli</soloistName>\n",
      "                        <soloistInstrument>Violin</soloistInstrument>\n",
      "                        <soloistRoles>A</soloistRoles>\n",
      "                    </soloist>\n",
      "                    <soloist>\n",
      "                        <soloistName>Derwort, G. H.</soloistName>\n",
      "                        <soloistInstrument>Viola</soloistInstrument>\n",
      "                        <soloistRoles>A</soloistRoles>\n",
      "                    </soloist>\n",
      "                    <soloist>\n",
      "                        <soloistName>Boucher, Alfred</soloistName>\n",
      "                        <soloistInstrument>Cello</soloistInstrument>\n",
      "                        <soloistRoles>A</soloistRoles>\n",
      "                    </soloist>\n",
      "                    <soloist>\n",
      "                        <soloistName>Rosier, F. W.</soloistName>\n",
      "                        <soloistInstrument>Double Bass</soloistInstrument>\n",
      "                        <soloistRoles>A</soloistRoles>\n",
      "                    </soloist>\n",
      "                </soloists>\n",
      "            </work>\n",
      "            <work ID=\"0*\">\n",
      "                <interval>Intermission</interval>\n",
      "            </work>\n",
      "            <work ID=\"8834*3\">\n",
      "                <composerName>Weber,  Carl  Maria Von</composerName>\n",
      "                <workTitle>OBERON</workTitle>\n",
      "                <movement>Overture</movement>\n",
      "                <conductorName>Etienne, Denis G.</conductorName>\n",
      "            </work>\n",
      "            <work ID=\"8835*1\">\n",
      "                <composerName>Rossini,  Gioachino</composerName>\n",
      "                <workTitle>ARMIDA</workTitle>\n",
      "                <movement>Duet</movement>\n",
      "                <conductorName>Timm, Henry C.</conductorName>\n",
      "                <soloists>\n",
      "                    <soloist>\n",
      "                        <soloistName>Otto, Antoinette</soloistName>\n",
      "                        <soloistInstrument>Soprano</soloistInstrument>\n",
      "                        <soloistRoles>S</soloistRoles>\n",
      "                    </soloist>\n",
      "                    <soloist>\n",
      "                        <soloistName>Horn, Charles Edward</soloistName>\n",
      "                        <soloistInstrument>Tenor</soloistInstrument>\n",
      "                        <soloistRoles>S</soloistRoles>\n",
      "                    </soloist>\n",
      "                </soloists>\n",
      "            </work>\n",
      "            <work ID=\"8837*6\">\n",
      "                <composerName>Beethoven,  Ludwig  van</composerName>\n",
      "                <workTitle>FIDELIO, OP. 72</workTitle>\n",
      "                <movement>\"In Des Lebens Fruhlingstagen...O spur ich nicht linde,\" Florestan (aria)</movement>\n",
      "                <conductorName>Timm, Henry C.</conductorName>\n",
      "                <soloists>\n",
      "                    <soloist>\n",
      "                        <soloistName>Horn, Charles Edward</soloistName>\n",
      "                        <soloistInstrument>Tenor</soloistInstrument>\n",
      "                        <soloistRoles>S</soloistRoles>\n",
      "                    </soloist>\n",
      "                </soloists>\n",
      "            </work>\n",
      "            <work ID=\"8336*4\">\n",
      "                <composerName>Mozart,  Wolfgang  Amadeus</composerName>\n",
      "                <workTitle>ABDUCTION FROM THE SERAGLIO,THE, K.384</workTitle>\n",
      "                <movement>\"Ach Ich liebte,\" Konstanze (aria)</movement>\n",
      "                <conductorName>Timm, Henry C.</conductorName>\n",
      "                <soloists>\n",
      "                    <soloist>\n",
      "                        <soloistName>Otto, Antoinette</soloistName>\n",
      "                        <soloistInstrument>Soprano</soloistInstrument>\n",
      "                        <soloistRoles>S</soloistRoles>\n",
      "                    </soloist>\n",
      "                </soloists>\n",
      "            </work>\n",
      "            <work ID=\"5543*\">\n",
      "                <composerName>Kalliwoda,  Johann  W.</composerName>\n",
      "                <workTitle>OVERTURE NO. 1, D MINOR, OP. 38</workTitle>\n",
      "                <conductorName>Timm, Henry C.</conductorName>\n",
      "            </work>\n",
      "        </worksInfo>\n",
      "    </program>\n",
      "    \n"
     ]
    }
   ],
   "source": [
    "print(etree.tostring(program, encoding=\"unicode\"))"
   ]
  },
  {
   "cell_type": "markdown",
   "metadata": {},
   "source": [
    "Hopefully, the basic structure of this data is already familiar to you from previous section. \"Work\", \"concertInfo\", and \"soloist\" are repeated fields inside \"program\". One difference between the JSON and the XML is that \"work\" is not directly nested within \"program\"; the \"work\" tags are all nested inside an additional \"worksInfo\" tag.\n",
    "\n",
    "Now suppose that we want to flatten the data at the level of soloists. To get all of the soloists, we can use the `.findall()` method. Let's first try the obvious solution, which does not work:"
   ]
  },
  {
   "cell_type": "code",
   "execution_count": 10,
   "metadata": {},
   "outputs": [
    {
     "data": {
      "text/plain": [
       "[]"
      ]
     },
     "execution_count": 10,
     "metadata": {},
     "output_type": "execute_result"
    }
   ],
   "source": [
    "programs.findall(\"soloist\")"
   ]
  },
  {
   "cell_type": "markdown",
   "metadata": {},
   "source": [
    "Why did `lxml` fail to find any `<soloist>` tags? That's because `.findall()` only searches among the direct descendants of a tag. We called `.findall()` on the `<programs>` tag, but all of its descendants are `<program>` tags.\n",
    "\n",
    "To specify that `lxml` should look for `<soloist>` tags among all descendants, not just direct ones, we use the `.xpath()` command, which allows us to specify an XPath expression. [XPath](https://www.w3schools.com/xml/xpath_syntax.asp) is a language used to select nodes from XML documents. The XPath expression to select all descendants named `<soloist>` of the current tag is `\".//soloist\"`. We pass this expression to the `.xpath()` method."
   ]
  },
  {
   "cell_type": "code",
   "execution_count": 11,
   "metadata": {},
   "outputs": [
    {
     "data": {
      "text/plain": [
       "56931"
      ]
     },
     "execution_count": 11,
     "metadata": {},
     "output_type": "execute_result"
    }
   ],
   "source": [
    "soloists = programs.xpath(\"//soloist\")\n",
    "len(soloists)"
   ]
  },
  {
   "cell_type": "markdown",
   "metadata": {},
   "source": [
    "Now, to flatten the data at the level of soloists, we just need to turn `soloists` into a `DataFrame` with as many rows. But what if we want to include information from parent levels, like the composer of the work the soloist played? There are two ways.\n",
    "\n",
    "### Method 1\n",
    "\n",
    "Since `<composerName>` is a descendant of `<work>`, one way is to navigate up to the level of `<work>` by calling `.getparent()` repeatedly and then find `<composerName>` among its descendants:"
   ]
  },
  {
   "cell_type": "code",
   "execution_count": 12,
   "metadata": {},
   "outputs": [
    {
     "data": {
      "text/plain": [
       "[<Element composerName at 0x7f0e8d1bfb08>]"
      ]
     },
     "execution_count": 12,
     "metadata": {},
     "output_type": "execute_result"
    }
   ],
   "source": [
    "soloist = soloists[0]\n",
    "\n",
    "# The first .getparent() returns the <soloists> tag.\n",
    "# The second .getparent() returns the <work> tag.\n",
    "# You have to figure this out by inspecting the XML.\n",
    "work = soloist.getparent().getparent()\n",
    "work.xpath(\".//composerName\")"
   ]
  },
  {
   "cell_type": "markdown",
   "metadata": {},
   "source": [
    "This is a list with one tag, so we extract that tag and the text inside it."
   ]
  },
  {
   "cell_type": "code",
   "execution_count": 13,
   "metadata": {},
   "outputs": [
    {
     "data": {
      "text/plain": [
       "'Weber,  Carl  Maria Von'"
      ]
     },
     "execution_count": 13,
     "metadata": {},
     "output_type": "execute_result"
    }
   ],
   "source": [
    "work.xpath(\".//composerName\")[0].text"
   ]
  },
  {
   "cell_type": "markdown",
   "metadata": {},
   "source": [
    "### Method 2\n",
    "\n",
    "As the number of levels of nesting increases, it quickly becomes impractical to call `.getparent()` repeatedly. We want to be able to jump directly to the right ancestor. The easiest way to do this is to use the XPath expression for an ancestor. To search for all ancestors named \"work\", we can use the XPath expression `\"ancestor::work\"`."
   ]
  },
  {
   "cell_type": "code",
   "execution_count": 14,
   "metadata": {},
   "outputs": [
    {
     "data": {
      "text/plain": [
       "[<Element work at 0x7f0e8d1bfa08>]"
      ]
     },
     "execution_count": 14,
     "metadata": {},
     "output_type": "execute_result"
    }
   ],
   "source": [
    "soloist.xpath(\"ancestor::work\")"
   ]
  },
  {
   "cell_type": "markdown",
   "metadata": {},
   "source": [
    "Now, we can extract this single work tag and find its descendants named `<composerName>`. Or better yet, we can combine this step with the above step into a single XPath expression."
   ]
  },
  {
   "cell_type": "code",
   "execution_count": 15,
   "metadata": {},
   "outputs": [
    {
     "data": {
      "text/plain": [
       "'Weber,  Carl  Maria Von'"
      ]
     },
     "execution_count": 15,
     "metadata": {},
     "output_type": "execute_result"
    }
   ],
   "source": [
    "soloist.xpath(\"ancestor::work//composerName\")[0].text"
   ]
  },
  {
   "cell_type": "markdown",
   "metadata": {},
   "source": [
    "Now let's put it all together. We will flatten the data to get a `DataFrame` with one soloist per row. We will keep track of the soloist's name, instrument, and role---as well as the composer of the work they performed. Unfortunately, it is much more manual to do this with XML than with JSON. There is no XML equivalent of the `json_normalize` function that will automatically produce a `DataFrame`, so we have to construct the `DataFrame` ourselves."
   ]
  },
  {
   "cell_type": "code",
   "execution_count": 16,
   "metadata": {},
   "outputs": [
    {
     "data": {
      "text/html": [
       "<div>\n",
       "<style scoped>\n",
       "    .dataframe tbody tr th:only-of-type {\n",
       "        vertical-align: middle;\n",
       "    }\n",
       "\n",
       "    .dataframe tbody tr th {\n",
       "        vertical-align: top;\n",
       "    }\n",
       "\n",
       "    .dataframe thead th {\n",
       "        text-align: right;\n",
       "    }\n",
       "</style>\n",
       "<table border=\"1\" class=\"dataframe\">\n",
       "  <thead>\n",
       "    <tr style=\"text-align: right;\">\n",
       "      <th></th>\n",
       "      <th>composerName</th>\n",
       "      <th>soloistInstrument</th>\n",
       "      <th>soloistName</th>\n",
       "      <th>soloistRoles</th>\n",
       "    </tr>\n",
       "  </thead>\n",
       "  <tbody>\n",
       "    <tr>\n",
       "      <th>0</th>\n",
       "      <td>Weber,  Carl  Maria Von</td>\n",
       "      <td>Soprano</td>\n",
       "      <td>Otto, Antoinette</td>\n",
       "      <td>S</td>\n",
       "    </tr>\n",
       "    <tr>\n",
       "      <th>1</th>\n",
       "      <td>Hummel,  Johann</td>\n",
       "      <td>Piano</td>\n",
       "      <td>Scharfenberg, William</td>\n",
       "      <td>A</td>\n",
       "    </tr>\n",
       "    <tr>\n",
       "      <th>2</th>\n",
       "      <td>Hummel,  Johann</td>\n",
       "      <td>Violin</td>\n",
       "      <td>Hill, Ureli Corelli</td>\n",
       "      <td>A</td>\n",
       "    </tr>\n",
       "    <tr>\n",
       "      <th>3</th>\n",
       "      <td>Hummel,  Johann</td>\n",
       "      <td>Viola</td>\n",
       "      <td>Derwort, G. H.</td>\n",
       "      <td>A</td>\n",
       "    </tr>\n",
       "    <tr>\n",
       "      <th>4</th>\n",
       "      <td>Hummel,  Johann</td>\n",
       "      <td>Cello</td>\n",
       "      <td>Boucher, Alfred</td>\n",
       "      <td>A</td>\n",
       "    </tr>\n",
       "    <tr>\n",
       "      <th>5</th>\n",
       "      <td>Hummel,  Johann</td>\n",
       "      <td>Double Bass</td>\n",
       "      <td>Rosier, F. W.</td>\n",
       "      <td>A</td>\n",
       "    </tr>\n",
       "    <tr>\n",
       "      <th>6</th>\n",
       "      <td>Rossini,  Gioachino</td>\n",
       "      <td>Soprano</td>\n",
       "      <td>Otto, Antoinette</td>\n",
       "      <td>S</td>\n",
       "    </tr>\n",
       "    <tr>\n",
       "      <th>7</th>\n",
       "      <td>Rossini,  Gioachino</td>\n",
       "      <td>Tenor</td>\n",
       "      <td>Horn, Charles Edward</td>\n",
       "      <td>S</td>\n",
       "    </tr>\n",
       "    <tr>\n",
       "      <th>8</th>\n",
       "      <td>Beethoven,  Ludwig  van</td>\n",
       "      <td>Tenor</td>\n",
       "      <td>Horn, Charles Edward</td>\n",
       "      <td>S</td>\n",
       "    </tr>\n",
       "    <tr>\n",
       "      <th>9</th>\n",
       "      <td>Mozart,  Wolfgang  Amadeus</td>\n",
       "      <td>Soprano</td>\n",
       "      <td>Otto, Antoinette</td>\n",
       "      <td>S</td>\n",
       "    </tr>\n",
       "    <tr>\n",
       "      <th>10</th>\n",
       "      <td>Bellini,  Vincenzo</td>\n",
       "      <td>Soprano</td>\n",
       "      <td>Otto, Antoinette</td>\n",
       "      <td>S</td>\n",
       "    </tr>\n",
       "    <tr>\n",
       "      <th>11</th>\n",
       "      <td>Romberg,  Bernhard</td>\n",
       "      <td>Cello</td>\n",
       "      <td>Boucher, Alfred</td>\n",
       "      <td>S</td>\n",
       "    </tr>\n",
       "    <tr>\n",
       "      <th>12</th>\n",
       "      <td>Rossini,  Gioachino</td>\n",
       "      <td>Soprano</td>\n",
       "      <td>Otto, Antoinette</td>\n",
       "      <td>S</td>\n",
       "    </tr>\n",
       "    <tr>\n",
       "      <th>13</th>\n",
       "      <td>Hummel,  Johann</td>\n",
       "      <td>Piano</td>\n",
       "      <td>Timm, Henry C.</td>\n",
       "      <td>S</td>\n",
       "    </tr>\n",
       "    <tr>\n",
       "      <th>14</th>\n",
       "      <td>Hummel,  Johann</td>\n",
       "      <td>Piano</td>\n",
       "      <td>Timm, Henry C.</td>\n",
       "      <td>S</td>\n",
       "    </tr>\n",
       "    <tr>\n",
       "      <th>15</th>\n",
       "      <td>Weber,  Carl  Maria Von</td>\n",
       "      <td>Soprano</td>\n",
       "      <td>Otto, Antoinette</td>\n",
       "      <td>S</td>\n",
       "    </tr>\n",
       "    <tr>\n",
       "      <th>16</th>\n",
       "      <td>Weber,  Carl  Maria Von</td>\n",
       "      <td>Piano</td>\n",
       "      <td>Timm, Henry C.</td>\n",
       "      <td>A</td>\n",
       "    </tr>\n",
       "    <tr>\n",
       "      <th>17</th>\n",
       "      <td>Hummel,  Johann</td>\n",
       "      <td>Piano</td>\n",
       "      <td>Scharfenberg, William</td>\n",
       "      <td>S</td>\n",
       "    </tr>\n",
       "    <tr>\n",
       "      <th>18</th>\n",
       "      <td>Pacini,  Giovanni</td>\n",
       "      <td>Soprano</td>\n",
       "      <td>Otto, Antoinette</td>\n",
       "      <td>S</td>\n",
       "    </tr>\n",
       "    <tr>\n",
       "      <th>19</th>\n",
       "      <td>Pacini,  Giovanni</td>\n",
       "      <td>Piano</td>\n",
       "      <td>Timm, Henry C.</td>\n",
       "      <td>A</td>\n",
       "    </tr>\n",
       "    <tr>\n",
       "      <th>20</th>\n",
       "      <td>Romberg,  Bernhard</td>\n",
       "      <td>Cello</td>\n",
       "      <td>Boucher, Alfred</td>\n",
       "      <td>S</td>\n",
       "    </tr>\n",
       "    <tr>\n",
       "      <th>21</th>\n",
       "      <td>Onslow,  George</td>\n",
       "      <td>Piano</td>\n",
       "      <td>Scharfenberg, William</td>\n",
       "      <td>S</td>\n",
       "    </tr>\n",
       "    <tr>\n",
       "      <th>22</th>\n",
       "      <td>Onslow,  George</td>\n",
       "      <td>Flute</td>\n",
       "      <td>Lehman</td>\n",
       "      <td>A</td>\n",
       "    </tr>\n",
       "    <tr>\n",
       "      <th>23</th>\n",
       "      <td>Onslow,  George</td>\n",
       "      <td>Clarinet</td>\n",
       "      <td>Groneveldt, Theodore W.</td>\n",
       "      <td>A</td>\n",
       "    </tr>\n",
       "    <tr>\n",
       "      <th>24</th>\n",
       "      <td>Onslow,  George</td>\n",
       "      <td>Bassoon</td>\n",
       "      <td>Hegelund, H. W.</td>\n",
       "      <td>A</td>\n",
       "    </tr>\n",
       "    <tr>\n",
       "      <th>25</th>\n",
       "      <td>Onslow,  George</td>\n",
       "      <td>French Horn</td>\n",
       "      <td>Woehning, F. C.</td>\n",
       "      <td>A</td>\n",
       "    </tr>\n",
       "    <tr>\n",
       "      <th>26</th>\n",
       "      <td>Onslow,  George</td>\n",
       "      <td>Double Bass</td>\n",
       "      <td>Rosier, F. W.</td>\n",
       "      <td>A</td>\n",
       "    </tr>\n",
       "    <tr>\n",
       "      <th>27</th>\n",
       "      <td>Onslow,  George</td>\n",
       "      <td>None</td>\n",
       "      <td>None</td>\n",
       "      <td>None</td>\n",
       "    </tr>\n",
       "    <tr>\n",
       "      <th>28</th>\n",
       "      <td>Onslow,  George</td>\n",
       "      <td>Piano</td>\n",
       "      <td>Scharfenberg, William</td>\n",
       "      <td>S</td>\n",
       "    </tr>\n",
       "    <tr>\n",
       "      <th>29</th>\n",
       "      <td>Onslow,  George</td>\n",
       "      <td>Flute</td>\n",
       "      <td>Lehman</td>\n",
       "      <td>A</td>\n",
       "    </tr>\n",
       "    <tr>\n",
       "      <th>...</th>\n",
       "      <td>...</td>\n",
       "      <td>...</td>\n",
       "      <td>...</td>\n",
       "      <td>...</td>\n",
       "    </tr>\n",
       "    <tr>\n",
       "      <th>56901</th>\n",
       "      <td>Klein,  Gideon</td>\n",
       "      <td>Violin</td>\n",
       "      <td>Ge, Quan</td>\n",
       "      <td>A</td>\n",
       "    </tr>\n",
       "    <tr>\n",
       "      <th>56902</th>\n",
       "      <td>Klein,  Gideon</td>\n",
       "      <td>Viola</td>\n",
       "      <td>Young, Rebecca</td>\n",
       "      <td>A</td>\n",
       "    </tr>\n",
       "    <tr>\n",
       "      <th>56903</th>\n",
       "      <td>Klein,  Gideon</td>\n",
       "      <td>Cello</td>\n",
       "      <td>Gonzales, Alexei Yupanqui</td>\n",
       "      <td>A</td>\n",
       "    </tr>\n",
       "    <tr>\n",
       "      <th>56904</th>\n",
       "      <td>Beethoven,  Ludwig  van</td>\n",
       "      <td>Oboe</td>\n",
       "      <td>Sylar, Sherry</td>\n",
       "      <td>A</td>\n",
       "    </tr>\n",
       "    <tr>\n",
       "      <th>56905</th>\n",
       "      <td>Beethoven,  Ludwig  van</td>\n",
       "      <td>Oboe</td>\n",
       "      <td>Botti, Robert</td>\n",
       "      <td>A</td>\n",
       "    </tr>\n",
       "    <tr>\n",
       "      <th>56906</th>\n",
       "      <td>Beethoven,  Ludwig  van</td>\n",
       "      <td>Clarinet</td>\n",
       "      <td>Martinez [Martínez] Forteza, Pascual</td>\n",
       "      <td>A</td>\n",
       "    </tr>\n",
       "    <tr>\n",
       "      <th>56907</th>\n",
       "      <td>Beethoven,  Ludwig  van</td>\n",
       "      <td>Clarinet</td>\n",
       "      <td>Zoloto, Amy</td>\n",
       "      <td>A</td>\n",
       "    </tr>\n",
       "    <tr>\n",
       "      <th>56908</th>\n",
       "      <td>Beethoven,  Ludwig  van</td>\n",
       "      <td>Bassoon</td>\n",
       "      <td>Laskowski, Kim</td>\n",
       "      <td>A</td>\n",
       "    </tr>\n",
       "    <tr>\n",
       "      <th>56909</th>\n",
       "      <td>Beethoven,  Ludwig  van</td>\n",
       "      <td>Bassoon</td>\n",
       "      <td>Fast, Arlen</td>\n",
       "      <td>A</td>\n",
       "    </tr>\n",
       "    <tr>\n",
       "      <th>56910</th>\n",
       "      <td>Beethoven,  Ludwig  van</td>\n",
       "      <td>French Horn</td>\n",
       "      <td>Deane, Richard</td>\n",
       "      <td>A</td>\n",
       "    </tr>\n",
       "    <tr>\n",
       "      <th>56911</th>\n",
       "      <td>Beethoven,  Ludwig  van</td>\n",
       "      <td>French Horn</td>\n",
       "      <td>Spanjer, R. Allen</td>\n",
       "      <td>A</td>\n",
       "    </tr>\n",
       "    <tr>\n",
       "      <th>56912</th>\n",
       "      <td>Shostakovich,  Dmitri</td>\n",
       "      <td>Violin</td>\n",
       "      <td>Yao, Shanshan</td>\n",
       "      <td>A</td>\n",
       "    </tr>\n",
       "    <tr>\n",
       "      <th>56913</th>\n",
       "      <td>Shostakovich,  Dmitri</td>\n",
       "      <td>Violin</td>\n",
       "      <td>Rossano, Marié</td>\n",
       "      <td>A</td>\n",
       "    </tr>\n",
       "    <tr>\n",
       "      <th>56914</th>\n",
       "      <td>Shostakovich,  Dmitri</td>\n",
       "      <td>Viola</td>\n",
       "      <td>Kenote, Peter</td>\n",
       "      <td>A</td>\n",
       "    </tr>\n",
       "    <tr>\n",
       "      <th>56915</th>\n",
       "      <td>Shostakovich,  Dmitri</td>\n",
       "      <td>Cello</td>\n",
       "      <td>Tu, Qiang</td>\n",
       "      <td>A</td>\n",
       "    </tr>\n",
       "    <tr>\n",
       "      <th>56916</th>\n",
       "      <td>Shostakovich,  Dmitri</td>\n",
       "      <td>Piano</td>\n",
       "      <td>Wolfram, William</td>\n",
       "      <td>A</td>\n",
       "    </tr>\n",
       "    <tr>\n",
       "      <th>56917</th>\n",
       "      <td>Mozart,  Wolfgang  Amadeus</td>\n",
       "      <td>Oboe</td>\n",
       "      <td>Wang, Liang</td>\n",
       "      <td>S</td>\n",
       "    </tr>\n",
       "    <tr>\n",
       "      <th>56918</th>\n",
       "      <td>Mozart,  Wolfgang  Amadeus</td>\n",
       "      <td>Clarinet</td>\n",
       "      <td>McGill, Anthony</td>\n",
       "      <td>S</td>\n",
       "    </tr>\n",
       "    <tr>\n",
       "      <th>56919</th>\n",
       "      <td>Mozart,  Wolfgang  Amadeus</td>\n",
       "      <td>Bassoon</td>\n",
       "      <td>LeClair, Judith</td>\n",
       "      <td>S</td>\n",
       "    </tr>\n",
       "    <tr>\n",
       "      <th>56920</th>\n",
       "      <td>Mozart,  Wolfgang  Amadeus</td>\n",
       "      <td>French Horn</td>\n",
       "      <td>Deane, Richard</td>\n",
       "      <td>S</td>\n",
       "    </tr>\n",
       "    <tr>\n",
       "      <th>56921</th>\n",
       "      <td>Handel,  George  Frideric</td>\n",
       "      <td>Soprano</td>\n",
       "      <td>Harvey, Joelle [Joélle]</td>\n",
       "      <td>S</td>\n",
       "    </tr>\n",
       "    <tr>\n",
       "      <th>56922</th>\n",
       "      <td>Handel,  George  Frideric</td>\n",
       "      <td>Mezzo-Soprano</td>\n",
       "      <td>Johnson Cano, Jennifer</td>\n",
       "      <td>S</td>\n",
       "    </tr>\n",
       "    <tr>\n",
       "      <th>56923</th>\n",
       "      <td>Handel,  George  Frideric</td>\n",
       "      <td>Tenor</td>\n",
       "      <td>Bliss, Ben</td>\n",
       "      <td>S</td>\n",
       "    </tr>\n",
       "    <tr>\n",
       "      <th>56924</th>\n",
       "      <td>Handel,  George  Frideric</td>\n",
       "      <td>Bass-Baritone</td>\n",
       "      <td>Foster-Williams, Andrew</td>\n",
       "      <td>S</td>\n",
       "    </tr>\n",
       "    <tr>\n",
       "      <th>56925</th>\n",
       "      <td>Handel,  George  Frideric</td>\n",
       "      <td>Chorus</td>\n",
       "      <td>Westminster Symphonic Choir</td>\n",
       "      <td>S</td>\n",
       "    </tr>\n",
       "    <tr>\n",
       "      <th>56926</th>\n",
       "      <td>Handel,  George  Frideric</td>\n",
       "      <td>Soprano</td>\n",
       "      <td>Harvey, Joelle [Joélle]</td>\n",
       "      <td>S</td>\n",
       "    </tr>\n",
       "    <tr>\n",
       "      <th>56927</th>\n",
       "      <td>Handel,  George  Frideric</td>\n",
       "      <td>Mezzo-Soprano</td>\n",
       "      <td>Johnson Cano, Jennifer</td>\n",
       "      <td>S</td>\n",
       "    </tr>\n",
       "    <tr>\n",
       "      <th>56928</th>\n",
       "      <td>Handel,  George  Frideric</td>\n",
       "      <td>Tenor</td>\n",
       "      <td>Bliss, Ben</td>\n",
       "      <td>S</td>\n",
       "    </tr>\n",
       "    <tr>\n",
       "      <th>56929</th>\n",
       "      <td>Handel,  George  Frideric</td>\n",
       "      <td>Baritone</td>\n",
       "      <td>Duncan, Tyler</td>\n",
       "      <td>S</td>\n",
       "    </tr>\n",
       "    <tr>\n",
       "      <th>56930</th>\n",
       "      <td>Handel,  George  Frideric</td>\n",
       "      <td>Chorus</td>\n",
       "      <td>Westminster Symphonic Choir</td>\n",
       "      <td>S</td>\n",
       "    </tr>\n",
       "  </tbody>\n",
       "</table>\n",
       "<p>56931 rows × 4 columns</p>\n",
       "</div>"
      ],
      "text/plain": [
       "                     composerName soloistInstrument  \\\n",
       "0         Weber,  Carl  Maria Von           Soprano   \n",
       "1                 Hummel,  Johann             Piano   \n",
       "2                 Hummel,  Johann            Violin   \n",
       "3                 Hummel,  Johann             Viola   \n",
       "4                 Hummel,  Johann             Cello   \n",
       "5                 Hummel,  Johann       Double Bass   \n",
       "6             Rossini,  Gioachino           Soprano   \n",
       "7             Rossini,  Gioachino             Tenor   \n",
       "8         Beethoven,  Ludwig  van             Tenor   \n",
       "9      Mozart,  Wolfgang  Amadeus           Soprano   \n",
       "10             Bellini,  Vincenzo           Soprano   \n",
       "11             Romberg,  Bernhard             Cello   \n",
       "12            Rossini,  Gioachino           Soprano   \n",
       "13                Hummel,  Johann             Piano   \n",
       "14                Hummel,  Johann             Piano   \n",
       "15        Weber,  Carl  Maria Von           Soprano   \n",
       "16        Weber,  Carl  Maria Von             Piano   \n",
       "17                Hummel,  Johann             Piano   \n",
       "18              Pacini,  Giovanni           Soprano   \n",
       "19              Pacini,  Giovanni             Piano   \n",
       "20             Romberg,  Bernhard             Cello   \n",
       "21                Onslow,  George             Piano   \n",
       "22                Onslow,  George             Flute   \n",
       "23                Onslow,  George          Clarinet   \n",
       "24                Onslow,  George           Bassoon   \n",
       "25                Onslow,  George       French Horn   \n",
       "26                Onslow,  George       Double Bass   \n",
       "27                Onslow,  George              None   \n",
       "28                Onslow,  George             Piano   \n",
       "29                Onslow,  George             Flute   \n",
       "...                           ...               ...   \n",
       "56901              Klein,  Gideon            Violin   \n",
       "56902              Klein,  Gideon             Viola   \n",
       "56903              Klein,  Gideon             Cello   \n",
       "56904     Beethoven,  Ludwig  van              Oboe   \n",
       "56905     Beethoven,  Ludwig  van              Oboe   \n",
       "56906     Beethoven,  Ludwig  van          Clarinet   \n",
       "56907     Beethoven,  Ludwig  van          Clarinet   \n",
       "56908     Beethoven,  Ludwig  van           Bassoon   \n",
       "56909     Beethoven,  Ludwig  van           Bassoon   \n",
       "56910     Beethoven,  Ludwig  van       French Horn   \n",
       "56911     Beethoven,  Ludwig  van       French Horn   \n",
       "56912       Shostakovich,  Dmitri            Violin   \n",
       "56913       Shostakovich,  Dmitri            Violin   \n",
       "56914       Shostakovich,  Dmitri             Viola   \n",
       "56915       Shostakovich,  Dmitri             Cello   \n",
       "56916       Shostakovich,  Dmitri             Piano   \n",
       "56917  Mozart,  Wolfgang  Amadeus              Oboe   \n",
       "56918  Mozart,  Wolfgang  Amadeus          Clarinet   \n",
       "56919  Mozart,  Wolfgang  Amadeus           Bassoon   \n",
       "56920  Mozart,  Wolfgang  Amadeus       French Horn   \n",
       "56921   Handel,  George  Frideric           Soprano   \n",
       "56922   Handel,  George  Frideric     Mezzo-Soprano   \n",
       "56923   Handel,  George  Frideric             Tenor   \n",
       "56924   Handel,  George  Frideric     Bass-Baritone   \n",
       "56925   Handel,  George  Frideric            Chorus   \n",
       "56926   Handel,  George  Frideric           Soprano   \n",
       "56927   Handel,  George  Frideric     Mezzo-Soprano   \n",
       "56928   Handel,  George  Frideric             Tenor   \n",
       "56929   Handel,  George  Frideric          Baritone   \n",
       "56930   Handel,  George  Frideric            Chorus   \n",
       "\n",
       "                                soloistName soloistRoles  \n",
       "0                          Otto, Antoinette            S  \n",
       "1                     Scharfenberg, William            A  \n",
       "2                       Hill, Ureli Corelli            A  \n",
       "3                            Derwort, G. H.            A  \n",
       "4                           Boucher, Alfred            A  \n",
       "5                             Rosier, F. W.            A  \n",
       "6                          Otto, Antoinette            S  \n",
       "7                      Horn, Charles Edward            S  \n",
       "8                      Horn, Charles Edward            S  \n",
       "9                          Otto, Antoinette            S  \n",
       "10                         Otto, Antoinette            S  \n",
       "11                          Boucher, Alfred            S  \n",
       "12                         Otto, Antoinette            S  \n",
       "13                           Timm, Henry C.            S  \n",
       "14                           Timm, Henry C.            S  \n",
       "15                         Otto, Antoinette            S  \n",
       "16                           Timm, Henry C.            A  \n",
       "17                    Scharfenberg, William            S  \n",
       "18                         Otto, Antoinette            S  \n",
       "19                           Timm, Henry C.            A  \n",
       "20                          Boucher, Alfred            S  \n",
       "21                    Scharfenberg, William            S  \n",
       "22                                   Lehman            A  \n",
       "23                  Groneveldt, Theodore W.            A  \n",
       "24                          Hegelund, H. W.            A  \n",
       "25                          Woehning, F. C.            A  \n",
       "26                            Rosier, F. W.            A  \n",
       "27                                     None         None  \n",
       "28                    Scharfenberg, William            S  \n",
       "29                                   Lehman            A  \n",
       "...                                     ...          ...  \n",
       "56901                              Ge, Quan            A  \n",
       "56902                        Young, Rebecca            A  \n",
       "56903             Gonzales, Alexei Yupanqui            A  \n",
       "56904                         Sylar, Sherry            A  \n",
       "56905                         Botti, Robert            A  \n",
       "56906  Martinez [Martínez] Forteza, Pascual            A  \n",
       "56907                           Zoloto, Amy            A  \n",
       "56908                        Laskowski, Kim            A  \n",
       "56909                           Fast, Arlen            A  \n",
       "56910                        Deane, Richard            A  \n",
       "56911                     Spanjer, R. Allen            A  \n",
       "56912                         Yao, Shanshan            A  \n",
       "56913                        Rossano, Marié            A  \n",
       "56914                         Kenote, Peter            A  \n",
       "56915                             Tu, Qiang            A  \n",
       "56916                      Wolfram, William            A  \n",
       "56917                           Wang, Liang            S  \n",
       "56918                       McGill, Anthony            S  \n",
       "56919                       LeClair, Judith            S  \n",
       "56920                        Deane, Richard            S  \n",
       "56921               Harvey, Joelle [Joélle]            S  \n",
       "56922                Johnson Cano, Jennifer            S  \n",
       "56923                            Bliss, Ben            S  \n",
       "56924               Foster-Williams, Andrew            S  \n",
       "56925           Westminster Symphonic Choir            S  \n",
       "56926               Harvey, Joelle [Joélle]            S  \n",
       "56927                Johnson Cano, Jennifer            S  \n",
       "56928                            Bliss, Ben            S  \n",
       "56929                         Duncan, Tyler            S  \n",
       "56930           Westminster Symphonic Choir            S  \n",
       "\n",
       "[56931 rows x 4 columns]"
      ]
     },
     "execution_count": 16,
     "metadata": {},
     "output_type": "execute_result"
    }
   ],
   "source": [
    "import pandas as pd\n",
    "\n",
    "rows = []\n",
    "\n",
    "soloists = programs.xpath(\".//soloist\")\n",
    "for soloist in soloists:\n",
    "    row = {}\n",
    "    row[\"soloistName\"] = soloist.find(\"soloistName\").text\n",
    "    row[\"soloistInstrument\"] = soloist.find(\"soloistInstrument\").text\n",
    "    row[\"soloistRoles\"] = soloist.find(\"soloistRoles\").text\n",
    "    row[\"composerName\"] = soloist.xpath(\"ancestor::work//composerName\")[0].text\n",
    "    rows.append(row)\n",
    "    \n",
    "soloistsdf = pd.DataFrame(rows)\n",
    "soloistsdf"
   ]
  },
  {
   "cell_type": "markdown",
   "metadata": {},
   "source": [
    "Now, this is a `DataFrame` that we can analyze easily. For example, here is how many times Benny Goodman programmed a work by Mozart with the NY Phil:"
   ]
  },
  {
   "cell_type": "code",
   "execution_count": 17,
   "metadata": {},
   "outputs": [
    {
     "data": {
      "text/plain": [
       "Mozart,  Wolfgang  Amadeus      3\n",
       "Weber,  Carl  Maria Von         3\n",
       "Gershwin,  George               2\n",
       "Sauter,  Eddie                  2\n",
       "Sampson,  Edgar                 1\n",
       "Copland,  Aaron                 1\n",
       "Debussy,  Claude                1\n",
       "Unspecified,                    1\n",
       "Williams,  Mary Lou             1\n",
       "Green,  Johnny                  1\n",
       "Anthem,                         1\n",
       "Confrey,  Zez                   1\n",
       "Ellington,  Duke                1\n",
       "Cannon,  Hughie                 1\n",
       "Basie,  Count                   1\n",
       "Baxter,  Phil                   1\n",
       "Handy,  William  Christopher    1\n",
       "Prima,  Louis                   1\n",
       "Youmans,  Vincent               1\n",
       "Name: composerName, dtype: int64"
      ]
     },
     "execution_count": 17,
     "metadata": {},
     "output_type": "execute_result"
    }
   ],
   "source": [
    "soloistsdf[soloistsdf[\"soloistName\"] == \"Goodman, Benny\"].composerName.value_counts()"
   ]
  },
  {
   "cell_type": "markdown",
   "metadata": {},
   "source": [
    "# RESTful Web Services\n",
    "\n",
    "Many RESTful web services return data in XML format. Like before, we use the `requests` library in Python to issue the HTTP request. For example, the website [FloatRates](http://www.floatrates.com/feeds.html) provides exchange rates between world currencies in XML format."
   ]
  },
  {
   "cell_type": "code",
   "execution_count": 18,
   "metadata": {},
   "outputs": [
    {
     "data": {
      "text/plain": [
       "<Response [200]>"
      ]
     },
     "execution_count": 18,
     "metadata": {},
     "output_type": "execute_result"
    }
   ],
   "source": [
    "import requests\n",
    "resp = requests.get(\"http://www.floatrates.com/daily/usd.xml\")\n",
    "resp"
   ]
  },
  {
   "cell_type": "markdown",
   "metadata": {},
   "source": [
    "The XML is stored in the `.content` attribute of the response object. We can parse this string into an ElementTree using the `.fromstring()` function in the `lxml` library. Recall that this returns the root tag of the XML document."
   ]
  },
  {
   "cell_type": "code",
   "execution_count": 19,
   "metadata": {},
   "outputs": [
    {
     "data": {
      "text/plain": [
       "<Element channel at 0x7f0ea4684308>"
      ]
     },
     "execution_count": 19,
     "metadata": {},
     "output_type": "execute_result"
    }
   ],
   "source": [
    "etree.fromstring(resp.content)"
   ]
  },
  {
   "cell_type": "markdown",
   "metadata": {},
   "source": [
    "# Exercises\n",
    "\n",
    "Exercises 1 and 2 deal with the New York Philharmonic data set from above. These exercises are the same as the ones in the previous section, except that now you have to do them with XML."
   ]
  },
  {
   "cell_type": "markdown",
   "metadata": {},
   "source": [
    "**Exercise 1.** What is the most frequent start time for New York Philharmonic concerts?"
   ]
  },
  {
   "cell_type": "code",
   "execution_count": 25,
   "metadata": {},
   "outputs": [
    {
     "data": {
      "text/plain": [
       "8:30PM     4584\n",
       "8:00PM     4443\n",
       "3:00PM     2133\n",
       "7:30PM     2075\n",
       "2:30PM     1618\n",
       "8:45PM     1470\n",
       "2:00PM     1208\n",
       "8:15PM      911\n",
       "None        773\n",
       "11:00AM     524\n",
       "2:15PM      294\n",
       "7:00PM      273\n",
       "6:00PM      131\n",
       "3:15PM      131\n",
       "9:00PM      110\n",
       "2:45PM      104\n",
       "6:45PM      104\n",
       "12:00PM      97\n",
       "6:30PM       89\n",
       "10:30AM      66\n",
       "12:30PM      49\n",
       "3:30PM       48\n",
       "4:30PM       45\n",
       "1:00PM       42\n",
       "1:30PM       41\n",
       "5:00PM       39\n",
       "4:00PM       24\n",
       "3:10PM       24\n",
       "12:10PM      23\n",
       "9:15PM       19\n",
       "           ... \n",
       "12:00AM       6\n",
       "11:30AM       6\n",
       "7:30AM        6\n",
       "4:45PM        6\n",
       "8:03PM        5\n",
       "6:15PM        5\n",
       "10:00PM       4\n",
       "2:20PM        4\n",
       "8:15AM        4\n",
       "8:30AM        3\n",
       "12:15PM       3\n",
       "3:00AM        2\n",
       "10:15AM       2\n",
       "12:45PM       2\n",
       "7:50PM        2\n",
       "8:25PM        2\n",
       "7:03PM        2\n",
       "8:00AM        2\n",
       "9:10PM        2\n",
       "9:45PM        1\n",
       "8:10PM        1\n",
       "1:15PM        1\n",
       "3:20PM        1\n",
       "2:00AM        1\n",
       "1:50PM        1\n",
       "6:03PM        1\n",
       "8:36PM        1\n",
       "2:50PM        1\n",
       "1:45PM        1\n",
       "2:30AM        1\n",
       "Length: 70, dtype: int64"
      ]
     },
     "execution_count": 25,
     "metadata": {},
     "output_type": "execute_result"
    }
   ],
   "source": [
    "times = programs.xpath(\"//concertInfo/Time\")\n",
    "pd.Series([time.text for time in times]).value_counts()"
   ]
  },
  {
   "cell_type": "markdown",
   "metadata": {},
   "source": [
    "**Exercise 2.** How many total concerts did the New York Philharmonic perform in the 2014-15 season?"
   ]
  },
  {
   "cell_type": "code",
   "execution_count": null,
   "metadata": {},
   "outputs": [],
   "source": []
  },
  {
   "cell_type": "markdown",
   "metadata": {},
   "source": [
    "In Exercises 3-4, you will work with [APIXU](https://www.apixu.com/), an weather API. This API returns data in both JSON and XML formats. In these exercises, you should request the data to be returned in XML format.\n",
    "\n",
    "Register with the website to obtain an API key. You will likely need to refer to [the API documentation here](https://www.apixu.com/doc/). If you run into unexpected errors, issue the HTTP request from your browser to make sure that the data is in the format you expect."
   ]
  },
  {
   "cell_type": "markdown",
   "metadata": {},
   "source": [
    "**Exercise 3.** Get the forecasted low (min) and high (max) temperatures (in Fahrenheit) for the next 7 days in San Luis Obispo. Make a graphic that displays this information."
   ]
  },
  {
   "cell_type": "code",
   "execution_count": null,
   "metadata": {},
   "outputs": [],
   "source": []
  },
  {
   "cell_type": "markdown",
   "metadata": {},
   "source": [
    "**Exercise 4.** Get the hourly wind speed (in mph) for the past 7 days. (_Note:_ This will require making 7 HTTP requests to the API. Try to do it programmatically.) You should end up with $24 \\times 7 = 168$ rows in your `DataFrame`. Make a plot of the wind speed as a function of time. What do you notice?"
   ]
  },
  {
   "cell_type": "code",
   "execution_count": null,
   "metadata": {},
   "outputs": [],
   "source": [
    "# TYPE YOUR CODE HERE"
   ]
  }
 ],
 "metadata": {
  "kernelspec": {
   "display_name": "Python 3",
   "language": "python",
   "name": "python3"
  },
  "language_info": {
   "codemirror_mode": {
    "name": "ipython",
    "version": 3
   },
   "file_extension": ".py",
   "mimetype": "text/x-python",
   "name": "python",
   "nbconvert_exporter": "python",
   "pygments_lexer": "ipython3",
   "version": "3.6.8"
  }
 },
 "nbformat": 4,
 "nbformat_minor": 2
}
