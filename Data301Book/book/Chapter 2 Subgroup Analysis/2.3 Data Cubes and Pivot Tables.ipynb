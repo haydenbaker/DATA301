{
 "cells": [
  {
   "cell_type": "markdown",
   "metadata": {},
   "source": [
    "# 2.3 Data Cubes and Pivot Tables"
   ]
  },
  {
   "cell_type": "code",
   "execution_count": 3,
   "metadata": {},
   "outputs": [],
   "source": [
    "%matplotlib inline\n",
    "import numpy as np\n",
    "import pandas as pd\n",
    "titanic_df = pd.read_csv(\"https://raw.githubusercontent.com/dlsun/data-science-book/master/data/titanic.csv\")\n",
    "\n",
    "titanic_df[\"adult\"] = (titanic_df[\"age\"] >= 18)"
   ]
  },
  {
   "cell_type": "markdown",
   "metadata": {},
   "source": [
    "In Section 2.2, we learned to split a `pandas` `DataFrame` and apply the same analysis to each of the resulting, smaller `DataFrame`s. For example, the following code calculates the proportion of Titanic passengers of each sex, age group, and class who survived:"
   ]
  },
  {
   "cell_type": "code",
   "execution_count": 5,
   "metadata": {},
   "outputs": [
    {
     "data": {
      "text/html": [
       "<div>\n",
       "<style scoped>\n",
       "    .dataframe tbody tr th:only-of-type {\n",
       "        vertical-align: middle;\n",
       "    }\n",
       "\n",
       "    .dataframe tbody tr th {\n",
       "        vertical-align: top;\n",
       "    }\n",
       "\n",
       "    .dataframe thead th {\n",
       "        text-align: right;\n",
       "    }\n",
       "</style>\n",
       "<table border=\"1\" class=\"dataframe\">\n",
       "  <thead>\n",
       "    <tr style=\"text-align: right;\">\n",
       "      <th></th>\n",
       "      <th></th>\n",
       "      <th></th>\n",
       "      <th>survived</th>\n",
       "    </tr>\n",
       "    <tr>\n",
       "      <th>sex</th>\n",
       "      <th>adult</th>\n",
       "      <th>pclass</th>\n",
       "      <th></th>\n",
       "    </tr>\n",
       "  </thead>\n",
       "  <tbody>\n",
       "    <tr>\n",
       "      <th rowspan=\"6\" valign=\"top\">female</th>\n",
       "      <th rowspan=\"3\" valign=\"top\">False</th>\n",
       "      <th>1</th>\n",
       "      <td>0.947368</td>\n",
       "    </tr>\n",
       "    <tr>\n",
       "      <th>2</th>\n",
       "      <td>0.952381</td>\n",
       "    </tr>\n",
       "    <tr>\n",
       "      <th>3</th>\n",
       "      <td>0.536364</td>\n",
       "    </tr>\n",
       "    <tr>\n",
       "      <th rowspan=\"3\" valign=\"top\">True</th>\n",
       "      <th>1</th>\n",
       "      <td>0.968000</td>\n",
       "    </tr>\n",
       "    <tr>\n",
       "      <th>2</th>\n",
       "      <td>0.870588</td>\n",
       "    </tr>\n",
       "    <tr>\n",
       "      <th>3</th>\n",
       "      <td>0.443396</td>\n",
       "    </tr>\n",
       "    <tr>\n",
       "      <th rowspan=\"6\" valign=\"top\">male</th>\n",
       "      <th rowspan=\"3\" valign=\"top\">False</th>\n",
       "      <th>1</th>\n",
       "      <td>0.400000</td>\n",
       "    </tr>\n",
       "    <tr>\n",
       "      <th>2</th>\n",
       "      <td>0.464286</td>\n",
       "    </tr>\n",
       "    <tr>\n",
       "      <th>3</th>\n",
       "      <td>0.147059</td>\n",
       "    </tr>\n",
       "    <tr>\n",
       "      <th rowspan=\"3\" valign=\"top\">True</th>\n",
       "      <th>1</th>\n",
       "      <td>0.326389</td>\n",
       "    </tr>\n",
       "    <tr>\n",
       "      <th>2</th>\n",
       "      <td>0.083916</td>\n",
       "    </tr>\n",
       "    <tr>\n",
       "      <th>3</th>\n",
       "      <td>0.155709</td>\n",
       "    </tr>\n",
       "  </tbody>\n",
       "</table>\n",
       "</div>"
      ],
      "text/plain": [
       "                     survived\n",
       "sex    adult pclass          \n",
       "female False 1       0.947368\n",
       "             2       0.952381\n",
       "             3       0.536364\n",
       "       True  1       0.968000\n",
       "             2       0.870588\n",
       "             3       0.443396\n",
       "male   False 1       0.400000\n",
       "             2       0.464286\n",
       "             3       0.147059\n",
       "       True  1       0.326389\n",
       "             2       0.083916\n",
       "             3       0.155709"
      ]
     },
     "execution_count": 5,
     "metadata": {},
     "output_type": "execute_result"
    }
   ],
   "source": [
    "survivors_table = (titanic_df.\n",
    "                   groupby([\"sex\", \"adult\", \"pclass\"]).\n",
    "                   survived.\n",
    "                   mean())\n",
    "survivors_table.to_frame()"
   ]
  },
  {
   "cell_type": "markdown",
   "metadata": {},
   "source": [
    "Here's another way to think about these results: there are three dimensions, `sex`, `adult`, and `pclass`, and we calculate a metric, the proportion of survivors, for each of the $2 \\times 2 \\times 3 = 12$ possible combinations of the dimension values.\n",
    "\n",
    "There are many equivalent ways to represent these results. The representation above is essentially the _tabular form_ that we learned in Chapter 1. Each row represents an observation (i.e., a distinct combination of sex, adult, and class) and each column a variable (i.e., the proportion of passengers who survived). Another way to represent these results is using a **data cube**. In a data cube, the possible values of each dimension are laid out along one dimension of a cube, as shown below:\n",
    "\n",
    "![](./datacube.png)\n",
    "\n",
    "The term \"data _cube_\" is somewhat of a misnomer, since it does not have to be a cube. First, as we can plainly see in the figure above, the dimensions need not all be the same size; some dimensions may have more values than others. Second, a data cube can have any number of dimensions, so it does not have to be three-dimensional. A data cube with $d$ dimensions is really a $d$-dimensional hypercube. A 2-dimensional hypercube is a square (or rectangle), a 1-dimensional hypercube is a line, and a 0-dimensional hypercube is a point.\n",
    "\n",
    "While it is useful to imagine a data cube as a $d$-dimensional hypercube, it is not practical to display data in a hypercube---at least not when $d > 2$. So a data cube is often printed as a two-dimensional table, with multi-level row indexes and columns to represent the dimensions. This two-dimensional representation of the data cube is called a **pivot table**. Here is the code to produce a pivot table from the raw data:"
   ]
  },
  {
   "cell_type": "code",
   "execution_count": 14,
   "metadata": {},
   "outputs": [
    {
     "data": {
      "text/html": [
       "<div>\n",
       "<style scoped>\n",
       "    .dataframe tbody tr th:only-of-type {\n",
       "        vertical-align: middle;\n",
       "    }\n",
       "\n",
       "    .dataframe tbody tr th {\n",
       "        vertical-align: top;\n",
       "    }\n",
       "\n",
       "    .dataframe thead tr th {\n",
       "        text-align: left;\n",
       "    }\n",
       "\n",
       "    .dataframe thead tr:last-of-type th {\n",
       "        text-align: right;\n",
       "    }\n",
       "</style>\n",
       "<table border=\"1\" class=\"dataframe\">\n",
       "  <thead>\n",
       "    <tr>\n",
       "      <th>adult</th>\n",
       "      <th colspan=\"3\" halign=\"left\">False</th>\n",
       "      <th colspan=\"3\" halign=\"left\">True</th>\n",
       "    </tr>\n",
       "    <tr>\n",
       "      <th>pclass</th>\n",
       "      <th>1</th>\n",
       "      <th>2</th>\n",
       "      <th>3</th>\n",
       "      <th>1</th>\n",
       "      <th>2</th>\n",
       "      <th>3</th>\n",
       "    </tr>\n",
       "    <tr>\n",
       "      <th>sex</th>\n",
       "      <th></th>\n",
       "      <th></th>\n",
       "      <th></th>\n",
       "      <th></th>\n",
       "      <th></th>\n",
       "      <th></th>\n",
       "    </tr>\n",
       "  </thead>\n",
       "  <tbody>\n",
       "    <tr>\n",
       "      <th>female</th>\n",
       "      <td>0.947368</td>\n",
       "      <td>0.952381</td>\n",
       "      <td>0.536364</td>\n",
       "      <td>0.968000</td>\n",
       "      <td>0.870588</td>\n",
       "      <td>0.443396</td>\n",
       "    </tr>\n",
       "    <tr>\n",
       "      <th>male</th>\n",
       "      <td>0.400000</td>\n",
       "      <td>0.464286</td>\n",
       "      <td>0.147059</td>\n",
       "      <td>0.326389</td>\n",
       "      <td>0.083916</td>\n",
       "      <td>0.155709</td>\n",
       "    </tr>\n",
       "  </tbody>\n",
       "</table>\n",
       "</div>"
      ],
      "text/plain": [
       "adult      False                         True                     \n",
       "pclass         1         2         3         1         2         3\n",
       "sex                                                               \n",
       "female  0.947368  0.952381  0.536364  0.968000  0.870588  0.443396\n",
       "male    0.400000  0.464286  0.147059  0.326389  0.083916  0.155709"
      ]
     },
     "execution_count": 14,
     "metadata": {},
     "output_type": "execute_result"
    }
   ],
   "source": [
    "survivors_cube = titanic_df.pivot_table(\n",
    "    index=\"sex\", columns=[\"adult\", \"pclass\"],\n",
    "    values=\"survived\", aggfunc=np.mean)\n",
    "survivors_cube"
   ]
  },
  {
   "cell_type": "markdown",
   "metadata": {},
   "source": [
    "To create a pivot table, we had to specify \n",
    "- the row index(es): Here, we chose to include two of the dimensions (`adult`, `sex`) along the rows of the pivot table.\n",
    "- the column(s): Here, we chose to include the one remaining dimension (`pclass`) in the columns.\n",
    "- the metric in the cells of the table: Here, we chose to report the _mean_ of the `survived` column in each cell.\n",
    "\n",
    "The resulting pivot table is just stored in an ordinary `DataFrame`; `pandas` does not have a special data structure for pivot tables.\n",
    "\n",
    "Notice how we explicitly specified an aggregation function `aggfunc`. That's because in the original `DataFrame` (`titanic_df`), there were many passengers with the same values for all three dimensions, so each cell of this pivot table actually represents many passengers. In order to summarize all of these passengers by a single value, we have to aggregate the values. The mean is not the only aggregation function we could have used; we could have also calculated the sum, to obtain the _number_ of survivors."
   ]
  },
  {
   "cell_type": "code",
   "execution_count": 18,
   "metadata": {},
   "outputs": [
    {
     "data": {
      "text/html": [
       "<div>\n",
       "<style scoped>\n",
       "    .dataframe tbody tr th:only-of-type {\n",
       "        vertical-align: middle;\n",
       "    }\n",
       "\n",
       "    .dataframe tbody tr th {\n",
       "        vertical-align: top;\n",
       "    }\n",
       "\n",
       "    .dataframe thead tr th {\n",
       "        text-align: left;\n",
       "    }\n",
       "\n",
       "    .dataframe thead tr:last-of-type th {\n",
       "        text-align: right;\n",
       "    }\n",
       "</style>\n",
       "<table border=\"1\" class=\"dataframe\">\n",
       "  <thead>\n",
       "    <tr>\n",
       "      <th>adult</th>\n",
       "      <th colspan=\"3\" halign=\"left\">False</th>\n",
       "      <th colspan=\"3\" halign=\"left\">True</th>\n",
       "    </tr>\n",
       "    <tr>\n",
       "      <th>pclass</th>\n",
       "      <th>1</th>\n",
       "      <th>2</th>\n",
       "      <th>3</th>\n",
       "      <th>1</th>\n",
       "      <th>2</th>\n",
       "      <th>3</th>\n",
       "    </tr>\n",
       "    <tr>\n",
       "      <th>sex</th>\n",
       "      <th></th>\n",
       "      <th></th>\n",
       "      <th></th>\n",
       "      <th></th>\n",
       "      <th></th>\n",
       "      <th></th>\n",
       "    </tr>\n",
       "  </thead>\n",
       "  <tbody>\n",
       "    <tr>\n",
       "      <th>female</th>\n",
       "      <td>18</td>\n",
       "      <td>20</td>\n",
       "      <td>59</td>\n",
       "      <td>121</td>\n",
       "      <td>74</td>\n",
       "      <td>47</td>\n",
       "    </tr>\n",
       "    <tr>\n",
       "      <th>male</th>\n",
       "      <td>14</td>\n",
       "      <td>13</td>\n",
       "      <td>30</td>\n",
       "      <td>47</td>\n",
       "      <td>12</td>\n",
       "      <td>45</td>\n",
       "    </tr>\n",
       "  </tbody>\n",
       "</table>\n",
       "</div>"
      ],
      "text/plain": [
       "adult  False         True         \n",
       "pclass     1   2   3     1   2   3\n",
       "sex                               \n",
       "female    18  20  59   121  74  47\n",
       "male      14  13  30    47  12  45"
      ]
     },
     "execution_count": 18,
     "metadata": {},
     "output_type": "execute_result"
    }
   ],
   "source": [
    "titanic_df.pivot_table(\n",
    "    index=\"sex\", columns=[\"adult\", \"pclass\"],\n",
    "    values=\"survived\", aggfunc=np.sum\n",
    ")"
   ]
  },
  {
   "cell_type": "markdown",
   "metadata": {},
   "source": [
    "If the data is in data cube form (i.e., in a pivot table), it can be converted to tabular form by simply stacking the columns, one on top of the other. In `pandas`, this can be done using the `.stack()` function:"
   ]
  },
  {
   "cell_type": "code",
   "execution_count": 19,
   "metadata": {},
   "outputs": [
    {
     "data": {
      "text/plain": [
       "sex     adult  pclass\n",
       "female  False  1         0.947368\n",
       "               2         0.952381\n",
       "               3         0.536364\n",
       "        True   1         0.968000\n",
       "               2         0.870588\n",
       "               3         0.443396\n",
       "male    False  1         0.400000\n",
       "               2         0.464286\n",
       "               3         0.147059\n",
       "        True   1         0.326389\n",
       "               2         0.083916\n",
       "               3         0.155709\n",
       "dtype: float64"
      ]
     },
     "execution_count": 19,
     "metadata": {},
     "output_type": "execute_result"
    }
   ],
   "source": [
    "survivors_cube.stack([\"adult\", \"pclass\"])"
   ]
  },
  {
   "cell_type": "markdown",
   "metadata": {},
   "source": [
    "Compare the above result with `survivors_table`.\n",
    "\n",
    "Likewise, we can convert a `pandas` object in tabular form to data cube form by _unstacking_ the index, assuming that all of the dimensions are already in the index."
   ]
  },
  {
   "cell_type": "code",
   "execution_count": 20,
   "metadata": {},
   "outputs": [
    {
     "data": {
      "text/html": [
       "<div>\n",
       "<style scoped>\n",
       "    .dataframe tbody tr th:only-of-type {\n",
       "        vertical-align: middle;\n",
       "    }\n",
       "\n",
       "    .dataframe tbody tr th {\n",
       "        vertical-align: top;\n",
       "    }\n",
       "\n",
       "    .dataframe thead tr th {\n",
       "        text-align: left;\n",
       "    }\n",
       "\n",
       "    .dataframe thead tr:last-of-type th {\n",
       "        text-align: right;\n",
       "    }\n",
       "</style>\n",
       "<table border=\"1\" class=\"dataframe\">\n",
       "  <thead>\n",
       "    <tr>\n",
       "      <th>adult</th>\n",
       "      <th colspan=\"3\" halign=\"left\">False</th>\n",
       "      <th colspan=\"3\" halign=\"left\">True</th>\n",
       "    </tr>\n",
       "    <tr>\n",
       "      <th>pclass</th>\n",
       "      <th>1</th>\n",
       "      <th>2</th>\n",
       "      <th>3</th>\n",
       "      <th>1</th>\n",
       "      <th>2</th>\n",
       "      <th>3</th>\n",
       "    </tr>\n",
       "    <tr>\n",
       "      <th>sex</th>\n",
       "      <th></th>\n",
       "      <th></th>\n",
       "      <th></th>\n",
       "      <th></th>\n",
       "      <th></th>\n",
       "      <th></th>\n",
       "    </tr>\n",
       "  </thead>\n",
       "  <tbody>\n",
       "    <tr>\n",
       "      <th>female</th>\n",
       "      <td>0.947368</td>\n",
       "      <td>0.952381</td>\n",
       "      <td>0.536364</td>\n",
       "      <td>0.968000</td>\n",
       "      <td>0.870588</td>\n",
       "      <td>0.443396</td>\n",
       "    </tr>\n",
       "    <tr>\n",
       "      <th>male</th>\n",
       "      <td>0.400000</td>\n",
       "      <td>0.464286</td>\n",
       "      <td>0.147059</td>\n",
       "      <td>0.326389</td>\n",
       "      <td>0.083916</td>\n",
       "      <td>0.155709</td>\n",
       "    </tr>\n",
       "  </tbody>\n",
       "</table>\n",
       "</div>"
      ],
      "text/plain": [
       "adult      False                         True                     \n",
       "pclass         1         2         3         1         2         3\n",
       "sex                                                               \n",
       "female  0.947368  0.952381  0.536364  0.968000  0.870588  0.443396\n",
       "male    0.400000  0.464286  0.147059  0.326389  0.083916  0.155709"
      ]
     },
     "execution_count": 20,
     "metadata": {},
     "output_type": "execute_result"
    }
   ],
   "source": [
    "survivors_cube = survivors_table.unstack([\"adult\", \"pclass\"])\n",
    "survivors_cube"
   ]
  },
  {
   "cell_type": "markdown",
   "metadata": {},
   "source": [
    "Stacking tends to produce longer objects with more rows, while unstacking tends to produce wider objects with more columns. For this reason, tabular form is sometimes referred to as \"long form\", in contrast to the data cube, which is \"wide form.\""
   ]
  },
  {
   "cell_type": "markdown",
   "metadata": {},
   "source": [
    "# Some Features of Data Cubes\n",
    "\n",
    "It is much easier to quickly compare numbers in data cube form than in tabular form. For example, it is apparent from the preceding pivot table that males had much lower survival rates than females just by comparing the numbers across each row; this fact is more difficult to discern from `survivors_table`.\n",
    "\n",
    "It is also more efficient to store data in a data cube. Recall that `survivors_table` and `survivors_cube` contain the exact same information. However, the data cube is 70% smaller than the tabular version of the same data:"
   ]
  },
  {
   "cell_type": "code",
   "execution_count": 21,
   "metadata": {},
   "outputs": [
    {
     "data": {
      "text/plain": [
       "(577, 220)"
      ]
     },
     "execution_count": 21,
     "metadata": {},
     "output_type": "execute_result"
    }
   ],
   "source": [
    "survivors_table.__sizeof__(), survivors_cube.__sizeof__()"
   ]
  },
  {
   "cell_type": "markdown",
   "metadata": {},
   "source": [
    "In many implementations of the data cube, it is also faster to access values in a data cube than in a table. Unfortunately, because `pandas` represents data cubes as two-dimensional pivot tables, it does not enjoy these advantages."
   ]
  },
  {
   "cell_type": "code",
   "execution_count": 22,
   "metadata": {},
   "outputs": [
    {
     "data": {
      "text/plain": [
       "0.96799999999999997"
      ]
     },
     "execution_count": 22,
     "metadata": {},
     "output_type": "execute_result"
    }
   ],
   "source": [
    "survivors_table.loc[\"female\", True, 1]"
   ]
  },
  {
   "cell_type": "code",
   "execution_count": 23,
   "metadata": {},
   "outputs": [
    {
     "data": {
      "text/plain": [
       "0.96799999999999997"
      ]
     },
     "execution_count": 23,
     "metadata": {},
     "output_type": "execute_result"
    }
   ],
   "source": [
    "survivors_cube.loc[\"female\", (True, 1)]"
   ]
  },
  {
   "cell_type": "markdown",
   "metadata": {},
   "source": [
    "Data cubes also play nicely with bar charts in `pandas`. When `.plot.bar()` is called on a `pandas` `DataFrame`, one set of bars will be created for each column. So when we call `.plot.bar()` on a pivot table, we will get one set of bars for females and another set of bars for males."
   ]
  },
  {
   "cell_type": "code",
   "execution_count": 24,
   "metadata": {},
   "outputs": [
    {
     "data": {
      "text/plain": [
       "<matplotlib.axes._subplots.AxesSubplot at 0x7f4c5317a8d0>"
      ]
     },
     "execution_count": 24,
     "metadata": {},
     "output_type": "execute_result"
    },
    {
     "data": {
      "image/png": "[encoded data removed]",
      "text/plain": [
       "<Figure size 432x288 with 1 Axes>"
      ]
     },
     "metadata": {},
     "output_type": "display_data"
    }
   ],
   "source": [
    "survivors_cube.plot.bar()"
   ]
  },
  {
   "cell_type": "markdown",
   "metadata": {},
   "source": [
    "Notice that the $x$-axis of the bar graph contains all of the dimensions in the row index. So to get `pclass` on the $x$-axis, we have to create a pivot table where `pclass` is the row index:"
   ]
  },
  {
   "cell_type": "code",
   "execution_count": 25,
   "metadata": {},
   "outputs": [
    {
     "data": {
      "text/plain": [
       "<matplotlib.axes._subplots.AxesSubplot at 0x7f4c5300d160>"
      ]
     },
     "execution_count": 25,
     "metadata": {},
     "output_type": "execute_result"
    },
    {
     "data": {
      "image/png": "[encoded data removed]",
      "text/plain": [
       "<Figure size 432x288 with 1 Axes>"
      ]
     },
     "metadata": {},
     "output_type": "display_data"
    }
   ],
   "source": [
    "titanic_df.pivot_table(\n",
    "    index=\"pclass\", columns=[\"adult\", \"sex\"],\n",
    "    values=\"survived\", aggfunc=np.mean\n",
    ").plot.bar()"
   ]
  },
  {
   "cell_type": "markdown",
   "metadata": {},
   "source": [
    "Finally, many analytical operations are easier to do when the data is in data cube format. We explore some of them in Section 2.4."
   ]
  },
  {
   "cell_type": "markdown",
   "metadata": {},
   "source": [
    "# Exercises\n",
    "\n",
    "Exercises 1-2 deal with the Tips data set (`https://raw.githubusercontent.com/dlsun/data-science-book/master/data/tips.csv`)."
   ]
  },
  {
   "cell_type": "markdown",
   "metadata": {},
   "source": [
    "**Exercise 1.** Calculate the average total bill by day, time, and table size. Display the results in a pivot table."
   ]
  },
  {
   "cell_type": "code",
   "execution_count": 29,
   "metadata": {},
   "outputs": [
    {
     "data": {
      "text/html": [
       "<div>\n",
       "<style scoped>\n",
       "    .dataframe tbody tr th:only-of-type {\n",
       "        vertical-align: middle;\n",
       "    }\n",
       "\n",
       "    .dataframe tbody tr th {\n",
       "        vertical-align: top;\n",
       "    }\n",
       "\n",
       "    .dataframe thead th {\n",
       "        text-align: right;\n",
       "    }\n",
       "</style>\n",
       "<table border=\"1\" class=\"dataframe\">\n",
       "  <thead>\n",
       "    <tr style=\"text-align: right;\">\n",
       "      <th></th>\n",
       "      <th>size</th>\n",
       "      <th>1</th>\n",
       "      <th>2</th>\n",
       "      <th>3</th>\n",
       "      <th>4</th>\n",
       "      <th>5</th>\n",
       "      <th>6</th>\n",
       "    </tr>\n",
       "    <tr>\n",
       "      <th>day</th>\n",
       "      <th>time</th>\n",
       "      <th></th>\n",
       "      <th></th>\n",
       "      <th></th>\n",
       "      <th></th>\n",
       "      <th></th>\n",
       "      <th></th>\n",
       "    </tr>\n",
       "  </thead>\n",
       "  <tbody>\n",
       "    <tr>\n",
       "      <th rowspan=\"2\" valign=\"top\">Fri</th>\n",
       "      <th>Dinner</th>\n",
       "      <td>NaN</td>\n",
       "      <td>17.799091</td>\n",
       "      <td>NaN</td>\n",
       "      <td>40.170000</td>\n",
       "      <td>NaN</td>\n",
       "      <td>NaN</td>\n",
       "    </tr>\n",
       "    <tr>\n",
       "      <th>Lunch</th>\n",
       "      <td>8.58</td>\n",
       "      <td>13.072000</td>\n",
       "      <td>15.980000</td>\n",
       "      <td>NaN</td>\n",
       "      <td>NaN</td>\n",
       "      <td>NaN</td>\n",
       "    </tr>\n",
       "    <tr>\n",
       "      <th>Sat</th>\n",
       "      <th>Dinner</th>\n",
       "      <td>5.16</td>\n",
       "      <td>16.837170</td>\n",
       "      <td>25.509444</td>\n",
       "      <td>29.876154</td>\n",
       "      <td>28.15</td>\n",
       "      <td>NaN</td>\n",
       "    </tr>\n",
       "    <tr>\n",
       "      <th>Sun</th>\n",
       "      <th>Dinner</th>\n",
       "      <td>NaN</td>\n",
       "      <td>17.560000</td>\n",
       "      <td>22.184000</td>\n",
       "      <td>26.688333</td>\n",
       "      <td>27.00</td>\n",
       "      <td>48.170000</td>\n",
       "    </tr>\n",
       "    <tr>\n",
       "      <th rowspan=\"2\" valign=\"top\">Thur</th>\n",
       "      <th>Dinner</th>\n",
       "      <td>NaN</td>\n",
       "      <td>18.780000</td>\n",
       "      <td>NaN</td>\n",
       "      <td>NaN</td>\n",
       "      <td>NaN</td>\n",
       "      <td>NaN</td>\n",
       "    </tr>\n",
       "    <tr>\n",
       "      <th>Lunch</th>\n",
       "      <td>10.07</td>\n",
       "      <td>15.079787</td>\n",
       "      <td>19.160000</td>\n",
       "      <td>29.950000</td>\n",
       "      <td>41.19</td>\n",
       "      <td>30.383333</td>\n",
       "    </tr>\n",
       "  </tbody>\n",
       "</table>\n",
       "</div>"
      ],
      "text/plain": [
       "size             1          2          3          4      5          6\n",
       "day  time                                                            \n",
       "Fri  Dinner    NaN  17.799091        NaN  40.170000    NaN        NaN\n",
       "     Lunch    8.58  13.072000  15.980000        NaN    NaN        NaN\n",
       "Sat  Dinner   5.16  16.837170  25.509444  29.876154  28.15        NaN\n",
       "Sun  Dinner    NaN  17.560000  22.184000  26.688333  27.00  48.170000\n",
       "Thur Dinner    NaN  18.780000        NaN        NaN    NaN        NaN\n",
       "     Lunch   10.07  15.079787  19.160000  29.950000  41.19  30.383333"
      ]
     },
     "execution_count": 29,
     "metadata": {},
     "output_type": "execute_result"
    }
   ],
   "source": [
    "tips_df = pd.read_csv(\"https://raw.githubusercontent.com/dlsun/data-science-book/master/data/tips.csv\")\n",
    "tips_df.pivot_table(\n",
    "    index=[\"day\", \"time\"], columns=\"size\",\n",
    "    values=\"total_bill\", aggfunc=np.mean)"
   ]
  },
  {
   "cell_type": "markdown",
   "metadata": {},
   "source": [
    "**Exercise 2.** Make a bar chart showing the average total bill by table size, day, and time. (You will have to decide which variable(s) to represent on the $x$-axis and which variable(s) to represent using different colored bars.)"
   ]
  },
  {
   "cell_type": "code",
   "execution_count": 30,
   "metadata": {},
   "outputs": [
    {
     "data": {
      "text/plain": [
       "<matplotlib.axes._subplots.AxesSubplot at 0x7f4c52f93ba8>"
      ]
     },
     "execution_count": 30,
     "metadata": {},
     "output_type": "execute_result"
    },
    {
     "data": {
      "image/png": "[encoded data removed]",
      "text/plain": [
       "<Figure size 432x288 with 1 Axes>"
      ]
     },
     "metadata": {},
     "output_type": "display_data"
    }
   ],
   "source": [
    "tips_df.pivot_table(\n",
    "    index=[\"day\", \"time\"], columns=\"size\",\n",
    "    values=\"total_bill\", aggfunc=np.mean).plot.bar()"
   ]
  },
  {
   "cell_type": "markdown",
   "metadata": {},
   "source": [
    "Exercises 3-4 deal with the Ames Housing data set (`https://raw.githubusercontent.com/dlsun/data-science-book/master/data/AmesHousing.txt`). For more information about the variables in this data set, please refer to the [data documentation](https://ww2.amstat.org/publications/jse/v19n3/decock/DataDocumentation.txt)."
   ]
  },
  {
   "cell_type": "markdown",
   "metadata": {},
   "source": [
    "**Exercise 3.** Calculate the average house price by neighborhood and building type, and store it in data cube form. Use the data cube to determine the neighborhood with the most expensive single-family homes."
   ]
  },
  {
   "cell_type": "code",
   "execution_count": 49,
   "metadata": {},
   "outputs": [
    {
     "name": "stdout",
     "output_type": "stream",
     "text": [
      "Bldg Type              1Fam         2fmCon         Duplex          Twnhs  \\\n",
      "Neighborhood                                                               \n",
      "Blmngtn       177689.000000            NaN            NaN            NaN   \n",
      "Blueste                 NaN            NaN            NaN  125480.000000   \n",
      "BrDale                  NaN            NaN            NaN  103927.083333   \n",
      "BrkSide       124779.952830  123500.000000            NaN            NaN   \n",
      "ClearCr       210063.534884            NaN            NaN  148400.000000   \n",
      "CollgCr       204901.450593            NaN  185000.000000            NaN   \n",
      "Crawfor       199974.390805  148500.000000  177500.000000            NaN   \n",
      "Edwards       132198.835443  106380.000000  120683.333333  132875.000000   \n",
      "Gilbert       191145.306748  150000.000000            NaN            NaN   \n",
      "Greens                  NaN            NaN            NaN  194500.000000   \n",
      "GrnHill                 NaN            NaN            NaN            NaN   \n",
      "IDOTRR        104318.176471   95996.428571  110000.000000            NaN   \n",
      "Landmrk                 NaN            NaN            NaN  137000.000000   \n",
      "MeadowV                 NaN            NaN            NaN   89349.473684   \n",
      "Mitchel       162792.782609  168000.000000  160260.000000  164000.000000   \n",
      "NAmes         146197.670823  142225.000000  126998.750000            NaN   \n",
      "NPkVill                 NaN            NaN            NaN  140572.727273   \n",
      "NWAmes        189940.157480  146500.000000  137468.333333            NaN   \n",
      "NoRidge       330319.126761            NaN            NaN            NaN   \n",
      "NridgHt       355939.791667            NaN            NaN  191541.666667   \n",
      "OldTown       124420.490385  123464.000000  111333.333333            NaN   \n",
      "SWISU         133269.815789  135328.571429  157300.000000            NaN   \n",
      "Sawyer        137431.149254  118388.200000  136809.083333            NaN   \n",
      "SawyerW       189991.730000            NaN  171428.571429            NaN   \n",
      "Somerst       250834.900000            NaN            NaN  174018.421053   \n",
      "StoneBr       400546.035714            NaN            NaN            NaN   \n",
      "Timber        246966.913043  228950.000000            NaN            NaN   \n",
      "Veenker       243307.894737            NaN            NaN            NaN   \n",
      "\n",
      "Bldg Type            TwnhsE  \n",
      "Neighborhood                 \n",
      "Blmngtn       198938.400000  \n",
      "Blueste       161700.000000  \n",
      "BrDale        112333.333333  \n",
      "BrkSide                 NaN  \n",
      "ClearCr                 NaN  \n",
      "CollgCr       142803.846154  \n",
      "Crawfor       297296.400000  \n",
      "Edwards       140055.555556  \n",
      "Gilbert                 NaN  \n",
      "Greens        192562.500000  \n",
      "GrnHill       280000.000000  \n",
      "IDOTRR                  NaN  \n",
      "Landmrk                 NaN  \n",
      "MeadowV       102519.444444  \n",
      "Mitchel       156200.000000  \n",
      "NAmes         170000.000000  \n",
      "NPkVill       140837.500000  \n",
      "NWAmes                  NaN  \n",
      "NoRidge                 NaN  \n",
      "NridgHt       248345.794118  \n",
      "OldTown                 NaN  \n",
      "SWISU                   NaN  \n",
      "Sawyer                  NaN  \n",
      "SawyerW       146327.272727  \n",
      "Somerst       195353.372093  \n",
      "StoneBr       231321.739130  \n",
      "Timber        242750.000000  \n",
      "Veenker       267340.000000  \n"
     ]
    },
    {
     "data": {
      "text/plain": [
       "Bldg Type\n",
       "1Fam      StoneBr\n",
       "2fmCon     Timber\n",
       "Duplex    CollgCr\n",
       "Twnhs      Greens\n",
       "TwnhsE    Crawfor\n",
       "dtype: object"
      ]
     },
     "execution_count": 49,
     "metadata": {},
     "output_type": "execute_result"
    }
   ],
   "source": [
    "df = pd.read_csv(\n",
    "    \"https://raw.githubusercontent.com/dlsun/data-science-book/master/data/AmesHousing.txt\",\n",
    "    sep=\"\\t\")\n",
    "df.head()\n",
    "\n",
    "ames_cube = df.pivot_table(\n",
    "    index=\"Neighborhood\", columns=\"Bldg Type\",\n",
    "    values=\"SalePrice\", aggfunc=np.mean)\n",
    "print(ames_cube)\n",
    "\n",
    "ames_cube.idxmax()"
   ]
  },
  {
   "cell_type": "markdown",
   "metadata": {},
   "source": [
    "**Exercise 4.** In the data cube above, there were many NaN values. Why is that? How is this a potential downside of the data cube format?"
   ]
  },
  {
   "cell_type": "markdown",
   "metadata": {},
   "source": [
    "The 'NaN' values are placed there by pandas, because there does not exist an actual data point that fits in the criteria for that point (i.e Twin House in Clear Creek)."
   ]
  }
 ],
 "metadata": {
  "kernelspec": {
   "display_name": "Python 3",
   "language": "python",
   "name": "python3"
  },
  "language_info": {
   "codemirror_mode": {
    "name": "ipython",
    "version": 3
   },
   "file_extension": ".py",
   "mimetype": "text/x-python",
   "name": "python",
   "nbconvert_exporter": "python",
   "pygments_lexer": "ipython3",
   "version": "3.6.5"
  }
 },
 "nbformat": 4,
 "nbformat_minor": 2
}
