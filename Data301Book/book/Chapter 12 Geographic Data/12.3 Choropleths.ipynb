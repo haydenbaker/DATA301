{
 "cells": [
  {
   "cell_type": "markdown",
   "metadata": {},
   "source": [
    "# 12.3 Choropleths\n",
    "\n",
    "A **choropleth** is a map in which areas are colored according to some statistic of interest. Perhaps the most familiar example of a choropleth is the presidential election map, which shows the percentage in each county who voted for the Democratic or Republican candidate. In this graphic, the observational units are counties, and the statistic of interest is the percentage who voted for the Democratic (or Republican) candidate. \n",
    "\n",
    "![](2016election.png)\n",
    "\n",
    "In this notebook, you will learn how to make choropleths like the one above."
   ]
  },
  {
   "cell_type": "markdown",
   "metadata": {},
   "source": [
    "## Shapefiles\n",
    "\n",
    "The shapefile format is a data format for geometric objects, such as points, lines, and polygons. A shapefile can be used to describe the boundaries of a lake, the course of a river, or the boundaries of a county.\n",
    "\n",
    "You can find shapefiles for most geographic entities online. For example, the [U.S. Census Bureau](https://www.census.gov/geo/maps-data/data/tiger-cart-boundary.html) maintains shapefiles for boundaries of states, counties, and congressional districts in the United States. Shapefiles for the countries of the world can be found [at this website](http://thematicmapping.org/downloads/world_borders.php).\n",
    "\n",
    "I downloaded the shapefiles for U.S. counties from the Census Bureau website and uploaded them to JupyterHub. You can find them in the `/data301/data/cb_2017_us_county_5m/` directory."
   ]
  },
  {
   "cell_type": "code",
   "execution_count": null,
   "metadata": {},
   "outputs": [],
   "source": [
    "!ls /data301/data/cb_2017_us_county_5m/"
   ]
  },
  {
   "cell_type": "markdown",
   "metadata": {},
   "source": [
    "Notice that \"shapefile\" is somewhat of a misnomer, as the format refers not to a single file but a collection of files. The main files are:\n",
    "\n",
    "- `.shp` - shape format, which stores the geometric objects\n",
    "- `.shx` - shape index format, which indexes the objects to make them quickly searchable\n",
    "- `.dbf` - attribute format, which stores additional metadata about each object\n",
    "- `.prj` - projection format\n",
    "\n",
    "To read in a shapefile using Basemap, we first set up the map, then call the `.readshapefile()` method, which takes two arguments: (1) the stem of the shapefiles (without the file extension) and (2) a name for the field that will store the attributes (you can pick any name you like, but try to be descriptive)."
   ]
  },
  {
   "cell_type": "code",
   "execution_count": null,
   "metadata": {},
   "outputs": [],
   "source": [
    "import matplotlib.pyplot as plt\n",
    "%matplotlib inline\n",
    "\n",
    "import cartopy.crs as ccrs\n",
    "from cartopy.io.shapereader import Reader\n",
    "from cartopy.feature import ShapelyFeature\n",
    "\n",
    "ax = plt.axes(\n",
    "    projection=ccrs.LambertConformal(\n",
    "        central_latitude=39,\n",
    "        central_longitude=-96,\n",
    "        standard_parallels=(33, 45)\n",
    "    )\n",
    ")\n",
    "ax.set_extent([-125, -66.5, 20, 50])\n",
    "\n",
    "# Read in county-level shapefiles\n",
    "fname = \"/data301/data/cb_2017_us_county_5m/cb_2017_us_county_5m\"\n",
    "shp = Reader(fname)\n",
    "\n",
    "# Add each county to the data set.\n",
    "ax.add_geometries(shp.geometries(),\n",
    "                  ccrs.PlateCarree(),\n",
    "                  facecolor=\"None\",\n",
    "                  edgecolor='black')"
   ]
  },
  {
   "cell_type": "markdown",
   "metadata": {},
   "source": [
    "To make a choropleth, we simply need to set the `facecolor` of each geometry. First, let's read in some county-level data that we can plot."
   ]
  },
  {
   "cell_type": "code",
   "execution_count": null,
   "metadata": {},
   "outputs": [],
   "source": [
    "import pandas as pd\n",
    "election_df = pd.read_csv(\"https://raw.githubusercontent.com/dlsun/data-science-book/\"\n",
    "                            \"master/data/election2016.csv\")\n",
    "election_df"
   ]
  },
  {
   "cell_type": "markdown",
   "metadata": {},
   "source": [
    "We need to merge this data with the shapefile that we just loaded. We can create a `DataFrame` out of the `records` of a shapefile."
   ]
  },
  {
   "cell_type": "code",
   "execution_count": null,
   "metadata": {},
   "outputs": [],
   "source": [
    "shp_df = pd.DataFrame(\n",
    "    [record.attributes for record in shp.records()]\n",
    ")\n",
    "shp_df"
   ]
  },
  {
   "cell_type": "markdown",
   "metadata": {},
   "source": [
    "We will need to merge `election_df` with `shp_df`. But what do we merge the `DataFrame`s on? It turns out that every county in the United States is assigned a unique ID called a FIPS code. The FIPS code appears in `election_df` as `combined_fips` and in `shp_df` as `GEOID`. Let's take a look at these columns."
   ]
  },
  {
   "cell_type": "code",
   "execution_count": null,
   "metadata": {},
   "outputs": [],
   "source": [
    "election_df.combined_fips"
   ]
  },
  {
   "cell_type": "code",
   "execution_count": null,
   "metadata": {},
   "outputs": [],
   "source": [
    "shp_df.GEOID"
   ]
  },
  {
   "cell_type": "markdown",
   "metadata": {},
   "source": [
    "Notice that `shp_df` treats the FIPS code as a string (so every FIPS code is exactly 5 digits, with a leading zero if necessary). On the other hand, `election_df` treats the FIPS code as an integer. If we want to join the two, we will have to cast them to the same type. It is probably easier to convert the string to an integer than vice versa."
   ]
  },
  {
   "cell_type": "code",
   "execution_count": null,
   "metadata": {},
   "outputs": [],
   "source": [
    "shp_df[\"GEOID\"] = shp_df[\"GEOID\"].astype(int)"
   ]
  },
  {
   "cell_type": "markdown",
   "metadata": {},
   "source": [
    "Now we are ready to merge the two `DataFrame`s."
   ]
  },
  {
   "cell_type": "code",
   "execution_count": null,
   "metadata": {},
   "outputs": [],
   "source": [
    "all_data = shp_df.merge(election_df, \n",
    "                        how=\"left\", \n",
    "                        left_on=\"GEOID\", right_on=\"combined_fips\")\n",
    "all_data"
   ]
  },
  {
   "cell_type": "markdown",
   "metadata": {},
   "source": [
    "Now let's plot each county, with the `facecolor` representing the percentage of voters in each county that voted for the Democratic candidate (`per_dem`). To do this, we normalize all values to be between 0 and 1, and define a color map that maps numbers in $[0, 1]$ to a color."
   ]
  },
  {
   "cell_type": "code",
   "execution_count": null,
   "metadata": {},
   "outputs": [],
   "source": [
    "ax = plt.axes(\n",
    "    projection=ccrs.LambertConformal(\n",
    "        central_latitude=39,\n",
    "        central_longitude=-96,\n",
    "        standard_parallels=(33, 45)\n",
    "    )\n",
    ")\n",
    "ax.set_extent([-125, -66.5, 20, 50])\n",
    "\n",
    "# Read in county-level shapefiles\n",
    "fname = \"/data301/data/cb_2017_us_county_5m/cb_2017_us_county_5m\"\n",
    "shp = Reader(fname)\n",
    "\n",
    "# define a normalizer and a color map\n",
    "import matplotlib as mpl\n",
    "norm = mpl.colors.Normalize(vmin=all_data[\"per_dem\"].min(), \n",
    "                            vmax=all_data[\"per_dem\"].max())\n",
    "cmap = plt.cm.RdBu\n",
    "\n",
    "# plot the geometries with a facecolor that depends on per_dem\n",
    "for geometry, (_, row) in zip(shp.geometries(), all_data.iterrows()):\n",
    "    if ~pd.isnull(row[\"per_dem\"]):\n",
    "        ax.add_geometries([geometry],\n",
    "                          ccrs.PlateCarree(),\n",
    "                          facecolor=cmap(norm(row[\"per_dem\"])))"
   ]
  },
  {
   "cell_type": "markdown",
   "metadata": {},
   "source": [
    "# Exercises"
   ]
  },
  {
   "cell_type": "markdown",
   "metadata": {},
   "source": [
    "**Exercise 1.** Use the shapefiles for the countries of the world (`/data301/data/TM_WORLD_BORDERS_SIMPL-0.3/`) to make a choropleth showing carbon dioxide emissions per capita in 2014 (`/data301/data/co2.csv`).\n",
    "\n",
    "(_Hint:_ Some countries are missing data. One way to handle this is to: (1) fill the missing values with an arbitrary value in the range when making the initial map, and (2) go back and re-draw the polygons for those countries on top of the existing map, using a special face color to indicate that data was missing.)"
   ]
  },
  {
   "cell_type": "code",
   "execution_count": null,
   "metadata": {},
   "outputs": [],
   "source": [
    "# TYPE YOUR CODE HERE."
   ]
  }
 ],
 "metadata": {
  "kernelspec": {
   "display_name": "Python 3",
   "language": "python",
   "name": "python3"
  },
  "language_info": {
   "codemirror_mode": {
    "name": "ipython",
    "version": 3
   },
   "file_extension": ".py",
   "mimetype": "text/x-python",
   "name": "python",
   "nbconvert_exporter": "python",
   "pygments_lexer": "ipython3",
   "version": "3.6.8"
  }
 },
 "nbformat": 4,
 "nbformat_minor": 2
}
