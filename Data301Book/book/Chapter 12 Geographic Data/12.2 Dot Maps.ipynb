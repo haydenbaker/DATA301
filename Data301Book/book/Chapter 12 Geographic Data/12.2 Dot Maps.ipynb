{
 "cells": [
  {
   "cell_type": "markdown",
   "metadata": {},
   "source": [
    "# 12.2 Dot Maps\n",
    "\n",
    "A **dot map** is a way to visualize the locations of events in space. In a dot map, points are added to a map to represent the geographic location of some event.\n",
    "\n",
    "The most important dot map ever made is perhaps John Snow's map of the cholera cases during the 1854 London cholera outbreak. At the time, the cause of cholera was unknown. Snow's dot map showed that the cholera cases centered around a particular water pump, the Broad Street pump. (In the days before running water, residents had to fetch water from the local water pump.) Snow's dot map is shown below; each \"dot\" is a thin black box. Snow stacked the boxes when there were multiple people in one residence that contracted cholera. At this resolution, the data appear as black bars of different heights, but if you zoom in, you will see the individual \"dots\".\n",
    "\n",
    "![](cholera.jpg)\n",
    "\n",
    "Snow followed up on his insight by interviewing residents near the Broad Street pump. He found that everyone who had contracted cholera had consumed water from the Broad Street pump; those who lived near the pump but did not contract cholera got their water from a different pump. Thus, one dot map gave John Snow the key insight he needed to identify the cause of cholera."
   ]
  },
  {
   "cell_type": "markdown",
   "metadata": {},
   "source": [
    "Let's look at how to make dot maps in Python. We will make a map of all earthquakes in the world on June 4, 2018. First, we read in the data."
   ]
  },
  {
   "cell_type": "code",
   "execution_count": null,
   "metadata": {},
   "outputs": [],
   "source": [
    "import pandas as pd\n",
    "pd.options.display.max_rows = 15\n",
    "\n",
    "quakes = pd.read_csv(\"https://raw.githubusercontent.com/dlsun/data-science-book/\"\n",
    "                     \"master/data/earthquakes.csv\")\n",
    "quakes"
   ]
  },
  {
   "cell_type": "markdown",
   "metadata": {},
   "source": [
    "Now, we set up the basic map, just as we did in the previous section. To add the points to the map, we make a scatterplot, just like we learned in Chapter 3, but we have to specify the coordinate system we are using. (Longitude and latitude are not the only way to specify a geographic location.) If the coordinates are specified in latitude and longitude, it is best to use the `Geodetic` transform."
   ]
  },
  {
   "cell_type": "code",
   "execution_count": null,
   "metadata": {},
   "outputs": [],
   "source": [
    "import cartopy.crs as ccrs\n",
    "import matplotlib.pyplot as plt\n",
    "%matplotlib inline\n",
    "\n",
    "ax = plt.axes(projection=ccrs.Robinson())\n",
    "ax.stock_img()\n",
    "\n",
    "quakes.plot.scatter(ax=ax,\n",
    "                    x=\"longitude\", y=\"latitude\",\n",
    "                    c=\"red\",\n",
    "                    transform=ccrs.Geodetic())"
   ]
  },
  {
   "cell_type": "markdown",
   "metadata": {},
   "source": [
    "Just as before, we can use size to represent another dimension of the data. In the graphic below, we use size to represent the magnitude of each earthquake."
   ]
  },
  {
   "cell_type": "code",
   "execution_count": null,
   "metadata": {},
   "outputs": [],
   "source": [
    "import numpy as np\n",
    "\n",
    "ax = plt.axes(projection=ccrs.Robinson())\n",
    "ax.stock_img()\n",
    "\n",
    "ax.scatter(quakes[\"longitude\"], quakes[\"latitude\"],\n",
    "           c=\"red\", s=2 ** quakes[\"mag\"],\n",
    "           transform=ccrs.Geodetic())"
   ]
  },
  {
   "cell_type": "markdown",
   "metadata": {},
   "source": [
    "# Exercises"
   ]
  },
  {
   "cell_type": "markdown",
   "metadata": {},
   "source": [
    "**Exercise 1.** The file `https://raw.githubusercontent.com/dlsun/data-science-book/master/data/ncaa-football-stadiums.csv` contains information about the locations and capacity of NCAA football stadiums. Make a dot map that represents this data."
   ]
  },
  {
   "cell_type": "code",
   "execution_count": null,
   "metadata": {},
   "outputs": [],
   "source": [
    "# TYPE YOUR CODE HERE"
   ]
  }
 ],
 "metadata": {
  "kernelspec": {
   "display_name": "Python 3",
   "language": "python",
   "name": "python3"
  },
  "language_info": {
   "codemirror_mode": {
    "name": "ipython",
    "version": 3
   },
   "file_extension": ".py",
   "mimetype": "text/x-python",
   "name": "python",
   "nbconvert_exporter": "python",
   "pygments_lexer": "ipython3",
   "version": "3.6.8"
  }
 },
 "nbformat": 4,
 "nbformat_minor": 2
}
