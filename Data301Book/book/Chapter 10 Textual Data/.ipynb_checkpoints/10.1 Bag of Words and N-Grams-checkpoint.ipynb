{
 "cells": [
  {
   "cell_type": "markdown",
   "metadata": {},
   "source": [
    "# Chapter 10 Textual Data\n",
    "\n",
    "You may not be used to thinking about _text_, like an e-mail or a newspaper article, as data. But just as we might want to predict the price of a home or group wines into similar types, we might want to predict the sender of an e-mail or group articles into similar types. To leverage the machine learning techniques we have already learned, we will need a way to convert raw text into tabular form. This chapter introduces some principles for doing this."
   ]
  },
  {
   "cell_type": "markdown",
   "metadata": {},
   "source": [
    "# 10.1 Bag of Words and N-Grams\n",
    "\n",
    "In data science, a text is typically called a **document**, even though a document can be anything from a text message to a full-length novel.  A collection of documents is called a **corpus**. In this chapter, we will work with a corpus of text messages, which contains both spam and non-spam (\"ham\") messages."
   ]
  },
  {
   "cell_type": "code",
   "execution_count": null,
   "metadata": {},
   "outputs": [],
   "source": [
    "import pandas as pd\n",
    "pd.options.display.max_rows = 10\n",
    "\n",
    "texts = pd.read_csv(\n",
    "    \"https://raw.githubusercontent.com/dlsun/data-science-book/master/data/SMSSpamCollection.txt\", \n",
    "    sep=\"\\t\",\n",
    "    names=[\"label\", \"text\"]\n",
    ")\n",
    "texts"
   ]
  },
  {
   "cell_type": "markdown",
   "metadata": {},
   "source": [
    "We might, for example, want to train a classifier to predict whether or not a text message is spam. To use machine learning techniques like $k$-nearest neighbors, we have to transform each of these \"documents\" into a more regular representation.\n",
    "\n",
    "A **bag of words** representation reduces a document to just the multiset of its words, ignoring grammar and word order. (A _multiset_ is like a set, except elements are allowed to appear more than once.)\n",
    "\n",
    "So, for example, the **bag of words** representation of the string \"I am Sam. Sam I am.\" would be `{I, I, am, am, Sam, Sam}`. In Python, it is easiest to represent multisets using dictionaries, where the keys are the (unique) words and the values are the counts. So we would represent the above bag of words as `{\"I\": 2, \"am\": 2, \"Sam\": 2}`.\n",
    "\n",
    "Let's convert the text messages to a bag of words representation. To do this, we will use the `Counter` object in the `collections` module of the Python standard library. First, let's see how the `Counter` works."
   ]
  },
  {
   "cell_type": "code",
   "execution_count": null,
   "metadata": {},
   "outputs": [],
   "source": [
    "from collections import Counter\n",
    "Counter([\"I\", \"am\", \"Sam\", \"Sam\", \"I\", \"am\"])"
   ]
  },
  {
   "cell_type": "markdown",
   "metadata": {},
   "source": [
    "It takes in a list and returns a dictionary of counts---in other words, the bag of words representation that we want. But to be able to use `Counter`, we have to first convert our text into a list of words. We can do this using the string methods in Pandas, such as `.str.split()`, which splits a string into a list based on some character (which, by default, is whitespace)."
   ]
  },
  {
   "cell_type": "code",
   "execution_count": null,
   "metadata": {},
   "outputs": [],
   "source": [
    "texts[\"text\"].str.split()"
   ]
  },
  {
   "cell_type": "markdown",
   "metadata": {},
   "source": [
    "There are several problems with this approach:\n",
    "\n",
    "- **It is case-sensitive.**  The word \"the\" in message 5567 and the word \"The\" in message 5570 are technically different strings and will be treated as different words by the `Counter`.\n",
    "- **There is punctuation.**  For example, in message 0, one of the words is \"point,\". This will be treated differently from the word \"point\".\n",
    "\n",
    "We can **normalize** the text for case by \n",
    "\n",
    "- converting all of the characters to lowercase, using the `.str.lower()` method\n",
    "- stripping punctuation using a regular expression. The regular expression `[^\\w\\s]` tells Python to look for any pattern that is not (`^`) either an alphanumeric character (`\\w`) or whitespace (`\\s`). That is, it will detect any occurrence of punctuation. We will then use the `.str.replace()` method to replace all detected occurrences with the empty string, effectively removing all punctuation from the string.\n",
    "\n",
    "By chaining these commands together, we obtain a list, to which we can apply the `Counter` to obtain the bag of words representation."
   ]
  },
  {
   "cell_type": "code",
   "execution_count": null,
   "metadata": {},
   "outputs": [],
   "source": [
    "words = (\n",
    "    texts[\"text\"].\n",
    "    str.lower().\n",
    "    str.replace(\"[^\\w\\s]\", \"\").\n",
    "    str.split()\n",
    ")\n",
    "\n",
    "words"
   ]
  },
  {
   "cell_type": "code",
   "execution_count": null,
   "metadata": {},
   "outputs": [],
   "source": [
    "words.apply(Counter)"
   ]
  },
  {
   "cell_type": "markdown",
   "metadata": {},
   "source": [
    "## N-Grams\n",
    "\n",
    "The problem with the bag of words representation is that the ordering of the words is lost. For example, the following sentences have the exact same bag of words representation, but convey different meanings:\n",
    "\n",
    "1. The dog bit her owner.\n",
    "2. Her dog bit the owner.\n",
    "\n",
    "The first sentence has only two actors (the dog and its owner), but the second sentence has three (a woman, her dog, and the owner of something). To better capture the _semantic_ meaning of these two documents, we can use **bigrams** instead of individual words. A **bigram** is simply a pair of consecutive words. The \"bag of bigrams\" of the two sentences above are quite different:\n",
    "\n",
    "1. {\"The dog\", \"dog bit\", \"bit her\", \"her owner\"}\n",
    "2. {\"Her dog\", \"dog bit\", \"bit the\", \"the owner\"}\n",
    "\n",
    "They only share 1 bigram (out of 4) in common, even though they share the same 5 words.\n",
    "\n",
    "Let's get the bag of bigrams representation for the words above. To generate the bigrams from the list of words, we will use the `zip` function in Python, which takes in two lists and returns a single list of pairs (consisting of one element from each list):"
   ]
  },
  {
   "cell_type": "code",
   "execution_count": null,
   "metadata": {},
   "outputs": [],
   "source": [
    "list(zip([1, 2, 3], [4, 5, 6]))"
   ]
  },
  {
   "cell_type": "code",
   "execution_count": null,
   "metadata": {},
   "outputs": [],
   "source": [
    "def get_bigrams(words):\n",
    "    # We need to line up the words as follows:\n",
    "    #   words[0], words[1]\n",
    "    #   words[1], words[2]\n",
    "    #       ... ,  ...\n",
    "    # words[n-1], words[n]\n",
    "    return zip(words[:-1], words[1:])\n",
    "\n",
    "words.apply(get_bigrams).apply(Counter)"
   ]
  },
  {
   "cell_type": "markdown",
   "metadata": {},
   "source": [
    "Instead of taking 2 words at a time, we could take 3, 4, or, in general, $n$ words. \n",
    "A tuple of $n$ consecutive words is called an $n$-gram, and we can convert any document to a \"bag of $n$-grams\" representation. \n",
    "\n",
    "The larger $n$ is, the better the representation will capture the meaning of a document. But if $n$ is so large that hardly any $n$-gram occurs more than once, then we will not learn much from this representation."
   ]
  },
  {
   "cell_type": "markdown",
   "metadata": {},
   "source": [
    "# Exercises"
   ]
  },
  {
   "cell_type": "markdown",
   "metadata": {},
   "source": [
    "**Exercise 1.** Read in the OKCupid data set (`/data301/data/okcupid/profiles.csv`). Convert the users' responses to `essay0` (\"self summary\") into a bag of words representation.\n",
    "\n",
    "(_Hint:_ Test your code on the first 100 users before testing it on the entire data set.)"
   ]
  },
  {
   "cell_type": "code",
   "execution_count": null,
   "metadata": {},
   "outputs": [],
   "source": [
    "# TYPE YOUR CODE HERE."
   ]
  },
  {
   "cell_type": "markdown",
   "metadata": {},
   "source": [
    "**Exercise 2.** The text of _Green Eggs and Ham_ by Dr. Seuss can be found in (`https://raw.githubusercontent.com/dlsun/data-science-book/master/data/drseuss/greeneggsandham.txt`). Read in this file and convert this \"document\" into a bag of trigrams (3-grams) representation. Which trigram appears most often? Some code has been provided to get you started."
   ]
  },
  {
   "cell_type": "code",
   "execution_count": null,
   "metadata": {},
   "outputs": [],
   "source": [
    "# TYPE YOUR CODE HERE.\n",
    "with open(\n",
    "    \"https://raw.githubusercontent.com/dlsun/data-science-book/master/data/drseuss/greeneggsandham.txt\",\n",
    "    \"r\"\n",
    ") as f:\n",
    "    for line in f:\n",
    "        pass"
   ]
  }
 ],
 "metadata": {
  "kernelspec": {
   "display_name": "Python 3",
   "language": "python",
   "name": "python3"
  },
  "language_info": {
   "codemirror_mode": {
    "name": "ipython",
    "version": 3
   },
   "file_extension": ".py",
   "mimetype": "text/x-python",
   "name": "python",
   "nbconvert_exporter": "python",
   "pygments_lexer": "ipython3",
   "version": "3.7.0"
  }
 },
 "nbformat": 4,
 "nbformat_minor": 2
}
