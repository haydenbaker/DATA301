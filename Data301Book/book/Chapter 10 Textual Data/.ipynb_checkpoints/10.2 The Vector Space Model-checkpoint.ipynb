{
 "cells": [
  {
   "cell_type": "markdown",
   "metadata": {},
   "source": [
    "# 10.2 The Vector Space Model\n",
    "\n",
    "In the previous section, we learned how to convert a document into a bag of words (or, more generally, a bag of $n$-grams) representation. In this section, we go one step further: how to turn the bag of words representation into the rows of a `DataFrame`.\n",
    "\n",
    "Before we dive into the details, the representation of a document by a vector of numbers is called the **vector space model**. There are many ways to convert a bag of words representation into a vector of numbers, some of which we explore in this section."
   ]
  },
  {
   "cell_type": "code",
   "execution_count": null,
   "metadata": {},
   "outputs": [],
   "source": [
    "import numpy as np\n",
    "import pandas as pd\n",
    "pd.options.display.max_rows = 10\n",
    "from collections import Counter\n",
    "\n",
    "sms = pd.read_csv(\n",
    "    \"https://raw.githubusercontent.com/dlsun/data-science-book/master/data/SMSSpamCollection.txt\", \n",
    "    sep=\"\\t\",\n",
    "    names=[\"label\", \"text\"]\n",
    ")"
   ]
  },
  {
   "cell_type": "markdown",
   "metadata": {},
   "source": [
    "## Term Frequencies\n",
    "\n",
    "The bag of words representation gives us a list of word counts, like `{\"I\": 2, \"am\": 2, \"Sam\": 2}`. To turn this into a vector of numbers, we can simply take the word counts, for each word in a prespecified vocabulary, as follows:\n",
    "\n",
    "| a | I | am | the | Sam | ... |\n",
    "|---|---|----|-----|-----|-----|\n",
    "| 0 | 2 | 2  |  0  | 2   | ... |\n",
    "\n",
    "We can do this for each document in the corpus, to obtain the **term-frequency matrix**.\n",
    "\n",
    "Let's obtain the term-frequency matrix for the text message corpus. But let's restrict to just the first 100 messages and just words containing only letters. (Otherwise, we end up with \"words\" that are phone numbers and addresses.)"
   ]
  },
  {
   "cell_type": "code",
   "execution_count": null,
   "metadata": {},
   "outputs": [],
   "source": [
    "from collections import Counter\n",
    "\n",
    "bag_of_words = (\n",
    "    sms.loc[:100, \"text\"].\n",
    "    str.lower().\n",
    "    str.replace(\"[^A-Za-z\\s]\", \"\").\n",
    "    str.split()\n",
    ").apply(Counter)\n",
    "\n",
    "bag_of_words"
   ]
  },
  {
   "cell_type": "markdown",
   "metadata": {},
   "source": [
    "To make a term-frequency matrix out of this data, we need to convert it to a `DataFrame`, where each column represents a word and each row a document---and the cells contain the count of that word in the document."
   ]
  },
  {
   "cell_type": "code",
   "execution_count": null,
   "metadata": {},
   "outputs": [],
   "source": [
    "tf = pd.DataFrame(list(bag_of_words))\n",
    "tf"
   ]
  },
  {
   "cell_type": "markdown",
   "metadata": {},
   "source": [
    "Although there are a few numbers in this matrix, it is mostly NaNs. That simply means that the word did not appear in the dictionary for that document. In other words, a NaN really means a count of 0. So let's replace the NaNs by 0s."
   ]
  },
  {
   "cell_type": "code",
   "execution_count": null,
   "metadata": {},
   "outputs": [],
   "source": [
    "tf = tf.fillna(0)\n",
    "tf"
   ]
  },
  {
   "cell_type": "markdown",
   "metadata": {},
   "source": [
    "You might be tempted at this point to run the same code on the entire corpus of text messages. But the number of columns (i.e., the size of the vocabulary) quickly grows out of control. There are about 9000 unique words in the entire corpus, and storing that many columns is on the edge of what `pandas` can handle.\n",
    "\n",
    "But we observed above that _most of the entries in this matrix are zero._ Instead of storing all the entries in this matrix, we can simply store the locations (row and column index) of the non-zero elements and their values. All of the remaining entries are assumed to be zeroes. This is called a **sparse** representation of the matrix.\n",
    "\n",
    "To get a sparse representation of the term-frequency matrix, we use the `CountVectorizer` object in Scikit-Learn.  This object takes in a list of strings, splits each string into words, counts them, and returns the term-frequency matrix. By default, it converts all letters to lowercase and strips punctuation, although this behavior can be customized."
   ]
  },
  {
   "cell_type": "code",
   "execution_count": null,
   "metadata": {},
   "outputs": [],
   "source": [
    "from sklearn.feature_extraction.text import CountVectorizer\n",
    "\n",
    "vec = CountVectorizer()\n",
    "vec.fit(sms[\"text\"]) # This determines the vocabulary.\n",
    "tf_sparse = vec.transform(sms[\"text\"])"
   ]
  },
  {
   "cell_type": "markdown",
   "metadata": {},
   "source": [
    "A sparse matrix can be converted to a **dense** matrix if necessary, using the `.todense()` method. But be careful. If the matrix is large, you do not want to do this!"
   ]
  },
  {
   "cell_type": "code",
   "execution_count": null,
   "metadata": {},
   "outputs": [],
   "source": [
    "tf_sparse.todense()"
   ]
  },
  {
   "cell_type": "markdown",
   "metadata": {},
   "source": [
    "Notice that the resulting object is no longer a `DataFrame`. It is simply a matrix of numbers. Each column corresponds to a word (and, if necessary, we can find the mapping between words and columns in `vec.vocabulary_`). But the word counts themselves are not of primary interest. We now have a completely numerical representation of every text document that can be passed into a machine learning model, like $k$-nearest neighbors."
   ]
  },
  {
   "cell_type": "markdown",
   "metadata": {},
   "source": [
    "We can even count bigrams using `CountVectorizer` by specifying `ngram_range`. If we wanted both unigrams (i.e., individual words) and the bigrams, then we would specify `ngram_range=(1, 2)`. If we want just the bigrams, then we would specify `ngram_range=(2, 2)`. Let's do the latter:"
   ]
  },
  {
   "cell_type": "code",
   "execution_count": null,
   "metadata": {},
   "outputs": [],
   "source": [
    "vec = CountVectorizer(ngram_range=(2, 2))\n",
    "vec.fit(sms[\"text\"])\n",
    "vec.transform(sms[\"text\"])"
   ]
  },
  {
   "cell_type": "markdown",
   "metadata": {},
   "source": [
    "There are over 40000 bigrams. This is another reason to avoid using $n$-grams for large $n$; even if they capture more of the meaning of a sentence, they quickly blow up the size of our data."
   ]
  },
  {
   "cell_type": "markdown",
   "metadata": {},
   "source": [
    "## TF-IDF\n",
    "\n",
    "The problem with term frequencies (TF) is that common words like \"the\" and \"that\" tend to have high counts and dominate. A better indicator of whether two documents are similar is if they share rare words. For example, the word \"subpoena\" might only appear in a few documents in a corpus, but the presence of that word in two documents is a strong indicator that the documents are similar, so we should give more weight to terms like it.\n",
    "\n",
    "This is the idea behind TF-IDF. We take each term frequency and re-weight it according to how many documents that term appears in (i.e., the **document frequency**). Since we want words that appear in fewer documents to get more weight, we take the **inverse document frequency** (IDF).  We take the logarithm of IDF because the distribution of IDFs is heavily skewed to the right. (Remember the discussion about transforming data from Chapter 1.4.) So in the end, the formula for IDF is:\n",
    "\n",
    "$$ \\textrm{idf}(t, D) = \\log \\frac{\\text{# of documents}}{\\text{# of documents containing $t$}} = \\log \\frac{|D|}{|d \\in D: t \\in d|}. $$\n",
    "\n",
    "(Sometimes, $1$ will be added to the denominator to prevent division by zero, if there are terms in the vocabulary that do not appear in the corpus.)\n",
    "\n",
    "To calculate TF-IDF, we simply multiply the term frequencies by the inverse document frequencies:\n",
    "\n",
    "$$ \\textrm{tf-idf}(d, t, D) = \\textrm{tf}(d, t) \\cdot \\textrm{idf}(t, D). $$\n",
    "\n",
    "Notice that unlike TF, the TF-IDF representation of a given document depends on the entire corpus of documents.\n",
    "\n",
    "Let's first see how to calculate TF-IDF from scratch, using the term-frequency matrix we obtained above."
   ]
  },
  {
   "cell_type": "code",
   "execution_count": null,
   "metadata": {},
   "outputs": [],
   "source": [
    "# Get document frequencies \n",
    "# (How many documents does each word appear in?)\n",
    "df = (tf > 0).sum(axis=0)\n",
    "df"
   ]
  },
  {
   "cell_type": "code",
   "execution_count": null,
   "metadata": {},
   "outputs": [],
   "source": [
    "# Get IDFs\n",
    "idf = np.log(len(tf) / df)\n",
    "idf"
   ]
  },
  {
   "cell_type": "code",
   "execution_count": null,
   "metadata": {},
   "outputs": [],
   "source": [
    "# Calculate TF-IDFs\n",
    "tf_idf = tf * idf\n",
    "tf_idf"
   ]
  },
  {
   "cell_type": "markdown",
   "metadata": {},
   "source": [
    "We will not generally implement TF-IDF from scratch, like we did above. Instead, we will use Scikit-Learn's `TfidfVectorizer`, which operates similarly to `CountVectorizer`, except that it returns a matrix of the TF-IDF weights."
   ]
  },
  {
   "cell_type": "code",
   "execution_count": null,
   "metadata": {},
   "outputs": [],
   "source": [
    "from sklearn.feature_extraction.text import TfidfVectorizer\n",
    "\n",
    "vec = TfidfVectorizer(norm=None) # Do not normalize.\n",
    "vec.fit(sms[\"text\"]) # This determines the vocabulary.\n",
    "tf_idf_sparse = vec.transform(sms[\"text\"])\n",
    "tf_idf_sparse"
   ]
  },
  {
   "cell_type": "markdown",
   "metadata": {},
   "source": [
    "## Cosine Similarity\n",
    "\n",
    "We now have a representation of each text document as a vector of numbers. Each number can either be a term frequency or a TF-IDF weight. We can visualize each vector as an arrow in a high-dimensional space, where each dimension represents a word. The magnitude of the vector along a dimension represents the \"frequency\" (TF or TF-IDF) of that word in the document. For example, if our vocabulary only contains two words, \"i\" and \"sam\", then the arrows shown below might represent two documents:\n",
    "\n",
    "<img src=\"vector_space.png\" width=\"300\"/>\n",
    "\n",
    "To fit $k$-nearest neighbors or $k$-means clustering, we need some way to measure the distance between two documents (i.e., two vectors). We could use Euclidean distance, as we have done in the past.\n",
    "\n",
    "<img src=\"vector_space_euclidean.png\" width=\"300\"/>\n",
    "\n",
    "But Euclidean distance does not make sense for TF or TF-IDF vectors. To see why, consider the two documents:\n",
    "\n",
    "1. \"I am Sam.\" \n",
    "2. \"I am Sam. Sam I am.\" \n",
    "\n",
    "The two documents are obviously very similar. But the vector for the second is twice as long as the vector for the first because the second document has twice as many occurrences of each word. This is true whether we use TF or TF-IDF weights. If we calculate the Euclidean distance between these two vectors, then they will seem quite far apart.\n",
    "\n",
    "<img src=\"vector_space_example.png\" width=\"300\"/>\n",
    "\n",
    "With TF and TF-IDF vectors, the distinguishing property is their _direction_. Because the two vectors above point in the same direction, they are similar. We need a distance metric that measures how different their directions are. A natural way to measure the difference between the directions of two vectors is the angle between them.\n",
    "\n",
    "<img src=\"vector_space_cosine.png\" width=\"300\"/>\n",
    "\n",
    "The cosine of the angle between two vectors ${\\bf a}$ and ${\\bf b}$ can be calculated as:\n",
    "\n",
    "$$ \\cos \\theta = \\frac{\\sum a_j b_j}{\\sqrt{\\sum a_j^2} \\sqrt{\\sum b_j^2}}. $$\n",
    "\n",
    "Although it is possible to work out the angle $\\theta$ from this formula, it is more common to report $\\cos\\theta$ as a measure of similarity between two vectors. This similarity metric is called **cosine similarity**. Notice that when the angle $\\theta$ is close to 0 (i.e., when the two vectors point in nearly the same direction), the value of $\\cos\\theta$ is high (close to 1.0, which is the maximum possible value).\n",
    "\n",
    "The cosine _distance_ is defined as 1 minus the similarity. This makes it so that 0 means that the two vectors point in the same direction:\n",
    "\n",
    "$$ d_{\\cos}({\\bf a}, {\\bf b}) = 1 - \\cos(\\theta({\\bf a}, {\\bf b})) = 1 - \\frac{\\sum a_j b_j}{\\sqrt{\\sum a_j^2} \\sqrt{\\sum b_j^2}}. $$\n",
    "\n",
    "Let's calculate the cosine similarity between the 0th and 2nd text messages using the TF-IDF representation."
   ]
  },
  {
   "cell_type": "code",
   "execution_count": null,
   "metadata": {},
   "outputs": [],
   "source": [
    "# Calculate the numerator.\n",
    "a = tf_idf_sparse[0, :]\n",
    "b = tf_idf_sparse[2, :]\n",
    "dot = a.multiply(b).sum()\n",
    "\n",
    "# Calculate the terms in the denominator.\n",
    "a_len = np.sqrt(a.multiply(a).sum())\n",
    "b_len = np.sqrt(b.multiply(b).sum())\n",
    "\n",
    "# Cosine similarity is their ratio.\n",
    "dot / (a_len * b_len)"
   ]
  },
  {
   "cell_type": "markdown",
   "metadata": {},
   "source": [
    "These two vectors are not very similar, as evidenced by their low cosine similarity (close to 0). Let's try to find the most similar documents in the corpus to the 0th text message---in other words, its nearest neighbors. To do this, we will take advantage of _broadcasting_: we will multiply a TF-IDF vector (for the 0th text message) by the entire TF-IDF matrix and calculate the sum over the columns. This will give us a vector of dot products."
   ]
  },
  {
   "cell_type": "code",
   "execution_count": null,
   "metadata": {},
   "outputs": [],
   "source": [
    "# Calculate the numerators.\n",
    "a = tf_idf_sparse[0, :]\n",
    "B = tf_idf_sparse\n",
    "dot = a.multiply(B).sum(axis=1)\n",
    "dot"
   ]
  },
  {
   "cell_type": "code",
   "execution_count": null,
   "metadata": {},
   "outputs": [],
   "source": [
    "# Calculate the denominators.\n",
    "a_len = np.sqrt(a.multiply(a).sum())\n",
    "b_len = np.sqrt(B.multiply(B).sum(axis=1))\n",
    "print(a_len)\n",
    "b_len"
   ]
  },
  {
   "cell_type": "code",
   "execution_count": null,
   "metadata": {},
   "outputs": [],
   "source": [
    "# Calculate their ratio to obtain cosine similarities.\n",
    "dot / (a_len * b_len)"
   ]
  },
  {
   "cell_type": "markdown",
   "metadata": {},
   "source": [
    "The warning message is the result of dividing by zero. (Some text messages have no words when you remove all the punctutation.)\n",
    "\n",
    "Now let's put this matrix into a `DataFrame` so that we can easily sort the values in descending order."
   ]
  },
  {
   "cell_type": "code",
   "execution_count": null,
   "metadata": {},
   "outputs": [],
   "source": [
    "cos_similarities = pd.DataFrame(dot / (a_len * b_len))[0]\n",
    "most_similar = cos_similarities.sort_values(ascending=False)\n",
    "most_similar"
   ]
  },
  {
   "cell_type": "markdown",
   "metadata": {},
   "source": [
    "Obviously, the most similar text to the 0th text (with a perfect cosine similarity of 1.0) is itself. But other similar texts include 5511, 1351, 3713, and 605. Let's go back to the original data and read some of the other similar texts."
   ]
  },
  {
   "cell_type": "code",
   "execution_count": null,
   "metadata": {},
   "outputs": [],
   "source": [
    "for i, text in sms[\"text\"][most_similar.index[:10]].items():\n",
    "    print(i, text)"
   ]
  },
  {
   "cell_type": "markdown",
   "metadata": {},
   "source": [
    "Let's see if we can reverse engineer why these particular text messages were deemed to be similar.\n",
    "\n",
    "- Text 5511 is similar because it shares the uncommon words \"crazy\" and \"world\". (It also shares the word \"in\", but this word is common, so it likely has a low TF-IDF weight.)\n",
    "- Text 1351 is judged as similar because it shares the uncommon words \"bugis\" and \"wat\".\n",
    "- And so on...\n",
    "\n",
    "Going through the most similar documents, you see that they all share uncommon words with text message 0. This is exactly what TF-IDF was designed to do."
   ]
  },
  {
   "cell_type": "markdown",
   "metadata": {},
   "source": [
    "# Exercises"
   ]
  },
  {
   "cell_type": "markdown",
   "metadata": {},
   "source": [
    "**Exercise 1.** Suppose we had instead compared documents using cosine similarity on the term frequencies (TF), instead of TF-IDF. Which text messages would be most similar to message 0 now?"
   ]
  },
  {
   "cell_type": "code",
   "execution_count": null,
   "metadata": {},
   "outputs": [],
   "source": [
    "# TYPE YOUR CODE HERE"
   ]
  },
  {
   "cell_type": "markdown",
   "metadata": {},
   "source": [
    "**Exercise 2.** Suppose we had instead used Euclidean distance on the TF-IDF weights. Which text messages would be most similar to message 0 now?"
   ]
  },
  {
   "cell_type": "code",
   "execution_count": null,
   "metadata": {},
   "outputs": [],
   "source": [
    "# TYPE YOUR CODE HERE"
   ]
  },
  {
   "cell_type": "markdown",
   "metadata": {},
   "source": [
    "**Exercise 3.** Suppose we normalize the length of each TF-IDF vector\n",
    "\n",
    "$$ {\\bf v} \\leftarrow \\frac{{\\bf v}}{\\sqrt{\\sum_j v_j^2}} $$\n",
    "\n",
    "before calculating Euclidean distance. Which text messages would be most similar to message 0 now? How does this ranking compare with the ranking we obtained earlier using cosine similarity on the (unnormalized) vectors?\n",
    "\n",
    "_Challenge Exercise:_ Can you prove the above fact mathematically?"
   ]
  },
  {
   "cell_type": "code",
   "execution_count": null,
   "metadata": {},
   "outputs": [],
   "source": [
    "# TYPE YOUR CODE HERE"
   ]
  },
  {
   "cell_type": "markdown",
   "metadata": {},
   "source": [
    "**Exercise 4.** Write a function `predict_spam()` that takes in a new text message and predicts whether or not it is spam using $9$-nearest neighbors on the text messages data set above. Some code has been provided for you. Use cosine distance ($= 1 - \\text{cosine similarity}$) as your distance metric. (Because `KNeighborsClassifier` in Scikit-Learn does not support cosine distance, you will have to implement $k$-nearest neighbors from scratch.)\n",
    "\n",
    "Use your model to predict whether the text messages \"meet you at jurong place\" and \"free cash\" are spam or not."
   ]
  },
  {
   "cell_type": "code",
   "execution_count": null,
   "metadata": {},
   "outputs": [],
   "source": [
    "# TYPE YOUR CODE HERE.\n",
    "vec = TfidfVectorizer(norm=False)\n",
    "vec.fit(sms[\"text\"])\n",
    "X_train = vec.transform(sms[\"text\"])\n",
    "X_train_len = np.sqrt(X_train.multiply(X_train).sum(axis=1))\n",
    "y_train = sms[\"label\"]\n",
    "\n",
    "def predict_spam(new_text):\n",
    "    # Get the TF-IDF vector for the new text.\n",
    "    x_new = vec.transform([new_text])[0, :]\n",
    "    raise NotImplementedError\n",
    "    \n",
    "print(predict_spam(\"meet you at jurong place\"))\n",
    "print(predict_spam(\"free cash\"))"
   ]
  }
 ],
 "metadata": {
  "kernelspec": {
   "display_name": "Python 3",
   "language": "python",
   "name": "python3"
  },
  "language_info": {
   "codemirror_mode": {
    "name": "ipython",
    "version": 3
   },
   "file_extension": ".py",
   "mimetype": "text/x-python",
   "name": "python",
   "nbconvert_exporter": "python",
   "pygments_lexer": "ipython3",
   "version": "3.7.0"
  }
 },
 "nbformat": 4,
 "nbformat_minor": 2
}
