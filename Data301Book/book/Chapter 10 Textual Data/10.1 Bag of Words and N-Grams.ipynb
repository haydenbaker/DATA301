{
 "cells": [
  {
   "cell_type": "markdown",
   "metadata": {},
   "source": [
    "# Chapter 10 Textual Data\n",
    "\n",
    "You may not be used to thinking about _text_, like an e-mail or a newspaper article, as data. But just as we might want to predict the price of a home or group wines into similar types, we might want to predict the sender of an e-mail or group articles into similar types. To leverage the machine learning techniques we have already learned, we will need a way to convert raw text into tabular form. This chapter introduces some principles for doing this."
   ]
  },
  {
   "cell_type": "markdown",
   "metadata": {},
   "source": [
    "# 10.1 Bag of Words and N-Grams\n",
    "\n",
    "In data science, a text is typically called a **document**, even though a document can be anything from a text message to a full-length novel.  A collection of documents is called a **corpus**. In this chapter, we will work with a corpus of text messages, which contains both spam and non-spam (\"ham\") messages."
   ]
  },
  {
   "cell_type": "code",
   "execution_count": 1,
   "metadata": {},
   "outputs": [
    {
     "data": {
      "text/html": [
       "<div>\n",
       "<style scoped>\n",
       "    .dataframe tbody tr th:only-of-type {\n",
       "        vertical-align: middle;\n",
       "    }\n",
       "\n",
       "    .dataframe tbody tr th {\n",
       "        vertical-align: top;\n",
       "    }\n",
       "\n",
       "    .dataframe thead th {\n",
       "        text-align: right;\n",
       "    }\n",
       "</style>\n",
       "<table border=\"1\" class=\"dataframe\">\n",
       "  <thead>\n",
       "    <tr style=\"text-align: right;\">\n",
       "      <th></th>\n",
       "      <th>label</th>\n",
       "      <th>text</th>\n",
       "    </tr>\n",
       "  </thead>\n",
       "  <tbody>\n",
       "    <tr>\n",
       "      <th>0</th>\n",
       "      <td>ham</td>\n",
       "      <td>Go until jurong point, crazy.. Available only ...</td>\n",
       "    </tr>\n",
       "    <tr>\n",
       "      <th>1</th>\n",
       "      <td>ham</td>\n",
       "      <td>Ok lar... Joking wif u oni...</td>\n",
       "    </tr>\n",
       "    <tr>\n",
       "      <th>2</th>\n",
       "      <td>spam</td>\n",
       "      <td>Free entry in 2 a wkly comp to win FA Cup fina...</td>\n",
       "    </tr>\n",
       "    <tr>\n",
       "      <th>3</th>\n",
       "      <td>ham</td>\n",
       "      <td>U dun say so early hor... U c already then say...</td>\n",
       "    </tr>\n",
       "    <tr>\n",
       "      <th>4</th>\n",
       "      <td>ham</td>\n",
       "      <td>Nah I don't think he goes to usf, he lives aro...</td>\n",
       "    </tr>\n",
       "    <tr>\n",
       "      <th>...</th>\n",
       "      <td>...</td>\n",
       "      <td>...</td>\n",
       "    </tr>\n",
       "    <tr>\n",
       "      <th>5567</th>\n",
       "      <td>spam</td>\n",
       "      <td>This is the 2nd time we have tried 2 contact u...</td>\n",
       "    </tr>\n",
       "    <tr>\n",
       "      <th>5568</th>\n",
       "      <td>ham</td>\n",
       "      <td>Will ü b going to esplanade fr home?</td>\n",
       "    </tr>\n",
       "    <tr>\n",
       "      <th>5569</th>\n",
       "      <td>ham</td>\n",
       "      <td>Pity, * was in mood for that. So...any other s...</td>\n",
       "    </tr>\n",
       "    <tr>\n",
       "      <th>5570</th>\n",
       "      <td>ham</td>\n",
       "      <td>The guy did some bitching but I acted like i'd...</td>\n",
       "    </tr>\n",
       "    <tr>\n",
       "      <th>5571</th>\n",
       "      <td>ham</td>\n",
       "      <td>Rofl. Its true to its name</td>\n",
       "    </tr>\n",
       "  </tbody>\n",
       "</table>\n",
       "<p>5572 rows × 2 columns</p>\n",
       "</div>"
      ],
      "text/plain": [
       "     label                                               text\n",
       "0      ham  Go until jurong point, crazy.. Available only ...\n",
       "1      ham                      Ok lar... Joking wif u oni...\n",
       "2     spam  Free entry in 2 a wkly comp to win FA Cup fina...\n",
       "3      ham  U dun say so early hor... U c already then say...\n",
       "4      ham  Nah I don't think he goes to usf, he lives aro...\n",
       "...    ...                                                ...\n",
       "5567  spam  This is the 2nd time we have tried 2 contact u...\n",
       "5568   ham               Will ü b going to esplanade fr home?\n",
       "5569   ham  Pity, * was in mood for that. So...any other s...\n",
       "5570   ham  The guy did some bitching but I acted like i'd...\n",
       "5571   ham                         Rofl. Its true to its name\n",
       "\n",
       "[5572 rows x 2 columns]"
      ]
     },
     "execution_count": 1,
     "metadata": {},
     "output_type": "execute_result"
    }
   ],
   "source": [
    "import pandas as pd\n",
    "pd.options.display.max_rows = 10\n",
    "\n",
    "texts = pd.read_csv(\n",
    "    \"https://raw.githubusercontent.com/dlsun/data-science-book/master/data/SMSSpamCollection.txt\", \n",
    "    sep=\"\\t\",\n",
    "    names=[\"label\", \"text\"]\n",
    ")\n",
    "texts"
   ]
  },
  {
   "cell_type": "markdown",
   "metadata": {},
   "source": [
    "We might, for example, want to train a classifier to predict whether or not a text message is spam. To use machine learning techniques like $k$-nearest neighbors, we have to transform each of these \"documents\" into a more regular representation.\n",
    "\n",
    "A **bag of words** representation reduces a document to just the multiset of its words, ignoring grammar and word order. (A _multiset_ is like a set, except elements are allowed to appear more than once.)\n",
    "\n",
    "So, for example, the **bag of words** representation of the string \"I am Sam. Sam I am.\" would be `{I, I, am, am, Sam, Sam}`. In Python, it is easiest to represent multisets using dictionaries, where the keys are the (unique) words and the values are the counts. So we would represent the above bag of words as `{\"I\": 2, \"am\": 2, \"Sam\": 2}`.\n",
    "\n",
    "Let's convert the text messages to a bag of words representation. To do this, we will use the `Counter` object in the `collections` module of the Python standard library. First, let's see how the `Counter` works."
   ]
  },
  {
   "cell_type": "code",
   "execution_count": 2,
   "metadata": {},
   "outputs": [
    {
     "data": {
      "text/plain": [
       "Counter({'I': 2, 'am': 2, 'Sam': 2})"
      ]
     },
     "execution_count": 2,
     "metadata": {},
     "output_type": "execute_result"
    }
   ],
   "source": [
    "from collections import Counter\n",
    "Counter([\"I\", \"am\", \"Sam\", \"Sam\", \"I\", \"am\"])"
   ]
  },
  {
   "cell_type": "markdown",
   "metadata": {},
   "source": [
    "It takes in a list and returns a dictionary of counts---in other words, the bag of words representation that we want. But to be able to use `Counter`, we have to first convert our text into a list of words. We can do this using the string methods in Pandas, such as `.str.split()`, which splits a string into a list based on some character (which, by default, is whitespace)."
   ]
  },
  {
   "cell_type": "code",
   "execution_count": 6,
   "metadata": {},
   "outputs": [
    {
     "data": {
      "text/plain": [
       "0       [Go, until, jurong, point,, crazy.., Available...\n",
       "1                    [Ok, lar..., Joking, wif, u, oni...]\n",
       "2       [Free, entry, in, 2, a, wkly, comp, to, win, F...\n",
       "3       [U, dun, say, so, early, hor..., U, c, already...\n",
       "4       [Nah, I, don't, think, he, goes, to, usf,, he,...\n",
       "                              ...                        \n",
       "5567    [This, is, the, 2nd, time, we, have, tried, 2,...\n",
       "5568        [Will, ü, b, going, to, esplanade, fr, home?]\n",
       "5569    [Pity,, *, was, in, mood, for, that., So...any...\n",
       "5570    [The, guy, did, some, bitching, but, I, acted,...\n",
       "5571                    [Rofl., Its, true, to, its, name]\n",
       "Name: text, Length: 5572, dtype: object"
      ]
     },
     "execution_count": 6,
     "metadata": {},
     "output_type": "execute_result"
    }
   ],
   "source": [
    "texts[\"text\"].str.split()"
   ]
  },
  {
   "cell_type": "markdown",
   "metadata": {},
   "source": [
    "There are several problems with this approach:\n",
    "\n",
    "- **It is case-sensitive.**  The word \"the\" in message 5567 and the word \"The\" in message 5570 are technically different strings and will be treated as different words by the `Counter`.\n",
    "- **There is punctuation.**  For example, in message 0, one of the words is \"point,\". This will be treated differently from the word \"point\".\n",
    "\n",
    "We can **normalize** the text for case by \n",
    "\n",
    "- converting all of the characters to lowercase, using the `.str.lower()` method\n",
    "- stripping punctuation using a regular expression. The regular expression `[^\\w\\s]` tells Python to look for any pattern that is not (`^`) either an alphanumeric character (`\\w`) or whitespace (`\\s`). That is, it will detect any occurrence of punctuation. We will then use the `.str.replace()` method to replace all detected occurrences with the empty string, effectively removing all punctuation from the string.\n",
    "\n",
    "By chaining these commands together, we obtain a list, to which we can apply the `Counter` to obtain the bag of words representation."
   ]
  },
  {
   "cell_type": "code",
   "execution_count": 7,
   "metadata": {},
   "outputs": [
    {
     "data": {
      "text/plain": [
       "0       [go, until, jurong, point, crazy, available, o...\n",
       "1                          [ok, lar, joking, wif, u, oni]\n",
       "2       [free, entry, in, 2, a, wkly, comp, to, win, f...\n",
       "3       [u, dun, say, so, early, hor, u, c, already, t...\n",
       "4       [nah, i, dont, think, he, goes, to, usf, he, l...\n",
       "                              ...                        \n",
       "5567    [this, is, the, 2nd, time, we, have, tried, 2,...\n",
       "5568         [will, ü, b, going, to, esplanade, fr, home]\n",
       "5569    [pity, was, in, mood, for, that, soany, other,...\n",
       "5570    [the, guy, did, some, bitching, but, i, acted,...\n",
       "5571                     [rofl, its, true, to, its, name]\n",
       "Name: text, Length: 5572, dtype: object"
      ]
     },
     "execution_count": 7,
     "metadata": {},
     "output_type": "execute_result"
    }
   ],
   "source": [
    "words = (\n",
    "    texts[\"text\"].\n",
    "    str.lower().\n",
    "    str.replace(\"[^\\w\\s]\", \"\").\n",
    "    str.split()\n",
    ")\n",
    "\n",
    "words"
   ]
  },
  {
   "cell_type": "code",
   "execution_count": 8,
   "metadata": {},
   "outputs": [
    {
     "data": {
      "text/plain": [
       "0       {'go': 1, 'until': 1, 'jurong': 1, 'point': 1,...\n",
       "1       {'ok': 1, 'lar': 1, 'joking': 1, 'wif': 1, 'u'...\n",
       "2       {'free': 1, 'entry': 2, 'in': 1, '2': 1, 'a': ...\n",
       "3       {'u': 2, 'dun': 1, 'say': 2, 'so': 1, 'early':...\n",
       "4       {'nah': 1, 'i': 1, 'dont': 1, 'think': 1, 'he'...\n",
       "                              ...                        \n",
       "5567    {'this': 1, 'is': 2, 'the': 2, '2nd': 1, 'time...\n",
       "5568    {'will': 1, 'ü': 1, 'b': 1, 'going': 1, 'to': ...\n",
       "5569    {'pity': 1, 'was': 1, 'in': 1, 'mood': 1, 'for...\n",
       "5570    {'the': 1, 'guy': 1, 'did': 1, 'some': 1, 'bit...\n",
       "5571    {'rofl': 1, 'its': 2, 'true': 1, 'to': 1, 'nam...\n",
       "Name: text, Length: 5572, dtype: object"
      ]
     },
     "execution_count": 8,
     "metadata": {},
     "output_type": "execute_result"
    }
   ],
   "source": [
    "words.apply(Counter)"
   ]
  },
  {
   "cell_type": "markdown",
   "metadata": {},
   "source": [
    "## N-Grams\n",
    "\n",
    "The problem with the bag of words representation is that the ordering of the words is lost. For example, the following sentences have the exact same bag of words representation, but convey different meanings:\n",
    "\n",
    "1. The dog bit her owner.\n",
    "2. Her dog bit the owner.\n",
    "\n",
    "The first sentence has only two actors (the dog and its owner), but the second sentence has three (a woman, her dog, and the owner of something). To better capture the _semantic_ meaning of these two documents, we can use **bigrams** instead of individual words. A **bigram** is simply a pair of consecutive words. The \"bag of bigrams\" of the two sentences above are quite different:\n",
    "\n",
    "1. {\"The dog\", \"dog bit\", \"bit her\", \"her owner\"}\n",
    "2. {\"Her dog\", \"dog bit\", \"bit the\", \"the owner\"}\n",
    "\n",
    "They only share 1 bigram (out of 4) in common, even though they share the same 5 words.\n",
    "\n",
    "Let's get the bag of bigrams representation for the words above. To generate the bigrams from the list of words, we will use the `zip` function in Python, which takes in two lists and returns a single list of pairs (consisting of one element from each list):"
   ]
  },
  {
   "cell_type": "code",
   "execution_count": 9,
   "metadata": {},
   "outputs": [
    {
     "data": {
      "text/plain": [
       "[(1, 4), (2, 5), (3, 6)]"
      ]
     },
     "execution_count": 9,
     "metadata": {},
     "output_type": "execute_result"
    }
   ],
   "source": [
    "list(zip([1, 2, 3], [4, 5, 6]))"
   ]
  },
  {
   "cell_type": "code",
   "execution_count": 10,
   "metadata": {},
   "outputs": [
    {
     "data": {
      "text/plain": [
       "0       {('go', 'until'): 1, ('until', 'jurong'): 1, (...\n",
       "1       {('ok', 'lar'): 1, ('lar', 'joking'): 1, ('jok...\n",
       "2       {('free', 'entry'): 1, ('entry', 'in'): 1, ('i...\n",
       "3       {('u', 'dun'): 1, ('dun', 'say'): 1, ('say', '...\n",
       "4       {('nah', 'i'): 1, ('i', 'dont'): 1, ('dont', '...\n",
       "                              ...                        \n",
       "5567    {('this', 'is'): 1, ('is', 'the'): 1, ('the', ...\n",
       "5568    {('will', 'ü'): 1, ('ü', 'b'): 1, ('b', 'going...\n",
       "5569    {('pity', 'was'): 1, ('was', 'in'): 1, ('in', ...\n",
       "5570    {('the', 'guy'): 1, ('guy', 'did'): 1, ('did',...\n",
       "5571    {('rofl', 'its'): 1, ('its', 'true'): 1, ('tru...\n",
       "Name: text, Length: 5572, dtype: object"
      ]
     },
     "execution_count": 10,
     "metadata": {},
     "output_type": "execute_result"
    }
   ],
   "source": [
    "def get_bigrams(words):\n",
    "    # We need to line up the words as follows:\n",
    "    #   words[0], words[1]\n",
    "    #   words[1], words[2]\n",
    "    #       ... ,  ...\n",
    "    # words[n-1], words[n]\n",
    "    return zip(words[:-1], words[1:])\n",
    "\n",
    "words.apply(get_bigrams).apply(Counter)"
   ]
  },
  {
   "cell_type": "markdown",
   "metadata": {},
   "source": [
    "Instead of taking 2 words at a time, we could take 3, 4, or, in general, $n$ words. \n",
    "A tuple of $n$ consecutive words is called an $n$-gram, and we can convert any document to a \"bag of $n$-grams\" representation. \n",
    "\n",
    "The larger $n$ is, the better the representation will capture the meaning of a document. But if $n$ is so large that hardly any $n$-gram occurs more than once, then we will not learn much from this representation."
   ]
  },
  {
   "cell_type": "markdown",
   "metadata": {},
   "source": [
    "# Exercises"
   ]
  },
  {
   "cell_type": "markdown",
   "metadata": {},
   "source": [
    "**Exercise 1.** Read in the OKCupid data set (`/data301/data/okcupid/profiles.csv`). Convert the users' responses to `essay0` (\"self summary\") into a bag of words representation.\n",
    "\n",
    "(_Hint:_ Test your code on the first 100 users before testing it on the entire data set.)"
   ]
  },
  {
   "cell_type": "code",
   "execution_count": 78,
   "metadata": {},
   "outputs": [],
   "source": [
    "profiles_df = pd.read_csv(\"/data301/data/okcupid/profiles.csv\")"
   ]
  },
  {
   "cell_type": "code",
   "execution_count": 79,
   "metadata": {},
   "outputs": [
    {
     "data": {
      "text/plain": [
       "0        [about, me, i, would, love, to, think, that, i...\n",
       "1        [i, am, a, chef, this, is, what, that, means, ...\n",
       "2        [im, not, ashamed, of, much, but, writing, pub...\n",
       "3           [i, work, in, a, library, and, go, to, school]\n",
       "4        [hey, hows, it, going, currently, vague, on, t...\n",
       "                               ...                        \n",
       "59941    [vibrant, expressive, caring, optimist, i, lov...\n",
       "59942    [im, nick, i, never, know, what, to, write, ab...\n",
       "59943    [hello, i, enjoy, traveling, watching, movies,...\n",
       "59944    [all, i, have, in, this, world, are, my, balls...\n",
       "59945    [is, it, odd, that, having, a, little, enemy, ...\n",
       "Name: essay0, Length: 59946, dtype: object"
      ]
     },
     "execution_count": 79,
     "metadata": {},
     "output_type": "execute_result"
    }
   ],
   "source": [
    "words = (\n",
    "    profiles_df.essay0.\n",
    "    str.lower().\n",
    "    fillna(\"\").\n",
    "    str.replace('<.*?>', '').\n",
    "    str.replace(\"[^\\w\\s]\", \"\").\n",
    "    str.split()\n",
    ")\n",
    "\n",
    "words"
   ]
  },
  {
   "cell_type": "code",
   "execution_count": 80,
   "metadata": {},
   "outputs": [
    {
     "data": {
      "text/plain": [
       "0        {'about': 4, 'me': 5, 'i': 8, 'would': 2, 'lov...\n",
       "1        {'i': 13, 'am': 7, 'a': 5, 'chef': 1, 'this': ...\n",
       "2        {'im': 3, 'not': 1, 'ashamed': 1, 'of': 10, 'm...\n",
       "3        {'i': 1, 'work': 1, 'in': 1, 'a': 1, 'library'...\n",
       "4        {'hey': 1, 'hows': 1, 'it': 1, 'going': 1, 'cu...\n",
       "                               ...                        \n",
       "59941    {'vibrant': 1, 'expressive': 1, 'caring': 1, '...\n",
       "59942    {'im': 4, 'nick': 1, 'i': 4, 'never': 2, 'know...\n",
       "59943    {'hello': 1, 'i': 9, 'enjoy': 2, 'traveling': ...\n",
       "59944    {'all': 1, 'i': 2, 'have': 1, 'in': 1, 'this':...\n",
       "59945    {'is': 2, 'it': 1, 'odd': 1, 'that': 3, 'havin...\n",
       "Name: essay0, Length: 59946, dtype: object"
      ]
     },
     "execution_count": 80,
     "metadata": {},
     "output_type": "execute_result"
    }
   ],
   "source": [
    "words.apply(Counter)"
   ]
  },
  {
   "cell_type": "markdown",
   "metadata": {},
   "source": [
    "**Exercise 2.** The text of _Green Eggs and Ham_ by Dr. Seuss can be found in (`https://raw.githubusercontent.com/dlsun/data-science-book/master/data/drseuss/greeneggsandham.txt`). Read in this file and convert this \"document\" into a bag of trigrams (3-grams) representation. Which trigram appears most often? Some code has been provided to get you started."
   ]
  },
  {
   "cell_type": "code",
   "execution_count": 88,
   "metadata": {},
   "outputs": [
    {
     "data": {
      "text/html": [
       "<div>\n",
       "<style scoped>\n",
       "    .dataframe tbody tr th:only-of-type {\n",
       "        vertical-align: middle;\n",
       "    }\n",
       "\n",
       "    .dataframe tbody tr th {\n",
       "        vertical-align: top;\n",
       "    }\n",
       "\n",
       "    .dataframe thead th {\n",
       "        text-align: right;\n",
       "    }\n",
       "</style>\n",
       "<table border=\"1\" class=\"dataframe\">\n",
       "  <thead>\n",
       "    <tr style=\"text-align: right;\">\n",
       "      <th></th>\n",
       "      <th>0</th>\n",
       "    </tr>\n",
       "  </thead>\n",
       "  <tbody>\n",
       "    <tr>\n",
       "      <th>0</th>\n",
       "      <td>I am Sam</td>\n",
       "    </tr>\n",
       "    <tr>\n",
       "      <th>1</th>\n",
       "      <td>I am Sam</td>\n",
       "    </tr>\n",
       "    <tr>\n",
       "      <th>2</th>\n",
       "      <td>Sam I am</td>\n",
       "    </tr>\n",
       "    <tr>\n",
       "      <th>3</th>\n",
       "      <td>That Sam-I-am</td>\n",
       "    </tr>\n",
       "    <tr>\n",
       "      <th>4</th>\n",
       "      <td>That Sam-I-am!</td>\n",
       "    </tr>\n",
       "    <tr>\n",
       "      <th>...</th>\n",
       "      <td>...</td>\n",
       "    </tr>\n",
       "    <tr>\n",
       "      <th>153</th>\n",
       "      <td>I do so like</td>\n",
       "    </tr>\n",
       "    <tr>\n",
       "      <th>154</th>\n",
       "      <td>green eggs and ham!</td>\n",
       "    </tr>\n",
       "    <tr>\n",
       "      <th>155</th>\n",
       "      <td>Thank you!</td>\n",
       "    </tr>\n",
       "    <tr>\n",
       "      <th>156</th>\n",
       "      <td>Thank you,</td>\n",
       "    </tr>\n",
       "    <tr>\n",
       "      <th>157</th>\n",
       "      <td>Sam-I-am</td>\n",
       "    </tr>\n",
       "  </tbody>\n",
       "</table>\n",
       "<p>158 rows × 1 columns</p>\n",
       "</div>"
      ],
      "text/plain": [
       "                       0\n",
       "0               I am Sam\n",
       "1               I am Sam\n",
       "2               Sam I am\n",
       "3          That Sam-I-am\n",
       "4         That Sam-I-am!\n",
       "..                   ...\n",
       "153         I do so like\n",
       "154  green eggs and ham!\n",
       "155           Thank you!\n",
       "156           Thank you,\n",
       "157             Sam-I-am\n",
       "\n",
       "[158 rows x 1 columns]"
      ]
     },
     "execution_count": 88,
     "metadata": {},
     "output_type": "execute_result"
    }
   ],
   "source": [
    "seuss_df = pd.read_fwf(\"https://raw.githubusercontent.com/dlsun/data-science-book/master/data/drseuss/greeneggsandham.txt\", header=None)\n",
    "seuss_df"
   ]
  },
  {
   "cell_type": "code",
   "execution_count": 91,
   "metadata": {},
   "outputs": [
    {
     "data": {
      "text/plain": [
       "0                 [i, am, sam]\n",
       "1                 [i, am, sam]\n",
       "2                 [sam, i, am]\n",
       "3               [that, samiam]\n",
       "4               [that, samiam]\n",
       "                ...           \n",
       "153          [i, do, so, like]\n",
       "154    [green, eggs, and, ham]\n",
       "155               [thank, you]\n",
       "156               [thank, you]\n",
       "157                   [samiam]\n",
       "Name: 0, Length: 158, dtype: object"
      ]
     },
     "execution_count": 91,
     "metadata": {},
     "output_type": "execute_result"
    }
   ],
   "source": [
    "get_trigrams = lambda words : zip(words[:-2], words[1:-1], words[2:])\n",
    "words = (\n",
    "    seuss_df.iloc[:, 0].\n",
    "    str.lower().\n",
    "    fillna(\"\").\n",
    "    str.replace('<.*?>', '').\n",
    "    str.replace(\"[^\\w\\s]\", \"\").\n",
    "    str.split()\n",
    ")\n",
    "\n",
    "words"
   ]
  },
  {
   "cell_type": "code",
   "execution_count": 102,
   "metadata": {},
   "outputs": [
    {
     "data": {
      "text/plain": [
       "0                                {('i', 'am', 'sam'): 1}\n",
       "1                                {('i', 'am', 'sam'): 1}\n",
       "2                                {('sam', 'i', 'am'): 1}\n",
       "3                                                     {}\n",
       "4                                                     {}\n",
       "                             ...                        \n",
       "153      {('i', 'do', 'so'): 1, ('do', 'so', 'like'): 1}\n",
       "154    {('green', 'eggs', 'and'): 1, ('eggs', 'and', ...\n",
       "155                                                   {}\n",
       "156                                                   {}\n",
       "157                                                   {}\n",
       "Name: 0, Length: 158, dtype: object"
      ]
     },
     "execution_count": 102,
     "metadata": {},
     "output_type": "execute_result"
    }
   ],
   "source": [
    "words.apply(get_trigrams).apply(Counter)"
   ]
  },
  {
   "cell_type": "code",
   "execution_count": null,
   "metadata": {},
   "outputs": [],
   "source": []
  }
 ],
 "metadata": {
  "kernelspec": {
   "display_name": "Python 3",
   "language": "python",
   "name": "python3"
  },
  "language_info": {
   "codemirror_mode": {
    "name": "ipython",
    "version": 3
   },
   "file_extension": ".py",
   "mimetype": "text/x-python",
   "name": "python",
   "nbconvert_exporter": "python",
   "pygments_lexer": "ipython3",
   "version": "3.6.8"
  }
 },
 "nbformat": 4,
 "nbformat_minor": 2
}
